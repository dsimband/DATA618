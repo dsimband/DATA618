{
 "cells": [
  {
   "cell_type": "code",
   "execution_count": 1,
   "id": "7975b723-def8-447b-9d36-784da8c90a49",
   "metadata": {},
   "outputs": [],
   "source": [
    "import pandas as pd\n",
    "import numpy as np\n",
    "\n",
    "# Graph\n",
    "import matplotlib.pyplot as plt\n",
    "import plotly.express as px\n",
    "import seaborn as sns\n",
    "\n",
    "import random\n",
    "\n",
    "#import plotly.io as pio\n",
    "#pio.renderers.default = \"browser\""
   ]
  },
  {
   "cell_type": "markdown",
   "id": "692931a5-aed8-4d8f-b0ca-5f723f27e93c",
   "metadata": {},
   "source": [
    "# Assignment\n",
    "\n",
    "- Use the implementation and necessary historical data to build a pairs trading strategy for your portfoli"
   ]
  },
  {
   "cell_type": "code",
   "execution_count": null,
   "id": "38d6b2a7-f15e-4d5f-9111-290c50894fca",
   "metadata": {},
   "outputs": [],
   "source": []
  },
  {
   "cell_type": "markdown",
   "id": "089a06de-721a-4e94-b2eb-6c84daaf5626",
   "metadata": {},
   "source": [
    "# Portfolio"
   ]
  },
  {
   "cell_type": "code",
   "execution_count": null,
   "id": "4085872e-4d8c-41cd-8830-853c4e672b13",
   "metadata": {},
   "outputs": [],
   "source": [
    "df = pd.read_csv('https://raw.githubusercontent.com/dsimband/DATA618/main/w11/data/DATA618_Portfolio.csv')\n",
    "df = df[df['Shares'] > 0]\n",
    "df['Value'].fillna(0, inplace=True)\n",
    "df['Class'].fillna('Other', inplace=True)\n",
    "df"
   ]
  }
 ],
 "metadata": {
  "kernelspec": {
   "display_name": "Python 3 (ipykernel)",
   "language": "python",
   "name": "python3"
  },
  "language_info": {
   "codemirror_mode": {
    "name": "ipython",
    "version": 3
   },
   "file_extension": ".py",
   "mimetype": "text/x-python",
   "name": "python",
   "nbconvert_exporter": "python",
   "pygments_lexer": "ipython3",
   "version": "3.10.12"
  }
 },
 "nbformat": 4,
 "nbformat_minor": 5
}
