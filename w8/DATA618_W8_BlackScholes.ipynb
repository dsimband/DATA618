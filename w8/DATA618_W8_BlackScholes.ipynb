{
 "cells": [
  {
   "cell_type": "code",
   "execution_count": 67,
   "id": "ad7048cd-67b5-4382-aeac-1192e11785b4",
   "metadata": {},
   "outputs": [],
   "source": [
    "import numpy as np\n",
    "import pandas as pd\n",
    "from pandas_datareader import data as pdr\n",
    "from datetime import datetime, date, timedelta\n",
    "\n",
    "from math import log, sqrt, pi, exp\n",
    "from scipy.stats import norm\n",
    "#from pandas import DataFrame\n",
    "\n",
    "import yfinance as yfin\n",
    "yfin.pdr_override()\n",
    "\n",
    "pd.set_option('display.float_format', lambda x: f'{x:,.2f}')"
   ]
  },
  {
   "cell_type": "markdown",
   "id": "a442d7cc-cd90-4f2a-8055-4d925113bcfe",
   "metadata": {},
   "source": [
    "# Assignment - Black-Scholes Calculator Black-Scholes Calculator\n",
    "\n",
    "- Build a Black Scholes Calulator in Python or R (n.b. Open Source Models are available for free download)\n",
    "\n",
    "- Select an Asset in your portfolio and using the calculator that you created price a European option on that asset\n",
    "\n",
    "- Present your work including the code that you have developed,  the results of the pricing and attribution of resources that you have used including any open sourrce code.\n",
    "\n",
    "- Post a summary on the Forum and comment on the work of your coleagues."
   ]
  },
  {
   "cell_type": "markdown",
   "id": "8bcd3bb3-de32-4730-be19-b7d64416b9a8",
   "metadata": {},
   "source": [
    "# Variables"
   ]
  },
  {
   "cell_type": "code",
   "execution_count": 68,
   "id": "09f13475-ae1c-440b-812b-d5bfaf76ab4e",
   "metadata": {},
   "outputs": [],
   "source": [
    "stock = 'PEX'\n",
    "expiry = '01-01-2024'\n",
    "strike_price_call = 30\n",
    "strike_price_put = 30\n",
    "today = datetime.now()\n",
    "\n",
    "one_year_ago = today.replace(year=today.year-1)"
   ]
  },
  {
   "cell_type": "markdown",
   "id": "019ad079-69db-403b-8985-cd248466536f",
   "metadata": {},
   "source": [
    "# Functions"
   ]
  },
  {
   "cell_type": "code",
   "execution_count": 69,
   "id": "f1545a98-ac2b-49fa-a0f1-8ebda70513af",
   "metadata": {},
   "outputs": [],
   "source": [
    "def d1(S,K,T,r,sigma):\n",
    "    return(log(S/K)+(r+sigma**2/2.)*T)/(sigma*sqrt(T))\n",
    "\n",
    "def d2(S,K,T,r,sigma):\n",
    "    return d1(S,K,T,r,sigma)-sigma*sqrt(T)\n",
    "\n",
    "def bs_call(S,K,T,r,sigma):\n",
    "    return S*norm.cdf(d1(S,K,T,r,sigma))-K*exp(-r*T)*norm.cdf(d2(S,K,T,r,sigma))\n",
    "  \n",
    "def bs_put(S,K,T,r,sigma):\n",
    "    return K*exp(-r*T)-S*bs_call(S,K,T,r,sigma)"
   ]
  },
  {
   "cell_type": "markdown",
   "id": "ab4d25e2-e81c-434e-a14c-d615bb19423d",
   "metadata": {},
   "source": [
    "# Load Data"
   ]
  },
  {
   "cell_type": "code",
   "execution_count": 70,
   "id": "bdf8ed38-fd05-48ee-8509-1d98b531503d",
   "metadata": {
    "tags": []
   },
   "outputs": [
    {
     "name": "stdout",
     "output_type": "stream",
     "text": [
      "[*********************100%%**********************]  1 of 1 completed\n"
     ]
    },
    {
     "data": {
      "text/html": [
       "<div>\n",
       "<style scoped>\n",
       "    .dataframe tbody tr th:only-of-type {\n",
       "        vertical-align: middle;\n",
       "    }\n",
       "\n",
       "    .dataframe tbody tr th {\n",
       "        vertical-align: top;\n",
       "    }\n",
       "\n",
       "    .dataframe thead th {\n",
       "        text-align: right;\n",
       "    }\n",
       "</style>\n",
       "<table border=\"1\" class=\"dataframe\">\n",
       "  <thead>\n",
       "    <tr style=\"text-align: right;\">\n",
       "      <th></th>\n",
       "      <th>Open</th>\n",
       "      <th>High</th>\n",
       "      <th>Low</th>\n",
       "      <th>Close</th>\n",
       "      <th>Adj Close</th>\n",
       "      <th>Volume</th>\n",
       "    </tr>\n",
       "    <tr>\n",
       "      <th>Date</th>\n",
       "      <th></th>\n",
       "      <th></th>\n",
       "      <th></th>\n",
       "      <th></th>\n",
       "      <th></th>\n",
       "      <th></th>\n",
       "    </tr>\n",
       "  </thead>\n",
       "  <tbody>\n",
       "    <tr>\n",
       "      <th>2022-10-24</th>\n",
       "      <td>24.19</td>\n",
       "      <td>24.43</td>\n",
       "      <td>24.06</td>\n",
       "      <td>24.39</td>\n",
       "      <td>21.75</td>\n",
       "      <td>5400</td>\n",
       "    </tr>\n",
       "    <tr>\n",
       "      <th>2022-10-25</th>\n",
       "      <td>24.54</td>\n",
       "      <td>25.34</td>\n",
       "      <td>24.54</td>\n",
       "      <td>25.34</td>\n",
       "      <td>22.60</td>\n",
       "      <td>4100</td>\n",
       "    </tr>\n",
       "    <tr>\n",
       "      <th>2022-10-26</th>\n",
       "      <td>25.72</td>\n",
       "      <td>25.78</td>\n",
       "      <td>25.61</td>\n",
       "      <td>25.61</td>\n",
       "      <td>22.84</td>\n",
       "      <td>1400</td>\n",
       "    </tr>\n",
       "    <tr>\n",
       "      <th>2022-10-27</th>\n",
       "      <td>25.62</td>\n",
       "      <td>25.76</td>\n",
       "      <td>25.48</td>\n",
       "      <td>25.48</td>\n",
       "      <td>22.72</td>\n",
       "      <td>3600</td>\n",
       "    </tr>\n",
       "    <tr>\n",
       "      <th>2022-10-28</th>\n",
       "      <td>25.40</td>\n",
       "      <td>25.84</td>\n",
       "      <td>25.40</td>\n",
       "      <td>25.84</td>\n",
       "      <td>23.04</td>\n",
       "      <td>6900</td>\n",
       "    </tr>\n",
       "    <tr>\n",
       "      <th>...</th>\n",
       "      <td>...</td>\n",
       "      <td>...</td>\n",
       "      <td>...</td>\n",
       "      <td>...</td>\n",
       "      <td>...</td>\n",
       "      <td>...</td>\n",
       "    </tr>\n",
       "    <tr>\n",
       "      <th>2023-10-16</th>\n",
       "      <td>26.00</td>\n",
       "      <td>26.00</td>\n",
       "      <td>26.00</td>\n",
       "      <td>26.00</td>\n",
       "      <td>26.00</td>\n",
       "      <td>200</td>\n",
       "    </tr>\n",
       "    <tr>\n",
       "      <th>2023-10-17</th>\n",
       "      <td>25.83</td>\n",
       "      <td>25.92</td>\n",
       "      <td>25.83</td>\n",
       "      <td>25.92</td>\n",
       "      <td>25.92</td>\n",
       "      <td>100</td>\n",
       "    </tr>\n",
       "    <tr>\n",
       "      <th>2023-10-18</th>\n",
       "      <td>25.69</td>\n",
       "      <td>25.69</td>\n",
       "      <td>25.49</td>\n",
       "      <td>25.49</td>\n",
       "      <td>25.49</td>\n",
       "      <td>1400</td>\n",
       "    </tr>\n",
       "    <tr>\n",
       "      <th>2023-10-19</th>\n",
       "      <td>25.47</td>\n",
       "      <td>25.47</td>\n",
       "      <td>25.16</td>\n",
       "      <td>25.17</td>\n",
       "      <td>25.17</td>\n",
       "      <td>43900</td>\n",
       "    </tr>\n",
       "    <tr>\n",
       "      <th>2023-10-20</th>\n",
       "      <td>24.85</td>\n",
       "      <td>24.98</td>\n",
       "      <td>24.85</td>\n",
       "      <td>24.89</td>\n",
       "      <td>24.89</td>\n",
       "      <td>2600</td>\n",
       "    </tr>\n",
       "  </tbody>\n",
       "</table>\n",
       "<p>250 rows × 6 columns</p>\n",
       "</div>"
      ],
      "text/plain": [
       "            Open  High   Low  Close  Adj Close  Volume\n",
       "Date                                                  \n",
       "2022-10-24 24.19 24.43 24.06  24.39      21.75    5400\n",
       "2022-10-25 24.54 25.34 24.54  25.34      22.60    4100\n",
       "2022-10-26 25.72 25.78 25.61  25.61      22.84    1400\n",
       "2022-10-27 25.62 25.76 25.48  25.48      22.72    3600\n",
       "2022-10-28 25.40 25.84 25.40  25.84      23.04    6900\n",
       "...          ...   ...   ...    ...        ...     ...\n",
       "2023-10-16 26.00 26.00 26.00  26.00      26.00     200\n",
       "2023-10-17 25.83 25.92 25.83  25.92      25.92     100\n",
       "2023-10-18 25.69 25.69 25.49  25.49      25.49    1400\n",
       "2023-10-19 25.47 25.47 25.16  25.17      25.17   43900\n",
       "2023-10-20 24.85 24.98 24.85  24.89      24.89    2600\n",
       "\n",
       "[250 rows x 6 columns]"
      ]
     },
     "execution_count": 70,
     "metadata": {},
     "output_type": "execute_result"
    }
   ],
   "source": [
    "df = pdr.get_data_yahoo(stock, start=one_year_ago, end=today)\n",
    "df"
   ]
  },
  {
   "cell_type": "markdown",
   "id": "a81beb97-7878-436b-ba5d-2969ec71558e",
   "metadata": {},
   "source": [
    "# Calculate Black Scholes"
   ]
  },
  {
   "cell_type": "code",
   "execution_count": 71,
   "id": "e911d38c-5caf-45b0-92ce-11564fe6d4db",
   "metadata": {
    "tags": []
   },
   "outputs": [
    {
     "data": {
      "text/html": [
       "<div>\n",
       "<style scoped>\n",
       "    .dataframe tbody tr th:only-of-type {\n",
       "        vertical-align: middle;\n",
       "    }\n",
       "\n",
       "    .dataframe tbody tr th {\n",
       "        vertical-align: top;\n",
       "    }\n",
       "\n",
       "    .dataframe thead th {\n",
       "        text-align: right;\n",
       "    }\n",
       "</style>\n",
       "<table border=\"1\" class=\"dataframe\">\n",
       "  <thead>\n",
       "    <tr style=\"text-align: right;\">\n",
       "      <th></th>\n",
       "      <th>Open</th>\n",
       "      <th>High</th>\n",
       "      <th>Low</th>\n",
       "      <th>Close</th>\n",
       "      <th>Adj Close</th>\n",
       "      <th>Volume</th>\n",
       "      <th>returns</th>\n",
       "    </tr>\n",
       "    <tr>\n",
       "      <th>Date</th>\n",
       "      <th></th>\n",
       "      <th></th>\n",
       "      <th></th>\n",
       "      <th></th>\n",
       "      <th></th>\n",
       "      <th></th>\n",
       "      <th></th>\n",
       "    </tr>\n",
       "  </thead>\n",
       "  <tbody>\n",
       "    <tr>\n",
       "      <th>2022-10-24</th>\n",
       "      <td>24.19</td>\n",
       "      <td>24.43</td>\n",
       "      <td>24.06</td>\n",
       "      <td>24.39</td>\n",
       "      <td>21.75</td>\n",
       "      <td>5400</td>\n",
       "      <td>NaN</td>\n",
       "    </tr>\n",
       "    <tr>\n",
       "      <th>2022-10-25</th>\n",
       "      <td>24.54</td>\n",
       "      <td>25.34</td>\n",
       "      <td>24.54</td>\n",
       "      <td>25.34</td>\n",
       "      <td>22.60</td>\n",
       "      <td>4100</td>\n",
       "      <td>0.04</td>\n",
       "    </tr>\n",
       "    <tr>\n",
       "      <th>2022-10-26</th>\n",
       "      <td>25.72</td>\n",
       "      <td>25.78</td>\n",
       "      <td>25.61</td>\n",
       "      <td>25.61</td>\n",
       "      <td>22.84</td>\n",
       "      <td>1400</td>\n",
       "      <td>0.01</td>\n",
       "    </tr>\n",
       "    <tr>\n",
       "      <th>2022-10-27</th>\n",
       "      <td>25.62</td>\n",
       "      <td>25.76</td>\n",
       "      <td>25.48</td>\n",
       "      <td>25.48</td>\n",
       "      <td>22.72</td>\n",
       "      <td>3600</td>\n",
       "      <td>-0.01</td>\n",
       "    </tr>\n",
       "    <tr>\n",
       "      <th>2022-10-28</th>\n",
       "      <td>25.40</td>\n",
       "      <td>25.84</td>\n",
       "      <td>25.40</td>\n",
       "      <td>25.84</td>\n",
       "      <td>23.04</td>\n",
       "      <td>6900</td>\n",
       "      <td>0.01</td>\n",
       "    </tr>\n",
       "    <tr>\n",
       "      <th>...</th>\n",
       "      <td>...</td>\n",
       "      <td>...</td>\n",
       "      <td>...</td>\n",
       "      <td>...</td>\n",
       "      <td>...</td>\n",
       "      <td>...</td>\n",
       "      <td>...</td>\n",
       "    </tr>\n",
       "    <tr>\n",
       "      <th>2023-10-16</th>\n",
       "      <td>26.00</td>\n",
       "      <td>26.00</td>\n",
       "      <td>26.00</td>\n",
       "      <td>26.00</td>\n",
       "      <td>26.00</td>\n",
       "      <td>200</td>\n",
       "      <td>0.02</td>\n",
       "    </tr>\n",
       "    <tr>\n",
       "      <th>2023-10-17</th>\n",
       "      <td>25.83</td>\n",
       "      <td>25.92</td>\n",
       "      <td>25.83</td>\n",
       "      <td>25.92</td>\n",
       "      <td>25.92</td>\n",
       "      <td>100</td>\n",
       "      <td>-0.00</td>\n",
       "    </tr>\n",
       "    <tr>\n",
       "      <th>2023-10-18</th>\n",
       "      <td>25.69</td>\n",
       "      <td>25.69</td>\n",
       "      <td>25.49</td>\n",
       "      <td>25.49</td>\n",
       "      <td>25.49</td>\n",
       "      <td>1400</td>\n",
       "      <td>-0.02</td>\n",
       "    </tr>\n",
       "    <tr>\n",
       "      <th>2023-10-19</th>\n",
       "      <td>25.47</td>\n",
       "      <td>25.47</td>\n",
       "      <td>25.16</td>\n",
       "      <td>25.17</td>\n",
       "      <td>25.17</td>\n",
       "      <td>43900</td>\n",
       "      <td>-0.01</td>\n",
       "    </tr>\n",
       "    <tr>\n",
       "      <th>2023-10-20</th>\n",
       "      <td>24.85</td>\n",
       "      <td>24.98</td>\n",
       "      <td>24.85</td>\n",
       "      <td>24.89</td>\n",
       "      <td>24.89</td>\n",
       "      <td>2600</td>\n",
       "      <td>-0.01</td>\n",
       "    </tr>\n",
       "  </tbody>\n",
       "</table>\n",
       "<p>250 rows × 7 columns</p>\n",
       "</div>"
      ],
      "text/plain": [
       "            Open  High   Low  Close  Adj Close  Volume  returns\n",
       "Date                                                           \n",
       "2022-10-24 24.19 24.43 24.06  24.39      21.75    5400      NaN\n",
       "2022-10-25 24.54 25.34 24.54  25.34      22.60    4100     0.04\n",
       "2022-10-26 25.72 25.78 25.61  25.61      22.84    1400     0.01\n",
       "2022-10-27 25.62 25.76 25.48  25.48      22.72    3600    -0.01\n",
       "2022-10-28 25.40 25.84 25.40  25.84      23.04    6900     0.01\n",
       "...          ...   ...   ...    ...        ...     ...      ...\n",
       "2023-10-16 26.00 26.00 26.00  26.00      26.00     200     0.02\n",
       "2023-10-17 25.83 25.92 25.83  25.92      25.92     100    -0.00\n",
       "2023-10-18 25.69 25.69 25.49  25.49      25.49    1400    -0.02\n",
       "2023-10-19 25.47 25.47 25.16  25.17      25.17   43900    -0.01\n",
       "2023-10-20 24.85 24.98 24.85  24.89      24.89    2600    -0.01\n",
       "\n",
       "[250 rows x 7 columns]"
      ]
     },
     "execution_count": 71,
     "metadata": {},
     "output_type": "execute_result"
    }
   ],
   "source": [
    "df = df.sort_values(by=\"Date\")\n",
    "df = df.dropna()\n",
    "df['returns'] = df.Close.pct_change()\n",
    "df"
   ]
  },
  {
   "cell_type": "code",
   "execution_count": 72,
   "id": "93c9ff4b-46a1-4911-9ab0-c43affacc1e0",
   "metadata": {
    "tags": []
   },
   "outputs": [
    {
     "data": {
      "text/plain": [
       "0.1942729455097423"
      ]
     },
     "execution_count": 72,
     "metadata": {},
     "output_type": "execute_result"
    }
   ],
   "source": [
    "sigma = np.sqrt(252) * df['returns'].std()\n",
    "sigma"
   ]
  },
  {
   "cell_type": "code",
   "execution_count": 73,
   "id": "d75f604c-1490-4189-a45e-4c82c6b9490c",
   "metadata": {
    "tags": []
   },
   "outputs": [
    {
     "name": "stdout",
     "output_type": "stream",
     "text": [
      "[*********************100%%**********************]  1 of 1 completed\n"
     ]
    },
    {
     "data": {
      "text/plain": [
       "0.049240002632141115"
      ]
     },
     "execution_count": 73,
     "metadata": {},
     "output_type": "execute_result"
    }
   ],
   "source": [
    "uty = (pdr.get_data_yahoo(\"^TNX\", start=today.replace(day=today.day-2), end=today)['Close'].iloc[-1])/100\n",
    "uty"
   ]
  },
  {
   "cell_type": "code",
   "execution_count": 74,
   "id": "05ed1b7b-7d7b-4cd3-9ed4-b31c1edb924b",
   "metadata": {
    "tags": []
   },
   "outputs": [
    {
     "data": {
      "text/plain": [
       "24.889999389648438"
      ]
     },
     "execution_count": 74,
     "metadata": {},
     "output_type": "execute_result"
    }
   ],
   "source": [
    "lcp = df['Close'].iloc[-1]\n",
    "lcp"
   ]
  },
  {
   "cell_type": "code",
   "execution_count": 75,
   "id": "dddc3e44-ef99-408f-9025-36cc413495d3",
   "metadata": {
    "tags": []
   },
   "outputs": [
    {
     "data": {
      "text/plain": [
       "0.1917808219178082"
      ]
     },
     "execution_count": 75,
     "metadata": {},
     "output_type": "execute_result"
    }
   ],
   "source": [
    "t = (datetime.strptime(expiry, \"%m-%d-%Y\") - datetime.utcnow()).days / 365\n",
    "t"
   ]
  },
  {
   "cell_type": "code",
   "execution_count": 76,
   "id": "e462b448-c6e6-4a84-bdd6-bd53bdb60748",
   "metadata": {
    "tags": []
   },
   "outputs": [
    {
     "name": "stdout",
     "output_type": "stream",
     "text": [
      "The Call Option Price is:  0.0156\n",
      "The Put Option Price is:  29.3288\n"
     ]
    }
   ],
   "source": [
    "print('The Call Option Price is: ', round(bs_call(lcp, strike_price_call, t, uty, sigma),4))\n",
    "print('The Put Option Price is: ', round(bs_put(lcp, strike_price_put, t, uty, sigma),4))"
   ]
  },
  {
   "cell_type": "markdown",
   "id": "38c43a19-59e5-447b-bf5c-5f3f936dd43d",
   "metadata": {},
   "source": [
    "# Conclusion\n",
    "The prices for a european call option on PEX - ProShares Global Listed Private Equity using the Black-Scholes. For this analysis I used the following variables:\n",
    "\n",
    "- stock = PEX - ProShares Global Listed Private Equity using the Black-Scholes\n",
    "- expiry = '01-01-2024'\n",
    "- strike_price_call = 30\n",
    "- strike_price_put = 30\n",
    "\n",
    "The resulting prices for the put and call option are:\n",
    "\n",
    "- Call Option Price is:  0.0156\n",
    "- Put Option Price is:  29.3288"
   ]
  },
  {
   "cell_type": "code",
   "execution_count": null,
   "id": "c9f52fc1-9415-4284-b56c-5a70c836d750",
   "metadata": {},
   "outputs": [],
   "source": []
  }
 ],
 "metadata": {
  "kernelspec": {
   "display_name": "Python 3 (ipykernel)",
   "language": "python",
   "name": "python3"
  },
  "language_info": {
   "codemirror_mode": {
    "name": "ipython",
    "version": 3
   },
   "file_extension": ".py",
   "mimetype": "text/x-python",
   "name": "python",
   "nbconvert_exporter": "python",
   "pygments_lexer": "ipython3",
   "version": "3.10.11"
  }
 },
 "nbformat": 4,
 "nbformat_minor": 5
}
