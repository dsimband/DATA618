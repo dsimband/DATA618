{
 "cells": [
  {
   "cell_type": "code",
   "execution_count": 128,
   "id": "06013ffa-c4bf-4899-965b-6ee44b9fafa8",
   "metadata": {
    "tags": []
   },
   "outputs": [],
   "source": [
    "import warnings\n",
    "warnings.filterwarnings('ignore')\n",
    "\n",
    "import pandas as pd\n",
    "import numpy as np\n",
    "from pandas_datareader import data as pdr\n",
    "from datetime import datetime, date, timedelta\n",
    "\n",
    "# statistical analysis\n",
    "import statsmodels.api as sm\n",
    "from statsmodels import regression\n",
    "import scipy.stats\n",
    "\n",
    "import yfinance as yfin\n",
    "yfin.pdr_override()\n",
    "from var import VaR\n",
    "\n",
    "import matplotlib.pyplot as plt\n",
    "from matplotlib import style\n",
    "import seaborn as sns\n",
    "\n",
    "pd.set_option('display.float_format', lambda x: f'{x:,.4f}')\n",
    "sns.set_theme(rc={'axes.formatter.limits': (-8, 9)})\n",
    "style.use('seaborn-whitegrid')\n",
    "plt.rcParams[\"figure.figsize\"] = (10,6)"
   ]
  },
  {
   "cell_type": "code",
   "execution_count": null,
   "id": "50ea1eb4-5c46-44d2-97f9-38810a667c97",
   "metadata": {},
   "outputs": [],
   "source": []
  },
  {
   "cell_type": "markdown",
   "id": "6ee9a7a0-ae47-4bc4-b78c-e9e11c8427ca",
   "metadata": {},
   "source": [
    "# 0. Weekly Tasks\n",
    "Prepare a presentation using Panopto (PowerPoint slides with Video Narration is an acceptable alternative) addressing the following points:\n",
    "What scenario were you assigned as the result of the random number exercise?\n",
    "\n",
    "- What were your considerations in determining an appropriate investment strategy for that scenario?\n",
    "\n",
    "- What asset allocation did you implement that you felt best supported that investment strategy?\n",
    "\n",
    "- What assets did you invest in consistent with that asset allocation and strategy? (Assets, Price at time of investment, % of total investment)\n",
    "\n",
    "- Present Value, Profit/Loss to date, VaR, SHARPE, VWAP, Alpha (Other metrics that you feel important in support of your strategy) for your portfolio \n",
    "\n",
    "What reallocation of assets would you recommend at this time (if any) and why?\n",
    "Post your presentation accessible to your colleagues for comment and comment on the presentations by your colleagues."
   ]
  },
  {
   "cell_type": "markdown",
   "id": "2e938d11-2879-4c25-b08c-c695edd51c41",
   "metadata": {},
   "source": [
    "# 1. Variables"
   ]
  },
  {
   "cell_type": "code",
   "execution_count": 129,
   "id": "7fa609fe-d30e-4e47-9527-f7df4502badd",
   "metadata": {
    "tags": []
   },
   "outputs": [],
   "source": [
    "start_date = datetime(2022, 1, 1)\n",
    "purchase_date = datetime(2023, 9, 11)\n",
    "purchase_date_str = '2023-9-11'\n",
    "end_date = datetime.now()\n",
    "start = datetime(2023, 12, 8)\n",
    "end = datetime(2023, 12, 9)\n",
    "end_date_str = end_date.strftime(\"%Y-%m-%d\")\n",
    "\n",
    "alpha = 0.05\n",
    "period = '5y'"
   ]
  },
  {
   "cell_type": "markdown",
   "id": "cb06cdf0-d0b9-433c-9088-7e6ba741a200",
   "metadata": {},
   "source": [
    "# 2. Functions"
   ]
  },
  {
   "cell_type": "code",
   "execution_count": null,
   "id": "f6c7aa57-ab9b-47ea-ba81-39785edc416c",
   "metadata": {},
   "outputs": [],
   "source": []
  },
  {
   "cell_type": "markdown",
   "id": "e72e3d4e-01f9-4db1-b6d9-d27d32867539",
   "metadata": {},
   "source": [
    "# 3. Load Data"
   ]
  },
  {
   "cell_type": "markdown",
   "id": "9ecfcc31-ceee-4f61-ad60-2a9d8e8cd232",
   "metadata": {},
   "source": [
    "## 3.1 Load Variables"
   ]
  },
  {
   "cell_type": "code",
   "execution_count": 130,
   "id": "0c0f3434-ef55-41e2-a6ce-c9d9815814f5",
   "metadata": {
    "tags": []
   },
   "outputs": [
    {
     "name": "stdout",
     "output_type": "stream",
     "text": [
      "[*********************100%%**********************]  1 of 1 completed\n"
     ]
    },
    {
     "data": {
      "text/plain": [
       "3.2779"
      ]
     },
     "execution_count": 130,
     "metadata": {},
     "output_type": "execute_result"
    }
   ],
   "source": [
    "var_lst = ['^TNX']\n",
    "data = pdr.get_data_yahoo(var_lst, start=start_date, end=purchase_date )['Close']\n",
    "rf_rate = round((data.mean()),4)\n",
    "rf_rate"
   ]
  },
  {
   "cell_type": "code",
   "execution_count": 131,
   "id": "d0afc352-71e9-4189-8f22-348c5f77c246",
   "metadata": {},
   "outputs": [
    {
     "name": "stdout",
     "output_type": "stream",
     "text": [
      "[*********************100%%**********************]  1 of 1 completed\n"
     ]
    },
    {
     "data": {
      "text/html": [
       "<div>\n",
       "<style scoped>\n",
       "    .dataframe tbody tr th:only-of-type {\n",
       "        vertical-align: middle;\n",
       "    }\n",
       "\n",
       "    .dataframe tbody tr th {\n",
       "        vertical-align: top;\n",
       "    }\n",
       "\n",
       "    .dataframe thead th {\n",
       "        text-align: right;\n",
       "    }\n",
       "</style>\n",
       "<table border=\"1\" class=\"dataframe\">\n",
       "  <thead>\n",
       "    <tr style=\"text-align: right;\">\n",
       "      <th></th>\n",
       "      <th>Date</th>\n",
       "      <th>GSPCX</th>\n",
       "    </tr>\n",
       "  </thead>\n",
       "  <tbody>\n",
       "    <tr>\n",
       "      <th>0</th>\n",
       "      <td>2022-01-04</td>\n",
       "      <td>-0.0018</td>\n",
       "    </tr>\n",
       "    <tr>\n",
       "      <th>1</th>\n",
       "      <td>2022-01-05</td>\n",
       "      <td>-0.0217</td>\n",
       "    </tr>\n",
       "    <tr>\n",
       "      <th>2</th>\n",
       "      <td>2022-01-06</td>\n",
       "      <td>-0.0012</td>\n",
       "    </tr>\n",
       "    <tr>\n",
       "      <th>3</th>\n",
       "      <td>2022-01-07</td>\n",
       "      <td>-0.0048</td>\n",
       "    </tr>\n",
       "    <tr>\n",
       "      <th>4</th>\n",
       "      <td>2022-01-10</td>\n",
       "      <td>-0.0030</td>\n",
       "    </tr>\n",
       "  </tbody>\n",
       "</table>\n",
       "</div>"
      ],
      "text/plain": [
       "        Date   GSPCX\n",
       "0 2022-01-04 -0.0018\n",
       "1 2022-01-05 -0.0217\n",
       "2 2022-01-06 -0.0012\n",
       "3 2022-01-07 -0.0048\n",
       "4 2022-01-10 -0.0030"
      ]
     },
     "execution_count": 131,
     "metadata": {},
     "output_type": "execute_result"
    }
   ],
   "source": [
    "var_lst = ['GSPCX']\n",
    "bench_df = pdr.get_data_yahoo(var_lst, start=start_date, end=purchase_date)['Close']\n",
    "bench_econ_df = pd.DataFrame(bench_df)\n",
    "bench_econ_df.columns = ['GSPCX']\n",
    "\n",
    "benchPercent_econ_df = bench_econ_df.pct_change()[1:]\n",
    "benchPercent_econ_df.reset_index(inplace=True)\n",
    "benchPercent_econ_df.head()"
   ]
  },
  {
   "cell_type": "code",
   "execution_count": 132,
   "id": "7b5d2cf2-39d8-471d-a9db-f1475decdc2a",
   "metadata": {
    "tags": []
   },
   "outputs": [
    {
     "name": "stdout",
     "output_type": "stream",
     "text": [
      "[*********************100%%**********************]  1 of 1 completed\n"
     ]
    },
    {
     "data": {
      "text/html": [
       "<div>\n",
       "<style scoped>\n",
       "    .dataframe tbody tr th:only-of-type {\n",
       "        vertical-align: middle;\n",
       "    }\n",
       "\n",
       "    .dataframe tbody tr th {\n",
       "        vertical-align: top;\n",
       "    }\n",
       "\n",
       "    .dataframe thead th {\n",
       "        text-align: right;\n",
       "    }\n",
       "</style>\n",
       "<table border=\"1\" class=\"dataframe\">\n",
       "  <thead>\n",
       "    <tr style=\"text-align: right;\">\n",
       "      <th></th>\n",
       "      <th>Date</th>\n",
       "      <th>AGG</th>\n",
       "    </tr>\n",
       "  </thead>\n",
       "  <tbody>\n",
       "    <tr>\n",
       "      <th>0</th>\n",
       "      <td>2022-01-04</td>\n",
       "      <td>-0.0001</td>\n",
       "    </tr>\n",
       "    <tr>\n",
       "      <th>1</th>\n",
       "      <td>2022-01-05</td>\n",
       "      <td>-0.0031</td>\n",
       "    </tr>\n",
       "    <tr>\n",
       "      <th>2</th>\n",
       "      <td>2022-01-06</td>\n",
       "      <td>-0.0011</td>\n",
       "    </tr>\n",
       "    <tr>\n",
       "      <th>3</th>\n",
       "      <td>2022-01-07</td>\n",
       "      <td>-0.0029</td>\n",
       "    </tr>\n",
       "    <tr>\n",
       "      <th>4</th>\n",
       "      <td>2022-01-10</td>\n",
       "      <td>-0.0009</td>\n",
       "    </tr>\n",
       "  </tbody>\n",
       "</table>\n",
       "</div>"
      ],
      "text/plain": [
       "        Date     AGG\n",
       "0 2022-01-04 -0.0001\n",
       "1 2022-01-05 -0.0031\n",
       "2 2022-01-06 -0.0011\n",
       "3 2022-01-07 -0.0029\n",
       "4 2022-01-10 -0.0009"
      ]
     },
     "execution_count": 132,
     "metadata": {},
     "output_type": "execute_result"
    }
   ],
   "source": [
    "var_lst = ['AGG']\n",
    "bench_df = pdr.get_data_yahoo(var_lst, start=start_date, end=purchase_date)['Close']\n",
    "bench_int_df = pd.DataFrame(bench_df)\n",
    "bench_int_df.columns = ['AGG']\n",
    "\n",
    "benchPercent_int_df = bench_int_df.pct_change()[1:]\n",
    "benchPercent_int_df.reset_index(inplace=True)\n",
    "benchPercent_int_df.head()"
   ]
  },
  {
   "cell_type": "code",
   "execution_count": null,
   "id": "626b57fa-6959-4593-ab00-9622ed0280aa",
   "metadata": {},
   "outputs": [],
   "source": []
  },
  {
   "cell_type": "code",
   "execution_count": null,
   "id": "8c402db7-6706-471e-b418-390f8c203e95",
   "metadata": {},
   "outputs": [],
   "source": []
  },
  {
   "cell_type": "markdown",
   "id": "895c6e67-1164-4e10-aef2-a6a54039a7db",
   "metadata": {},
   "source": [
    "## 3.2 Load Portfolio"
   ]
  },
  {
   "cell_type": "code",
   "execution_count": null,
   "id": "d7739754-2235-4879-8a2d-be1416ed1136",
   "metadata": {},
   "outputs": [],
   "source": []
  },
  {
   "cell_type": "code",
   "execution_count": 133,
   "id": "22e5e475-2de4-4085-9e08-a94d0e6c5874",
   "metadata": {},
   "outputs": [
    {
     "data": {
      "text/html": [
       "<div>\n",
       "<style scoped>\n",
       "    .dataframe tbody tr th:only-of-type {\n",
       "        vertical-align: middle;\n",
       "    }\n",
       "\n",
       "    .dataframe tbody tr th {\n",
       "        vertical-align: top;\n",
       "    }\n",
       "\n",
       "    .dataframe thead th {\n",
       "        text-align: right;\n",
       "    }\n",
       "</style>\n",
       "<table border=\"1\" class=\"dataframe\">\n",
       "  <thead>\n",
       "    <tr style=\"text-align: right;\">\n",
       "      <th></th>\n",
       "      <th>Unnamed: 0</th>\n",
       "      <th>Ticker</th>\n",
       "      <th>BondName</th>\n",
       "      <th>Morningstar_Category</th>\n",
       "      <th>Class</th>\n",
       "      <th>Sub_Class</th>\n",
       "      <th>Date</th>\n",
       "      <th>Value</th>\n",
       "    </tr>\n",
       "  </thead>\n",
       "  <tbody>\n",
       "    <tr>\n",
       "      <th>0</th>\n",
       "      <td>0</td>\n",
       "      <td>IVV</td>\n",
       "      <td>iShares Core S&amp;P 500 ETF</td>\n",
       "      <td>Large Blend</td>\n",
       "      <td>Economically Sensitive</td>\n",
       "      <td>U.S. Equities</td>\n",
       "      <td>2023-09-11</td>\n",
       "      <td>4,000.0000</td>\n",
       "    </tr>\n",
       "    <tr>\n",
       "      <th>1</th>\n",
       "      <td>1</td>\n",
       "      <td>VONG</td>\n",
       "      <td>Vanguard Russell 1000 Growth ETF</td>\n",
       "      <td>Large Growth</td>\n",
       "      <td>Economically Sensitive</td>\n",
       "      <td>U.S. Equities</td>\n",
       "      <td>2023-09-11</td>\n",
       "      <td>3,000.0000</td>\n",
       "    </tr>\n",
       "    <tr>\n",
       "      <th>2</th>\n",
       "      <td>2</td>\n",
       "      <td>SCHD</td>\n",
       "      <td>Schwab US Dividend Equity ETF™</td>\n",
       "      <td>Large Value</td>\n",
       "      <td>Economically Sensitive</td>\n",
       "      <td>U.S. Equities</td>\n",
       "      <td>2023-09-11</td>\n",
       "      <td>3,000.0000</td>\n",
       "    </tr>\n",
       "    <tr>\n",
       "      <th>3</th>\n",
       "      <td>3</td>\n",
       "      <td>IMCB</td>\n",
       "      <td>iShares Morningstar Mid-Cap ETF</td>\n",
       "      <td>Mid-Cap Blend</td>\n",
       "      <td>Economically Sensitive</td>\n",
       "      <td>U.S. Equities</td>\n",
       "      <td>2023-09-11</td>\n",
       "      <td>4,000.0000</td>\n",
       "    </tr>\n",
       "    <tr>\n",
       "      <th>4</th>\n",
       "      <td>4</td>\n",
       "      <td>VO</td>\n",
       "      <td>Vanguard Mid-Cap ETF</td>\n",
       "      <td>Mid-Cap Blend</td>\n",
       "      <td>Economically Sensitive</td>\n",
       "      <td>U.S. Equities</td>\n",
       "      <td>2023-09-11</td>\n",
       "      <td>2,000.0000</td>\n",
       "    </tr>\n",
       "    <tr>\n",
       "      <th>...</th>\n",
       "      <td>...</td>\n",
       "      <td>...</td>\n",
       "      <td>...</td>\n",
       "      <td>...</td>\n",
       "      <td>...</td>\n",
       "      <td>...</td>\n",
       "      <td>...</td>\n",
       "      <td>...</td>\n",
       "    </tr>\n",
       "    <tr>\n",
       "      <th>35</th>\n",
       "      <td>40</td>\n",
       "      <td>ARKK</td>\n",
       "      <td>ARK Innovation ETF</td>\n",
       "      <td>Mid-Cap Blend</td>\n",
       "      <td>Economically Sensitive</td>\n",
       "      <td>U.S. Equities</td>\n",
       "      <td>2023-10-13</td>\n",
       "      <td>1,000.0000</td>\n",
       "    </tr>\n",
       "    <tr>\n",
       "      <th>36</th>\n",
       "      <td>41</td>\n",
       "      <td>EXAS</td>\n",
       "      <td>Exact Sciences Corp</td>\n",
       "      <td>Mid-Cap Blend</td>\n",
       "      <td>Economically Sensitive</td>\n",
       "      <td>U.S. Equities</td>\n",
       "      <td>2023-10-13</td>\n",
       "      <td>500.0000</td>\n",
       "    </tr>\n",
       "    <tr>\n",
       "      <th>37</th>\n",
       "      <td>42</td>\n",
       "      <td>NVTA</td>\n",
       "      <td>Invitae Corp</td>\n",
       "      <td>Mid-Cap Blend</td>\n",
       "      <td>Economically Sensitive</td>\n",
       "      <td>U.S. Equities</td>\n",
       "      <td>2023-10-13</td>\n",
       "      <td>500.0000</td>\n",
       "    </tr>\n",
       "    <tr>\n",
       "      <th>38</th>\n",
       "      <td>43</td>\n",
       "      <td>PATH</td>\n",
       "      <td>UiPath Inc Class A</td>\n",
       "      <td>Mid-Cap Blend</td>\n",
       "      <td>Economically Sensitive</td>\n",
       "      <td>U.S. Equities</td>\n",
       "      <td>2023-10-13</td>\n",
       "      <td>500.0000</td>\n",
       "    </tr>\n",
       "    <tr>\n",
       "      <th>39</th>\n",
       "      <td>43</td>\n",
       "      <td>TWLO</td>\n",
       "      <td>Twilio Inc Class A</td>\n",
       "      <td>Mid-Cap Blend</td>\n",
       "      <td>Economically Sensitive</td>\n",
       "      <td>U.S. Equities</td>\n",
       "      <td>2023-10-13</td>\n",
       "      <td>500.0000</td>\n",
       "    </tr>\n",
       "  </tbody>\n",
       "</table>\n",
       "<p>40 rows × 8 columns</p>\n",
       "</div>"
      ],
      "text/plain": [
       "    Unnamed: 0 Ticker                          BondName Morningstar_Category  \\\n",
       "0            0    IVV          iShares Core S&P 500 ETF          Large Blend   \n",
       "1            1   VONG  Vanguard Russell 1000 Growth ETF         Large Growth   \n",
       "2            2   SCHD    Schwab US Dividend Equity ETF™          Large Value   \n",
       "3            3   IMCB   iShares Morningstar Mid-Cap ETF        Mid-Cap Blend   \n",
       "4            4     VO              Vanguard Mid-Cap ETF        Mid-Cap Blend   \n",
       "..         ...    ...                               ...                  ...   \n",
       "35          40   ARKK                ARK Innovation ETF        Mid-Cap Blend   \n",
       "36          41   EXAS               Exact Sciences Corp        Mid-Cap Blend   \n",
       "37          42   NVTA                      Invitae Corp        Mid-Cap Blend   \n",
       "38          43   PATH                UiPath Inc Class A        Mid-Cap Blend   \n",
       "39          43   TWLO                Twilio Inc Class A        Mid-Cap Blend   \n",
       "\n",
       "                     Class      Sub_Class       Date      Value  \n",
       "0   Economically Sensitive  U.S. Equities 2023-09-11 4,000.0000  \n",
       "1   Economically Sensitive  U.S. Equities 2023-09-11 3,000.0000  \n",
       "2   Economically Sensitive  U.S. Equities 2023-09-11 3,000.0000  \n",
       "3   Economically Sensitive  U.S. Equities 2023-09-11 4,000.0000  \n",
       "4   Economically Sensitive  U.S. Equities 2023-09-11 2,000.0000  \n",
       "..                     ...            ...        ...        ...  \n",
       "35  Economically Sensitive  U.S. Equities 2023-10-13 1,000.0000  \n",
       "36  Economically Sensitive  U.S. Equities 2023-10-13   500.0000  \n",
       "37  Economically Sensitive  U.S. Equities 2023-10-13   500.0000  \n",
       "38  Economically Sensitive  U.S. Equities 2023-10-13   500.0000  \n",
       "39  Economically Sensitive  U.S. Equities 2023-10-13   500.0000  \n",
       "\n",
       "[40 rows x 8 columns]"
      ]
     },
     "execution_count": 133,
     "metadata": {},
     "output_type": "execute_result"
    }
   ],
   "source": [
    "folio_df = pd.read_csv('https://raw.githubusercontent.com/dsimband/DATA618/main/w15/data/DATA618_Portfolio_Full.csv', \n",
    "                 parse_dates =['Date'],\n",
    "                 dtype={\n",
    "                    'ID': 'int',\n",
    "                    'Value': 'float', \n",
    "                 })\n",
    "\n",
    "\n",
    "# Class Portfolios\n",
    "folio_econ_df = folio_df[folio_df['Class'] == 'Economically Sensitive']\n",
    "folio_int_df = folio_df[folio_df['Class'] == 'Interest Rate Sensitive']\n",
    "\n",
    "folio_df"
   ]
  },
  {
   "cell_type": "code",
   "execution_count": 134,
   "id": "e87dc7a6-443c-453a-aeb8-68d41564a344",
   "metadata": {},
   "outputs": [
    {
     "data": {
      "text/html": [
       "<div>\n",
       "<style scoped>\n",
       "    .dataframe tbody tr th:only-of-type {\n",
       "        vertical-align: middle;\n",
       "    }\n",
       "\n",
       "    .dataframe tbody tr th {\n",
       "        vertical-align: top;\n",
       "    }\n",
       "\n",
       "    .dataframe thead th {\n",
       "        text-align: right;\n",
       "    }\n",
       "</style>\n",
       "<table border=\"1\" class=\"dataframe\">\n",
       "  <thead>\n",
       "    <tr style=\"text-align: right;\">\n",
       "      <th></th>\n",
       "      <th>ALTVX</th>\n",
       "      <th>ARKK</th>\n",
       "      <th>BLUEX</th>\n",
       "      <th>BPLSX</th>\n",
       "      <th>C_A_S_H</th>\n",
       "      <th>DFAR</th>\n",
       "      <th>EXAS</th>\n",
       "      <th>...</th>\n",
       "      <th>VGCAX</th>\n",
       "      <th>VICSX</th>\n",
       "      <th>VIGI</th>\n",
       "      <th>VNQ</th>\n",
       "      <th>VO</th>\n",
       "      <th>VONG</th>\n",
       "      <th>VTEB</th>\n",
       "    </tr>\n",
       "    <tr>\n",
       "      <th>Date</th>\n",
       "      <th></th>\n",
       "      <th></th>\n",
       "      <th></th>\n",
       "      <th></th>\n",
       "      <th></th>\n",
       "      <th></th>\n",
       "      <th></th>\n",
       "      <th></th>\n",
       "      <th></th>\n",
       "      <th></th>\n",
       "      <th></th>\n",
       "      <th></th>\n",
       "      <th></th>\n",
       "      <th></th>\n",
       "      <th></th>\n",
       "    </tr>\n",
       "  </thead>\n",
       "  <tbody>\n",
       "    <tr>\n",
       "      <th>2023-09-11</th>\n",
       "      <td>106383</td>\n",
       "      <td>0</td>\n",
       "      <td>14201</td>\n",
       "      <td>49967</td>\n",
       "      <td>4182856</td>\n",
       "      <td>108467</td>\n",
       "      <td>0</td>\n",
       "      <td>...</td>\n",
       "      <td>54437</td>\n",
       "      <td>95923</td>\n",
       "      <td>40481</td>\n",
       "      <td>40221</td>\n",
       "      <td>9234</td>\n",
       "      <td>41501</td>\n",
       "      <td>20333</td>\n",
       "    </tr>\n",
       "    <tr>\n",
       "      <th>2023-09-12</th>\n",
       "      <td>106383</td>\n",
       "      <td>0</td>\n",
       "      <td>14201</td>\n",
       "      <td>49967</td>\n",
       "      <td>4182856</td>\n",
       "      <td>108467</td>\n",
       "      <td>0</td>\n",
       "      <td>...</td>\n",
       "      <td>54437</td>\n",
       "      <td>95923</td>\n",
       "      <td>40481</td>\n",
       "      <td>40221</td>\n",
       "      <td>9234</td>\n",
       "      <td>41501</td>\n",
       "      <td>20333</td>\n",
       "    </tr>\n",
       "    <tr>\n",
       "      <th>2023-09-13</th>\n",
       "      <td>106383</td>\n",
       "      <td>0</td>\n",
       "      <td>14201</td>\n",
       "      <td>49967</td>\n",
       "      <td>4182856</td>\n",
       "      <td>108467</td>\n",
       "      <td>0</td>\n",
       "      <td>...</td>\n",
       "      <td>54437</td>\n",
       "      <td>95923</td>\n",
       "      <td>40481</td>\n",
       "      <td>40221</td>\n",
       "      <td>9234</td>\n",
       "      <td>41501</td>\n",
       "      <td>20333</td>\n",
       "    </tr>\n",
       "    <tr>\n",
       "      <th>2023-09-14</th>\n",
       "      <td>106383</td>\n",
       "      <td>0</td>\n",
       "      <td>14201</td>\n",
       "      <td>49967</td>\n",
       "      <td>4182856</td>\n",
       "      <td>108467</td>\n",
       "      <td>0</td>\n",
       "      <td>...</td>\n",
       "      <td>54437</td>\n",
       "      <td>95923</td>\n",
       "      <td>40481</td>\n",
       "      <td>40221</td>\n",
       "      <td>9234</td>\n",
       "      <td>41501</td>\n",
       "      <td>20333</td>\n",
       "    </tr>\n",
       "    <tr>\n",
       "      <th>2023-09-15</th>\n",
       "      <td>106383</td>\n",
       "      <td>0</td>\n",
       "      <td>14201</td>\n",
       "      <td>49967</td>\n",
       "      <td>4182856</td>\n",
       "      <td>108467</td>\n",
       "      <td>0</td>\n",
       "      <td>...</td>\n",
       "      <td>54437</td>\n",
       "      <td>95923</td>\n",
       "      <td>40481</td>\n",
       "      <td>40221</td>\n",
       "      <td>9234</td>\n",
       "      <td>41501</td>\n",
       "      <td>20333</td>\n",
       "    </tr>\n",
       "    <tr>\n",
       "      <th>...</th>\n",
       "      <td>...</td>\n",
       "      <td>...</td>\n",
       "      <td>...</td>\n",
       "      <td>...</td>\n",
       "      <td>...</td>\n",
       "      <td>...</td>\n",
       "      <td>...</td>\n",
       "      <td>...</td>\n",
       "      <td>...</td>\n",
       "      <td>...</td>\n",
       "      <td>...</td>\n",
       "      <td>...</td>\n",
       "      <td>...</td>\n",
       "      <td>...</td>\n",
       "      <td>...</td>\n",
       "    </tr>\n",
       "    <tr>\n",
       "      <th>2023-12-04</th>\n",
       "      <td>106383</td>\n",
       "      <td>26476</td>\n",
       "      <td>14201</td>\n",
       "      <td>49967</td>\n",
       "      <td>3182856</td>\n",
       "      <td>108467</td>\n",
       "      <td>7660</td>\n",
       "      <td>...</td>\n",
       "      <td>54437</td>\n",
       "      <td>95923</td>\n",
       "      <td>40481</td>\n",
       "      <td>40221</td>\n",
       "      <td>9234</td>\n",
       "      <td>41501</td>\n",
       "      <td>20333</td>\n",
       "    </tr>\n",
       "    <tr>\n",
       "      <th>2023-12-05</th>\n",
       "      <td>106383</td>\n",
       "      <td>26476</td>\n",
       "      <td>14201</td>\n",
       "      <td>49967</td>\n",
       "      <td>3182856</td>\n",
       "      <td>108467</td>\n",
       "      <td>7660</td>\n",
       "      <td>...</td>\n",
       "      <td>54437</td>\n",
       "      <td>95923</td>\n",
       "      <td>40481</td>\n",
       "      <td>40221</td>\n",
       "      <td>9234</td>\n",
       "      <td>41501</td>\n",
       "      <td>20333</td>\n",
       "    </tr>\n",
       "    <tr>\n",
       "      <th>2023-12-06</th>\n",
       "      <td>106383</td>\n",
       "      <td>26476</td>\n",
       "      <td>14201</td>\n",
       "      <td>49967</td>\n",
       "      <td>3182856</td>\n",
       "      <td>108467</td>\n",
       "      <td>7660</td>\n",
       "      <td>...</td>\n",
       "      <td>54437</td>\n",
       "      <td>95923</td>\n",
       "      <td>40481</td>\n",
       "      <td>40221</td>\n",
       "      <td>9234</td>\n",
       "      <td>41501</td>\n",
       "      <td>20333</td>\n",
       "    </tr>\n",
       "    <tr>\n",
       "      <th>2023-12-07</th>\n",
       "      <td>106383</td>\n",
       "      <td>26476</td>\n",
       "      <td>14201</td>\n",
       "      <td>49967</td>\n",
       "      <td>3182856</td>\n",
       "      <td>108467</td>\n",
       "      <td>7660</td>\n",
       "      <td>...</td>\n",
       "      <td>54437</td>\n",
       "      <td>95923</td>\n",
       "      <td>40481</td>\n",
       "      <td>40221</td>\n",
       "      <td>9234</td>\n",
       "      <td>41501</td>\n",
       "      <td>20333</td>\n",
       "    </tr>\n",
       "    <tr>\n",
       "      <th>2023-12-08</th>\n",
       "      <td>106383</td>\n",
       "      <td>26476</td>\n",
       "      <td>14201</td>\n",
       "      <td>49967</td>\n",
       "      <td>3182856</td>\n",
       "      <td>108467</td>\n",
       "      <td>7660</td>\n",
       "      <td>...</td>\n",
       "      <td>54437</td>\n",
       "      <td>95923</td>\n",
       "      <td>40481</td>\n",
       "      <td>40221</td>\n",
       "      <td>9234</td>\n",
       "      <td>41501</td>\n",
       "      <td>20333</td>\n",
       "    </tr>\n",
       "  </tbody>\n",
       "</table>\n",
       "<p>64 rows × 40 columns</p>\n",
       "</div>"
      ],
      "text/plain": [
       "             ALTVX   ARKK  BLUEX  BPLSX  C_A_S_H    DFAR  EXAS  ...  VGCAX  \\\n",
       "Date                                                            ...          \n",
       "2023-09-11  106383      0  14201  49967  4182856  108467     0  ...  54437   \n",
       "2023-09-12  106383      0  14201  49967  4182856  108467     0  ...  54437   \n",
       "2023-09-13  106383      0  14201  49967  4182856  108467     0  ...  54437   \n",
       "2023-09-14  106383      0  14201  49967  4182856  108467     0  ...  54437   \n",
       "2023-09-15  106383      0  14201  49967  4182856  108467     0  ...  54437   \n",
       "...            ...    ...    ...    ...      ...     ...   ...  ...    ...   \n",
       "2023-12-04  106383  26476  14201  49967  3182856  108467  7660  ...  54437   \n",
       "2023-12-05  106383  26476  14201  49967  3182856  108467  7660  ...  54437   \n",
       "2023-12-06  106383  26476  14201  49967  3182856  108467  7660  ...  54437   \n",
       "2023-12-07  106383  26476  14201  49967  3182856  108467  7660  ...  54437   \n",
       "2023-12-08  106383  26476  14201  49967  3182856  108467  7660  ...  54437   \n",
       "\n",
       "            VICSX   VIGI    VNQ    VO   VONG   VTEB  \n",
       "Date                                                 \n",
       "2023-09-11  95923  40481  40221  9234  41501  20333  \n",
       "2023-09-12  95923  40481  40221  9234  41501  20333  \n",
       "2023-09-13  95923  40481  40221  9234  41501  20333  \n",
       "2023-09-14  95923  40481  40221  9234  41501  20333  \n",
       "2023-09-15  95923  40481  40221  9234  41501  20333  \n",
       "...           ...    ...    ...   ...    ...    ...  \n",
       "2023-12-04  95923  40481  40221  9234  41501  20333  \n",
       "2023-12-05  95923  40481  40221  9234  41501  20333  \n",
       "2023-12-06  95923  40481  40221  9234  41501  20333  \n",
       "2023-12-07  95923  40481  40221  9234  41501  20333  \n",
       "2023-12-08  95923  40481  40221  9234  41501  20333  \n",
       "\n",
       "[64 rows x 40 columns]"
      ]
     },
     "execution_count": 134,
     "metadata": {},
     "output_type": "execute_result"
    }
   ],
   "source": [
    "shares_df = pd.read_csv('https://raw.githubusercontent.com/dsimband/DATA618/main/w15/data/DATA618_Shares.csv', \n",
    "                 parse_dates =['Date'])\n",
    "shares_df.set_index('Date', inplace=True)\n",
    "shares_df.dropna(inplace=True)\n",
    "shares_df"
   ]
  },
  {
   "cell_type": "code",
   "execution_count": 135,
   "id": "eaa115f8-94a0-42be-87cb-6aa5fae208eb",
   "metadata": {
    "tags": []
   },
   "outputs": [
    {
     "data": {
      "text/plain": [
       "['AGG']"
      ]
     },
     "execution_count": 135,
     "metadata": {},
     "output_type": "execute_result"
    }
   ],
   "source": [
    "var_lst"
   ]
  },
  {
   "cell_type": "code",
   "execution_count": 136,
   "id": "f37aba86-40ab-4267-9c7c-fea15aa44410",
   "metadata": {
    "tags": []
   },
   "outputs": [
    {
     "name": "stdout",
     "output_type": "stream",
     "text": [
      "[*********************100%%**********************]  40 of 40 completed"
     ]
    },
    {
     "name": "stderr",
     "output_type": "stream",
     "text": [
      "\n",
      "1 Failed download:\n",
      "['C_A_S_H']: Exception('%ticker%: No timezone found, symbol may be delisted')\n"
     ]
    },
    {
     "name": "stdout",
     "output_type": "stream",
     "text": [
      "\n"
     ]
    },
    {
     "data": {
      "text/html": [
       "<div>\n",
       "<style scoped>\n",
       "    .dataframe tbody tr th:only-of-type {\n",
       "        vertical-align: middle;\n",
       "    }\n",
       "\n",
       "    .dataframe tbody tr th {\n",
       "        vertical-align: top;\n",
       "    }\n",
       "\n",
       "    .dataframe thead th {\n",
       "        text-align: right;\n",
       "    }\n",
       "</style>\n",
       "<table border=\"1\" class=\"dataframe\">\n",
       "  <thead>\n",
       "    <tr style=\"text-align: right;\">\n",
       "      <th></th>\n",
       "      <th>ALTVX</th>\n",
       "      <th>ARKK</th>\n",
       "      <th>BLUEX</th>\n",
       "      <th>BPLSX</th>\n",
       "      <th>C_A_S_H</th>\n",
       "      <th>DFAR</th>\n",
       "      <th>EXAS</th>\n",
       "      <th>...</th>\n",
       "      <th>VGCAX</th>\n",
       "      <th>VICSX</th>\n",
       "      <th>VIGI</th>\n",
       "      <th>VNQ</th>\n",
       "      <th>VO</th>\n",
       "      <th>VONG</th>\n",
       "      <th>VTEB</th>\n",
       "    </tr>\n",
       "    <tr>\n",
       "      <th>Date</th>\n",
       "      <th></th>\n",
       "      <th></th>\n",
       "      <th></th>\n",
       "      <th></th>\n",
       "      <th></th>\n",
       "      <th></th>\n",
       "      <th></th>\n",
       "      <th></th>\n",
       "      <th></th>\n",
       "      <th></th>\n",
       "      <th></th>\n",
       "      <th></th>\n",
       "      <th></th>\n",
       "      <th></th>\n",
       "      <th></th>\n",
       "    </tr>\n",
       "  </thead>\n",
       "  <tbody>\n",
       "    <tr>\n",
       "      <th>2023-12-08 00:00:00</th>\n",
       "      <td>9.5800</td>\n",
       "      <td>49.1800</td>\n",
       "      <td>34.8000</td>\n",
       "      <td>15.5400</td>\n",
       "      <td>1</td>\n",
       "      <td>21.6500</td>\n",
       "      <td>64.7200</td>\n",
       "      <td>...</td>\n",
       "      <td>18.7900</td>\n",
       "      <td>21.2700</td>\n",
       "      <td>75.7200</td>\n",
       "      <td>83.6400</td>\n",
       "      <td>221.2500</td>\n",
       "      <td>75.7000</td>\n",
       "      <td>50.3100</td>\n",
       "    </tr>\n",
       "  </tbody>\n",
       "</table>\n",
       "<p>1 rows × 40 columns</p>\n",
       "</div>"
      ],
      "text/plain": [
       "                     ALTVX    ARKK   BLUEX   BPLSX  C_A_S_H    DFAR    EXAS  \\\n",
       "Date                                                                          \n",
       "2023-12-08 00:00:00 9.5800 49.1800 34.8000 15.5400        1 21.6500 64.7200   \n",
       "\n",
       "                     ...   VGCAX   VICSX    VIGI     VNQ       VO    VONG  \\\n",
       "Date                 ...                                                    \n",
       "2023-12-08 00:00:00  ... 18.7900 21.2700 75.7200 83.6400 221.2500 75.7000   \n",
       "\n",
       "                       VTEB  \n",
       "Date                         \n",
       "2023-12-08 00:00:00 50.3100  \n",
       "\n",
       "[1 rows x 40 columns]"
      ]
     },
     "execution_count": 136,
     "metadata": {},
     "output_type": "execute_result"
    }
   ],
   "source": [
    "var_lst = list(shares_df.columns)\n",
    "price_df = pdr.get_data_yahoo(var_lst, start=start, end=end)['Close']\n",
    "price_df = pd.DataFrame(price_df)\n",
    "#price_df.columns = ['AGG']\n",
    "price_df['C_A_S_H'] = 1\n",
    "\n",
    "#price_df = price_df.pct_change()[1:]\n",
    "#price_df.reset_index(inplace=True)\n",
    "price_df"
   ]
  },
  {
   "cell_type": "code",
   "execution_count": 137,
   "id": "fe7117d9-2334-48f1-bf6c-b9689b21a247",
   "metadata": {
    "tags": []
   },
   "outputs": [
    {
     "data": {
      "text/html": [
       "<div>\n",
       "<style scoped>\n",
       "    .dataframe tbody tr th:only-of-type {\n",
       "        vertical-align: middle;\n",
       "    }\n",
       "\n",
       "    .dataframe tbody tr th {\n",
       "        vertical-align: top;\n",
       "    }\n",
       "\n",
       "    .dataframe thead th {\n",
       "        text-align: right;\n",
       "    }\n",
       "</style>\n",
       "<table border=\"1\" class=\"dataframe\">\n",
       "  <thead>\n",
       "    <tr style=\"text-align: right;\">\n",
       "      <th></th>\n",
       "      <th>ALTVX</th>\n",
       "      <th>ARKK</th>\n",
       "      <th>BLUEX</th>\n",
       "      <th>BPLSX</th>\n",
       "      <th>C_A_S_H</th>\n",
       "      <th>DFAR</th>\n",
       "      <th>EXAS</th>\n",
       "      <th>...</th>\n",
       "      <th>VGCAX</th>\n",
       "      <th>VICSX</th>\n",
       "      <th>VIGI</th>\n",
       "      <th>VNQ</th>\n",
       "      <th>VO</th>\n",
       "      <th>VONG</th>\n",
       "      <th>VTEB</th>\n",
       "    </tr>\n",
       "    <tr>\n",
       "      <th>Date</th>\n",
       "      <th></th>\n",
       "      <th></th>\n",
       "      <th></th>\n",
       "      <th></th>\n",
       "      <th></th>\n",
       "      <th></th>\n",
       "      <th></th>\n",
       "      <th></th>\n",
       "      <th></th>\n",
       "      <th></th>\n",
       "      <th></th>\n",
       "      <th></th>\n",
       "      <th></th>\n",
       "      <th></th>\n",
       "      <th></th>\n",
       "    </tr>\n",
       "  </thead>\n",
       "  <tbody>\n",
       "    <tr>\n",
       "      <th>2023-12-08</th>\n",
       "      <td>106383</td>\n",
       "      <td>26476</td>\n",
       "      <td>14201</td>\n",
       "      <td>49967</td>\n",
       "      <td>3182856</td>\n",
       "      <td>108467</td>\n",
       "      <td>7660</td>\n",
       "      <td>...</td>\n",
       "      <td>54437</td>\n",
       "      <td>95923</td>\n",
       "      <td>40481</td>\n",
       "      <td>40221</td>\n",
       "      <td>9234</td>\n",
       "      <td>41501</td>\n",
       "      <td>20333</td>\n",
       "    </tr>\n",
       "  </tbody>\n",
       "</table>\n",
       "<p>1 rows × 40 columns</p>\n",
       "</div>"
      ],
      "text/plain": [
       "             ALTVX   ARKK  BLUEX  BPLSX  C_A_S_H    DFAR  EXAS  ...  VGCAX  \\\n",
       "Date                                                            ...          \n",
       "2023-12-08  106383  26476  14201  49967  3182856  108467  7660  ...  54437   \n",
       "\n",
       "            VICSX   VIGI    VNQ    VO   VONG   VTEB  \n",
       "Date                                                 \n",
       "2023-12-08  95923  40481  40221  9234  41501  20333  \n",
       "\n",
       "[1 rows x 40 columns]"
      ]
     },
     "execution_count": 137,
     "metadata": {},
     "output_type": "execute_result"
    }
   ],
   "source": [
    "shares_df[-1:]"
   ]
  },
  {
   "cell_type": "code",
   "execution_count": 138,
   "id": "7075a547-135b-4f16-b78d-f22d28ff15d6",
   "metadata": {
    "tags": []
   },
   "outputs": [
    {
     "data": {
      "text/html": [
       "<div>\n",
       "<style scoped>\n",
       "    .dataframe tbody tr th:only-of-type {\n",
       "        vertical-align: middle;\n",
       "    }\n",
       "\n",
       "    .dataframe tbody tr th {\n",
       "        vertical-align: top;\n",
       "    }\n",
       "\n",
       "    .dataframe thead th {\n",
       "        text-align: right;\n",
       "    }\n",
       "</style>\n",
       "<table border=\"1\" class=\"dataframe\">\n",
       "  <thead>\n",
       "    <tr style=\"text-align: right;\">\n",
       "      <th></th>\n",
       "      <th>Ticker</th>\n",
       "      <th>Value</th>\n",
       "      <th>port_percent</th>\n",
       "    </tr>\n",
       "  </thead>\n",
       "  <tbody>\n",
       "    <tr>\n",
       "      <th>0</th>\n",
       "      <td>ALTVX</td>\n",
       "      <td>1,019,149.1319</td>\n",
       "      <td>0.0119</td>\n",
       "    </tr>\n",
       "    <tr>\n",
       "      <th>1</th>\n",
       "      <td>ARKK</td>\n",
       "      <td>1,302,089.6881</td>\n",
       "      <td>0.0152</td>\n",
       "    </tr>\n",
       "    <tr>\n",
       "      <th>2</th>\n",
       "      <td>BLUEX</td>\n",
       "      <td>494,194.7892</td>\n",
       "      <td>0.0058</td>\n",
       "    </tr>\n",
       "    <tr>\n",
       "      <th>3</th>\n",
       "      <td>BPLSX</td>\n",
       "      <td>776,487.1781</td>\n",
       "      <td>0.0091</td>\n",
       "    </tr>\n",
       "    <tr>\n",
       "      <th>4</th>\n",
       "      <td>C_A_S_H</td>\n",
       "      <td>3,182,856.0000</td>\n",
       "      <td>0.0373</td>\n",
       "    </tr>\n",
       "    <tr>\n",
       "      <th>...</th>\n",
       "      <td>...</td>\n",
       "      <td>...</td>\n",
       "      <td>...</td>\n",
       "    </tr>\n",
       "    <tr>\n",
       "      <th>35</th>\n",
       "      <td>VIGI</td>\n",
       "      <td>3,065,221.3694</td>\n",
       "      <td>0.0359</td>\n",
       "    </tr>\n",
       "    <tr>\n",
       "      <th>36</th>\n",
       "      <td>VNQ</td>\n",
       "      <td>3,364,084.4155</td>\n",
       "      <td>0.0394</td>\n",
       "    </tr>\n",
       "    <tr>\n",
       "      <th>37</th>\n",
       "      <td>VO</td>\n",
       "      <td>2,043,022.5000</td>\n",
       "      <td>0.0239</td>\n",
       "    </tr>\n",
       "    <tr>\n",
       "      <th>38</th>\n",
       "      <td>VONG</td>\n",
       "      <td>3,141,625.5733</td>\n",
       "      <td>0.0368</td>\n",
       "    </tr>\n",
       "    <tr>\n",
       "      <th>39</th>\n",
       "      <td>VTEB</td>\n",
       "      <td>1,022,953.2579</td>\n",
       "      <td>0.0120</td>\n",
       "    </tr>\n",
       "  </tbody>\n",
       "</table>\n",
       "<p>40 rows × 3 columns</p>\n",
       "</div>"
      ],
      "text/plain": [
       "     Ticker          Value  port_percent\n",
       "0     ALTVX 1,019,149.1319        0.0119\n",
       "1      ARKK 1,302,089.6881        0.0152\n",
       "2     BLUEX   494,194.7892        0.0058\n",
       "3     BPLSX   776,487.1781        0.0091\n",
       "4   C_A_S_H 3,182,856.0000        0.0373\n",
       "..      ...            ...           ...\n",
       "35     VIGI 3,065,221.3694        0.0359\n",
       "36      VNQ 3,364,084.4155        0.0394\n",
       "37       VO 2,043,022.5000        0.0239\n",
       "38     VONG 3,141,625.5733        0.0368\n",
       "39     VTEB 1,022,953.2579        0.0120\n",
       "\n",
       "[40 rows x 3 columns]"
      ]
     },
     "execution_count": 138,
     "metadata": {},
     "output_type": "execute_result"
    }
   ],
   "source": [
    "totalValue_df = shares_df[-1:] * price_df\n",
    "totalValue_df = totalValue_df.T.copy()\n",
    "totalValue_df.reset_index(inplace=True)\n",
    "totalValue_df.columns = ['Ticker','Value']\n",
    "totalValue_df['port_percent'] = round(totalValue_df['Value'] / totalValue_df['Value'].sum(),4)\n",
    "totalValue_df"
   ]
  },
  {
   "cell_type": "code",
   "execution_count": 139,
   "id": "ce4f4354-f866-472d-9988-5d768026ee51",
   "metadata": {
    "tags": []
   },
   "outputs": [],
   "source": [
    "weight_lst = totalValue_df['port_percent'].values\n",
    "ticker_lst = totalValue_df['Ticker']"
   ]
  },
  {
   "cell_type": "code",
   "execution_count": 140,
   "id": "e3851952-21aa-4d8e-9f31-0f311259f70f",
   "metadata": {
    "tags": []
   },
   "outputs": [
    {
     "data": {
      "text/plain": [
       "85420183.88264847"
      ]
     },
     "execution_count": 140,
     "metadata": {},
     "output_type": "execute_result"
    }
   ],
   "source": [
    "portfolio_total = totalValue_df['Value'].sum()\n",
    "portfolio_total"
   ]
  },
  {
   "cell_type": "code",
   "execution_count": null,
   "id": "a0596d5f-62be-4bc2-808a-d60d102924b7",
   "metadata": {},
   "outputs": [],
   "source": []
  },
  {
   "cell_type": "code",
   "execution_count": null,
   "id": "adbd7bae-d047-4969-95eb-7cb41d6e8d72",
   "metadata": {
    "tags": []
   },
   "outputs": [],
   "source": []
  },
  {
   "cell_type": "markdown",
   "id": "cdca1f24-cd50-4154-b0a9-62750b528eda",
   "metadata": {},
   "source": [
    "folio_df = pd.read_csv('https://raw.githubusercontent.com/dsimband/DATA618/main/w7/data/DATA618_Portfolio.csv', \n",
    "                 dtype={\n",
    "                    'ID': 'int',\n",
    "                    'Price': 'float',\n",
    "                    'Shares': 'float',\n",
    "                    'Value': 'float', \n",
    "                 })\n",
    "\n",
    "folio_df = folio_df[folio_df['Shares'] > 0]\n",
    "folio_df = folio_df.groupby(['Ticker','BondName','Class','Sub_Class'])[['Shares','Value']].sum()\n",
    "folio_df.reset_index(inplace=True)\n",
    "\n",
    "# calculate portfilio percentage\n",
    "portfolio_total = folio_df['Value'].sum()\n",
    "folio_df['port_percent'] = folio_df['Value'] / portfolio_total\n",
    "\n",
    "# Class Portfolios\n",
    "folio_econ_df = folio_df[folio_df['Class'] == 'Economically Sensitive']\n",
    "folio_int_df = folio_df[folio_df['Class'] == 'Interest Rate Sensitive']\n",
    "\n",
    "folio_df"
   ]
  },
  {
   "cell_type": "markdown",
   "id": "d703d0df-57b7-4d7e-83b6-f1f1a328847b",
   "metadata": {
    "tags": []
   },
   "source": [
    "folio_df.groupby(['Class'])[['Value']].sum()"
   ]
  },
  {
   "cell_type": "markdown",
   "id": "05a25d92-1762-4b8a-92f7-6b66771eda77",
   "metadata": {
    "tags": []
   },
   "source": [
    "initial_investment = folio_df['Value'].sum() * 1000\n",
    "initial_investment"
   ]
  },
  {
   "cell_type": "markdown",
   "id": "9069ff34-bfe3-44d7-8459-7a7f869045b3",
   "metadata": {},
   "source": [
    "# 4. Portfolio"
   ]
  },
  {
   "cell_type": "markdown",
   "id": "3430ffd9-e880-47cb-a613-393df3ff347a",
   "metadata": {},
   "source": [
    "## 4.1 Load Pricing Time Series"
   ]
  },
  {
   "cell_type": "markdown",
   "id": "6e11c6e7-b18c-47ea-9902-75894ed04877",
   "metadata": {
    "tags": []
   },
   "source": [
    "# ticker symbols\n",
    "ticker_lst = list(folio_df['Ticker'])\n",
    "print('ticker #:', len(ticker_lst))\n",
    "\n",
    "# portfolio weights\n",
    "weight_lst = (folio_df['port_percent'].values)\n",
    "print('price #:', len(weight_lst))\n",
    "\n",
    "#Download closing prices\n",
    "price_df = pdr.get_data_yahoo(ticker_lst, start=start_date, end=purchase_date)['Close']\n",
    "price_df['C_A_S_H'] = 1\n",
    "print('price_df #:', price_df.shape)\n",
    "\n",
    "#From the closing prices, calculate periodic returns\n",
    "return_df = price_df.pct_change()\n",
    "return_df.fillna(0, inplace=True)\n",
    "return_df.index = pd.to_datetime(return_df.index)\n",
    "print('return_df #:', len(return_df.columns))"
   ]
  },
  {
   "cell_type": "code",
   "execution_count": 141,
   "id": "2d4180d4-3429-4075-a654-a19470439561",
   "metadata": {
    "tags": []
   },
   "outputs": [
    {
     "name": "stdout",
     "output_type": "stream",
     "text": [
      "ticker #: 40\n",
      "[*********************100%%**********************]  40 of 40 completed"
     ]
    },
    {
     "name": "stderr",
     "output_type": "stream",
     "text": [
      "\n",
      "1 Failed download:\n",
      "['C_A_S_H']: Exception('%ticker%: No timezone found, symbol may be delisted')\n"
     ]
    },
    {
     "name": "stdout",
     "output_type": "stream",
     "text": [
      "\n",
      "price_df #: (423, 40)\n",
      "return_df #: 40\n"
     ]
    }
   ],
   "source": [
    "# ticker symbols\n",
    "ticker_lst = list(shares_df.columns)\n",
    "print('ticker #:', len(ticker_lst))\n",
    "\n",
    "# portfolio weights\n",
    "#weight_lst = (folio_df['port_percent'].values)\n",
    "#print('price #:', len(weight_lst))\n",
    "\n",
    "#Download closing prices\n",
    "price_df = pdr.get_data_yahoo(ticker_lst, start=start_date, end=purchase_date)['Close']\n",
    "price_df['C_A_S_H'] = 1\n",
    "print('price_df #:', price_df.shape)\n",
    "\n",
    "#From the closing prices, calculate periodic returns\n",
    "return_df = price_df.pct_change()\n",
    "return_df.fillna(0, inplace=True)\n",
    "return_df.index = pd.to_datetime(return_df.index)\n",
    "print('return_df #:', len(return_df.columns))"
   ]
  },
  {
   "cell_type": "markdown",
   "id": "d71be080-3104-4ac5-b3e5-2f394d2a933f",
   "metadata": {
    "tags": []
   },
   "source": [
    "## 4.2 Portfolio Returns"
   ]
  },
  {
   "cell_type": "markdown",
   "id": "87155822-ddbf-483b-9376-d30f7a143b7c",
   "metadata": {
    "tags": []
   },
   "source": [
    "port_ret_weighted= return_df.mul(weight_lst, axis=1)\n",
    "print('port_ret_weighted #:', port_ret_weighted.shape)\n",
    "\n",
    "return_df['Portfolio'] = port_ret_weighted.sum(axis=1)\n",
    "print('return_df #:', return_df.shape)"
   ]
  },
  {
   "cell_type": "code",
   "execution_count": 142,
   "id": "6ba2b040-f5c6-4b6c-a149-9fa3a530676f",
   "metadata": {
    "tags": []
   },
   "outputs": [
    {
     "data": {
      "text/plain": [
       "array([0.0119, 0.0152, 0.0058, 0.0091, 0.0373, 0.0275, 0.0058, 0.034 ,\n",
       "       0.0357, 0.0057, 0.006 , 0.0119, 0.0649, 0.0237, 0.0356, 0.0354,\n",
       "       0.0482, 0.047 , 0.0305, 0.0117, 0.012 , 0.0119, 0.0055, 0.0094,\n",
       "       0.0492, 0.012 , 0.012 , 0.0348, 0.0119, 0.0703, 0.0074, 0.0122,\n",
       "       0.0649, 0.012 , 0.0239, 0.0359, 0.0394, 0.0239, 0.0368, 0.012 ])"
      ]
     },
     "execution_count": 142,
     "metadata": {},
     "output_type": "execute_result"
    }
   ],
   "source": [
    "weight_lst"
   ]
  },
  {
   "cell_type": "markdown",
   "id": "7da416e6-a9e3-46f8-b57a-1a99f8c8dfa6",
   "metadata": {
    "tags": []
   },
   "source": [
    "# 5. Calculate Portfolio Value"
   ]
  },
  {
   "cell_type": "markdown",
   "id": "169665c9-7313-4f2d-ace8-7e0f68f2d66b",
   "metadata": {},
   "source": [
    "portValue_df = shares_df * price_df\n",
    "portValue_df"
   ]
  },
  {
   "cell_type": "code",
   "execution_count": null,
   "id": "9138cf6e-8f15-4b5e-98bc-37061bed0c92",
   "metadata": {},
   "outputs": [],
   "source": []
  },
  {
   "cell_type": "markdown",
   "id": "5b920dff-7d34-4f5f-81df-a8b4afc3299e",
   "metadata": {
    "tags": []
   },
   "source": [
    "shares_df = folio_df[['Ticker','Shares']]\n",
    "shares_df.set_index('Ticker', drop=True, inplace=True)\n",
    "shares_df.head()"
   ]
  },
  {
   "cell_type": "markdown",
   "id": "2f723361-76e7-4b22-bc85-5fb724d5d3c3",
   "metadata": {
    "tags": []
   },
   "source": [
    "m_df = price_df.copy()\n",
    "m_df.reset_index(inplace=True)\n",
    "m_df = m_df.melt(id_vars=['Date'])\n",
    "m_df.columns = ['Date','Ticker','Price']\n",
    "m_df.head()"
   ]
  },
  {
   "cell_type": "markdown",
   "id": "d85d9074-9ead-4972-a39b-7d2b36de953e",
   "metadata": {
    "tags": []
   },
   "source": [
    "l_df = folio_df[['Ticker','Class','Sub_Class']] #.drop_duplicates() \n",
    "print('l_df: ',l_df.shape)"
   ]
  },
  {
   "cell_type": "markdown",
   "id": "248bc4f6-2379-4a22-a1dc-6ef370922b61",
   "metadata": {
    "tags": []
   },
   "source": [
    "merge_df = m_df.merge(l_df, how='outer', left_on='Ticker', right_on='Ticker').merge(shares_df,how='outer' ,left_on='Ticker', right_on='Ticker')\n",
    "merge_df['share_value'] = merge_df['Price'] * merge_df['Shares']\n",
    "merge_df['perc_share_value'] = merge_df.groupby(['Ticker'])[['share_value']].pct_change()\n",
    "\n",
    "print('merge_df: ',merge_df.shape)"
   ]
  },
  {
   "cell_type": "markdown",
   "id": "705358a4-5922-4dd4-a476-ee423407a6c1",
   "metadata": {
    "tags": []
   },
   "source": [
    "merge_df"
   ]
  },
  {
   "cell_type": "markdown",
   "id": "1241a91d-4725-4a4e-96a0-a8cfae494e9e",
   "metadata": {
    "tags": []
   },
   "source": [
    "folioValue_df = merge_df.groupby(['Date'])[['share_value']].sum().reset_index()\n",
    "folioValue_df['pct_change'] = folioValue_df['share_value'].pct_change()\n",
    "\n",
    "print('folioValue_df: ',folioValue_df.shape)"
   ]
  },
  {
   "cell_type": "markdown",
   "id": "a9bae2d4-309c-4c7e-8774-8ffd04847443",
   "metadata": {
    "tags": []
   },
   "source": [
    "fv_df = merge_df.groupby(['Date','Class'])[['share_value']].sum().reset_index()\n",
    "fv_df['pct_change'] = fv_df.groupby(['Class'])[['share_value']].pct_change()\n",
    "\n",
    "print('folioValue_df: ',fv_df.shape)"
   ]
  },
  {
   "cell_type": "markdown",
   "id": "adc5a2b8-e8f8-43dd-82b5-1b9de240399e",
   "metadata": {},
   "source": [
    "## 5.1 Portfolio Value"
   ]
  },
  {
   "cell_type": "code",
   "execution_count": 144,
   "id": "e3406481-7aa9-482c-ae48-df280f9ed246",
   "metadata": {
    "tags": []
   },
   "outputs": [
    {
     "name": "stdout",
     "output_type": "stream",
     "text": [
      "l_df:  (40, 3)\n"
     ]
    },
    {
     "data": {
      "text/html": [
       "<div>\n",
       "<style scoped>\n",
       "    .dataframe tbody tr th:only-of-type {\n",
       "        vertical-align: middle;\n",
       "    }\n",
       "\n",
       "    .dataframe tbody tr th {\n",
       "        vertical-align: top;\n",
       "    }\n",
       "\n",
       "    .dataframe thead th {\n",
       "        text-align: right;\n",
       "    }\n",
       "</style>\n",
       "<table border=\"1\" class=\"dataframe\">\n",
       "  <thead>\n",
       "    <tr style=\"text-align: right;\">\n",
       "      <th></th>\n",
       "      <th>Ticker</th>\n",
       "      <th>Class</th>\n",
       "      <th>Sub_Class</th>\n",
       "    </tr>\n",
       "  </thead>\n",
       "  <tbody>\n",
       "    <tr>\n",
       "      <th>0</th>\n",
       "      <td>IVV</td>\n",
       "      <td>Economically Sensitive</td>\n",
       "      <td>U.S. Equities</td>\n",
       "    </tr>\n",
       "    <tr>\n",
       "      <th>1</th>\n",
       "      <td>VONG</td>\n",
       "      <td>Economically Sensitive</td>\n",
       "      <td>U.S. Equities</td>\n",
       "    </tr>\n",
       "    <tr>\n",
       "      <th>2</th>\n",
       "      <td>SCHD</td>\n",
       "      <td>Economically Sensitive</td>\n",
       "      <td>U.S. Equities</td>\n",
       "    </tr>\n",
       "    <tr>\n",
       "      <th>3</th>\n",
       "      <td>IMCB</td>\n",
       "      <td>Economically Sensitive</td>\n",
       "      <td>U.S. Equities</td>\n",
       "    </tr>\n",
       "    <tr>\n",
       "      <th>4</th>\n",
       "      <td>VO</td>\n",
       "      <td>Economically Sensitive</td>\n",
       "      <td>U.S. Equities</td>\n",
       "    </tr>\n",
       "  </tbody>\n",
       "</table>\n",
       "</div>"
      ],
      "text/plain": [
       "  Ticker                   Class      Sub_Class\n",
       "0    IVV  Economically Sensitive  U.S. Equities\n",
       "1   VONG  Economically Sensitive  U.S. Equities\n",
       "2   SCHD  Economically Sensitive  U.S. Equities\n",
       "3   IMCB  Economically Sensitive  U.S. Equities\n",
       "4     VO  Economically Sensitive  U.S. Equities"
      ]
     },
     "execution_count": 144,
     "metadata": {},
     "output_type": "execute_result"
    }
   ],
   "source": [
    "l_df = folio_df[['Ticker','Class','Sub_Class']] #.drop_duplicates() \n",
    "print('l_df: ',l_df.shape)\n",
    "l_df.head()"
   ]
  },
  {
   "cell_type": "code",
   "execution_count": 145,
   "id": "0be6b34d-955a-4b3a-9119-172438b628e5",
   "metadata": {
    "tags": []
   },
   "outputs": [
    {
     "data": {
      "text/html": [
       "<div>\n",
       "<style scoped>\n",
       "    .dataframe tbody tr th:only-of-type {\n",
       "        vertical-align: middle;\n",
       "    }\n",
       "\n",
       "    .dataframe tbody tr th {\n",
       "        vertical-align: top;\n",
       "    }\n",
       "\n",
       "    .dataframe thead th {\n",
       "        text-align: right;\n",
       "    }\n",
       "</style>\n",
       "<table border=\"1\" class=\"dataframe\">\n",
       "  <thead>\n",
       "    <tr style=\"text-align: right;\">\n",
       "      <th></th>\n",
       "      <th>Ticker</th>\n",
       "      <th>Value</th>\n",
       "      <th>Class</th>\n",
       "      <th>Sub_Class</th>\n",
       "      <th>port_percent</th>\n",
       "    </tr>\n",
       "  </thead>\n",
       "  <tbody>\n",
       "    <tr>\n",
       "      <th>0</th>\n",
       "      <td>ALTVX</td>\n",
       "      <td>NaN</td>\n",
       "      <td>Interest Rate Sensitive</td>\n",
       "      <td>Very-High-Quality Municipal Bonds</td>\n",
       "      <td>NaN</td>\n",
       "    </tr>\n",
       "    <tr>\n",
       "      <th>1</th>\n",
       "      <td>ARKK</td>\n",
       "      <td>NaN</td>\n",
       "      <td>Economically Sensitive</td>\n",
       "      <td>U.S. Equities</td>\n",
       "      <td>NaN</td>\n",
       "    </tr>\n",
       "    <tr>\n",
       "      <th>2</th>\n",
       "      <td>BLUEX</td>\n",
       "      <td>NaN</td>\n",
       "      <td>Economically Sensitive</td>\n",
       "      <td>Long/Short Equities</td>\n",
       "      <td>NaN</td>\n",
       "    </tr>\n",
       "    <tr>\n",
       "      <th>3</th>\n",
       "      <td>BPLSX</td>\n",
       "      <td>NaN</td>\n",
       "      <td>Economically Sensitive</td>\n",
       "      <td>Long/Short Equities</td>\n",
       "      <td>NaN</td>\n",
       "    </tr>\n",
       "    <tr>\n",
       "      <th>4</th>\n",
       "      <td>C_A_S_H</td>\n",
       "      <td>NaN</td>\n",
       "      <td>Cash</td>\n",
       "      <td>Cash</td>\n",
       "      <td>NaN</td>\n",
       "    </tr>\n",
       "    <tr>\n",
       "      <th>...</th>\n",
       "      <td>...</td>\n",
       "      <td>...</td>\n",
       "      <td>...</td>\n",
       "      <td>...</td>\n",
       "      <td>...</td>\n",
       "    </tr>\n",
       "    <tr>\n",
       "      <th>35</th>\n",
       "      <td>VIGI</td>\n",
       "      <td>NaN</td>\n",
       "      <td>Economically Sensitive</td>\n",
       "      <td>International Equities</td>\n",
       "      <td>NaN</td>\n",
       "    </tr>\n",
       "    <tr>\n",
       "      <th>36</th>\n",
       "      <td>VNQ</td>\n",
       "      <td>NaN</td>\n",
       "      <td>Economically Sensitive</td>\n",
       "      <td>Publicly Traded REITs</td>\n",
       "      <td>NaN</td>\n",
       "    </tr>\n",
       "    <tr>\n",
       "      <th>37</th>\n",
       "      <td>VO</td>\n",
       "      <td>NaN</td>\n",
       "      <td>Economically Sensitive</td>\n",
       "      <td>U.S. Equities</td>\n",
       "      <td>NaN</td>\n",
       "    </tr>\n",
       "    <tr>\n",
       "      <th>38</th>\n",
       "      <td>VONG</td>\n",
       "      <td>NaN</td>\n",
       "      <td>Economically Sensitive</td>\n",
       "      <td>U.S. Equities</td>\n",
       "      <td>NaN</td>\n",
       "    </tr>\n",
       "    <tr>\n",
       "      <th>39</th>\n",
       "      <td>VTEB</td>\n",
       "      <td>NaN</td>\n",
       "      <td>Interest Rate Sensitive</td>\n",
       "      <td>Very-High-Quality Municipal Bonds</td>\n",
       "      <td>NaN</td>\n",
       "    </tr>\n",
       "  </tbody>\n",
       "</table>\n",
       "<p>40 rows × 5 columns</p>\n",
       "</div>"
      ],
      "text/plain": [
       "     Ticker  Value                    Class  \\\n",
       "0     ALTVX    NaN  Interest Rate Sensitive   \n",
       "1      ARKK    NaN   Economically Sensitive   \n",
       "2     BLUEX    NaN   Economically Sensitive   \n",
       "3     BPLSX    NaN   Economically Sensitive   \n",
       "4   C_A_S_H    NaN                     Cash   \n",
       "..      ...    ...                      ...   \n",
       "35     VIGI    NaN   Economically Sensitive   \n",
       "36      VNQ    NaN   Economically Sensitive   \n",
       "37       VO    NaN   Economically Sensitive   \n",
       "38     VONG    NaN   Economically Sensitive   \n",
       "39     VTEB    NaN  Interest Rate Sensitive   \n",
       "\n",
       "                            Sub_Class  port_percent  \n",
       "0   Very-High-Quality Municipal Bonds           NaN  \n",
       "1                       U.S. Equities           NaN  \n",
       "2                 Long/Short Equities           NaN  \n",
       "3                 Long/Short Equities           NaN  \n",
       "4                                Cash           NaN  \n",
       "..                                ...           ...  \n",
       "35             International Equities           NaN  \n",
       "36              Publicly Traded REITs           NaN  \n",
       "37                      U.S. Equities           NaN  \n",
       "38                      U.S. Equities           NaN  \n",
       "39  Very-High-Quality Municipal Bonds           NaN  \n",
       "\n",
       "[40 rows x 5 columns]"
      ]
     },
     "execution_count": 145,
     "metadata": {},
     "output_type": "execute_result"
    }
   ],
   "source": [
    "weight_df = portValue_df[-1:].T.copy()\n",
    "weight_df.reset_index(inplace=True)\n",
    "weight_df.columns = ['Ticker','Value']\n",
    "\n",
    "weight_df = weight_df.merge(l_df, how='outer', left_on='Ticker', right_on='Ticker')\n",
    "\n",
    "weight_df['port_percent'] = weight_df['Value'] / weight_df['Value'].sum()\n",
    "weight_df"
   ]
  },
  {
   "cell_type": "code",
   "execution_count": 146,
   "id": "619f50de-1a93-4890-b319-c1c8fa019abc",
   "metadata": {
    "tags": []
   },
   "outputs": [],
   "source": [
    "#weight_lst = weight_df['port_percent']"
   ]
  },
  {
   "cell_type": "code",
   "execution_count": null,
   "id": "2a0673c9-8586-4aed-aac3-12e41342fff8",
   "metadata": {},
   "outputs": [],
   "source": []
  },
  {
   "cell_type": "code",
   "execution_count": null,
   "id": "ed29e4c0-5306-409f-87e2-cf18f50172f3",
   "metadata": {},
   "outputs": [],
   "source": []
  },
  {
   "cell_type": "markdown",
   "id": "0109ee84-2892-4fbf-9021-d1ec63eca87a",
   "metadata": {
    "tags": []
   },
   "source": [
    "# 6. Correlation"
   ]
  },
  {
   "cell_type": "markdown",
   "id": "3ec657f1-4670-4952-8d28-0b832ac66249",
   "metadata": {
    "tags": []
   },
   "source": [
    "m_df = merge_df.groupby(['Date','Class'])[['share_value']].sum()\n",
    "m_df['pct_change'] = m_df.groupby(['Class'])[['share_value']].pct_change()\n",
    "m_df.reset_index(inplace=True)\n",
    "m_df = m_df.pivot(index=['Date'], columns=['Class'])['pct_change']\n",
    "m_df"
   ]
  },
  {
   "cell_type": "markdown",
   "id": "79b8f140-d3f4-48ae-9c54-6665d5dbcea0",
   "metadata": {
    "tags": []
   },
   "source": [
    "p_df = m_df.merge(benchPercent_econ_df, how='outer', left_on='Date', right_on='Date') \\\n",
    "            .merge(benchPercent_int_df,how='outer' ,left_on='Date', right_on='Date')\n",
    "p_df.drop(labels=['Date','Cash'], inplace=True, axis=1)\n",
    "p_df.columns = ['Economic','Interest','GSPCX','AGG']\n",
    "p_df"
   ]
  },
  {
   "cell_type": "markdown",
   "id": "eec9e9af-b916-45df-95a3-abf8e649bcc0",
   "metadata": {
    "tags": []
   },
   "source": [
    "plt.figure(figsize=(10,5))\n",
    "mask = np.zeros_like(p_df.corr())\n",
    "mask[np.triu_indices_from(mask)] = True\n",
    "sns.set_style(\"white\")\n",
    "_p = sns.heatmap(p_df.corr().round(2), \n",
    "                 annot=True, mask=mask, \n",
    "                 cmap=\"plasma\", annot_kws={\"size\": 10})"
   ]
  },
  {
   "cell_type": "markdown",
   "id": "1ebde7d5-5022-44b0-8799-e0d52b59865b",
   "metadata": {},
   "source": [
    "# 7. Value at Risk"
   ]
  },
  {
   "cell_type": "markdown",
   "id": "db337d6e-57ab-4308-89fa-7f7771c6ed5c",
   "metadata": {},
   "source": [
    "# 8. Calculate VaR"
   ]
  },
  {
   "cell_type": "code",
   "execution_count": 147,
   "id": "2121bf7e-6787-499c-903e-189d690cdcfc",
   "metadata": {
    "tags": []
   },
   "outputs": [
    {
     "data": {
      "text/plain": [
       "40"
      ]
     },
     "execution_count": 147,
     "metadata": {},
     "output_type": "execute_result"
    }
   ],
   "source": [
    "len(weight_lst)"
   ]
  },
  {
   "cell_type": "code",
   "execution_count": 148,
   "id": "3562b223-a80e-475f-b027-84488f607d3a",
   "metadata": {
    "tags": []
   },
   "outputs": [
    {
     "name": "stdout",
     "output_type": "stream",
     "text": [
      "r_df (422, 40)\n"
     ]
    }
   ],
   "source": [
    "r_df = return_df[1:].copy()\n",
    "print('r_df', r_df.shape)"
   ]
  },
  {
   "cell_type": "markdown",
   "id": "9381db0b-9203-4a88-896f-cd7845aab509",
   "metadata": {
    "tags": []
   },
   "source": [
    "r_df = return_df.drop(labels='Portfolio', axis=1)[1:]\n",
    "print('r_df', r_df.shape)"
   ]
  },
  {
   "cell_type": "code",
   "execution_count": 149,
   "id": "6c27ef10-e6b0-4e86-a8fd-3a822ed29380",
   "metadata": {
    "tags": []
   },
   "outputs": [
    {
     "data": {
      "text/html": [
       "<div>\n",
       "<style scoped>\n",
       "    .dataframe tbody tr th:only-of-type {\n",
       "        vertical-align: middle;\n",
       "    }\n",
       "\n",
       "    .dataframe tbody tr th {\n",
       "        vertical-align: top;\n",
       "    }\n",
       "\n",
       "    .dataframe thead th {\n",
       "        text-align: right;\n",
       "    }\n",
       "</style>\n",
       "<table border=\"1\" class=\"dataframe\">\n",
       "  <thead>\n",
       "    <tr style=\"text-align: right;\">\n",
       "      <th></th>\n",
       "      <th>ALTVX</th>\n",
       "      <th>ARKK</th>\n",
       "      <th>BLUEX</th>\n",
       "      <th>BPLSX</th>\n",
       "      <th>C_A_S_H</th>\n",
       "      <th>DFAR</th>\n",
       "      <th>EXAS</th>\n",
       "      <th>...</th>\n",
       "      <th>VGCAX</th>\n",
       "      <th>VICSX</th>\n",
       "      <th>VIGI</th>\n",
       "      <th>VNQ</th>\n",
       "      <th>VO</th>\n",
       "      <th>VONG</th>\n",
       "      <th>VTEB</th>\n",
       "    </tr>\n",
       "    <tr>\n",
       "      <th>Date</th>\n",
       "      <th></th>\n",
       "      <th></th>\n",
       "      <th></th>\n",
       "      <th></th>\n",
       "      <th></th>\n",
       "      <th></th>\n",
       "      <th></th>\n",
       "      <th></th>\n",
       "      <th></th>\n",
       "      <th></th>\n",
       "      <th></th>\n",
       "      <th></th>\n",
       "      <th></th>\n",
       "      <th></th>\n",
       "      <th></th>\n",
       "    </tr>\n",
       "  </thead>\n",
       "  <tbody>\n",
       "    <tr>\n",
       "      <th>2022-01-04</th>\n",
       "      <td>-0.0009</td>\n",
       "      <td>-0.0443</td>\n",
       "      <td>-0.0034</td>\n",
       "      <td>0.0189</td>\n",
       "      <td>0.0000</td>\n",
       "      <td>0.0000</td>\n",
       "      <td>-0.0185</td>\n",
       "      <td>...</td>\n",
       "      <td>-0.0009</td>\n",
       "      <td>0.0000</td>\n",
       "      <td>-0.0025</td>\n",
       "      <td>-0.0012</td>\n",
       "      <td>-0.0007</td>\n",
       "      <td>-0.0107</td>\n",
       "      <td>0.0000</td>\n",
       "    </tr>\n",
       "    <tr>\n",
       "      <th>2022-01-05</th>\n",
       "      <td>-0.0009</td>\n",
       "      <td>-0.0709</td>\n",
       "      <td>-0.0086</td>\n",
       "      <td>0.0033</td>\n",
       "      <td>0.0000</td>\n",
       "      <td>0.0000</td>\n",
       "      <td>-0.0620</td>\n",
       "      <td>...</td>\n",
       "      <td>-0.0019</td>\n",
       "      <td>-0.0032</td>\n",
       "      <td>-0.0138</td>\n",
       "      <td>-0.0286</td>\n",
       "      <td>-0.0250</td>\n",
       "      <td>-0.0319</td>\n",
       "      <td>-0.0013</td>\n",
       "    </tr>\n",
       "    <tr>\n",
       "      <th>2022-01-06</th>\n",
       "      <td>-0.0019</td>\n",
       "      <td>-0.0063</td>\n",
       "      <td>-0.0005</td>\n",
       "      <td>0.0060</td>\n",
       "      <td>0.0000</td>\n",
       "      <td>0.0000</td>\n",
       "      <td>-0.0060</td>\n",
       "      <td>...</td>\n",
       "      <td>-0.0019</td>\n",
       "      <td>-0.0028</td>\n",
       "      <td>-0.0070</td>\n",
       "      <td>0.0009</td>\n",
       "      <td>0.0026</td>\n",
       "      <td>-0.0021</td>\n",
       "      <td>-0.0011</td>\n",
       "    </tr>\n",
       "    <tr>\n",
       "      <th>2022-01-07</th>\n",
       "      <td>-0.0009</td>\n",
       "      <td>-0.0136</td>\n",
       "      <td>0.0015</td>\n",
       "      <td>0.0013</td>\n",
       "      <td>0.0000</td>\n",
       "      <td>0.0000</td>\n",
       "      <td>0.0142</td>\n",
       "      <td>...</td>\n",
       "      <td>-0.0019</td>\n",
       "      <td>-0.0024</td>\n",
       "      <td>0.0012</td>\n",
       "      <td>-0.0066</td>\n",
       "      <td>-0.0060</td>\n",
       "      <td>-0.0110</td>\n",
       "      <td>-0.0024</td>\n",
       "    </tr>\n",
       "    <tr>\n",
       "      <th>2022-01-10</th>\n",
       "      <td>-0.0028</td>\n",
       "      <td>0.0026</td>\n",
       "      <td>0.0047</td>\n",
       "      <td>0.0007</td>\n",
       "      <td>0.0000</td>\n",
       "      <td>0.0000</td>\n",
       "      <td>-0.0164</td>\n",
       "      <td>...</td>\n",
       "      <td>-0.0009</td>\n",
       "      <td>-0.0016</td>\n",
       "      <td>-0.0087</td>\n",
       "      <td>-0.0058</td>\n",
       "      <td>-0.0033</td>\n",
       "      <td>-0.0008</td>\n",
       "      <td>-0.0020</td>\n",
       "    </tr>\n",
       "    <tr>\n",
       "      <th>...</th>\n",
       "      <td>...</td>\n",
       "      <td>...</td>\n",
       "      <td>...</td>\n",
       "      <td>...</td>\n",
       "      <td>...</td>\n",
       "      <td>...</td>\n",
       "      <td>...</td>\n",
       "      <td>...</td>\n",
       "      <td>...</td>\n",
       "      <td>...</td>\n",
       "      <td>...</td>\n",
       "      <td>...</td>\n",
       "      <td>...</td>\n",
       "      <td>...</td>\n",
       "      <td>...</td>\n",
       "    </tr>\n",
       "    <tr>\n",
       "      <th>2023-09-01</th>\n",
       "      <td>0.0000</td>\n",
       "      <td>-0.0030</td>\n",
       "      <td>-0.0034</td>\n",
       "      <td>0.0067</td>\n",
       "      <td>0.0000</td>\n",
       "      <td>-0.0005</td>\n",
       "      <td>0.0178</td>\n",
       "      <td>...</td>\n",
       "      <td>-0.0038</td>\n",
       "      <td>-0.0052</td>\n",
       "      <td>0.0008</td>\n",
       "      <td>0.0017</td>\n",
       "      <td>0.0050</td>\n",
       "      <td>-0.0008</td>\n",
       "      <td>-0.0030</td>\n",
       "    </tr>\n",
       "    <tr>\n",
       "      <th>2023-09-05</th>\n",
       "      <td>-0.0021</td>\n",
       "      <td>0.0089</td>\n",
       "      <td>-0.0093</td>\n",
       "      <td>-0.0086</td>\n",
       "      <td>0.0000</td>\n",
       "      <td>-0.0113</td>\n",
       "      <td>-0.0289</td>\n",
       "      <td>...</td>\n",
       "      <td>-0.0043</td>\n",
       "      <td>-0.0048</td>\n",
       "      <td>-0.0095</td>\n",
       "      <td>-0.0116</td>\n",
       "      <td>-0.0109</td>\n",
       "      <td>0.0011</td>\n",
       "      <td>-0.0028</td>\n",
       "    </tr>\n",
       "    <tr>\n",
       "      <th>2023-09-06</th>\n",
       "      <td>-0.0011</td>\n",
       "      <td>0.0036</td>\n",
       "      <td>-0.0011</td>\n",
       "      <td>-0.0027</td>\n",
       "      <td>0.0000</td>\n",
       "      <td>-0.0014</td>\n",
       "      <td>-0.0064</td>\n",
       "      <td>...</td>\n",
       "      <td>-0.0016</td>\n",
       "      <td>-0.0029</td>\n",
       "      <td>-0.0016</td>\n",
       "      <td>-0.0021</td>\n",
       "      <td>-0.0011</td>\n",
       "      <td>-0.0092</td>\n",
       "      <td>0.0020</td>\n",
       "    </tr>\n",
       "    <tr>\n",
       "      <th>2023-09-07</th>\n",
       "      <td>-0.0021</td>\n",
       "      <td>-0.0036</td>\n",
       "      <td>0.0037</td>\n",
       "      <td>-0.0040</td>\n",
       "      <td>0.0000</td>\n",
       "      <td>0.0072</td>\n",
       "      <td>-0.0399</td>\n",
       "      <td>...</td>\n",
       "      <td>0.0027</td>\n",
       "      <td>0.0034</td>\n",
       "      <td>0.0005</td>\n",
       "      <td>0.0063</td>\n",
       "      <td>-0.0043</td>\n",
       "      <td>-0.0054</td>\n",
       "      <td>-0.0034</td>\n",
       "    </tr>\n",
       "    <tr>\n",
       "      <th>2023-09-08</th>\n",
       "      <td>0.0011</td>\n",
       "      <td>-0.0075</td>\n",
       "      <td>-0.0031</td>\n",
       "      <td>0.0054</td>\n",
       "      <td>0.0000</td>\n",
       "      <td>-0.0047</td>\n",
       "      <td>-0.0071</td>\n",
       "      <td>...</td>\n",
       "      <td>0.0005</td>\n",
       "      <td>0.0005</td>\n",
       "      <td>-0.0003</td>\n",
       "      <td>-0.0039</td>\n",
       "      <td>-0.0012</td>\n",
       "      <td>0.0014</td>\n",
       "      <td>0.0008</td>\n",
       "    </tr>\n",
       "  </tbody>\n",
       "</table>\n",
       "<p>422 rows × 40 columns</p>\n",
       "</div>"
      ],
      "text/plain": [
       "             ALTVX    ARKK   BLUEX   BPLSX  C_A_S_H    DFAR    EXAS  ...  \\\n",
       "Date                                                                 ...   \n",
       "2022-01-04 -0.0009 -0.0443 -0.0034  0.0189   0.0000  0.0000 -0.0185  ...   \n",
       "2022-01-05 -0.0009 -0.0709 -0.0086  0.0033   0.0000  0.0000 -0.0620  ...   \n",
       "2022-01-06 -0.0019 -0.0063 -0.0005  0.0060   0.0000  0.0000 -0.0060  ...   \n",
       "2022-01-07 -0.0009 -0.0136  0.0015  0.0013   0.0000  0.0000  0.0142  ...   \n",
       "2022-01-10 -0.0028  0.0026  0.0047  0.0007   0.0000  0.0000 -0.0164  ...   \n",
       "...            ...     ...     ...     ...      ...     ...     ...  ...   \n",
       "2023-09-01  0.0000 -0.0030 -0.0034  0.0067   0.0000 -0.0005  0.0178  ...   \n",
       "2023-09-05 -0.0021  0.0089 -0.0093 -0.0086   0.0000 -0.0113 -0.0289  ...   \n",
       "2023-09-06 -0.0011  0.0036 -0.0011 -0.0027   0.0000 -0.0014 -0.0064  ...   \n",
       "2023-09-07 -0.0021 -0.0036  0.0037 -0.0040   0.0000  0.0072 -0.0399  ...   \n",
       "2023-09-08  0.0011 -0.0075 -0.0031  0.0054   0.0000 -0.0047 -0.0071  ...   \n",
       "\n",
       "             VGCAX   VICSX    VIGI     VNQ      VO    VONG    VTEB  \n",
       "Date                                                                \n",
       "2022-01-04 -0.0009  0.0000 -0.0025 -0.0012 -0.0007 -0.0107  0.0000  \n",
       "2022-01-05 -0.0019 -0.0032 -0.0138 -0.0286 -0.0250 -0.0319 -0.0013  \n",
       "2022-01-06 -0.0019 -0.0028 -0.0070  0.0009  0.0026 -0.0021 -0.0011  \n",
       "2022-01-07 -0.0019 -0.0024  0.0012 -0.0066 -0.0060 -0.0110 -0.0024  \n",
       "2022-01-10 -0.0009 -0.0016 -0.0087 -0.0058 -0.0033 -0.0008 -0.0020  \n",
       "...            ...     ...     ...     ...     ...     ...     ...  \n",
       "2023-09-01 -0.0038 -0.0052  0.0008  0.0017  0.0050 -0.0008 -0.0030  \n",
       "2023-09-05 -0.0043 -0.0048 -0.0095 -0.0116 -0.0109  0.0011 -0.0028  \n",
       "2023-09-06 -0.0016 -0.0029 -0.0016 -0.0021 -0.0011 -0.0092  0.0020  \n",
       "2023-09-07  0.0027  0.0034  0.0005  0.0063 -0.0043 -0.0054 -0.0034  \n",
       "2023-09-08  0.0005  0.0005 -0.0003 -0.0039 -0.0012  0.0014  0.0008  \n",
       "\n",
       "[422 rows x 40 columns]"
      ]
     },
     "execution_count": 149,
     "metadata": {},
     "output_type": "execute_result"
    }
   ],
   "source": [
    "r_df"
   ]
  },
  {
   "cell_type": "code",
   "execution_count": 150,
   "id": "d7717837-c6a0-48c8-a68c-dd741f417e8b",
   "metadata": {
    "tags": []
   },
   "outputs": [
    {
     "data": {
      "text/plain": [
       "array([0.0119, 0.0152, 0.0058, 0.0091, 0.0373, 0.0275, 0.0058, 0.034 ,\n",
       "       0.0357, 0.0057, 0.006 , 0.0119, 0.0649, 0.0237, 0.0356, 0.0354,\n",
       "       0.0482, 0.047 , 0.0305, 0.0117, 0.012 , 0.0119, 0.0055, 0.0094,\n",
       "       0.0492, 0.012 , 0.012 , 0.0348, 0.0119, 0.0703, 0.0074, 0.0122,\n",
       "       0.0649, 0.012 , 0.0239, 0.0359, 0.0394, 0.0239, 0.0368, 0.012 ])"
      ]
     },
     "execution_count": 150,
     "metadata": {},
     "output_type": "execute_result"
    }
   ],
   "source": [
    "weight_lst"
   ]
  },
  {
   "cell_type": "code",
   "execution_count": 151,
   "id": "43b2c27d-358c-49a0-8843-046f4ebbf4f9",
   "metadata": {
    "tags": []
   },
   "outputs": [
    {
     "name": "stdout",
     "output_type": "stream",
     "text": [
      "l1:  40 l2:  40 dif:  set()\n"
     ]
    }
   ],
   "source": [
    "l2 = ticker_lst\n",
    "l1 = r_df.columns\n",
    "list_dif = set(l2).symmetric_difference(set(l1))\n",
    "\n",
    "print('l1: ', len(l1), 'l2: ', len(l2), 'dif: ', list_dif)"
   ]
  },
  {
   "cell_type": "code",
   "execution_count": 152,
   "id": "ad45a946-9a15-41af-861a-0dfdefbc9c8e",
   "metadata": {
    "tags": []
   },
   "outputs": [
    {
     "data": {
      "text/plain": [
       "<VaR - μ: -0.03%, σ: 0.8333%, Portfolio σ: 0.8346%>"
      ]
     },
     "execution_count": 152,
     "metadata": {},
     "output_type": "execute_result"
    }
   ],
   "source": [
    "var = VaR(r_df, weight_lst, alpha=[0.05,0.025,0.01])\n",
    "var"
   ]
  },
  {
   "cell_type": "code",
   "execution_count": 153,
   "id": "263ef504-9a5a-412e-9284-26dc29baf7a4",
   "metadata": {
    "tags": []
   },
   "outputs": [
    {
     "data": {
      "text/plain": [
       "{'Daily Mean PnL': -0.00033582022835728883,\n",
       " 'Daily Volatility': 0.008333387346605142,\n",
       " 'Portfolio Volatility': 0.0083457815946157}"
      ]
     },
     "execution_count": 153,
     "metadata": {},
     "output_type": "execute_result"
    }
   ],
   "source": [
    "var.info"
   ]
  },
  {
   "cell_type": "code",
   "execution_count": 154,
   "id": "acc42cc6-87ff-4262-92a3-27067ed4df7b",
   "metadata": {
    "tags": []
   },
   "outputs": [
    {
     "data": {
      "text/html": [
       "<div>\n",
       "<style scoped>\n",
       "    .dataframe tbody tr th:only-of-type {\n",
       "        vertical-align: middle;\n",
       "    }\n",
       "\n",
       "    .dataframe tbody tr th {\n",
       "        vertical-align: top;\n",
       "    }\n",
       "\n",
       "    .dataframe thead th {\n",
       "        text-align: right;\n",
       "    }\n",
       "</style>\n",
       "<table border=\"1\" class=\"dataframe\">\n",
       "  <thead>\n",
       "    <tr style=\"text-align: right;\">\n",
       "      <th></th>\n",
       "      <th>VaR(95.0)</th>\n",
       "      <th>VaR(97.5)</th>\n",
       "      <th>VaR(99.0)</th>\n",
       "      <th>CVaR(95.0)</th>\n",
       "      <th>CVaR(97.5)</th>\n",
       "      <th>CVaR(99.0)</th>\n",
       "      <th>CDaR(95.0)</th>\n",
       "      <th>CDaR(97.5)</th>\n",
       "      <th>CDaR(99.0)</th>\n",
       "    </tr>\n",
       "  </thead>\n",
       "  <tbody>\n",
       "    <tr>\n",
       "      <th>2023-09-08</th>\n",
       "      <td>-0.0136</td>\n",
       "      <td>-0.0164</td>\n",
       "      <td>-0.0206</td>\n",
       "      <td>-0.0178</td>\n",
       "      <td>-0.0206</td>\n",
       "      <td>-0.0242</td>\n",
       "      <td>-0.2131</td>\n",
       "      <td>-0.2190</td>\n",
       "      <td>-0.2227</td>\n",
       "    </tr>\n",
       "  </tbody>\n",
       "</table>\n",
       "</div>"
      ],
      "text/plain": [
       "            VaR(95.0)  VaR(97.5)  VaR(99.0)  CVaR(95.0)  CVaR(97.5)  \\\n",
       "2023-09-08    -0.0136    -0.0164    -0.0206     -0.0178     -0.0206   \n",
       "\n",
       "            CVaR(99.0)  CDaR(95.0)  CDaR(97.5)  CDaR(99.0)  \n",
       "2023-09-08     -0.0242     -0.2131     -0.2190     -0.2227  "
      ]
     },
     "execution_count": 154,
     "metadata": {},
     "output_type": "execute_result"
    }
   ],
   "source": [
    "var.historic()"
   ]
  },
  {
   "cell_type": "code",
   "execution_count": 155,
   "id": "091b18c1-ca7e-4278-92d3-f84f5716a198",
   "metadata": {
    "tags": []
   },
   "outputs": [
    {
     "name": "stdout",
     "output_type": "stream",
     "text": [
      "VaR(95.0): -1.3630910887459549\n",
      "Portfolio VaR(95.0) -1164354.9144947897\n"
     ]
    }
   ],
   "source": [
    "print('VaR(95.0):', var.historic()['VaR(95.0)'][0]*100)\n",
    "print('Portfolio VaR(95.0)', var.historic()['VaR(95.0)'][0]*portfolio_total)"
   ]
  },
  {
   "cell_type": "code",
   "execution_count": 156,
   "id": "aa7cef9d-0211-4287-8146-78cd75d934ca",
   "metadata": {
    "tags": []
   },
   "outputs": [
    {
     "data": {
      "text/html": [
       "<div>\n",
       "<style scoped>\n",
       "    .dataframe tbody tr th:only-of-type {\n",
       "        vertical-align: middle;\n",
       "    }\n",
       "\n",
       "    .dataframe tbody tr th {\n",
       "        vertical-align: top;\n",
       "    }\n",
       "\n",
       "    .dataframe thead th {\n",
       "        text-align: right;\n",
       "    }\n",
       "</style>\n",
       "<table border=\"1\" class=\"dataframe\">\n",
       "  <thead>\n",
       "    <tr style=\"text-align: right;\">\n",
       "      <th></th>\n",
       "      <th>VaR(95.0)</th>\n",
       "      <th>VaR(97.5)</th>\n",
       "      <th>VaR(99.0)</th>\n",
       "      <th>CVaR(95.0)</th>\n",
       "      <th>CVaR(97.5)</th>\n",
       "      <th>CVaR(99.0)</th>\n",
       "      <th>CDaR(95.0)</th>\n",
       "      <th>CDaR(97.5)</th>\n",
       "      <th>CDaR(99.0)</th>\n",
       "    </tr>\n",
       "  </thead>\n",
       "  <tbody>\n",
       "    <tr>\n",
       "      <th>2023-09-08</th>\n",
       "      <td>-0.0278</td>\n",
       "      <td>-0.0294</td>\n",
       "      <td>-0.0314</td>\n",
       "      <td>-0.0316</td>\n",
       "      <td>-0.0316</td>\n",
       "      <td>-0.0316</td>\n",
       "      <td>-0.2131</td>\n",
       "      <td>-0.2190</td>\n",
       "      <td>-0.2227</td>\n",
       "    </tr>\n",
       "  </tbody>\n",
       "</table>\n",
       "</div>"
      ],
      "text/plain": [
       "            VaR(95.0)  VaR(97.5)  VaR(99.0)  CVaR(95.0)  CVaR(97.5)  \\\n",
       "2023-09-08    -0.0278    -0.0294    -0.0314     -0.0316     -0.0316   \n",
       "\n",
       "            CVaR(99.0)  CDaR(95.0)  CDaR(97.5)  CDaR(99.0)  \n",
       "2023-09-08     -0.0316     -0.2131     -0.2190     -0.2227  "
      ]
     },
     "execution_count": 156,
     "metadata": {},
     "output_type": "execute_result"
    }
   ],
   "source": [
    "var.parametric()"
   ]
  },
  {
   "cell_type": "code",
   "execution_count": 157,
   "id": "1e16b716-ca6c-4c72-881d-1b41e83cd034",
   "metadata": {
    "tags": []
   },
   "outputs": [
    {
     "name": "stdout",
     "output_type": "stream",
     "text": [
      "VaR(95.0): -2.77978376606333\n",
      "Portfolio VaR(95.0) -2374496.4045113074\n"
     ]
    }
   ],
   "source": [
    "print('VaR(95.0):', var.parametric()['VaR(95.0)'][0]*100)\n",
    "print('Portfolio VaR(95.0)', var.parametric()['VaR(95.0)'][0]*portfolio_total)"
   ]
  },
  {
   "cell_type": "code",
   "execution_count": 158,
   "id": "1afd77b8-9bc7-4b4c-bde9-cc70ebeb5d99",
   "metadata": {
    "tags": []
   },
   "outputs": [
    {
     "data": {
      "text/html": [
       "<div>\n",
       "<style scoped>\n",
       "    .dataframe tbody tr th:only-of-type {\n",
       "        vertical-align: middle;\n",
       "    }\n",
       "\n",
       "    .dataframe tbody tr th {\n",
       "        vertical-align: top;\n",
       "    }\n",
       "\n",
       "    .dataframe thead th {\n",
       "        text-align: right;\n",
       "    }\n",
       "</style>\n",
       "<table border=\"1\" class=\"dataframe\">\n",
       "  <thead>\n",
       "    <tr style=\"text-align: right;\">\n",
       "      <th></th>\n",
       "      <th>VaR(95.0)</th>\n",
       "      <th>VaR(97.5)</th>\n",
       "      <th>VaR(99.0)</th>\n",
       "      <th>CVaR(95.0)</th>\n",
       "      <th>CVaR(97.5)</th>\n",
       "      <th>CVaR(99.0)</th>\n",
       "      <th>CDaR(95.0)</th>\n",
       "      <th>CDaR(97.5)</th>\n",
       "      <th>CDaR(99.0)</th>\n",
       "    </tr>\n",
       "  </thead>\n",
       "  <tbody>\n",
       "    <tr>\n",
       "      <th>2023-09-08</th>\n",
       "      <td>-0.0140</td>\n",
       "      <td>-0.0166</td>\n",
       "      <td>-0.0198</td>\n",
       "      <td>-0.0175</td>\n",
       "      <td>-0.0198</td>\n",
       "      <td>-0.0226</td>\n",
       "      <td>-0.2131</td>\n",
       "      <td>-0.2190</td>\n",
       "      <td>-0.2227</td>\n",
       "    </tr>\n",
       "  </tbody>\n",
       "</table>\n",
       "</div>"
      ],
      "text/plain": [
       "            VaR(95.0)  VaR(97.5)  VaR(99.0)  CVaR(95.0)  CVaR(97.5)  \\\n",
       "2023-09-08    -0.0140    -0.0166    -0.0198     -0.0175     -0.0198   \n",
       "\n",
       "            CVaR(99.0)  CDaR(95.0)  CDaR(97.5)  CDaR(99.0)  \n",
       "2023-09-08     -0.0226     -0.2131     -0.2190     -0.2227  "
      ]
     },
     "execution_count": 158,
     "metadata": {},
     "output_type": "execute_result"
    }
   ],
   "source": [
    "var.monte_carlo()"
   ]
  },
  {
   "cell_type": "code",
   "execution_count": 159,
   "id": "7ff7e759-1ed5-4178-b5de-560dbd935ed4",
   "metadata": {
    "tags": []
   },
   "outputs": [
    {
     "name": "stdout",
     "output_type": "stream",
     "text": [
      "VaR(95.0): -1.3994636664108746\n",
      "Portfolio VaR(95.0) -1203064.9961496072\n"
     ]
    }
   ],
   "source": [
    "print('VaR(95.0):', var.monte_carlo()['VaR(95.0)'][0]*100)\n",
    "print('Portfolio VaR(95.0)', var.monte_carlo()['VaR(95.0)'][0]*portfolio_total)"
   ]
  },
  {
   "cell_type": "code",
   "execution_count": 160,
   "id": "b1294c3a-1678-4284-874d-002ed527da08",
   "metadata": {
    "tags": []
   },
   "outputs": [
    {
     "name": "stdout",
     "output_type": "stream",
     "text": [
      "l1:  40 l2:  40 dif:  set()\n"
     ]
    }
   ],
   "source": [
    "l2 = list(folio_df['Ticker'])\n",
    "l1 = r_df.columns\n",
    "list_dif = set(l2).symmetric_difference(set(l1))\n",
    "\n",
    "\n",
    "print('l1: ', len(l1), 'l2: ', len(l2), 'dif: ', list_dif)"
   ]
  },
  {
   "cell_type": "code",
   "execution_count": 161,
   "id": "dd090ac9-d7e7-4cdf-a479-86a98811168e",
   "metadata": {
    "tags": []
   },
   "outputs": [
    {
     "data": {
      "text/plain": [
       "<VaR - μ: -0.03%, σ: 0.8333%, Portfolio σ: 0.8346%>"
      ]
     },
     "execution_count": 161,
     "metadata": {},
     "output_type": "execute_result"
    }
   ],
   "source": [
    "var = VaR(r_df, weight_lst, alpha=[0.05,0.025,0.01])\n",
    "#var = VaR(r_df, weight_lst, alpha=0.05)\n",
    "var"
   ]
  },
  {
   "cell_type": "code",
   "execution_count": 162,
   "id": "4d58a8f6-f342-4dd7-a2cf-abc1ffab1309",
   "metadata": {
    "tags": []
   },
   "outputs": [
    {
     "data": {
      "text/plain": [
       "{'Daily Mean PnL': -0.00033582022835728883,\n",
       " 'Daily Volatility': 0.008333387346605142,\n",
       " 'Portfolio Volatility': 0.0083457815946157}"
      ]
     },
     "execution_count": 162,
     "metadata": {},
     "output_type": "execute_result"
    }
   ],
   "source": [
    "var.info"
   ]
  },
  {
   "cell_type": "code",
   "execution_count": 163,
   "id": "49075bd3-0e2d-4dd3-803d-9883adc25f89",
   "metadata": {
    "tags": []
   },
   "outputs": [
    {
     "data": {
      "text/html": [
       "<div>\n",
       "<style scoped>\n",
       "    .dataframe tbody tr th:only-of-type {\n",
       "        vertical-align: middle;\n",
       "    }\n",
       "\n",
       "    .dataframe tbody tr th {\n",
       "        vertical-align: top;\n",
       "    }\n",
       "\n",
       "    .dataframe thead th {\n",
       "        text-align: right;\n",
       "    }\n",
       "</style>\n",
       "<table border=\"1\" class=\"dataframe\">\n",
       "  <thead>\n",
       "    <tr style=\"text-align: right;\">\n",
       "      <th></th>\n",
       "      <th>VaR(95.0)</th>\n",
       "      <th>VaR(97.5)</th>\n",
       "      <th>VaR(99.0)</th>\n",
       "      <th>CVaR(95.0)</th>\n",
       "      <th>CVaR(97.5)</th>\n",
       "      <th>CVaR(99.0)</th>\n",
       "      <th>CDaR(95.0)</th>\n",
       "      <th>CDaR(97.5)</th>\n",
       "      <th>CDaR(99.0)</th>\n",
       "    </tr>\n",
       "  </thead>\n",
       "  <tbody>\n",
       "    <tr>\n",
       "      <th>2023-09-08</th>\n",
       "      <td>-0.0136</td>\n",
       "      <td>-0.0164</td>\n",
       "      <td>-0.0206</td>\n",
       "      <td>-0.0178</td>\n",
       "      <td>-0.0206</td>\n",
       "      <td>-0.0242</td>\n",
       "      <td>-0.2131</td>\n",
       "      <td>-0.2190</td>\n",
       "      <td>-0.2227</td>\n",
       "    </tr>\n",
       "  </tbody>\n",
       "</table>\n",
       "</div>"
      ],
      "text/plain": [
       "            VaR(95.0)  VaR(97.5)  VaR(99.0)  CVaR(95.0)  CVaR(97.5)  \\\n",
       "2023-09-08    -0.0136    -0.0164    -0.0206     -0.0178     -0.0206   \n",
       "\n",
       "            CVaR(99.0)  CDaR(95.0)  CDaR(97.5)  CDaR(99.0)  \n",
       "2023-09-08     -0.0242     -0.2131     -0.2190     -0.2227  "
      ]
     },
     "execution_count": 163,
     "metadata": {},
     "output_type": "execute_result"
    }
   ],
   "source": [
    "var.historic()"
   ]
  },
  {
   "cell_type": "code",
   "execution_count": 164,
   "id": "a1868512-e7b5-4eec-8b3f-ee0e2b174603",
   "metadata": {
    "tags": []
   },
   "outputs": [
    {
     "name": "stdout",
     "output_type": "stream",
     "text": [
      "VaR(95.0): -1.3630910887459549\n",
      "Portfolio VaR(95.0) -1164354.9144947897\n"
     ]
    }
   ],
   "source": [
    "print('VaR(95.0):', var.historic()['VaR(95.0)'][0]*100)\n",
    "print('Portfolio VaR(95.0)', var.historic()['VaR(95.0)'][0]*portfolio_total)"
   ]
  },
  {
   "cell_type": "code",
   "execution_count": 165,
   "id": "7cbe2f30-8ba7-480d-9de4-bb076469ede1",
   "metadata": {
    "tags": []
   },
   "outputs": [
    {
     "data": {
      "text/html": [
       "<div>\n",
       "<style scoped>\n",
       "    .dataframe tbody tr th:only-of-type {\n",
       "        vertical-align: middle;\n",
       "    }\n",
       "\n",
       "    .dataframe tbody tr th {\n",
       "        vertical-align: top;\n",
       "    }\n",
       "\n",
       "    .dataframe thead th {\n",
       "        text-align: right;\n",
       "    }\n",
       "</style>\n",
       "<table border=\"1\" class=\"dataframe\">\n",
       "  <thead>\n",
       "    <tr style=\"text-align: right;\">\n",
       "      <th></th>\n",
       "      <th>VaR(95.0)</th>\n",
       "      <th>VaR(97.5)</th>\n",
       "      <th>VaR(99.0)</th>\n",
       "      <th>CVaR(95.0)</th>\n",
       "      <th>CVaR(97.5)</th>\n",
       "      <th>CVaR(99.0)</th>\n",
       "      <th>CDaR(95.0)</th>\n",
       "      <th>CDaR(97.5)</th>\n",
       "      <th>CDaR(99.0)</th>\n",
       "    </tr>\n",
       "  </thead>\n",
       "  <tbody>\n",
       "    <tr>\n",
       "      <th>2023-09-08</th>\n",
       "      <td>-0.0278</td>\n",
       "      <td>-0.0294</td>\n",
       "      <td>-0.0314</td>\n",
       "      <td>-0.0316</td>\n",
       "      <td>-0.0316</td>\n",
       "      <td>-0.0316</td>\n",
       "      <td>-0.2131</td>\n",
       "      <td>-0.2190</td>\n",
       "      <td>-0.2227</td>\n",
       "    </tr>\n",
       "  </tbody>\n",
       "</table>\n",
       "</div>"
      ],
      "text/plain": [
       "            VaR(95.0)  VaR(97.5)  VaR(99.0)  CVaR(95.0)  CVaR(97.5)  \\\n",
       "2023-09-08    -0.0278    -0.0294    -0.0314     -0.0316     -0.0316   \n",
       "\n",
       "            CVaR(99.0)  CDaR(95.0)  CDaR(97.5)  CDaR(99.0)  \n",
       "2023-09-08     -0.0316     -0.2131     -0.2190     -0.2227  "
      ]
     },
     "execution_count": 165,
     "metadata": {},
     "output_type": "execute_result"
    }
   ],
   "source": [
    "var.parametric()"
   ]
  },
  {
   "cell_type": "code",
   "execution_count": 166,
   "id": "07b65747-ead5-439a-8efd-77d2fdedbe5f",
   "metadata": {
    "tags": []
   },
   "outputs": [
    {
     "name": "stdout",
     "output_type": "stream",
     "text": [
      "VaR(95.0): -2.77978376606333\n",
      "Portfolio VaR(95.0) -2374496.4045113074\n"
     ]
    }
   ],
   "source": [
    "print('VaR(95.0):', var.parametric()['VaR(95.0)'][0]*100)\n",
    "print('Portfolio VaR(95.0)', var.parametric()['VaR(95.0)'][0]*portfolio_total)"
   ]
  },
  {
   "cell_type": "code",
   "execution_count": 167,
   "id": "c0aab5fd-6487-4a4a-9c5d-833d8128e81d",
   "metadata": {
    "tags": []
   },
   "outputs": [
    {
     "data": {
      "text/html": [
       "<div>\n",
       "<style scoped>\n",
       "    .dataframe tbody tr th:only-of-type {\n",
       "        vertical-align: middle;\n",
       "    }\n",
       "\n",
       "    .dataframe tbody tr th {\n",
       "        vertical-align: top;\n",
       "    }\n",
       "\n",
       "    .dataframe thead th {\n",
       "        text-align: right;\n",
       "    }\n",
       "</style>\n",
       "<table border=\"1\" class=\"dataframe\">\n",
       "  <thead>\n",
       "    <tr style=\"text-align: right;\">\n",
       "      <th></th>\n",
       "      <th>VaR(95.0)</th>\n",
       "      <th>VaR(97.5)</th>\n",
       "      <th>VaR(99.0)</th>\n",
       "      <th>CVaR(95.0)</th>\n",
       "      <th>CVaR(97.5)</th>\n",
       "      <th>CVaR(99.0)</th>\n",
       "      <th>CDaR(95.0)</th>\n",
       "      <th>CDaR(97.5)</th>\n",
       "      <th>CDaR(99.0)</th>\n",
       "    </tr>\n",
       "  </thead>\n",
       "  <tbody>\n",
       "    <tr>\n",
       "      <th>2023-09-08</th>\n",
       "      <td>-0.0141</td>\n",
       "      <td>-0.0167</td>\n",
       "      <td>-0.0200</td>\n",
       "      <td>-0.0176</td>\n",
       "      <td>-0.0200</td>\n",
       "      <td>-0.0227</td>\n",
       "      <td>-0.2131</td>\n",
       "      <td>-0.2190</td>\n",
       "      <td>-0.2227</td>\n",
       "    </tr>\n",
       "  </tbody>\n",
       "</table>\n",
       "</div>"
      ],
      "text/plain": [
       "            VaR(95.0)  VaR(97.5)  VaR(99.0)  CVaR(95.0)  CVaR(97.5)  \\\n",
       "2023-09-08    -0.0141    -0.0167    -0.0200     -0.0176     -0.0200   \n",
       "\n",
       "            CVaR(99.0)  CDaR(95.0)  CDaR(97.5)  CDaR(99.0)  \n",
       "2023-09-08     -0.0227     -0.2131     -0.2190     -0.2227  "
      ]
     },
     "execution_count": 167,
     "metadata": {},
     "output_type": "execute_result"
    }
   ],
   "source": [
    "var.monte_carlo()"
   ]
  },
  {
   "cell_type": "code",
   "execution_count": 168,
   "id": "f6246f70-fde0-4a2b-a49d-75334cd4e62c",
   "metadata": {
    "tags": []
   },
   "outputs": [
    {
     "name": "stdout",
     "output_type": "stream",
     "text": [
      "VaR(95.0): -1.402052625790757\n",
      "Portfolio VaR(95.0) -1194765.0355175678\n"
     ]
    }
   ],
   "source": [
    "print('VaR(95.0):', var.monte_carlo()['VaR(95.0)'][0]*100)\n",
    "print('Portfolio VaR(95.0)', var.monte_carlo()['VaR(95.0)'][0]*portfolio_total)"
   ]
  },
  {
   "cell_type": "code",
   "execution_count": 169,
   "id": "95227b2c-9c6f-4ff8-bac2-a9b3103225e1",
   "metadata": {
    "tags": []
   },
   "outputs": [
    {
     "data": {
      "text/html": [
       "<div>\n",
       "<style scoped>\n",
       "    .dataframe tbody tr th:only-of-type {\n",
       "        vertical-align: middle;\n",
       "    }\n",
       "\n",
       "    .dataframe tbody tr th {\n",
       "        vertical-align: top;\n",
       "    }\n",
       "\n",
       "    .dataframe thead th {\n",
       "        text-align: right;\n",
       "    }\n",
       "</style>\n",
       "<table border=\"1\" class=\"dataframe\">\n",
       "  <thead>\n",
       "    <tr style=\"text-align: right;\">\n",
       "      <th></th>\n",
       "      <th>VaR(95.0)</th>\n",
       "      <th>VaR(97.5)</th>\n",
       "      <th>VaR(99.0)</th>\n",
       "      <th>CVaR(95.0)</th>\n",
       "      <th>CVaR(97.5)</th>\n",
       "      <th>CVaR(99.0)</th>\n",
       "      <th>CDaR(95.0)</th>\n",
       "      <th>CDaR(97.5)</th>\n",
       "      <th>CDaR(99.0)</th>\n",
       "    </tr>\n",
       "  </thead>\n",
       "  <tbody>\n",
       "    <tr>\n",
       "      <th>2023-09-08</th>\n",
       "      <td>-0.0203</td>\n",
       "      <td>-0.0219</td>\n",
       "      <td>-0.0235</td>\n",
       "      <td>-0.0223</td>\n",
       "      <td>-0.0235</td>\n",
       "      <td>-0.0248</td>\n",
       "      <td>-0.5450</td>\n",
       "      <td>-0.5476</td>\n",
       "      <td>-0.5494</td>\n",
       "    </tr>\n",
       "  </tbody>\n",
       "</table>\n",
       "</div>"
      ],
      "text/plain": [
       "            VaR(95.0)  VaR(97.5)  VaR(99.0)  CVaR(95.0)  CVaR(97.5)  \\\n",
       "2023-09-08    -0.0203    -0.0219    -0.0235     -0.0223     -0.0235   \n",
       "\n",
       "            CVaR(99.0)  CDaR(95.0)  CDaR(97.5)  CDaR(99.0)  \n",
       "2023-09-08     -0.0248     -0.5450     -0.5476     -0.5494  "
      ]
     },
     "execution_count": 169,
     "metadata": {},
     "output_type": "execute_result"
    }
   ],
   "source": [
    "var.monte_carlo(stressed=True)"
   ]
  },
  {
   "cell_type": "markdown",
   "id": "dc000a27-e5da-474c-89f7-b8aa09e2a228",
   "metadata": {},
   "source": [
    "# Backtest"
   ]
  },
  {
   "cell_type": "code",
   "execution_count": 170,
   "id": "7b68e43b-fbeb-434d-bf67-a846dd226e6d",
   "metadata": {
    "tags": []
   },
   "outputs": [
    {
     "name": "stderr",
     "output_type": "stream",
     "text": [
      "Backtest: Historic Method: 100%|██████████| 172/172 [00:00<00:00, 380.20it/s]\n"
     ]
    }
   ],
   "source": [
    "bth = var.backtest(method='h')"
   ]
  },
  {
   "cell_type": "code",
   "execution_count": 171,
   "id": "59c08583-dd7e-4f00-b2a0-043ea4675f8d",
   "metadata": {},
   "outputs": [
    {
     "data": {
      "text/html": [
       "<div>\n",
       "<style scoped>\n",
       "    .dataframe tbody tr th:only-of-type {\n",
       "        vertical-align: middle;\n",
       "    }\n",
       "\n",
       "    .dataframe tbody tr th {\n",
       "        vertical-align: top;\n",
       "    }\n",
       "\n",
       "    .dataframe thead th {\n",
       "        text-align: right;\n",
       "    }\n",
       "</style>\n",
       "<table border=\"1\" class=\"dataframe\">\n",
       "  <thead>\n",
       "    <tr style=\"text-align: right;\">\n",
       "      <th></th>\n",
       "      <th>Amount</th>\n",
       "      <th>Percent</th>\n",
       "      <th>Mean Deviation</th>\n",
       "      <th>STD Deviation</th>\n",
       "      <th>Min Deviation</th>\n",
       "      <th>Max Deviation</th>\n",
       "    </tr>\n",
       "  </thead>\n",
       "  <tbody>\n",
       "    <tr>\n",
       "      <th>Observations</th>\n",
       "      <td>172</td>\n",
       "      <td>1</td>\n",
       "      <td>0</td>\n",
       "      <td>0</td>\n",
       "      <td>0</td>\n",
       "      <td>0</td>\n",
       "    </tr>\n",
       "    <tr>\n",
       "      <th>VaR(95.0)</th>\n",
       "      <td>0</td>\n",
       "      <td>0.0000</td>\n",
       "      <td>0</td>\n",
       "      <td>0</td>\n",
       "      <td>0</td>\n",
       "      <td>0</td>\n",
       "    </tr>\n",
       "    <tr>\n",
       "      <th>VaR(99.0)</th>\n",
       "      <td>0</td>\n",
       "      <td>0.0000</td>\n",
       "      <td>0</td>\n",
       "      <td>0</td>\n",
       "      <td>0</td>\n",
       "      <td>0</td>\n",
       "    </tr>\n",
       "    <tr>\n",
       "      <th>CVaR(95.0)</th>\n",
       "      <td>0</td>\n",
       "      <td>0.0000</td>\n",
       "      <td>0</td>\n",
       "      <td>0</td>\n",
       "      <td>0</td>\n",
       "      <td>0</td>\n",
       "    </tr>\n",
       "    <tr>\n",
       "      <th>CVaR(99.0)</th>\n",
       "      <td>0</td>\n",
       "      <td>0.0000</td>\n",
       "      <td>0</td>\n",
       "      <td>0</td>\n",
       "      <td>0</td>\n",
       "      <td>0</td>\n",
       "    </tr>\n",
       "    <tr>\n",
       "      <th>CDaR(95.0)</th>\n",
       "      <td>0</td>\n",
       "      <td>0.0000</td>\n",
       "      <td>0</td>\n",
       "      <td>0</td>\n",
       "      <td>0</td>\n",
       "      <td>0</td>\n",
       "    </tr>\n",
       "    <tr>\n",
       "      <th>CDaR(99.0)</th>\n",
       "      <td>0</td>\n",
       "      <td>0.0000</td>\n",
       "      <td>0</td>\n",
       "      <td>0</td>\n",
       "      <td>0</td>\n",
       "      <td>0</td>\n",
       "    </tr>\n",
       "  </tbody>\n",
       "</table>\n",
       "</div>"
      ],
      "text/plain": [
       "             Amount Percent Mean Deviation STD Deviation Min Deviation  \\\n",
       "Observations    172       1              0             0             0   \n",
       "VaR(95.0)         0  0.0000              0             0             0   \n",
       "VaR(99.0)         0  0.0000              0             0             0   \n",
       "CVaR(95.0)        0  0.0000              0             0             0   \n",
       "CVaR(99.0)        0  0.0000              0             0             0   \n",
       "CDaR(95.0)        0  0.0000              0             0             0   \n",
       "CDaR(99.0)        0  0.0000              0             0             0   \n",
       "\n",
       "             Max Deviation  \n",
       "Observations             0  \n",
       "VaR(95.0)                0  \n",
       "VaR(99.0)                0  \n",
       "CVaR(95.0)               0  \n",
       "CVaR(99.0)               0  \n",
       "CDaR(95.0)               0  \n",
       "CDaR(99.0)               0  "
      ]
     },
     "execution_count": 171,
     "metadata": {},
     "output_type": "execute_result"
    }
   ],
   "source": [
    "var.evaluate(bth)"
   ]
  },
  {
   "cell_type": "code",
   "execution_count": 172,
   "id": "ac676191-de22-4827-8d29-44282b6f04f0",
   "metadata": {
    "tags": []
   },
   "outputs": [
    {
     "data": {
      "image/png": "[encoded data removed]",
      "text/plain": [
       "<Figure size 1400x400 with 1 Axes>"
      ]
     },
     "metadata": {},
     "output_type": "display_data"
    }
   ],
   "source": [
    "var.var_plot(bth)"
   ]
  },
  {
   "cell_type": "code",
   "execution_count": 173,
   "id": "dd4eb6f2-376e-4159-9be5-8237fe8c23ac",
   "metadata": {
    "tags": []
   },
   "outputs": [
    {
     "data": {
      "image/png": "[encoded data removed]",
      "text/plain": [
       "<Figure size 1400x400 with 1 Axes>"
      ]
     },
     "metadata": {},
     "output_type": "display_data"
    }
   ],
   "source": [
    "var.cvar_plot(bth)"
   ]
  },
  {
   "cell_type": "code",
   "execution_count": 174,
   "id": "efd1ae2f-b79c-4341-8a23-c38e37b28a21",
   "metadata": {
    "tags": []
   },
   "outputs": [
    {
     "data": {
      "image/png": "[encoded data removed]",
      "text/plain": [
       "<Figure size 1400x400 with 1 Axes>"
      ]
     },
     "metadata": {},
     "output_type": "display_data"
    }
   ],
   "source": [
    "var.cdar_plot(bth)"
   ]
  }
 ],
 "metadata": {
  "kernelspec": {
   "display_name": "Python 3 (ipykernel)",
   "language": "python",
   "name": "python3"
  },
  "language_info": {
   "codemirror_mode": {
    "name": "ipython",
    "version": 3
   },
   "file_extension": ".py",
   "mimetype": "text/x-python",
   "name": "python",
   "nbconvert_exporter": "python",
   "pygments_lexer": "ipython3",
   "version": "3.10.12"
  }
 },
 "nbformat": 4,
 "nbformat_minor": 5
}
