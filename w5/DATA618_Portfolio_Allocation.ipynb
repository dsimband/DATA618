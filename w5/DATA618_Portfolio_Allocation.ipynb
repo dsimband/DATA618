{
 "cells": [
  {
   "cell_type": "code",
   "execution_count": 61,
   "id": "22cf1bac-41b6-4567-9602-8d6f54775c91",
   "metadata": {},
   "outputs": [],
   "source": [
    "import pandas as pd\n",
    "import numpy as np\n",
    "\n",
    "# Graph\n",
    "import matplotlib.pyplot as plt\n",
    "import plotly.express as px\n",
    "import seaborn as sns\n",
    "\n",
    "import random\n",
    "\n",
    "#import plotly.io as pio\n",
    "#pio.renderers.default = \"browser\""
   ]
  },
  {
   "cell_type": "code",
   "execution_count": 62,
   "id": "398293b7-4a41-4868-aa84-aa665b21e0c2",
   "metadata": {},
   "outputs": [],
   "source": [
    "random.seed(321)"
   ]
  },
  {
   "cell_type": "markdown",
   "id": "e5b72785-a779-4740-aa11-ee4a8a853941",
   "metadata": {
    "jp-MarkdownHeadingCollapsed": true,
    "tags": []
   },
   "source": [
    "# Assignment week3 - Weekly Tasks Weekly Tasks\n",
    "\n",
    "- Use a random number generator to select one of the defined scenarios as the basis of your portfolio.\n",
    "- Allocate the investable resources to specific investable assets at current market value.\n",
    "- Document and submit the random number generator that you used and the resource allocation that you made. (Remember presentation is important.) and submit for grading (150 pts.) "
   ]
  },
  {
   "cell_type": "markdown",
   "id": "2ea12d74-0c09-4a87-a390-3fd3a0b2cead",
   "metadata": {},
   "source": [
    "# Random Number Generation"
   ]
  },
  {
   "cell_type": "code",
   "execution_count": 63,
   "id": "7141d006-cc08-4699-b36e-bc932ccdfd80",
   "metadata": {},
   "outputs": [],
   "source": [
    "def generate_random_numbers(n):\n",
    "    random_numbers = [random.randint(1, 5) for _ in range(n)]\n",
    "    return random_numbers"
   ]
  },
  {
   "cell_type": "code",
   "execution_count": 64,
   "id": "6c1eeb4b-ec87-4d8f-ac68-c5b1d7e996ab",
   "metadata": {
    "tags": []
   },
   "outputs": [
    {
     "name": "stdout",
     "output_type": "stream",
     "text": [
      "[3]\n"
     ]
    }
   ],
   "source": [
    "num_of_numbers = 1  # Change this to the desired number of random numbers\n",
    "random_numbers = generate_random_numbers(num_of_numbers)\n",
    "print(random_numbers)"
   ]
  },
  {
   "cell_type": "markdown",
   "id": "b0fe8069-3f6a-414e-822d-d6dc7d5d8182",
   "metadata": {
    "tags": []
   },
   "source": [
    "# Senario 3\n",
    "You are a 40-year-old divorcee. You own a successful business and have recently received an 8 Million Dollars buyout offer from a competitor that you want to accept. Your remaining assets are stocks of companies that are your suppliers valued today at 1.2 Million Dollars and cash in several accounts totaling 62,000.\n",
    "\n",
    "## Assumptions\n",
    "- Assume income over 492,301 \n",
    "- Net proceeds from sale 5,455,640\n",
    "\n",
    "https://www.1031gateway.com/capital-gains-tax-calculator/"
   ]
  },
  {
   "cell_type": "markdown",
   "id": "cef62062-881d-4314-ace6-0d1a8f86f428",
   "metadata": {},
   "source": [
    "# Portfolio\n",
    "The paper by Whitwell and Villalta titled Asset Class Taxonomy: A New Construct For Assessing Balance In Portfolios is used to define the portfolio allocation. Although the paper does not go into detail regarding recommended allocations for risk profiles I based the analysis loosely on a 60/40 portfolio. The resulting Mutual Fund / ETF fund based portfolio was constructed using the the google finance API for google sheets =GOOGLEFINANCE(B6, \"price\")"
   ]
  },
  {
   "cell_type": "markdown",
   "id": "d4591e90-781e-47db-bdbd-92b4f29cbbb3",
   "metadata": {
    "tags": []
   },
   "source": [
    "df = pd.read_csv('https://raw.githubusercontent.com/dsimband/DATA618/main/data/portfolio_w3.csv',\n",
    "                dtype = {'Value':int}\n",
    "                )\n",
    "df"
   ]
  },
  {
   "cell_type": "code",
   "execution_count": 65,
   "id": "183dda8f-f8f9-4f94-8728-23f2c5c55390",
   "metadata": {
    "tags": []
   },
   "outputs": [
    {
     "data": {
      "text/html": [
       "<div>\n",
       "<style scoped>\n",
       "    .dataframe tbody tr th:only-of-type {\n",
       "        vertical-align: middle;\n",
       "    }\n",
       "\n",
       "    .dataframe tbody tr th {\n",
       "        vertical-align: top;\n",
       "    }\n",
       "\n",
       "    .dataframe thead th {\n",
       "        text-align: right;\n",
       "    }\n",
       "</style>\n",
       "<table border=\"1\" class=\"dataframe\">\n",
       "  <thead>\n",
       "    <tr style=\"text-align: right;\">\n",
       "      <th></th>\n",
       "      <th>ID</th>\n",
       "      <th>Ticker</th>\n",
       "      <th>BondName</th>\n",
       "      <th>Morningstar_Category</th>\n",
       "      <th>Class</th>\n",
       "      <th>Sub_Class</th>\n",
       "      <th>Price</th>\n",
       "      <th>Shares</th>\n",
       "      <th>Value</th>\n",
       "    </tr>\n",
       "  </thead>\n",
       "  <tbody>\n",
       "    <tr>\n",
       "      <th>0</th>\n",
       "      <td>1</td>\n",
       "      <td>IVV</td>\n",
       "      <td>iShares Core S&amp;P 500 ETF</td>\n",
       "      <td>Large Blend</td>\n",
       "      <td>Economically Sensitive Exposures</td>\n",
       "      <td>U.S. Equities</td>\n",
       "      <td>450.90</td>\n",
       "      <td>8871</td>\n",
       "      <td>4000.0</td>\n",
       "    </tr>\n",
       "    <tr>\n",
       "      <th>1</th>\n",
       "      <td>2</td>\n",
       "      <td>VONG</td>\n",
       "      <td>Vanguard Russell 1000 Growth ETF</td>\n",
       "      <td>Large Growth</td>\n",
       "      <td>Economically Sensitive Exposures</td>\n",
       "      <td>U.S. Equities</td>\n",
       "      <td>72.42</td>\n",
       "      <td>41425</td>\n",
       "      <td>3000.0</td>\n",
       "    </tr>\n",
       "    <tr>\n",
       "      <th>2</th>\n",
       "      <td>3</td>\n",
       "      <td>SCHD</td>\n",
       "      <td>Schwab US Dividend Equity ETF™</td>\n",
       "      <td>Large Value</td>\n",
       "      <td>Economically Sensitive Exposures</td>\n",
       "      <td>U.S. Equities</td>\n",
       "      <td>73.78</td>\n",
       "      <td>40661</td>\n",
       "      <td>3000.0</td>\n",
       "    </tr>\n",
       "    <tr>\n",
       "      <th>4</th>\n",
       "      <td>5</td>\n",
       "      <td>IMCB</td>\n",
       "      <td>iShares Morningstar Mid-Cap ETF</td>\n",
       "      <td>Mid-Cap Blend</td>\n",
       "      <td>Economically Sensitive Exposures</td>\n",
       "      <td>U.S. Equities</td>\n",
       "      <td>62.33</td>\n",
       "      <td>64175</td>\n",
       "      <td>4000.0</td>\n",
       "    </tr>\n",
       "    <tr>\n",
       "      <th>5</th>\n",
       "      <td>6</td>\n",
       "      <td>VO</td>\n",
       "      <td>Vanguard Mid-Cap ETF</td>\n",
       "      <td>Mid-Cap Blend</td>\n",
       "      <td>Economically Sensitive Exposures</td>\n",
       "      <td>U.S. Equities</td>\n",
       "      <td>217.38</td>\n",
       "      <td>9200</td>\n",
       "      <td>2000.0</td>\n",
       "    </tr>\n",
       "    <tr>\n",
       "      <th>7</th>\n",
       "      <td>8</td>\n",
       "      <td>FSMD</td>\n",
       "      <td>Fidelity® Small-Mid Multifactor ETF</td>\n",
       "      <td>Small Blend</td>\n",
       "      <td>Economically Sensitive Exposures</td>\n",
       "      <td>U.S. Equities</td>\n",
       "      <td>33.26</td>\n",
       "      <td>120265</td>\n",
       "      <td>4000.0</td>\n",
       "    </tr>\n",
       "    <tr>\n",
       "      <th>8</th>\n",
       "      <td>9</td>\n",
       "      <td>VBR</td>\n",
       "      <td>Vanguard Small-Cap Value ETF</td>\n",
       "      <td>Small Value</td>\n",
       "      <td>Economically Sensitive Exposures</td>\n",
       "      <td>U.S. Equities</td>\n",
       "      <td>164.28</td>\n",
       "      <td>6087</td>\n",
       "      <td>1000.0</td>\n",
       "    </tr>\n",
       "    <tr>\n",
       "      <th>9</th>\n",
       "      <td>10</td>\n",
       "      <td>VIGI</td>\n",
       "      <td>Vanguard Intl Div Apprec ETF</td>\n",
       "      <td>Foreign Large Growth</td>\n",
       "      <td>Economically Sensitive Exposures</td>\n",
       "      <td>International Equities</td>\n",
       "      <td>74.29</td>\n",
       "      <td>40382</td>\n",
       "      <td>3000.0</td>\n",
       "    </tr>\n",
       "    <tr>\n",
       "      <th>10</th>\n",
       "      <td>11</td>\n",
       "      <td>JPEM</td>\n",
       "      <td>JPMorgan Diversified Return EMkts Eq ETF</td>\n",
       "      <td>Diversified Emerging Mkts</td>\n",
       "      <td>Economically Sensitive Exposures</td>\n",
       "      <td>Emerging Market Equities</td>\n",
       "      <td>51.74</td>\n",
       "      <td>77310</td>\n",
       "      <td>4000.0</td>\n",
       "    </tr>\n",
       "    <tr>\n",
       "      <th>11</th>\n",
       "      <td>12</td>\n",
       "      <td>ISCF</td>\n",
       "      <td>iShares MSCI Intl Small-Cap Mltfct ETF</td>\n",
       "      <td>Foreign Small/Mid Blend</td>\n",
       "      <td>Economically Sensitive Exposures</td>\n",
       "      <td>International Equities</td>\n",
       "      <td>30.61</td>\n",
       "      <td>98007</td>\n",
       "      <td>3000.0</td>\n",
       "    </tr>\n",
       "    <tr>\n",
       "      <th>12</th>\n",
       "      <td>13</td>\n",
       "      <td>IGRO</td>\n",
       "      <td>iShares International Dividend Gr ETF</td>\n",
       "      <td>Foreign Large Blend</td>\n",
       "      <td>Economically Sensitive Exposures</td>\n",
       "      <td>International Equities</td>\n",
       "      <td>27.60</td>\n",
       "      <td>72464</td>\n",
       "      <td>2000.0</td>\n",
       "    </tr>\n",
       "    <tr>\n",
       "      <th>13</th>\n",
       "      <td>14</td>\n",
       "      <td>VNQ</td>\n",
       "      <td>Vanguard Real Estate ETF</td>\n",
       "      <td>Vanguard Real Estate Index</td>\n",
       "      <td>Economically Sensitive Exposures</td>\n",
       "      <td>Publicly Traded REITs</td>\n",
       "      <td>81.59</td>\n",
       "      <td>9192</td>\n",
       "      <td>750.0</td>\n",
       "    </tr>\n",
       "    <tr>\n",
       "      <th>14</th>\n",
       "      <td>15</td>\n",
       "      <td>DFAR</td>\n",
       "      <td>Dimensional US Real Estate ETF</td>\n",
       "      <td>NaN</td>\n",
       "      <td>Economically Sensitive Exposures</td>\n",
       "      <td>Publicly Traded REITs</td>\n",
       "      <td>20.96</td>\n",
       "      <td>35782</td>\n",
       "      <td>750.0</td>\n",
       "    </tr>\n",
       "    <tr>\n",
       "      <th>15</th>\n",
       "      <td>16</td>\n",
       "      <td>FREL</td>\n",
       "      <td>Fidelity® MSCI Real Estate ETF</td>\n",
       "      <td>NaN</td>\n",
       "      <td>Economically Sensitive Exposures</td>\n",
       "      <td>Publicly Traded REITs</td>\n",
       "      <td>24.47</td>\n",
       "      <td>20433</td>\n",
       "      <td>500.0</td>\n",
       "    </tr>\n",
       "    <tr>\n",
       "      <th>16</th>\n",
       "      <td>17</td>\n",
       "      <td>JPRE</td>\n",
       "      <td>JPMorgan Realty Income ETF]</td>\n",
       "      <td>NaN</td>\n",
       "      <td>Economically Sensitive Exposures</td>\n",
       "      <td>Publicly Traded REITs</td>\n",
       "      <td>41.52</td>\n",
       "      <td>12042</td>\n",
       "      <td>500.0</td>\n",
       "    </tr>\n",
       "    <tr>\n",
       "      <th>17</th>\n",
       "      <td>18</td>\n",
       "      <td>MMIN</td>\n",
       "      <td>IQ MacKay Municipal Insured ETF</td>\n",
       "      <td>Muni National Long</td>\n",
       "      <td>Interest Rate Sensitive Exposures</td>\n",
       "      <td>Very-High-Quality Municipal Bonds</td>\n",
       "      <td>23.50</td>\n",
       "      <td>42553</td>\n",
       "      <td>1000.0</td>\n",
       "    </tr>\n",
       "    <tr>\n",
       "      <th>19</th>\n",
       "      <td>20</td>\n",
       "      <td>MEAR</td>\n",
       "      <td>iShares Short Maturity Municipal Bd ETF</td>\n",
       "      <td>Muni National Short</td>\n",
       "      <td>Interest Rate Sensitive Exposures</td>\n",
       "      <td>Very-High-Quality Municipal Bonds</td>\n",
       "      <td>49.85</td>\n",
       "      <td>20060</td>\n",
       "      <td>1000.0</td>\n",
       "    </tr>\n",
       "    <tr>\n",
       "      <th>21</th>\n",
       "      <td>22</td>\n",
       "      <td>MMIT</td>\n",
       "      <td>IQ MacKay Municipal Intermediate ETF</td>\n",
       "      <td>Muni National Interm</td>\n",
       "      <td>Interest Rate Sensitive Exposures</td>\n",
       "      <td>Very-High-Quality Municipal Bonds</td>\n",
       "      <td>23.94</td>\n",
       "      <td>41771</td>\n",
       "      <td>1000.0</td>\n",
       "    </tr>\n",
       "    <tr>\n",
       "      <th>23</th>\n",
       "      <td>24</td>\n",
       "      <td>SNDPX</td>\n",
       "      <td>AB Diversified Municipal</td>\n",
       "      <td>Muni National Short</td>\n",
       "      <td>Interest Rate Sensitive Exposures</td>\n",
       "      <td>Very-High-Quality Municipal Bonds</td>\n",
       "      <td>13.60</td>\n",
       "      <td>73529</td>\n",
       "      <td>1000.0</td>\n",
       "    </tr>\n",
       "    <tr>\n",
       "      <th>25</th>\n",
       "      <td>26</td>\n",
       "      <td>ALTVX</td>\n",
       "      <td>AB Municipal Income National Advisor</td>\n",
       "      <td>Muni National Interm</td>\n",
       "      <td>Interest Rate Sensitive Exposures</td>\n",
       "      <td>Very-High-Quality Municipal Bonds</td>\n",
       "      <td>9.40</td>\n",
       "      <td>106383</td>\n",
       "      <td>1000.0</td>\n",
       "    </tr>\n",
       "    <tr>\n",
       "      <th>26</th>\n",
       "      <td>27</td>\n",
       "      <td>IGMWX</td>\n",
       "      <td>Voya GNMA Income W</td>\n",
       "      <td>Intermediate Government</td>\n",
       "      <td>Interest Rate Sensitive Exposures</td>\n",
       "      <td>U.S. Government Bonds</td>\n",
       "      <td>7.20</td>\n",
       "      <td>763889</td>\n",
       "      <td>5500.0</td>\n",
       "    </tr>\n",
       "    <tr>\n",
       "      <th>27</th>\n",
       "      <td>28</td>\n",
       "      <td>VFIUX</td>\n",
       "      <td>Vanguard Interm-Term Treasury Adm</td>\n",
       "      <td>Intermediate Government</td>\n",
       "      <td>Interest Rate Sensitive Exposures</td>\n",
       "      <td>U.S. Government Bonds</td>\n",
       "      <td>9.71</td>\n",
       "      <td>566426</td>\n",
       "      <td>5500.0</td>\n",
       "    </tr>\n",
       "    <tr>\n",
       "      <th>28</th>\n",
       "      <td>29</td>\n",
       "      <td>VICSX</td>\n",
       "      <td>Vanguard Interm-Term Corp Bd Idx Admiral</td>\n",
       "      <td>Corporate Bond</td>\n",
       "      <td>Interest Rate Sensitive Exposures</td>\n",
       "      <td>Very-High-Quality Corporate Bonds</td>\n",
       "      <td>20.85</td>\n",
       "      <td>47962</td>\n",
       "      <td>1000.0</td>\n",
       "    </tr>\n",
       "    <tr>\n",
       "      <th>29</th>\n",
       "      <td>30</td>\n",
       "      <td>VGCAX</td>\n",
       "      <td>Vanguard Global Credit Bond Admiral</td>\n",
       "      <td>Corporate Bond</td>\n",
       "      <td>Interest Rate Sensitive Exposures</td>\n",
       "      <td>Very-High-Quality Corporate Bonds</td>\n",
       "      <td>18.37</td>\n",
       "      <td>54437</td>\n",
       "      <td>1000.0</td>\n",
       "    </tr>\n",
       "    <tr>\n",
       "      <th>30</th>\n",
       "      <td>31</td>\n",
       "      <td>PSAIX</td>\n",
       "      <td>PIMCO Global Advantage Strategy Bd Instl</td>\n",
       "      <td>Global Bond</td>\n",
       "      <td>Interest Rate Sensitive Exposures</td>\n",
       "      <td>Very-High-Quality Corporate Bonds</td>\n",
       "      <td>9.67</td>\n",
       "      <td>103413</td>\n",
       "      <td>1000.0</td>\n",
       "    </tr>\n",
       "    <tr>\n",
       "      <th>31</th>\n",
       "      <td>32</td>\n",
       "      <td>PFRAX</td>\n",
       "      <td>PIMCO International Bond (USD-Hdg) Adm</td>\n",
       "      <td>Global Bond-USD Hedged</td>\n",
       "      <td>Interest Rate Sensitive Exposures</td>\n",
       "      <td>Very-High-Quality Corporate Bonds</td>\n",
       "      <td>9.45</td>\n",
       "      <td>105820</td>\n",
       "      <td>1000.0</td>\n",
       "    </tr>\n",
       "    <tr>\n",
       "      <th>32</th>\n",
       "      <td>33</td>\n",
       "      <td>SWRSX</td>\n",
       "      <td>Schwab Treasury Infl Protected Secs Idx</td>\n",
       "      <td>Inflation-Protected Bond</td>\n",
       "      <td>Interest Rate Sensitive Exposures</td>\n",
       "      <td>U.S. Government Bonds</td>\n",
       "      <td>10.13</td>\n",
       "      <td>592300</td>\n",
       "      <td>6000.0</td>\n",
       "    </tr>\n",
       "    <tr>\n",
       "      <th>33</th>\n",
       "      <td>34</td>\n",
       "      <td>VICSX</td>\n",
       "      <td>Vanguard Interm-Term Corp Bd Idx Admiral</td>\n",
       "      <td>Corporate Bond</td>\n",
       "      <td>Interest Rate Sensitive Exposures</td>\n",
       "      <td>Very-High-Quality Corporate Bonds</td>\n",
       "      <td>20.85</td>\n",
       "      <td>47962</td>\n",
       "      <td>1000.0</td>\n",
       "    </tr>\n",
       "    <tr>\n",
       "      <th>34</th>\n",
       "      <td>35</td>\n",
       "      <td>ICBFX</td>\n",
       "      <td>Invesco Corporate Bond R6</td>\n",
       "      <td>Corporate Bond</td>\n",
       "      <td>Interest Rate Sensitive Exposures</td>\n",
       "      <td>Very-High-Quality Corporate Bonds</td>\n",
       "      <td>6.01</td>\n",
       "      <td>166389</td>\n",
       "      <td>1000.0</td>\n",
       "    </tr>\n",
       "    <tr>\n",
       "      <th>35</th>\n",
       "      <td>36</td>\n",
       "      <td>VTEB</td>\n",
       "      <td>Vanguard Tax-Exempt Bond ETF</td>\n",
       "      <td>municipal bonds</td>\n",
       "      <td>Interest Rate Sensitive Exposures</td>\n",
       "      <td>Very-High-Quality Municipal Bonds</td>\n",
       "      <td>49.18</td>\n",
       "      <td>20333</td>\n",
       "      <td>1000.0</td>\n",
       "    </tr>\n",
       "    <tr>\n",
       "      <th>36</th>\n",
       "      <td>37</td>\n",
       "      <td>PEX</td>\n",
       "      <td>ProShares Global Listed Private Equity</td>\n",
       "      <td>private equity index</td>\n",
       "      <td>Economically Sensitive Exposures</td>\n",
       "      <td>Private Equity</td>\n",
       "      <td>0.22</td>\n",
       "      <td>19090909</td>\n",
       "      <td>4200.0</td>\n",
       "    </tr>\n",
       "    <tr>\n",
       "      <th>37</th>\n",
       "      <td>38</td>\n",
       "      <td>VNQ</td>\n",
       "      <td>Vanguard Real Estate ETF</td>\n",
       "      <td>NaN</td>\n",
       "      <td>Economically Sensitive Exposures</td>\n",
       "      <td>Private Real Estate</td>\n",
       "      <td>81.59</td>\n",
       "      <td>30641</td>\n",
       "      <td>2500.0</td>\n",
       "    </tr>\n",
       "    <tr>\n",
       "      <th>38</th>\n",
       "      <td>39</td>\n",
       "      <td>FREL</td>\n",
       "      <td>Fidelity® MSCI Real Estate ETF</td>\n",
       "      <td>NaN</td>\n",
       "      <td>Economically Sensitive Exposures</td>\n",
       "      <td>Private Real Estate</td>\n",
       "      <td>24.47</td>\n",
       "      <td>93993</td>\n",
       "      <td>2300.0</td>\n",
       "    </tr>\n",
       "    <tr>\n",
       "      <th>39</th>\n",
       "      <td>40</td>\n",
       "      <td>JPRE</td>\n",
       "      <td>JPMorgan Realty Income ETF</td>\n",
       "      <td>NaN</td>\n",
       "      <td>Economically Sensitive Exposures</td>\n",
       "      <td>Private Real Estate</td>\n",
       "      <td>41.52</td>\n",
       "      <td>48170</td>\n",
       "      <td>2000.0</td>\n",
       "    </tr>\n",
       "    <tr>\n",
       "      <th>40</th>\n",
       "      <td>41</td>\n",
       "      <td>DFAR</td>\n",
       "      <td>Dimensional US Real Estate ETF</td>\n",
       "      <td>NaN</td>\n",
       "      <td>Economically Sensitive Exposures</td>\n",
       "      <td>Private Real Estate</td>\n",
       "      <td>20.96</td>\n",
       "      <td>71565</td>\n",
       "      <td>1500.0</td>\n",
       "    </tr>\n",
       "    <tr>\n",
       "      <th>41</th>\n",
       "      <td>42</td>\n",
       "      <td>BPLSX</td>\n",
       "      <td>Boston Partners Long/Short Equity Instl</td>\n",
       "      <td>NaN</td>\n",
       "      <td>Economically Sensitive Exposures</td>\n",
       "      <td>Long/Short Equities</td>\n",
       "      <td>15.01</td>\n",
       "      <td>49967</td>\n",
       "      <td>750.0</td>\n",
       "    </tr>\n",
       "    <tr>\n",
       "      <th>42</th>\n",
       "      <td>43</td>\n",
       "      <td>GARIX</td>\n",
       "      <td>Gotham Absolute Return Institutional</td>\n",
       "      <td>NaN</td>\n",
       "      <td>Economically Sensitive Exposures</td>\n",
       "      <td>Long/Short Equities</td>\n",
       "      <td>19.78</td>\n",
       "      <td>25278</td>\n",
       "      <td>500.0</td>\n",
       "    </tr>\n",
       "    <tr>\n",
       "      <th>43</th>\n",
       "      <td>44</td>\n",
       "      <td>GCHDX</td>\n",
       "      <td>Gotham Hedged Core Institutional</td>\n",
       "      <td>NaN</td>\n",
       "      <td>Economically Sensitive Exposures</td>\n",
       "      <td>Long/Short Equities</td>\n",
       "      <td>10.82</td>\n",
       "      <td>46211</td>\n",
       "      <td>500.0</td>\n",
       "    </tr>\n",
       "    <tr>\n",
       "      <th>44</th>\n",
       "      <td>45</td>\n",
       "      <td>BLUEX</td>\n",
       "      <td>AMG Veritas Global Real Return I</td>\n",
       "      <td>NaN</td>\n",
       "      <td>Economically Sensitive Exposures</td>\n",
       "      <td>Long/Short Equities</td>\n",
       "      <td>35.21</td>\n",
       "      <td>14201</td>\n",
       "      <td>500.0</td>\n",
       "    </tr>\n",
       "    <tr>\n",
       "      <th>45</th>\n",
       "      <td>46</td>\n",
       "      <td>CASH</td>\n",
       "      <td>Cash</td>\n",
       "      <td>NaN</td>\n",
       "      <td>Cash</td>\n",
       "      <td>Cash</td>\n",
       "      <td>1.00</td>\n",
       "      <td>4469</td>\n",
       "      <td>4469.0</td>\n",
       "    </tr>\n",
       "  </tbody>\n",
       "</table>\n",
       "</div>"
      ],
      "text/plain": [
       "    ID Ticker                                  BondName  \\\n",
       "0    1    IVV                  iShares Core S&P 500 ETF   \n",
       "1    2   VONG          Vanguard Russell 1000 Growth ETF   \n",
       "2    3   SCHD            Schwab US Dividend Equity ETF™   \n",
       "4    5   IMCB           iShares Morningstar Mid-Cap ETF   \n",
       "5    6     VO                      Vanguard Mid-Cap ETF   \n",
       "7    8   FSMD       Fidelity® Small-Mid Multifactor ETF   \n",
       "8    9    VBR              Vanguard Small-Cap Value ETF   \n",
       "9   10   VIGI              Vanguard Intl Div Apprec ETF   \n",
       "10  11   JPEM  JPMorgan Diversified Return EMkts Eq ETF   \n",
       "11  12   ISCF    iShares MSCI Intl Small-Cap Mltfct ETF   \n",
       "12  13   IGRO     iShares International Dividend Gr ETF   \n",
       "13  14    VNQ                  Vanguard Real Estate ETF   \n",
       "14  15   DFAR            Dimensional US Real Estate ETF   \n",
       "15  16   FREL            Fidelity® MSCI Real Estate ETF   \n",
       "16  17   JPRE               JPMorgan Realty Income ETF]   \n",
       "17  18   MMIN           IQ MacKay Municipal Insured ETF   \n",
       "19  20   MEAR   iShares Short Maturity Municipal Bd ETF   \n",
       "21  22   MMIT      IQ MacKay Municipal Intermediate ETF   \n",
       "23  24  SNDPX                  AB Diversified Municipal   \n",
       "25  26  ALTVX      AB Municipal Income National Advisor   \n",
       "26  27  IGMWX                        Voya GNMA Income W   \n",
       "27  28  VFIUX         Vanguard Interm-Term Treasury Adm   \n",
       "28  29  VICSX  Vanguard Interm-Term Corp Bd Idx Admiral   \n",
       "29  30  VGCAX       Vanguard Global Credit Bond Admiral   \n",
       "30  31  PSAIX  PIMCO Global Advantage Strategy Bd Instl   \n",
       "31  32  PFRAX    PIMCO International Bond (USD-Hdg) Adm   \n",
       "32  33  SWRSX   Schwab Treasury Infl Protected Secs Idx   \n",
       "33  34  VICSX  Vanguard Interm-Term Corp Bd Idx Admiral   \n",
       "34  35  ICBFX                 Invesco Corporate Bond R6   \n",
       "35  36   VTEB              Vanguard Tax-Exempt Bond ETF   \n",
       "36  37    PEX    ProShares Global Listed Private Equity   \n",
       "37  38    VNQ                  Vanguard Real Estate ETF   \n",
       "38  39   FREL            Fidelity® MSCI Real Estate ETF   \n",
       "39  40   JPRE                JPMorgan Realty Income ETF   \n",
       "40  41   DFAR            Dimensional US Real Estate ETF   \n",
       "41  42  BPLSX  Boston Partners Long/Short Equity Instl    \n",
       "42  43  GARIX      Gotham Absolute Return Institutional   \n",
       "43  44  GCHDX          Gotham Hedged Core Institutional   \n",
       "44  45  BLUEX          AMG Veritas Global Real Return I   \n",
       "45  46   CASH                                      Cash   \n",
       "\n",
       "          Morningstar_Category                              Class  \\\n",
       "0                  Large Blend   Economically Sensitive Exposures   \n",
       "1                 Large Growth   Economically Sensitive Exposures   \n",
       "2                  Large Value   Economically Sensitive Exposures   \n",
       "4                Mid-Cap Blend   Economically Sensitive Exposures   \n",
       "5                Mid-Cap Blend   Economically Sensitive Exposures   \n",
       "7                  Small Blend   Economically Sensitive Exposures   \n",
       "8                  Small Value   Economically Sensitive Exposures   \n",
       "9         Foreign Large Growth   Economically Sensitive Exposures   \n",
       "10   Diversified Emerging Mkts   Economically Sensitive Exposures   \n",
       "11     Foreign Small/Mid Blend   Economically Sensitive Exposures   \n",
       "12         Foreign Large Blend   Economically Sensitive Exposures   \n",
       "13  Vanguard Real Estate Index   Economically Sensitive Exposures   \n",
       "14                         NaN   Economically Sensitive Exposures   \n",
       "15                         NaN   Economically Sensitive Exposures   \n",
       "16                         NaN   Economically Sensitive Exposures   \n",
       "17          Muni National Long  Interest Rate Sensitive Exposures   \n",
       "19         Muni National Short  Interest Rate Sensitive Exposures   \n",
       "21        Muni National Interm  Interest Rate Sensitive Exposures   \n",
       "23         Muni National Short  Interest Rate Sensitive Exposures   \n",
       "25        Muni National Interm  Interest Rate Sensitive Exposures   \n",
       "26     Intermediate Government  Interest Rate Sensitive Exposures   \n",
       "27     Intermediate Government  Interest Rate Sensitive Exposures   \n",
       "28              Corporate Bond  Interest Rate Sensitive Exposures   \n",
       "29              Corporate Bond  Interest Rate Sensitive Exposures   \n",
       "30                 Global Bond  Interest Rate Sensitive Exposures   \n",
       "31      Global Bond-USD Hedged  Interest Rate Sensitive Exposures   \n",
       "32    Inflation-Protected Bond  Interest Rate Sensitive Exposures   \n",
       "33              Corporate Bond  Interest Rate Sensitive Exposures   \n",
       "34              Corporate Bond  Interest Rate Sensitive Exposures   \n",
       "35             municipal bonds  Interest Rate Sensitive Exposures   \n",
       "36        private equity index   Economically Sensitive Exposures   \n",
       "37                         NaN   Economically Sensitive Exposures   \n",
       "38                         NaN   Economically Sensitive Exposures   \n",
       "39                         NaN   Economically Sensitive Exposures   \n",
       "40                         NaN   Economically Sensitive Exposures   \n",
       "41                         NaN   Economically Sensitive Exposures   \n",
       "42                         NaN   Economically Sensitive Exposures   \n",
       "43                         NaN   Economically Sensitive Exposures   \n",
       "44                         NaN   Economically Sensitive Exposures   \n",
       "45                         NaN                               Cash   \n",
       "\n",
       "                             Sub_Class   Price    Shares   Value  \n",
       "0                       U.S. Equities   450.90      8871  4000.0  \n",
       "1                       U.S. Equities    72.42     41425  3000.0  \n",
       "2                       U.S. Equities    73.78     40661  3000.0  \n",
       "4                       U.S. Equities    62.33     64175  4000.0  \n",
       "5                       U.S. Equities   217.38      9200  2000.0  \n",
       "7                       U.S. Equities    33.26    120265  4000.0  \n",
       "8                       U.S. Equities   164.28      6087  1000.0  \n",
       "9              International Equities    74.29     40382  3000.0  \n",
       "10           Emerging Market Equities    51.74     77310  4000.0  \n",
       "11             International Equities    30.61     98007  3000.0  \n",
       "12             International Equities    27.60     72464  2000.0  \n",
       "13              Publicly Traded REITs    81.59      9192   750.0  \n",
       "14              Publicly Traded REITs    20.96     35782   750.0  \n",
       "15              Publicly Traded REITs    24.47     20433   500.0  \n",
       "16              Publicly Traded REITs    41.52     12042   500.0  \n",
       "17   Very-High-Quality Municipal Bonds   23.50     42553  1000.0  \n",
       "19   Very-High-Quality Municipal Bonds   49.85     20060  1000.0  \n",
       "21   Very-High-Quality Municipal Bonds   23.94     41771  1000.0  \n",
       "23   Very-High-Quality Municipal Bonds   13.60     73529  1000.0  \n",
       "25   Very-High-Quality Municipal Bonds    9.40    106383  1000.0  \n",
       "26              U.S. Government Bonds     7.20    763889  5500.0  \n",
       "27              U.S. Government Bonds     9.71    566426  5500.0  \n",
       "28  Very-High-Quality Corporate Bonds    20.85     47962  1000.0  \n",
       "29  Very-High-Quality Corporate Bonds    18.37     54437  1000.0  \n",
       "30  Very-High-Quality Corporate Bonds     9.67    103413  1000.0  \n",
       "31  Very-High-Quality Corporate Bonds     9.45    105820  1000.0  \n",
       "32              U.S. Government Bonds    10.13    592300  6000.0  \n",
       "33  Very-High-Quality Corporate Bonds    20.85     47962  1000.0  \n",
       "34  Very-High-Quality Corporate Bonds     6.01    166389  1000.0  \n",
       "35   Very-High-Quality Municipal Bonds   49.18     20333  1000.0  \n",
       "36                     Private Equity     0.22  19090909  4200.0  \n",
       "37                 Private Real Estate   81.59     30641  2500.0  \n",
       "38                 Private Real Estate   24.47     93993  2300.0  \n",
       "39                 Private Real Estate   41.52     48170  2000.0  \n",
       "40                 Private Real Estate   20.96     71565  1500.0  \n",
       "41                Long/Short Equities    15.01     49967   750.0  \n",
       "42                Long/Short Equities    19.78     25278   500.0  \n",
       "43                Long/Short Equities    10.82     46211   500.0  \n",
       "44                Long/Short Equities    35.21     14201   500.0  \n",
       "45                                Cash    1.00      4469  4469.0  "
      ]
     },
     "execution_count": 65,
     "metadata": {},
     "output_type": "execute_result"
    }
   ],
   "source": [
    "df = pd.read_csv('./data/DATA618_w5_Portfolio.csv')\n",
    "df = df[df['Shares'] > 0]\n",
    "df['Value'].fillna(0, inplace=True)\n",
    "df['Class'].fillna('Other', inplace=True)\n",
    "df"
   ]
  },
  {
   "cell_type": "code",
   "execution_count": 66,
   "id": "14e97c2b-3945-4483-a97e-bf234f1641ff",
   "metadata": {
    "tags": []
   },
   "outputs": [
    {
     "name": "stdout",
     "output_type": "stream",
     "text": [
      "<class 'pandas.core.frame.DataFrame'>\n",
      "Index: 40 entries, 0 to 45\n",
      "Data columns (total 9 columns):\n",
      " #   Column                Non-Null Count  Dtype  \n",
      "---  ------                --------------  -----  \n",
      " 0   ID                    40 non-null     int64  \n",
      " 1   Ticker                40 non-null     object \n",
      " 2   BondName              40 non-null     object \n",
      " 3   Morningstar_Category  28 non-null     object \n",
      " 4   Class                 40 non-null     object \n",
      " 5   Sub_Class             40 non-null     object \n",
      " 6   Price                 40 non-null     float64\n",
      " 7   Shares                40 non-null     int64  \n",
      " 8   Value                 40 non-null     float64\n",
      "dtypes: float64(2), int64(2), object(5)\n",
      "memory usage: 3.1+ KB\n"
     ]
    }
   ],
   "source": [
    "df.info()"
   ]
  },
  {
   "cell_type": "markdown",
   "id": "4b328ec7-fa1c-4dca-8860-135fd630da4b",
   "metadata": {},
   "source": [
    "## Asset Allocation by Class and Sub Class"
   ]
  },
  {
   "cell_type": "code",
   "execution_count": 67,
   "id": "3a3c9d04-3b90-443e-bc26-15670c02899a",
   "metadata": {
    "tags": []
   },
   "outputs": [
    {
     "data": {
      "text/html": [
       "<div>\n",
       "<style scoped>\n",
       "    .dataframe tbody tr th:only-of-type {\n",
       "        vertical-align: middle;\n",
       "    }\n",
       "\n",
       "    .dataframe tbody tr th {\n",
       "        vertical-align: top;\n",
       "    }\n",
       "\n",
       "    .dataframe thead th {\n",
       "        text-align: right;\n",
       "    }\n",
       "</style>\n",
       "<table border=\"1\" class=\"dataframe\">\n",
       "  <thead>\n",
       "    <tr style=\"text-align: right;\">\n",
       "      <th></th>\n",
       "      <th></th>\n",
       "      <th>Value</th>\n",
       "    </tr>\n",
       "    <tr>\n",
       "      <th>Class</th>\n",
       "      <th>Sub_Class</th>\n",
       "      <th></th>\n",
       "    </tr>\n",
       "  </thead>\n",
       "  <tbody>\n",
       "    <tr>\n",
       "      <th>Cash</th>\n",
       "      <th>Cash</th>\n",
       "      <td>4469.0</td>\n",
       "    </tr>\n",
       "    <tr>\n",
       "      <th rowspan=\"7\" valign=\"top\">Economically Sensitive Exposures</th>\n",
       "      <th>Emerging Market Equities</th>\n",
       "      <td>4000.0</td>\n",
       "    </tr>\n",
       "    <tr>\n",
       "      <th>International Equities</th>\n",
       "      <td>8000.0</td>\n",
       "    </tr>\n",
       "    <tr>\n",
       "      <th>Long/Short Equities</th>\n",
       "      <td>2250.0</td>\n",
       "    </tr>\n",
       "    <tr>\n",
       "      <th>Private Equity</th>\n",
       "      <td>4200.0</td>\n",
       "    </tr>\n",
       "    <tr>\n",
       "      <th>Private Real Estate</th>\n",
       "      <td>8300.0</td>\n",
       "    </tr>\n",
       "    <tr>\n",
       "      <th>Publicly Traded REITs</th>\n",
       "      <td>2500.0</td>\n",
       "    </tr>\n",
       "    <tr>\n",
       "      <th>U.S. Equities</th>\n",
       "      <td>21000.0</td>\n",
       "    </tr>\n",
       "    <tr>\n",
       "      <th rowspan=\"3\" valign=\"top\">Interest Rate Sensitive Exposures</th>\n",
       "      <th>U.S. Government Bonds</th>\n",
       "      <td>17000.0</td>\n",
       "    </tr>\n",
       "    <tr>\n",
       "      <th>Very-High-Quality Corporate Bonds</th>\n",
       "      <td>6000.0</td>\n",
       "    </tr>\n",
       "    <tr>\n",
       "      <th>Very-High-Quality Municipal Bonds</th>\n",
       "      <td>6000.0</td>\n",
       "    </tr>\n",
       "  </tbody>\n",
       "</table>\n",
       "</div>"
      ],
      "text/plain": [
       "                                                                        Value\n",
       "Class                             Sub_Class                                  \n",
       "Cash                              Cash                                 4469.0\n",
       "Economically Sensitive Exposures  Emerging Market Equities             4000.0\n",
       "                                  International Equities               8000.0\n",
       "                                  Long/Short Equities                  2250.0\n",
       "                                  Private Equity                       4200.0\n",
       "                                  Private Real Estate                  8300.0\n",
       "                                  Publicly Traded REITs                2500.0\n",
       "                                  U.S. Equities                       21000.0\n",
       "Interest Rate Sensitive Exposures U.S. Government Bonds               17000.0\n",
       "                                  Very-High-Quality Corporate Bonds    6000.0\n",
       "                                  Very-High-Quality Municipal Bonds    6000.0"
      ]
     },
     "execution_count": 67,
     "metadata": {},
     "output_type": "execute_result"
    }
   ],
   "source": [
    "sum_df = df.groupby(['Class','Sub_Class'])['Value'].sum()\n",
    "sum_df = pd.DataFrame(sum_df)\n",
    "sum_df"
   ]
  },
  {
   "cell_type": "code",
   "execution_count": 68,
   "id": "a08075ca-1989-4cee-b328-26f03a0a7068",
   "metadata": {
    "tags": []
   },
   "outputs": [],
   "source": [
    "sum_df.reset_index(inplace=True)"
   ]
  },
  {
   "cell_type": "code",
   "execution_count": 69,
   "id": "43eb2ab2-284e-4b7f-a5b6-9b1e5b04504a",
   "metadata": {
    "tags": []
   },
   "outputs": [
    {
     "data": {
      "application/vnd.plotly.v1+json": {
       "config": {
        "plotlyServerURL": "https://plot.ly"
       },
       "data": [
        {
         "branchvalues": "total",
         "customdata": [
          [
           "Cash",
           4469
          ],
          [
           "Emerging Market Equities ",
           4000
          ],
          [
           "International Equities ",
           8000
          ],
          [
           "Long/Short Equities ",
           2250
          ],
          [
           "Private Equity ",
           4200
          ],
          [
           "Private Real Estate",
           8300
          ],
          [
           "Publicly Traded REITs ",
           2500
          ],
          [
           "U.S. Equities ",
           21000
          ],
          [
           "U.S. Government Bonds ",
           17000
          ],
          [
           "Very-High-Quality Corporate Bonds ",
           6000
          ],
          [
           "Very-High-Quality Municipal Bonds",
           6000
          ],
          [
           "Cash",
           4469
          ],
          [
           "(?)",
           12315.273631840795
          ],
          [
           "(?)",
           12448.275862068966
          ],
          [
           "(?)",
           11942.50362522247
          ]
         ],
         "domain": {
          "x": [
           0,
           1
          ],
          "y": [
           0,
           1
          ]
         },
         "hovertemplate": "labels=%{label}<br>Value_sum=%{value}<br>parent=%{parent}<br>id=%{id}<br>Sub_Class=%{customdata[0]}<br>Value=%{color}<extra></extra>",
         "ids": [
          "Portfolio/Cash/Cash",
          "Portfolio/Economically Sensitive Exposures/Emerging Market Equities ",
          "Portfolio/Economically Sensitive Exposures/International Equities ",
          "Portfolio/Economically Sensitive Exposures/Long/Short Equities ",
          "Portfolio/Economically Sensitive Exposures/Private Equity ",
          "Portfolio/Economically Sensitive Exposures/Private Real Estate",
          "Portfolio/Economically Sensitive Exposures/Publicly Traded REITs ",
          "Portfolio/Economically Sensitive Exposures/U.S. Equities ",
          "Portfolio/Interest Rate Sensitive Exposures/U.S. Government Bonds ",
          "Portfolio/Interest Rate Sensitive Exposures/Very-High-Quality Corporate Bonds ",
          "Portfolio/Interest Rate Sensitive Exposures/Very-High-Quality Municipal Bonds",
          "Portfolio/Cash",
          "Portfolio/Economically Sensitive Exposures",
          "Portfolio/Interest Rate Sensitive Exposures",
          "Portfolio"
         ],
         "labels": [
          "Cash",
          "Emerging Market Equities ",
          "International Equities ",
          "Long/Short Equities ",
          "Private Equity ",
          "Private Real Estate",
          "Publicly Traded REITs ",
          "U.S. Equities ",
          "U.S. Government Bonds ",
          "Very-High-Quality Corporate Bonds ",
          "Very-High-Quality Municipal Bonds",
          "Cash",
          "Economically Sensitive Exposures",
          "Interest Rate Sensitive Exposures",
          "Portfolio"
         ],
         "marker": {
          "coloraxis": "coloraxis",
          "colors": [
           4469,
           4000,
           8000,
           2250,
           4200,
           8300,
           2500,
           21000,
           17000,
           6000,
           6000,
           4469,
           12315.273631840795,
           12448.275862068966,
           11942.50362522247
          ]
         },
         "name": "",
         "parents": [
          "Portfolio/Cash",
          "Portfolio/Economically Sensitive Exposures",
          "Portfolio/Economically Sensitive Exposures",
          "Portfolio/Economically Sensitive Exposures",
          "Portfolio/Economically Sensitive Exposures",
          "Portfolio/Economically Sensitive Exposures",
          "Portfolio/Economically Sensitive Exposures",
          "Portfolio/Economically Sensitive Exposures",
          "Portfolio/Interest Rate Sensitive Exposures",
          "Portfolio/Interest Rate Sensitive Exposures",
          "Portfolio/Interest Rate Sensitive Exposures",
          "Portfolio",
          "Portfolio",
          "Portfolio",
          ""
         ],
         "type": "treemap",
         "values": [
          4469,
          4000,
          8000,
          2250,
          4200,
          8300,
          2500,
          21000,
          17000,
          6000,
          6000,
          4469,
          50250,
          29000,
          83719
         ]
        }
       ],
       "layout": {
        "coloraxis": {
         "cmid": 11942.50362522247,
         "colorbar": {
          "title": {
           "text": "Value"
          }
         },
         "colorscale": [
          [
           0,
           "rgb(0, 128, 128)"
          ],
          [
           0.16666666666666666,
           "rgb(112, 164, 148)"
          ],
          [
           0.3333333333333333,
           "rgb(180, 200, 168)"
          ],
          [
           0.5,
           "rgb(246, 237, 189)"
          ],
          [
           0.6666666666666666,
           "rgb(237, 187, 138)"
          ],
          [
           0.8333333333333334,
           "rgb(222, 138, 90)"
          ],
          [
           1,
           "rgb(202, 86, 44)"
          ]
         ]
        },
        "height": 1000,
        "legend": {
         "tracegroupgap": 0
        },
        "margin": {
         "b": 50,
         "l": 50,
         "r": 50,
         "t": 100
        },
        "template": {
         "data": {
          "bar": [
           {
            "error_x": {
             "color": "#2a3f5f"
            },
            "error_y": {
             "color": "#2a3f5f"
            },
            "marker": {
             "line": {
              "color": "#E5ECF6",
              "width": 0.5
             },
             "pattern": {
              "fillmode": "overlay",
              "size": 10,
              "solidity": 0.2
             }
            },
            "type": "bar"
           }
          ],
          "barpolar": [
           {
            "marker": {
             "line": {
              "color": "#E5ECF6",
              "width": 0.5
             },
             "pattern": {
              "fillmode": "overlay",
              "size": 10,
              "solidity": 0.2
             }
            },
            "type": "barpolar"
           }
          ],
          "carpet": [
           {
            "aaxis": {
             "endlinecolor": "#2a3f5f",
             "gridcolor": "white",
             "linecolor": "white",
             "minorgridcolor": "white",
             "startlinecolor": "#2a3f5f"
            },
            "baxis": {
             "endlinecolor": "#2a3f5f",
             "gridcolor": "white",
             "linecolor": "white",
             "minorgridcolor": "white",
             "startlinecolor": "#2a3f5f"
            },
            "type": "carpet"
           }
          ],
          "choropleth": [
           {
            "colorbar": {
             "outlinewidth": 0,
             "ticks": ""
            },
            "type": "choropleth"
           }
          ],
          "contour": [
           {
            "colorbar": {
             "outlinewidth": 0,
             "ticks": ""
            },
            "colorscale": [
             [
              0,
              "#0d0887"
             ],
             [
              0.1111111111111111,
              "#46039f"
             ],
             [
              0.2222222222222222,
              "#7201a8"
             ],
             [
              0.3333333333333333,
              "#9c179e"
             ],
             [
              0.4444444444444444,
              "#bd3786"
             ],
             [
              0.5555555555555556,
              "#d8576b"
             ],
             [
              0.6666666666666666,
              "#ed7953"
             ],
             [
              0.7777777777777778,
              "#fb9f3a"
             ],
             [
              0.8888888888888888,
              "#fdca26"
             ],
             [
              1,
              "#f0f921"
             ]
            ],
            "type": "contour"
           }
          ],
          "contourcarpet": [
           {
            "colorbar": {
             "outlinewidth": 0,
             "ticks": ""
            },
            "type": "contourcarpet"
           }
          ],
          "heatmap": [
           {
            "colorbar": {
             "outlinewidth": 0,
             "ticks": ""
            },
            "colorscale": [
             [
              0,
              "#0d0887"
             ],
             [
              0.1111111111111111,
              "#46039f"
             ],
             [
              0.2222222222222222,
              "#7201a8"
             ],
             [
              0.3333333333333333,
              "#9c179e"
             ],
             [
              0.4444444444444444,
              "#bd3786"
             ],
             [
              0.5555555555555556,
              "#d8576b"
             ],
             [
              0.6666666666666666,
              "#ed7953"
             ],
             [
              0.7777777777777778,
              "#fb9f3a"
             ],
             [
              0.8888888888888888,
              "#fdca26"
             ],
             [
              1,
              "#f0f921"
             ]
            ],
            "type": "heatmap"
           }
          ],
          "heatmapgl": [
           {
            "colorbar": {
             "outlinewidth": 0,
             "ticks": ""
            },
            "colorscale": [
             [
              0,
              "#0d0887"
             ],
             [
              0.1111111111111111,
              "#46039f"
             ],
             [
              0.2222222222222222,
              "#7201a8"
             ],
             [
              0.3333333333333333,
              "#9c179e"
             ],
             [
              0.4444444444444444,
              "#bd3786"
             ],
             [
              0.5555555555555556,
              "#d8576b"
             ],
             [
              0.6666666666666666,
              "#ed7953"
             ],
             [
              0.7777777777777778,
              "#fb9f3a"
             ],
             [
              0.8888888888888888,
              "#fdca26"
             ],
             [
              1,
              "#f0f921"
             ]
            ],
            "type": "heatmapgl"
           }
          ],
          "histogram": [
           {
            "marker": {
             "pattern": {
              "fillmode": "overlay",
              "size": 10,
              "solidity": 0.2
             }
            },
            "type": "histogram"
           }
          ],
          "histogram2d": [
           {
            "colorbar": {
             "outlinewidth": 0,
             "ticks": ""
            },
            "colorscale": [
             [
              0,
              "#0d0887"
             ],
             [
              0.1111111111111111,
              "#46039f"
             ],
             [
              0.2222222222222222,
              "#7201a8"
             ],
             [
              0.3333333333333333,
              "#9c179e"
             ],
             [
              0.4444444444444444,
              "#bd3786"
             ],
             [
              0.5555555555555556,
              "#d8576b"
             ],
             [
              0.6666666666666666,
              "#ed7953"
             ],
             [
              0.7777777777777778,
              "#fb9f3a"
             ],
             [
              0.8888888888888888,
              "#fdca26"
             ],
             [
              1,
              "#f0f921"
             ]
            ],
            "type": "histogram2d"
           }
          ],
          "histogram2dcontour": [
           {
            "colorbar": {
             "outlinewidth": 0,
             "ticks": ""
            },
            "colorscale": [
             [
              0,
              "#0d0887"
             ],
             [
              0.1111111111111111,
              "#46039f"
             ],
             [
              0.2222222222222222,
              "#7201a8"
             ],
             [
              0.3333333333333333,
              "#9c179e"
             ],
             [
              0.4444444444444444,
              "#bd3786"
             ],
             [
              0.5555555555555556,
              "#d8576b"
             ],
             [
              0.6666666666666666,
              "#ed7953"
             ],
             [
              0.7777777777777778,
              "#fb9f3a"
             ],
             [
              0.8888888888888888,
              "#fdca26"
             ],
             [
              1,
              "#f0f921"
             ]
            ],
            "type": "histogram2dcontour"
           }
          ],
          "mesh3d": [
           {
            "colorbar": {
             "outlinewidth": 0,
             "ticks": ""
            },
            "type": "mesh3d"
           }
          ],
          "parcoords": [
           {
            "line": {
             "colorbar": {
              "outlinewidth": 0,
              "ticks": ""
             }
            },
            "type": "parcoords"
           }
          ],
          "pie": [
           {
            "automargin": true,
            "type": "pie"
           }
          ],
          "scatter": [
           {
            "fillpattern": {
             "fillmode": "overlay",
             "size": 10,
             "solidity": 0.2
            },
            "type": "scatter"
           }
          ],
          "scatter3d": [
           {
            "line": {
             "colorbar": {
              "outlinewidth": 0,
              "ticks": ""
             }
            },
            "marker": {
             "colorbar": {
              "outlinewidth": 0,
              "ticks": ""
             }
            },
            "type": "scatter3d"
           }
          ],
          "scattercarpet": [
           {
            "marker": {
             "colorbar": {
              "outlinewidth": 0,
              "ticks": ""
             }
            },
            "type": "scattercarpet"
           }
          ],
          "scattergeo": [
           {
            "marker": {
             "colorbar": {
              "outlinewidth": 0,
              "ticks": ""
             }
            },
            "type": "scattergeo"
           }
          ],
          "scattergl": [
           {
            "marker": {
             "colorbar": {
              "outlinewidth": 0,
              "ticks": ""
             }
            },
            "type": "scattergl"
           }
          ],
          "scattermapbox": [
           {
            "marker": {
             "colorbar": {
              "outlinewidth": 0,
              "ticks": ""
             }
            },
            "type": "scattermapbox"
           }
          ],
          "scatterpolar": [
           {
            "marker": {
             "colorbar": {
              "outlinewidth": 0,
              "ticks": ""
             }
            },
            "type": "scatterpolar"
           }
          ],
          "scatterpolargl": [
           {
            "marker": {
             "colorbar": {
              "outlinewidth": 0,
              "ticks": ""
             }
            },
            "type": "scatterpolargl"
           }
          ],
          "scatterternary": [
           {
            "marker": {
             "colorbar": {
              "outlinewidth": 0,
              "ticks": ""
             }
            },
            "type": "scatterternary"
           }
          ],
          "surface": [
           {
            "colorbar": {
             "outlinewidth": 0,
             "ticks": ""
            },
            "colorscale": [
             [
              0,
              "#0d0887"
             ],
             [
              0.1111111111111111,
              "#46039f"
             ],
             [
              0.2222222222222222,
              "#7201a8"
             ],
             [
              0.3333333333333333,
              "#9c179e"
             ],
             [
              0.4444444444444444,
              "#bd3786"
             ],
             [
              0.5555555555555556,
              "#d8576b"
             ],
             [
              0.6666666666666666,
              "#ed7953"
             ],
             [
              0.7777777777777778,
              "#fb9f3a"
             ],
             [
              0.8888888888888888,
              "#fdca26"
             ],
             [
              1,
              "#f0f921"
             ]
            ],
            "type": "surface"
           }
          ],
          "table": [
           {
            "cells": {
             "fill": {
              "color": "#EBF0F8"
             },
             "line": {
              "color": "white"
             }
            },
            "header": {
             "fill": {
              "color": "#C8D4E3"
             },
             "line": {
              "color": "white"
             }
            },
            "type": "table"
           }
          ]
         },
         "layout": {
          "annotationdefaults": {
           "arrowcolor": "#2a3f5f",
           "arrowhead": 0,
           "arrowwidth": 1
          },
          "autotypenumbers": "strict",
          "coloraxis": {
           "colorbar": {
            "outlinewidth": 0,
            "ticks": ""
           }
          },
          "colorscale": {
           "diverging": [
            [
             0,
             "#8e0152"
            ],
            [
             0.1,
             "#c51b7d"
            ],
            [
             0.2,
             "#de77ae"
            ],
            [
             0.3,
             "#f1b6da"
            ],
            [
             0.4,
             "#fde0ef"
            ],
            [
             0.5,
             "#f7f7f7"
            ],
            [
             0.6,
             "#e6f5d0"
            ],
            [
             0.7,
             "#b8e186"
            ],
            [
             0.8,
             "#7fbc41"
            ],
            [
             0.9,
             "#4d9221"
            ],
            [
             1,
             "#276419"
            ]
           ],
           "sequential": [
            [
             0,
             "#0d0887"
            ],
            [
             0.1111111111111111,
             "#46039f"
            ],
            [
             0.2222222222222222,
             "#7201a8"
            ],
            [
             0.3333333333333333,
             "#9c179e"
            ],
            [
             0.4444444444444444,
             "#bd3786"
            ],
            [
             0.5555555555555556,
             "#d8576b"
            ],
            [
             0.6666666666666666,
             "#ed7953"
            ],
            [
             0.7777777777777778,
             "#fb9f3a"
            ],
            [
             0.8888888888888888,
             "#fdca26"
            ],
            [
             1,
             "#f0f921"
            ]
           ],
           "sequentialminus": [
            [
             0,
             "#0d0887"
            ],
            [
             0.1111111111111111,
             "#46039f"
            ],
            [
             0.2222222222222222,
             "#7201a8"
            ],
            [
             0.3333333333333333,
             "#9c179e"
            ],
            [
             0.4444444444444444,
             "#bd3786"
            ],
            [
             0.5555555555555556,
             "#d8576b"
            ],
            [
             0.6666666666666666,
             "#ed7953"
            ],
            [
             0.7777777777777778,
             "#fb9f3a"
            ],
            [
             0.8888888888888888,
             "#fdca26"
            ],
            [
             1,
             "#f0f921"
            ]
           ]
          },
          "colorway": [
           "#636efa",
           "#EF553B",
           "#00cc96",
           "#ab63fa",
           "#FFA15A",
           "#19d3f3",
           "#FF6692",
           "#B6E880",
           "#FF97FF",
           "#FECB52"
          ],
          "font": {
           "color": "#2a3f5f"
          },
          "geo": {
           "bgcolor": "white",
           "lakecolor": "white",
           "landcolor": "#E5ECF6",
           "showlakes": true,
           "showland": true,
           "subunitcolor": "white"
          },
          "hoverlabel": {
           "align": "left"
          },
          "hovermode": "closest",
          "mapbox": {
           "style": "light"
          },
          "paper_bgcolor": "white",
          "plot_bgcolor": "#E5ECF6",
          "polar": {
           "angularaxis": {
            "gridcolor": "white",
            "linecolor": "white",
            "ticks": ""
           },
           "bgcolor": "#E5ECF6",
           "radialaxis": {
            "gridcolor": "white",
            "linecolor": "white",
            "ticks": ""
           }
          },
          "scene": {
           "xaxis": {
            "backgroundcolor": "#E5ECF6",
            "gridcolor": "white",
            "gridwidth": 2,
            "linecolor": "white",
            "showbackground": true,
            "ticks": "",
            "zerolinecolor": "white"
           },
           "yaxis": {
            "backgroundcolor": "#E5ECF6",
            "gridcolor": "white",
            "gridwidth": 2,
            "linecolor": "white",
            "showbackground": true,
            "ticks": "",
            "zerolinecolor": "white"
           },
           "zaxis": {
            "backgroundcolor": "#E5ECF6",
            "gridcolor": "white",
            "gridwidth": 2,
            "linecolor": "white",
            "showbackground": true,
            "ticks": "",
            "zerolinecolor": "white"
           }
          },
          "shapedefaults": {
           "line": {
            "color": "#2a3f5f"
           }
          },
          "ternary": {
           "aaxis": {
            "gridcolor": "white",
            "linecolor": "white",
            "ticks": ""
           },
           "baxis": {
            "gridcolor": "white",
            "linecolor": "white",
            "ticks": ""
           },
           "bgcolor": "#E5ECF6",
           "caxis": {
            "gridcolor": "white",
            "linecolor": "white",
            "ticks": ""
           }
          },
          "title": {
           "x": 0.05
          },
          "xaxis": {
           "automargin": true,
           "gridcolor": "white",
           "linecolor": "white",
           "ticks": "",
           "title": {
            "standoff": 15
           },
           "zerolinecolor": "white",
           "zerolinewidth": 2
          },
          "yaxis": {
           "automargin": true,
           "gridcolor": "white",
           "linecolor": "white",
           "ticks": "",
           "title": {
            "standoff": 15
           },
           "zerolinecolor": "white",
           "zerolinewidth": 2
          }
         }
        },
        "title": {
         "text": "Scenario 3: Portfolio"
        },
        "width": 1000
       }
      },
      "image/png": "[encoded data removed]",
      "text/html": [
       "<div>                            <div id=\"47c17906-cc7a-455a-88df-37ba4de5fada\" class=\"plotly-graph-div\" style=\"height:1000px; width:1000px;\"></div>            <script type=\"text/javascript\">                require([\"plotly\"], function(Plotly) {                    window.PLOTLYENV=window.PLOTLYENV || {};                                    if (document.getElementById(\"47c17906-cc7a-455a-88df-37ba4de5fada\")) {                    Plotly.newPlot(                        \"47c17906-cc7a-455a-88df-37ba4de5fada\",                        [{\"branchvalues\":\"total\",\"customdata\":[[\"Cash\",4469.0],[\"Emerging Market Equities\\u00a0\",4000.0],[\"International Equities\\u00a0\",8000.0],[\"Long/Short Equities\\u00a0\",2250.0],[\"Private Equity\\u00a0\",4200.0],[\"Private Real Estate\",8300.0],[\"Publicly Traded REITs\\u00a0\",2500.0],[\"U.S. Equities\\u00a0\",21000.0],[\"U.S. Government Bonds\\u00a0\",17000.0],[\"Very-High-Quality Corporate Bonds\\u00a0\",6000.0],[\"Very-High-Quality Municipal Bonds\",6000.0],[\"Cash\",4469.0],[\"(?)\",12315.273631840795],[\"(?)\",12448.275862068966],[\"(?)\",11942.50362522247]],\"domain\":{\"x\":[0.0,1.0],\"y\":[0.0,1.0]},\"hovertemplate\":\"labels=%{label}<br>Value_sum=%{value}<br>parent=%{parent}<br>id=%{id}<br>Sub_Class=%{customdata[0]}<br>Value=%{color}<extra></extra>\",\"ids\":[\"Portfolio/Cash/Cash\",\"Portfolio/Economically Sensitive Exposures/Emerging Market Equities\\u00a0\",\"Portfolio/Economically Sensitive Exposures/International Equities\\u00a0\",\"Portfolio/Economically Sensitive Exposures/Long/Short Equities\\u00a0\",\"Portfolio/Economically Sensitive Exposures/Private Equity\\u00a0\",\"Portfolio/Economically Sensitive Exposures/Private Real Estate\",\"Portfolio/Economically Sensitive Exposures/Publicly Traded REITs\\u00a0\",\"Portfolio/Economically Sensitive Exposures/U.S. Equities\\u00a0\",\"Portfolio/Interest Rate Sensitive Exposures/U.S. Government Bonds\\u00a0\",\"Portfolio/Interest Rate Sensitive Exposures/Very-High-Quality Corporate Bonds\\u00a0\",\"Portfolio/Interest Rate Sensitive Exposures/Very-High-Quality Municipal Bonds\",\"Portfolio/Cash\",\"Portfolio/Economically Sensitive Exposures\",\"Portfolio/Interest Rate Sensitive Exposures\",\"Portfolio\"],\"labels\":[\"Cash\",\"Emerging Market Equities\\u00a0\",\"International Equities\\u00a0\",\"Long/Short Equities\\u00a0\",\"Private Equity\\u00a0\",\"Private Real Estate\",\"Publicly Traded REITs\\u00a0\",\"U.S. Equities\\u00a0\",\"U.S. Government Bonds\\u00a0\",\"Very-High-Quality Corporate Bonds\\u00a0\",\"Very-High-Quality Municipal Bonds\",\"Cash\",\"Economically Sensitive Exposures\",\"Interest Rate Sensitive Exposures\",\"Portfolio\"],\"marker\":{\"coloraxis\":\"coloraxis\",\"colors\":[4469.0,4000.0,8000.0,2250.0,4200.0,8300.0,2500.0,21000.0,17000.0,6000.0,6000.0,4469.0,12315.273631840795,12448.275862068966,11942.50362522247]},\"name\":\"\",\"parents\":[\"Portfolio/Cash\",\"Portfolio/Economically Sensitive Exposures\",\"Portfolio/Economically Sensitive Exposures\",\"Portfolio/Economically Sensitive Exposures\",\"Portfolio/Economically Sensitive Exposures\",\"Portfolio/Economically Sensitive Exposures\",\"Portfolio/Economically Sensitive Exposures\",\"Portfolio/Economically Sensitive Exposures\",\"Portfolio/Interest Rate Sensitive Exposures\",\"Portfolio/Interest Rate Sensitive Exposures\",\"Portfolio/Interest Rate Sensitive Exposures\",\"Portfolio\",\"Portfolio\",\"Portfolio\",\"\"],\"values\":[4469.0,4000.0,8000.0,2250.0,4200.0,8300.0,2500.0,21000.0,17000.0,6000.0,6000.0,4469.0,50250.0,29000.0,83719.0],\"type\":\"treemap\"}],                        {\"template\":{\"data\":{\"histogram2dcontour\":[{\"type\":\"histogram2dcontour\",\"colorbar\":{\"outlinewidth\":0,\"ticks\":\"\"},\"colorscale\":[[0.0,\"#0d0887\"],[0.1111111111111111,\"#46039f\"],[0.2222222222222222,\"#7201a8\"],[0.3333333333333333,\"#9c179e\"],[0.4444444444444444,\"#bd3786\"],[0.5555555555555556,\"#d8576b\"],[0.6666666666666666,\"#ed7953\"],[0.7777777777777778,\"#fb9f3a\"],[0.8888888888888888,\"#fdca26\"],[1.0,\"#f0f921\"]]}],\"choropleth\":[{\"type\":\"choropleth\",\"colorbar\":{\"outlinewidth\":0,\"ticks\":\"\"}}],\"histogram2d\":[{\"type\":\"histogram2d\",\"colorbar\":{\"outlinewidth\":0,\"ticks\":\"\"},\"colorscale\":[[0.0,\"#0d0887\"],[0.1111111111111111,\"#46039f\"],[0.2222222222222222,\"#7201a8\"],[0.3333333333333333,\"#9c179e\"],[0.4444444444444444,\"#bd3786\"],[0.5555555555555556,\"#d8576b\"],[0.6666666666666666,\"#ed7953\"],[0.7777777777777778,\"#fb9f3a\"],[0.8888888888888888,\"#fdca26\"],[1.0,\"#f0f921\"]]}],\"heatmap\":[{\"type\":\"heatmap\",\"colorbar\":{\"outlinewidth\":0,\"ticks\":\"\"},\"colorscale\":[[0.0,\"#0d0887\"],[0.1111111111111111,\"#46039f\"],[0.2222222222222222,\"#7201a8\"],[0.3333333333333333,\"#9c179e\"],[0.4444444444444444,\"#bd3786\"],[0.5555555555555556,\"#d8576b\"],[0.6666666666666666,\"#ed7953\"],[0.7777777777777778,\"#fb9f3a\"],[0.8888888888888888,\"#fdca26\"],[1.0,\"#f0f921\"]]}],\"heatmapgl\":[{\"type\":\"heatmapgl\",\"colorbar\":{\"outlinewidth\":0,\"ticks\":\"\"},\"colorscale\":[[0.0,\"#0d0887\"],[0.1111111111111111,\"#46039f\"],[0.2222222222222222,\"#7201a8\"],[0.3333333333333333,\"#9c179e\"],[0.4444444444444444,\"#bd3786\"],[0.5555555555555556,\"#d8576b\"],[0.6666666666666666,\"#ed7953\"],[0.7777777777777778,\"#fb9f3a\"],[0.8888888888888888,\"#fdca26\"],[1.0,\"#f0f921\"]]}],\"contourcarpet\":[{\"type\":\"contourcarpet\",\"colorbar\":{\"outlinewidth\":0,\"ticks\":\"\"}}],\"contour\":[{\"type\":\"contour\",\"colorbar\":{\"outlinewidth\":0,\"ticks\":\"\"},\"colorscale\":[[0.0,\"#0d0887\"],[0.1111111111111111,\"#46039f\"],[0.2222222222222222,\"#7201a8\"],[0.3333333333333333,\"#9c179e\"],[0.4444444444444444,\"#bd3786\"],[0.5555555555555556,\"#d8576b\"],[0.6666666666666666,\"#ed7953\"],[0.7777777777777778,\"#fb9f3a\"],[0.8888888888888888,\"#fdca26\"],[1.0,\"#f0f921\"]]}],\"surface\":[{\"type\":\"surface\",\"colorbar\":{\"outlinewidth\":0,\"ticks\":\"\"},\"colorscale\":[[0.0,\"#0d0887\"],[0.1111111111111111,\"#46039f\"],[0.2222222222222222,\"#7201a8\"],[0.3333333333333333,\"#9c179e\"],[0.4444444444444444,\"#bd3786\"],[0.5555555555555556,\"#d8576b\"],[0.6666666666666666,\"#ed7953\"],[0.7777777777777778,\"#fb9f3a\"],[0.8888888888888888,\"#fdca26\"],[1.0,\"#f0f921\"]]}],\"mesh3d\":[{\"type\":\"mesh3d\",\"colorbar\":{\"outlinewidth\":0,\"ticks\":\"\"}}],\"scatter\":[{\"fillpattern\":{\"fillmode\":\"overlay\",\"size\":10,\"solidity\":0.2},\"type\":\"scatter\"}],\"parcoords\":[{\"type\":\"parcoords\",\"line\":{\"colorbar\":{\"outlinewidth\":0,\"ticks\":\"\"}}}],\"scatterpolargl\":[{\"type\":\"scatterpolargl\",\"marker\":{\"colorbar\":{\"outlinewidth\":0,\"ticks\":\"\"}}}],\"bar\":[{\"error_x\":{\"color\":\"#2a3f5f\"},\"error_y\":{\"color\":\"#2a3f5f\"},\"marker\":{\"line\":{\"color\":\"#E5ECF6\",\"width\":0.5},\"pattern\":{\"fillmode\":\"overlay\",\"size\":10,\"solidity\":0.2}},\"type\":\"bar\"}],\"scattergeo\":[{\"type\":\"scattergeo\",\"marker\":{\"colorbar\":{\"outlinewidth\":0,\"ticks\":\"\"}}}],\"scatterpolar\":[{\"type\":\"scatterpolar\",\"marker\":{\"colorbar\":{\"outlinewidth\":0,\"ticks\":\"\"}}}],\"histogram\":[{\"marker\":{\"pattern\":{\"fillmode\":\"overlay\",\"size\":10,\"solidity\":0.2}},\"type\":\"histogram\"}],\"scattergl\":[{\"type\":\"scattergl\",\"marker\":{\"colorbar\":{\"outlinewidth\":0,\"ticks\":\"\"}}}],\"scatter3d\":[{\"type\":\"scatter3d\",\"line\":{\"colorbar\":{\"outlinewidth\":0,\"ticks\":\"\"}},\"marker\":{\"colorbar\":{\"outlinewidth\":0,\"ticks\":\"\"}}}],\"scattermapbox\":[{\"type\":\"scattermapbox\",\"marker\":{\"colorbar\":{\"outlinewidth\":0,\"ticks\":\"\"}}}],\"scatterternary\":[{\"type\":\"scatterternary\",\"marker\":{\"colorbar\":{\"outlinewidth\":0,\"ticks\":\"\"}}}],\"scattercarpet\":[{\"type\":\"scattercarpet\",\"marker\":{\"colorbar\":{\"outlinewidth\":0,\"ticks\":\"\"}}}],\"carpet\":[{\"aaxis\":{\"endlinecolor\":\"#2a3f5f\",\"gridcolor\":\"white\",\"linecolor\":\"white\",\"minorgridcolor\":\"white\",\"startlinecolor\":\"#2a3f5f\"},\"baxis\":{\"endlinecolor\":\"#2a3f5f\",\"gridcolor\":\"white\",\"linecolor\":\"white\",\"minorgridcolor\":\"white\",\"startlinecolor\":\"#2a3f5f\"},\"type\":\"carpet\"}],\"table\":[{\"cells\":{\"fill\":{\"color\":\"#EBF0F8\"},\"line\":{\"color\":\"white\"}},\"header\":{\"fill\":{\"color\":\"#C8D4E3\"},\"line\":{\"color\":\"white\"}},\"type\":\"table\"}],\"barpolar\":[{\"marker\":{\"line\":{\"color\":\"#E5ECF6\",\"width\":0.5},\"pattern\":{\"fillmode\":\"overlay\",\"size\":10,\"solidity\":0.2}},\"type\":\"barpolar\"}],\"pie\":[{\"automargin\":true,\"type\":\"pie\"}]},\"layout\":{\"autotypenumbers\":\"strict\",\"colorway\":[\"#636efa\",\"#EF553B\",\"#00cc96\",\"#ab63fa\",\"#FFA15A\",\"#19d3f3\",\"#FF6692\",\"#B6E880\",\"#FF97FF\",\"#FECB52\"],\"font\":{\"color\":\"#2a3f5f\"},\"hovermode\":\"closest\",\"hoverlabel\":{\"align\":\"left\"},\"paper_bgcolor\":\"white\",\"plot_bgcolor\":\"#E5ECF6\",\"polar\":{\"bgcolor\":\"#E5ECF6\",\"angularaxis\":{\"gridcolor\":\"white\",\"linecolor\":\"white\",\"ticks\":\"\"},\"radialaxis\":{\"gridcolor\":\"white\",\"linecolor\":\"white\",\"ticks\":\"\"}},\"ternary\":{\"bgcolor\":\"#E5ECF6\",\"aaxis\":{\"gridcolor\":\"white\",\"linecolor\":\"white\",\"ticks\":\"\"},\"baxis\":{\"gridcolor\":\"white\",\"linecolor\":\"white\",\"ticks\":\"\"},\"caxis\":{\"gridcolor\":\"white\",\"linecolor\":\"white\",\"ticks\":\"\"}},\"coloraxis\":{\"colorbar\":{\"outlinewidth\":0,\"ticks\":\"\"}},\"colorscale\":{\"sequential\":[[0.0,\"#0d0887\"],[0.1111111111111111,\"#46039f\"],[0.2222222222222222,\"#7201a8\"],[0.3333333333333333,\"#9c179e\"],[0.4444444444444444,\"#bd3786\"],[0.5555555555555556,\"#d8576b\"],[0.6666666666666666,\"#ed7953\"],[0.7777777777777778,\"#fb9f3a\"],[0.8888888888888888,\"#fdca26\"],[1.0,\"#f0f921\"]],\"sequentialminus\":[[0.0,\"#0d0887\"],[0.1111111111111111,\"#46039f\"],[0.2222222222222222,\"#7201a8\"],[0.3333333333333333,\"#9c179e\"],[0.4444444444444444,\"#bd3786\"],[0.5555555555555556,\"#d8576b\"],[0.6666666666666666,\"#ed7953\"],[0.7777777777777778,\"#fb9f3a\"],[0.8888888888888888,\"#fdca26\"],[1.0,\"#f0f921\"]],\"diverging\":[[0,\"#8e0152\"],[0.1,\"#c51b7d\"],[0.2,\"#de77ae\"],[0.3,\"#f1b6da\"],[0.4,\"#fde0ef\"],[0.5,\"#f7f7f7\"],[0.6,\"#e6f5d0\"],[0.7,\"#b8e186\"],[0.8,\"#7fbc41\"],[0.9,\"#4d9221\"],[1,\"#276419\"]]},\"xaxis\":{\"gridcolor\":\"white\",\"linecolor\":\"white\",\"ticks\":\"\",\"title\":{\"standoff\":15},\"zerolinecolor\":\"white\",\"automargin\":true,\"zerolinewidth\":2},\"yaxis\":{\"gridcolor\":\"white\",\"linecolor\":\"white\",\"ticks\":\"\",\"title\":{\"standoff\":15},\"zerolinecolor\":\"white\",\"automargin\":true,\"zerolinewidth\":2},\"scene\":{\"xaxis\":{\"backgroundcolor\":\"#E5ECF6\",\"gridcolor\":\"white\",\"linecolor\":\"white\",\"showbackground\":true,\"ticks\":\"\",\"zerolinecolor\":\"white\",\"gridwidth\":2},\"yaxis\":{\"backgroundcolor\":\"#E5ECF6\",\"gridcolor\":\"white\",\"linecolor\":\"white\",\"showbackground\":true,\"ticks\":\"\",\"zerolinecolor\":\"white\",\"gridwidth\":2},\"zaxis\":{\"backgroundcolor\":\"#E5ECF6\",\"gridcolor\":\"white\",\"linecolor\":\"white\",\"showbackground\":true,\"ticks\":\"\",\"zerolinecolor\":\"white\",\"gridwidth\":2}},\"shapedefaults\":{\"line\":{\"color\":\"#2a3f5f\"}},\"annotationdefaults\":{\"arrowcolor\":\"#2a3f5f\",\"arrowhead\":0,\"arrowwidth\":1},\"geo\":{\"bgcolor\":\"white\",\"landcolor\":\"#E5ECF6\",\"subunitcolor\":\"white\",\"showland\":true,\"showlakes\":true,\"lakecolor\":\"white\"},\"title\":{\"x\":0.05},\"mapbox\":{\"style\":\"light\"}}},\"coloraxis\":{\"colorbar\":{\"title\":{\"text\":\"Value\"}},\"colorscale\":[[0.0,\"rgb(0, 128, 128)\"],[0.16666666666666666,\"rgb(112, 164, 148)\"],[0.3333333333333333,\"rgb(180, 200, 168)\"],[0.5,\"rgb(246, 237, 189)\"],[0.6666666666666666,\"rgb(237, 187, 138)\"],[0.8333333333333334,\"rgb(222, 138, 90)\"],[1.0,\"rgb(202, 86, 44)\"]],\"cmid\":11942.50362522247},\"legend\":{\"tracegroupgap\":0},\"margin\":{\"t\":100,\"l\":50,\"r\":50,\"b\":50},\"width\":1000,\"height\":1000,\"title\":{\"text\":\"Scenario 3: Portfolio\"}},                        {\"responsive\": true}                    ).then(function(){\n",
       "                            \n",
       "var gd = document.getElementById('47c17906-cc7a-455a-88df-37ba4de5fada');\n",
       "var x = new MutationObserver(function (mutations, observer) {{\n",
       "        var display = window.getComputedStyle(gd).display;\n",
       "        if (!display || display === 'none') {{\n",
       "            console.log([gd, 'removed!']);\n",
       "            Plotly.purge(gd);\n",
       "            observer.disconnect();\n",
       "        }}\n",
       "}});\n",
       "\n",
       "// Listen for the removal of the full notebook cells\n",
       "var notebookContainer = gd.closest('#notebook-container');\n",
       "if (notebookContainer) {{\n",
       "    x.observe(notebookContainer, {childList: true});\n",
       "}}\n",
       "\n",
       "// Listen for the clearing of the current output cell\n",
       "var outputEl = gd.closest('.output');\n",
       "if (outputEl) {{\n",
       "    x.observe(outputEl, {childList: true});\n",
       "}}\n",
       "\n",
       "                        })                };                });            </script>        </div>"
      ]
     },
     "metadata": {},
     "output_type": "display_data"
    }
   ],
   "source": [
    "fig = px.treemap(sum_df, path=[px.Constant('Portfolio'),'Class','Sub_Class'], values='Value',\n",
    "                  color='Value', hover_data=['Sub_Class'],\n",
    "                  color_continuous_scale='geyser',\n",
    "                  color_continuous_midpoint=np.average(sum_df['Value'], weights=sum_df['Value']))\n",
    "\n",
    "fig.update_layout( width = 1000, height = 1000,margin = dict(t=100, l=50, r=50, b=50))\n",
    "fig.update_layout(\n",
    "    title_text='Scenario 3: Portfolio'\n",
    ")\n",
    "fig.show()\n",
    "#fig.show(renderer='svg')"
   ]
  },
  {
   "cell_type": "markdown",
   "id": "def6d72c-d936-46cb-825b-4635add36ce1",
   "metadata": {},
   "source": [
    "## Portfolio Construction - Asset Breakdown"
   ]
  },
  {
   "cell_type": "code",
   "execution_count": 70,
   "id": "45d78be8-fe56-4dec-bd4e-0aa9564a87fe",
   "metadata": {
    "tags": []
   },
   "outputs": [
    {
     "data": {
      "application/vnd.plotly.v1+json": {
       "config": {
        "plotlyServerURL": "https://plot.ly"
       },
       "data": [
        {
         "branchvalues": "total",
         "customdata": [
          [
           "Very-High-Quality Municipal Bonds",
           1000
          ],
          [
           "Long/Short Equities ",
           500
          ],
          [
           "Long/Short Equities ",
           750
          ],
          [
           "Cash",
           4469
          ],
          [
           "Private Real Estate",
           1500
          ],
          [
           "Publicly Traded REITs ",
           750
          ],
          [
           "Private Real Estate",
           2300
          ],
          [
           "Publicly Traded REITs ",
           500
          ],
          [
           "U.S. Equities ",
           4000
          ],
          [
           "Long/Short Equities ",
           500
          ],
          [
           "Long/Short Equities ",
           500
          ],
          [
           "Very-High-Quality Corporate Bonds ",
           1000
          ],
          [
           "U.S. Government Bonds ",
           5500
          ],
          [
           "International Equities ",
           2000
          ],
          [
           "U.S. Equities ",
           4000
          ],
          [
           "International Equities ",
           3000
          ],
          [
           "U.S. Equities ",
           4000
          ],
          [
           "Emerging Market Equities ",
           4000
          ],
          [
           "Private Real Estate",
           2000
          ],
          [
           "Publicly Traded REITs ",
           500
          ],
          [
           "Very-High-Quality Municipal Bonds",
           1000
          ],
          [
           "Very-High-Quality Municipal Bonds",
           1000
          ],
          [
           "Very-High-Quality Municipal Bonds",
           1000
          ],
          [
           "Private Equity ",
           4200
          ],
          [
           "Very-High-Quality Corporate Bonds ",
           1000
          ],
          [
           "Very-High-Quality Corporate Bonds ",
           1000
          ],
          [
           "U.S. Equities ",
           3000
          ],
          [
           "Very-High-Quality Municipal Bonds",
           1000
          ],
          [
           "U.S. Government Bonds ",
           6000
          ],
          [
           "U.S. Equities ",
           1000
          ],
          [
           "U.S. Government Bonds ",
           5500
          ],
          [
           "Very-High-Quality Corporate Bonds ",
           1000
          ],
          [
           "Very-High-Quality Corporate Bonds ",
           1000
          ],
          [
           "International Equities ",
           3000
          ],
          [
           "Private Real Estate",
           2500
          ],
          [
           "Publicly Traded REITs ",
           750
          ],
          [
           "U.S. Equities ",
           2000
          ],
          [
           "U.S. Equities ",
           3000
          ],
          [
           "Very-High-Quality Municipal Bonds",
           1000
          ],
          [
           "Cash",
           4469
          ],
          [
           "Emerging Market Equities ",
           4000
          ],
          [
           "International Equities ",
           2750
          ],
          [
           "Long/Short Equities ",
           583.3333333333334
          ],
          [
           "Private Equity ",
           4200
          ],
          [
           "Private Real Estate",
           2143.373493975904
          ],
          [
           "Publicly Traded REITs ",
           650
          ],
          [
           "U.S. Equities ",
           3380.9523809523807
          ],
          [
           "U.S. Government Bonds ",
           5676.470588235294
          ],
          [
           "Very-High-Quality Corporate Bonds ",
           1000
          ],
          [
           "Very-High-Quality Municipal Bonds",
           1000
          ],
          [
           "Cash",
           4469
          ],
          [
           "(?)",
           2932.686567164179
          ],
          [
           "(?)",
           3741.3793103448274
          ],
          [
           "(?)",
           3294.825081522713
          ]
         ],
         "domain": {
          "x": [
           0,
           1
          ],
          "y": [
           0,
           1
          ]
         },
         "hovertemplate": "labels=%{label}<br>Value_sum=%{value}<br>parent=%{parent}<br>id=%{id}<br>Sub_Class=%{customdata[0]}<br>Value=%{color}<extra></extra>",
         "ids": [
          "Portfolio/Interest Rate Sensitive Exposures/Very-High-Quality Municipal Bonds/ALTVX",
          "Portfolio/Economically Sensitive Exposures/Long/Short Equities /BLUEX",
          "Portfolio/Economically Sensitive Exposures/Long/Short Equities /BPLSX",
          "Portfolio/Cash/Cash/CASH",
          "Portfolio/Economically Sensitive Exposures/Private Real Estate/DFAR",
          "Portfolio/Economically Sensitive Exposures/Publicly Traded REITs /DFAR",
          "Portfolio/Economically Sensitive Exposures/Private Real Estate/FREL",
          "Portfolio/Economically Sensitive Exposures/Publicly Traded REITs /FREL",
          "Portfolio/Economically Sensitive Exposures/U.S. Equities /FSMD",
          "Portfolio/Economically Sensitive Exposures/Long/Short Equities /GARIX",
          "Portfolio/Economically Sensitive Exposures/Long/Short Equities /GCHDX",
          "Portfolio/Interest Rate Sensitive Exposures/Very-High-Quality Corporate Bonds /ICBFX",
          "Portfolio/Interest Rate Sensitive Exposures/U.S. Government Bonds /IGMWX",
          "Portfolio/Economically Sensitive Exposures/International Equities /IGRO",
          "Portfolio/Economically Sensitive Exposures/U.S. Equities /IMCB",
          "Portfolio/Economically Sensitive Exposures/International Equities /ISCF",
          "Portfolio/Economically Sensitive Exposures/U.S. Equities /IVV",
          "Portfolio/Economically Sensitive Exposures/Emerging Market Equities /JPEM",
          "Portfolio/Economically Sensitive Exposures/Private Real Estate/JPRE",
          "Portfolio/Economically Sensitive Exposures/Publicly Traded REITs /JPRE",
          "Portfolio/Interest Rate Sensitive Exposures/Very-High-Quality Municipal Bonds/MEAR",
          "Portfolio/Interest Rate Sensitive Exposures/Very-High-Quality Municipal Bonds/MMIN",
          "Portfolio/Interest Rate Sensitive Exposures/Very-High-Quality Municipal Bonds/MMIT",
          "Portfolio/Economically Sensitive Exposures/Private Equity /PEX",
          "Portfolio/Interest Rate Sensitive Exposures/Very-High-Quality Corporate Bonds /PFRAX",
          "Portfolio/Interest Rate Sensitive Exposures/Very-High-Quality Corporate Bonds /PSAIX",
          "Portfolio/Economically Sensitive Exposures/U.S. Equities /SCHD",
          "Portfolio/Interest Rate Sensitive Exposures/Very-High-Quality Municipal Bonds/SNDPX",
          "Portfolio/Interest Rate Sensitive Exposures/U.S. Government Bonds /SWRSX",
          "Portfolio/Economically Sensitive Exposures/U.S. Equities /VBR",
          "Portfolio/Interest Rate Sensitive Exposures/U.S. Government Bonds /VFIUX",
          "Portfolio/Interest Rate Sensitive Exposures/Very-High-Quality Corporate Bonds /VGCAX",
          "Portfolio/Interest Rate Sensitive Exposures/Very-High-Quality Corporate Bonds /VICSX",
          "Portfolio/Economically Sensitive Exposures/International Equities /VIGI",
          "Portfolio/Economically Sensitive Exposures/Private Real Estate/VNQ",
          "Portfolio/Economically Sensitive Exposures/Publicly Traded REITs /VNQ",
          "Portfolio/Economically Sensitive Exposures/U.S. Equities /VO",
          "Portfolio/Economically Sensitive Exposures/U.S. Equities /VONG",
          "Portfolio/Interest Rate Sensitive Exposures/Very-High-Quality Municipal Bonds/VTEB",
          "Portfolio/Cash/Cash",
          "Portfolio/Economically Sensitive Exposures/Emerging Market Equities ",
          "Portfolio/Economically Sensitive Exposures/International Equities ",
          "Portfolio/Economically Sensitive Exposures/Long/Short Equities ",
          "Portfolio/Economically Sensitive Exposures/Private Equity ",
          "Portfolio/Economically Sensitive Exposures/Private Real Estate",
          "Portfolio/Economically Sensitive Exposures/Publicly Traded REITs ",
          "Portfolio/Economically Sensitive Exposures/U.S. Equities ",
          "Portfolio/Interest Rate Sensitive Exposures/U.S. Government Bonds ",
          "Portfolio/Interest Rate Sensitive Exposures/Very-High-Quality Corporate Bonds ",
          "Portfolio/Interest Rate Sensitive Exposures/Very-High-Quality Municipal Bonds",
          "Portfolio/Cash",
          "Portfolio/Economically Sensitive Exposures",
          "Portfolio/Interest Rate Sensitive Exposures",
          "Portfolio"
         ],
         "labels": [
          "ALTVX",
          "BLUEX",
          "BPLSX",
          "CASH",
          "DFAR",
          "DFAR",
          "FREL",
          "FREL",
          "FSMD",
          "GARIX",
          "GCHDX",
          "ICBFX",
          "IGMWX",
          "IGRO",
          "IMCB",
          "ISCF",
          "IVV",
          "JPEM",
          "JPRE",
          "JPRE",
          "MEAR",
          "MMIN",
          "MMIT",
          "PEX",
          "PFRAX",
          "PSAIX",
          "SCHD",
          "SNDPX",
          "SWRSX",
          "VBR",
          "VFIUX",
          "VGCAX",
          "VICSX",
          "VIGI",
          "VNQ",
          "VNQ",
          "VO",
          "VONG",
          "VTEB",
          "Cash",
          "Emerging Market Equities ",
          "International Equities ",
          "Long/Short Equities ",
          "Private Equity ",
          "Private Real Estate",
          "Publicly Traded REITs ",
          "U.S. Equities ",
          "U.S. Government Bonds ",
          "Very-High-Quality Corporate Bonds ",
          "Very-High-Quality Municipal Bonds",
          "Cash",
          "Economically Sensitive Exposures",
          "Interest Rate Sensitive Exposures",
          "Portfolio"
         ],
         "marker": {
          "coloraxis": "coloraxis",
          "colors": [
           1000,
           500,
           750,
           4469,
           1500,
           750,
           2300,
           500,
           4000,
           500,
           500,
           1000,
           5500,
           2000,
           4000,
           3000,
           4000,
           4000,
           2000,
           500,
           1000,
           1000,
           1000,
           4200,
           1000,
           1000,
           3000,
           1000,
           6000,
           1000,
           5500,
           1000,
           1000,
           3000,
           2500,
           750,
           2000,
           3000,
           1000,
           4469,
           4000,
           2750,
           583.3333333333334,
           4200,
           2143.373493975904,
           650,
           3380.9523809523807,
           5676.470588235294,
           1000,
           1000,
           4469,
           2932.686567164179,
           3741.3793103448274,
           3294.825081522713
          ]
         },
         "name": "",
         "parents": [
          "Portfolio/Interest Rate Sensitive Exposures/Very-High-Quality Municipal Bonds",
          "Portfolio/Economically Sensitive Exposures/Long/Short Equities ",
          "Portfolio/Economically Sensitive Exposures/Long/Short Equities ",
          "Portfolio/Cash/Cash",
          "Portfolio/Economically Sensitive Exposures/Private Real Estate",
          "Portfolio/Economically Sensitive Exposures/Publicly Traded REITs ",
          "Portfolio/Economically Sensitive Exposures/Private Real Estate",
          "Portfolio/Economically Sensitive Exposures/Publicly Traded REITs ",
          "Portfolio/Economically Sensitive Exposures/U.S. Equities ",
          "Portfolio/Economically Sensitive Exposures/Long/Short Equities ",
          "Portfolio/Economically Sensitive Exposures/Long/Short Equities ",
          "Portfolio/Interest Rate Sensitive Exposures/Very-High-Quality Corporate Bonds ",
          "Portfolio/Interest Rate Sensitive Exposures/U.S. Government Bonds ",
          "Portfolio/Economically Sensitive Exposures/International Equities ",
          "Portfolio/Economically Sensitive Exposures/U.S. Equities ",
          "Portfolio/Economically Sensitive Exposures/International Equities ",
          "Portfolio/Economically Sensitive Exposures/U.S. Equities ",
          "Portfolio/Economically Sensitive Exposures/Emerging Market Equities ",
          "Portfolio/Economically Sensitive Exposures/Private Real Estate",
          "Portfolio/Economically Sensitive Exposures/Publicly Traded REITs ",
          "Portfolio/Interest Rate Sensitive Exposures/Very-High-Quality Municipal Bonds",
          "Portfolio/Interest Rate Sensitive Exposures/Very-High-Quality Municipal Bonds",
          "Portfolio/Interest Rate Sensitive Exposures/Very-High-Quality Municipal Bonds",
          "Portfolio/Economically Sensitive Exposures/Private Equity ",
          "Portfolio/Interest Rate Sensitive Exposures/Very-High-Quality Corporate Bonds ",
          "Portfolio/Interest Rate Sensitive Exposures/Very-High-Quality Corporate Bonds ",
          "Portfolio/Economically Sensitive Exposures/U.S. Equities ",
          "Portfolio/Interest Rate Sensitive Exposures/Very-High-Quality Municipal Bonds",
          "Portfolio/Interest Rate Sensitive Exposures/U.S. Government Bonds ",
          "Portfolio/Economically Sensitive Exposures/U.S. Equities ",
          "Portfolio/Interest Rate Sensitive Exposures/U.S. Government Bonds ",
          "Portfolio/Interest Rate Sensitive Exposures/Very-High-Quality Corporate Bonds ",
          "Portfolio/Interest Rate Sensitive Exposures/Very-High-Quality Corporate Bonds ",
          "Portfolio/Economically Sensitive Exposures/International Equities ",
          "Portfolio/Economically Sensitive Exposures/Private Real Estate",
          "Portfolio/Economically Sensitive Exposures/Publicly Traded REITs ",
          "Portfolio/Economically Sensitive Exposures/U.S. Equities ",
          "Portfolio/Economically Sensitive Exposures/U.S. Equities ",
          "Portfolio/Interest Rate Sensitive Exposures/Very-High-Quality Municipal Bonds",
          "Portfolio/Cash",
          "Portfolio/Economically Sensitive Exposures",
          "Portfolio/Economically Sensitive Exposures",
          "Portfolio/Economically Sensitive Exposures",
          "Portfolio/Economically Sensitive Exposures",
          "Portfolio/Economically Sensitive Exposures",
          "Portfolio/Economically Sensitive Exposures",
          "Portfolio/Economically Sensitive Exposures",
          "Portfolio/Interest Rate Sensitive Exposures",
          "Portfolio/Interest Rate Sensitive Exposures",
          "Portfolio/Interest Rate Sensitive Exposures",
          "Portfolio",
          "Portfolio",
          "Portfolio",
          ""
         ],
         "type": "treemap",
         "values": [
          1000,
          500,
          750,
          4469,
          1500,
          750,
          2300,
          500,
          4000,
          500,
          500,
          1000,
          5500,
          2000,
          4000,
          3000,
          4000,
          4000,
          2000,
          500,
          1000,
          1000,
          1000,
          4200,
          1000,
          1000,
          3000,
          1000,
          6000,
          1000,
          5500,
          1000,
          2000,
          3000,
          2500,
          750,
          2000,
          3000,
          1000,
          4469,
          4000,
          8000,
          2250,
          4200,
          8300,
          2500,
          21000,
          17000,
          6000,
          6000,
          4469,
          50250,
          29000,
          83719
         ]
        }
       ],
       "layout": {
        "coloraxis": {
         "cmid": 3294.825081522713,
         "colorbar": {
          "title": {
           "text": "Value"
          }
         },
         "colorscale": [
          [
           0,
           "rgb(0, 128, 128)"
          ],
          [
           0.16666666666666666,
           "rgb(112, 164, 148)"
          ],
          [
           0.3333333333333333,
           "rgb(180, 200, 168)"
          ],
          [
           0.5,
           "rgb(246, 237, 189)"
          ],
          [
           0.6666666666666666,
           "rgb(237, 187, 138)"
          ],
          [
           0.8333333333333334,
           "rgb(222, 138, 90)"
          ],
          [
           1,
           "rgb(202, 86, 44)"
          ]
         ]
        },
        "height": 1000,
        "legend": {
         "tracegroupgap": 0
        },
        "margin": {
         "b": 50,
         "l": 50,
         "r": 50,
         "t": 100
        },
        "template": {
         "data": {
          "bar": [
           {
            "error_x": {
             "color": "#2a3f5f"
            },
            "error_y": {
             "color": "#2a3f5f"
            },
            "marker": {
             "line": {
              "color": "#E5ECF6",
              "width": 0.5
             },
             "pattern": {
              "fillmode": "overlay",
              "size": 10,
              "solidity": 0.2
             }
            },
            "type": "bar"
           }
          ],
          "barpolar": [
           {
            "marker": {
             "line": {
              "color": "#E5ECF6",
              "width": 0.5
             },
             "pattern": {
              "fillmode": "overlay",
              "size": 10,
              "solidity": 0.2
             }
            },
            "type": "barpolar"
           }
          ],
          "carpet": [
           {
            "aaxis": {
             "endlinecolor": "#2a3f5f",
             "gridcolor": "white",
             "linecolor": "white",
             "minorgridcolor": "white",
             "startlinecolor": "#2a3f5f"
            },
            "baxis": {
             "endlinecolor": "#2a3f5f",
             "gridcolor": "white",
             "linecolor": "white",
             "minorgridcolor": "white",
             "startlinecolor": "#2a3f5f"
            },
            "type": "carpet"
           }
          ],
          "choropleth": [
           {
            "colorbar": {
             "outlinewidth": 0,
             "ticks": ""
            },
            "type": "choropleth"
           }
          ],
          "contour": [
           {
            "colorbar": {
             "outlinewidth": 0,
             "ticks": ""
            },
            "colorscale": [
             [
              0,
              "#0d0887"
             ],
             [
              0.1111111111111111,
              "#46039f"
             ],
             [
              0.2222222222222222,
              "#7201a8"
             ],
             [
              0.3333333333333333,
              "#9c179e"
             ],
             [
              0.4444444444444444,
              "#bd3786"
             ],
             [
              0.5555555555555556,
              "#d8576b"
             ],
             [
              0.6666666666666666,
              "#ed7953"
             ],
             [
              0.7777777777777778,
              "#fb9f3a"
             ],
             [
              0.8888888888888888,
              "#fdca26"
             ],
             [
              1,
              "#f0f921"
             ]
            ],
            "type": "contour"
           }
          ],
          "contourcarpet": [
           {
            "colorbar": {
             "outlinewidth": 0,
             "ticks": ""
            },
            "type": "contourcarpet"
           }
          ],
          "heatmap": [
           {
            "colorbar": {
             "outlinewidth": 0,
             "ticks": ""
            },
            "colorscale": [
             [
              0,
              "#0d0887"
             ],
             [
              0.1111111111111111,
              "#46039f"
             ],
             [
              0.2222222222222222,
              "#7201a8"
             ],
             [
              0.3333333333333333,
              "#9c179e"
             ],
             [
              0.4444444444444444,
              "#bd3786"
             ],
             [
              0.5555555555555556,
              "#d8576b"
             ],
             [
              0.6666666666666666,
              "#ed7953"
             ],
             [
              0.7777777777777778,
              "#fb9f3a"
             ],
             [
              0.8888888888888888,
              "#fdca26"
             ],
             [
              1,
              "#f0f921"
             ]
            ],
            "type": "heatmap"
           }
          ],
          "heatmapgl": [
           {
            "colorbar": {
             "outlinewidth": 0,
             "ticks": ""
            },
            "colorscale": [
             [
              0,
              "#0d0887"
             ],
             [
              0.1111111111111111,
              "#46039f"
             ],
             [
              0.2222222222222222,
              "#7201a8"
             ],
             [
              0.3333333333333333,
              "#9c179e"
             ],
             [
              0.4444444444444444,
              "#bd3786"
             ],
             [
              0.5555555555555556,
              "#d8576b"
             ],
             [
              0.6666666666666666,
              "#ed7953"
             ],
             [
              0.7777777777777778,
              "#fb9f3a"
             ],
             [
              0.8888888888888888,
              "#fdca26"
             ],
             [
              1,
              "#f0f921"
             ]
            ],
            "type": "heatmapgl"
           }
          ],
          "histogram": [
           {
            "marker": {
             "pattern": {
              "fillmode": "overlay",
              "size": 10,
              "solidity": 0.2
             }
            },
            "type": "histogram"
           }
          ],
          "histogram2d": [
           {
            "colorbar": {
             "outlinewidth": 0,
             "ticks": ""
            },
            "colorscale": [
             [
              0,
              "#0d0887"
             ],
             [
              0.1111111111111111,
              "#46039f"
             ],
             [
              0.2222222222222222,
              "#7201a8"
             ],
             [
              0.3333333333333333,
              "#9c179e"
             ],
             [
              0.4444444444444444,
              "#bd3786"
             ],
             [
              0.5555555555555556,
              "#d8576b"
             ],
             [
              0.6666666666666666,
              "#ed7953"
             ],
             [
              0.7777777777777778,
              "#fb9f3a"
             ],
             [
              0.8888888888888888,
              "#fdca26"
             ],
             [
              1,
              "#f0f921"
             ]
            ],
            "type": "histogram2d"
           }
          ],
          "histogram2dcontour": [
           {
            "colorbar": {
             "outlinewidth": 0,
             "ticks": ""
            },
            "colorscale": [
             [
              0,
              "#0d0887"
             ],
             [
              0.1111111111111111,
              "#46039f"
             ],
             [
              0.2222222222222222,
              "#7201a8"
             ],
             [
              0.3333333333333333,
              "#9c179e"
             ],
             [
              0.4444444444444444,
              "#bd3786"
             ],
             [
              0.5555555555555556,
              "#d8576b"
             ],
             [
              0.6666666666666666,
              "#ed7953"
             ],
             [
              0.7777777777777778,
              "#fb9f3a"
             ],
             [
              0.8888888888888888,
              "#fdca26"
             ],
             [
              1,
              "#f0f921"
             ]
            ],
            "type": "histogram2dcontour"
           }
          ],
          "mesh3d": [
           {
            "colorbar": {
             "outlinewidth": 0,
             "ticks": ""
            },
            "type": "mesh3d"
           }
          ],
          "parcoords": [
           {
            "line": {
             "colorbar": {
              "outlinewidth": 0,
              "ticks": ""
             }
            },
            "type": "parcoords"
           }
          ],
          "pie": [
           {
            "automargin": true,
            "type": "pie"
           }
          ],
          "scatter": [
           {
            "fillpattern": {
             "fillmode": "overlay",
             "size": 10,
             "solidity": 0.2
            },
            "type": "scatter"
           }
          ],
          "scatter3d": [
           {
            "line": {
             "colorbar": {
              "outlinewidth": 0,
              "ticks": ""
             }
            },
            "marker": {
             "colorbar": {
              "outlinewidth": 0,
              "ticks": ""
             }
            },
            "type": "scatter3d"
           }
          ],
          "scattercarpet": [
           {
            "marker": {
             "colorbar": {
              "outlinewidth": 0,
              "ticks": ""
             }
            },
            "type": "scattercarpet"
           }
          ],
          "scattergeo": [
           {
            "marker": {
             "colorbar": {
              "outlinewidth": 0,
              "ticks": ""
             }
            },
            "type": "scattergeo"
           }
          ],
          "scattergl": [
           {
            "marker": {
             "colorbar": {
              "outlinewidth": 0,
              "ticks": ""
             }
            },
            "type": "scattergl"
           }
          ],
          "scattermapbox": [
           {
            "marker": {
             "colorbar": {
              "outlinewidth": 0,
              "ticks": ""
             }
            },
            "type": "scattermapbox"
           }
          ],
          "scatterpolar": [
           {
            "marker": {
             "colorbar": {
              "outlinewidth": 0,
              "ticks": ""
             }
            },
            "type": "scatterpolar"
           }
          ],
          "scatterpolargl": [
           {
            "marker": {
             "colorbar": {
              "outlinewidth": 0,
              "ticks": ""
             }
            },
            "type": "scatterpolargl"
           }
          ],
          "scatterternary": [
           {
            "marker": {
             "colorbar": {
              "outlinewidth": 0,
              "ticks": ""
             }
            },
            "type": "scatterternary"
           }
          ],
          "surface": [
           {
            "colorbar": {
             "outlinewidth": 0,
             "ticks": ""
            },
            "colorscale": [
             [
              0,
              "#0d0887"
             ],
             [
              0.1111111111111111,
              "#46039f"
             ],
             [
              0.2222222222222222,
              "#7201a8"
             ],
             [
              0.3333333333333333,
              "#9c179e"
             ],
             [
              0.4444444444444444,
              "#bd3786"
             ],
             [
              0.5555555555555556,
              "#d8576b"
             ],
             [
              0.6666666666666666,
              "#ed7953"
             ],
             [
              0.7777777777777778,
              "#fb9f3a"
             ],
             [
              0.8888888888888888,
              "#fdca26"
             ],
             [
              1,
              "#f0f921"
             ]
            ],
            "type": "surface"
           }
          ],
          "table": [
           {
            "cells": {
             "fill": {
              "color": "#EBF0F8"
             },
             "line": {
              "color": "white"
             }
            },
            "header": {
             "fill": {
              "color": "#C8D4E3"
             },
             "line": {
              "color": "white"
             }
            },
            "type": "table"
           }
          ]
         },
         "layout": {
          "annotationdefaults": {
           "arrowcolor": "#2a3f5f",
           "arrowhead": 0,
           "arrowwidth": 1
          },
          "autotypenumbers": "strict",
          "coloraxis": {
           "colorbar": {
            "outlinewidth": 0,
            "ticks": ""
           }
          },
          "colorscale": {
           "diverging": [
            [
             0,
             "#8e0152"
            ],
            [
             0.1,
             "#c51b7d"
            ],
            [
             0.2,
             "#de77ae"
            ],
            [
             0.3,
             "#f1b6da"
            ],
            [
             0.4,
             "#fde0ef"
            ],
            [
             0.5,
             "#f7f7f7"
            ],
            [
             0.6,
             "#e6f5d0"
            ],
            [
             0.7,
             "#b8e186"
            ],
            [
             0.8,
             "#7fbc41"
            ],
            [
             0.9,
             "#4d9221"
            ],
            [
             1,
             "#276419"
            ]
           ],
           "sequential": [
            [
             0,
             "#0d0887"
            ],
            [
             0.1111111111111111,
             "#46039f"
            ],
            [
             0.2222222222222222,
             "#7201a8"
            ],
            [
             0.3333333333333333,
             "#9c179e"
            ],
            [
             0.4444444444444444,
             "#bd3786"
            ],
            [
             0.5555555555555556,
             "#d8576b"
            ],
            [
             0.6666666666666666,
             "#ed7953"
            ],
            [
             0.7777777777777778,
             "#fb9f3a"
            ],
            [
             0.8888888888888888,
             "#fdca26"
            ],
            [
             1,
             "#f0f921"
            ]
           ],
           "sequentialminus": [
            [
             0,
             "#0d0887"
            ],
            [
             0.1111111111111111,
             "#46039f"
            ],
            [
             0.2222222222222222,
             "#7201a8"
            ],
            [
             0.3333333333333333,
             "#9c179e"
            ],
            [
             0.4444444444444444,
             "#bd3786"
            ],
            [
             0.5555555555555556,
             "#d8576b"
            ],
            [
             0.6666666666666666,
             "#ed7953"
            ],
            [
             0.7777777777777778,
             "#fb9f3a"
            ],
            [
             0.8888888888888888,
             "#fdca26"
            ],
            [
             1,
             "#f0f921"
            ]
           ]
          },
          "colorway": [
           "#636efa",
           "#EF553B",
           "#00cc96",
           "#ab63fa",
           "#FFA15A",
           "#19d3f3",
           "#FF6692",
           "#B6E880",
           "#FF97FF",
           "#FECB52"
          ],
          "font": {
           "color": "#2a3f5f"
          },
          "geo": {
           "bgcolor": "white",
           "lakecolor": "white",
           "landcolor": "#E5ECF6",
           "showlakes": true,
           "showland": true,
           "subunitcolor": "white"
          },
          "hoverlabel": {
           "align": "left"
          },
          "hovermode": "closest",
          "mapbox": {
           "style": "light"
          },
          "paper_bgcolor": "white",
          "plot_bgcolor": "#E5ECF6",
          "polar": {
           "angularaxis": {
            "gridcolor": "white",
            "linecolor": "white",
            "ticks": ""
           },
           "bgcolor": "#E5ECF6",
           "radialaxis": {
            "gridcolor": "white",
            "linecolor": "white",
            "ticks": ""
           }
          },
          "scene": {
           "xaxis": {
            "backgroundcolor": "#E5ECF6",
            "gridcolor": "white",
            "gridwidth": 2,
            "linecolor": "white",
            "showbackground": true,
            "ticks": "",
            "zerolinecolor": "white"
           },
           "yaxis": {
            "backgroundcolor": "#E5ECF6",
            "gridcolor": "white",
            "gridwidth": 2,
            "linecolor": "white",
            "showbackground": true,
            "ticks": "",
            "zerolinecolor": "white"
           },
           "zaxis": {
            "backgroundcolor": "#E5ECF6",
            "gridcolor": "white",
            "gridwidth": 2,
            "linecolor": "white",
            "showbackground": true,
            "ticks": "",
            "zerolinecolor": "white"
           }
          },
          "shapedefaults": {
           "line": {
            "color": "#2a3f5f"
           }
          },
          "ternary": {
           "aaxis": {
            "gridcolor": "white",
            "linecolor": "white",
            "ticks": ""
           },
           "baxis": {
            "gridcolor": "white",
            "linecolor": "white",
            "ticks": ""
           },
           "bgcolor": "#E5ECF6",
           "caxis": {
            "gridcolor": "white",
            "linecolor": "white",
            "ticks": ""
           }
          },
          "title": {
           "x": 0.05
          },
          "xaxis": {
           "automargin": true,
           "gridcolor": "white",
           "linecolor": "white",
           "ticks": "",
           "title": {
            "standoff": 15
           },
           "zerolinecolor": "white",
           "zerolinewidth": 2
          },
          "yaxis": {
           "automargin": true,
           "gridcolor": "white",
           "linecolor": "white",
           "ticks": "",
           "title": {
            "standoff": 15
           },
           "zerolinecolor": "white",
           "zerolinewidth": 2
          }
         }
        },
        "title": {
         "text": "Scenario 3: Portfolio"
        },
        "width": 1000
       }
      },
      "image/png": "[encoded data removed]",
      "text/html": [
       "<div>                            <div id=\"99031377-b6bd-4b79-b716-20d797008820\" class=\"plotly-graph-div\" style=\"height:1000px; width:1000px;\"></div>            <script type=\"text/javascript\">                require([\"plotly\"], function(Plotly) {                    window.PLOTLYENV=window.PLOTLYENV || {};                                    if (document.getElementById(\"99031377-b6bd-4b79-b716-20d797008820\")) {                    Plotly.newPlot(                        \"99031377-b6bd-4b79-b716-20d797008820\",                        [{\"branchvalues\":\"total\",\"customdata\":[[\"Very-High-Quality Municipal Bonds\",1000.0],[\"Long/Short Equities\\u00a0\",500.0],[\"Long/Short Equities\\u00a0\",750.0],[\"Cash\",4469.0],[\"Private Real Estate\",1500.0],[\"Publicly Traded REITs\\u00a0\",750.0],[\"Private Real Estate\",2300.0],[\"Publicly Traded REITs\\u00a0\",500.0],[\"U.S. Equities\\u00a0\",4000.0],[\"Long/Short Equities\\u00a0\",500.0],[\"Long/Short Equities\\u00a0\",500.0],[\"Very-High-Quality Corporate Bonds\\u00a0\",1000.0],[\"U.S. Government Bonds\\u00a0\",5500.0],[\"International Equities\\u00a0\",2000.0],[\"U.S. Equities\\u00a0\",4000.0],[\"International Equities\\u00a0\",3000.0],[\"U.S. Equities\\u00a0\",4000.0],[\"Emerging Market Equities\\u00a0\",4000.0],[\"Private Real Estate\",2000.0],[\"Publicly Traded REITs\\u00a0\",500.0],[\"Very-High-Quality Municipal Bonds\",1000.0],[\"Very-High-Quality Municipal Bonds\",1000.0],[\"Very-High-Quality Municipal Bonds\",1000.0],[\"Private Equity\\u00a0\",4200.0],[\"Very-High-Quality Corporate Bonds\\u00a0\",1000.0],[\"Very-High-Quality Corporate Bonds\\u00a0\",1000.0],[\"U.S. Equities\\u00a0\",3000.0],[\"Very-High-Quality Municipal Bonds\",1000.0],[\"U.S. Government Bonds\\u00a0\",6000.0],[\"U.S. Equities\\u00a0\",1000.0],[\"U.S. Government Bonds\\u00a0\",5500.0],[\"Very-High-Quality Corporate Bonds\\u00a0\",1000.0],[\"Very-High-Quality Corporate Bonds\\u00a0\",1000.0],[\"International Equities\\u00a0\",3000.0],[\"Private Real Estate\",2500.0],[\"Publicly Traded REITs\\u00a0\",750.0],[\"U.S. Equities\\u00a0\",2000.0],[\"U.S. Equities\\u00a0\",3000.0],[\"Very-High-Quality Municipal Bonds\",1000.0],[\"Cash\",4469.0],[\"Emerging Market Equities\\u00a0\",4000.0],[\"International Equities\\u00a0\",2750.0],[\"Long/Short Equities\\u00a0\",583.3333333333334],[\"Private Equity\\u00a0\",4200.0],[\"Private Real Estate\",2143.373493975904],[\"Publicly Traded REITs\\u00a0\",650.0],[\"U.S. Equities\\u00a0\",3380.9523809523807],[\"U.S. Government Bonds\\u00a0\",5676.470588235294],[\"Very-High-Quality Corporate Bonds\\u00a0\",1000.0],[\"Very-High-Quality Municipal Bonds\",1000.0],[\"Cash\",4469.0],[\"(?)\",2932.686567164179],[\"(?)\",3741.3793103448274],[\"(?)\",3294.825081522713]],\"domain\":{\"x\":[0.0,1.0],\"y\":[0.0,1.0]},\"hovertemplate\":\"labels=%{label}<br>Value_sum=%{value}<br>parent=%{parent}<br>id=%{id}<br>Sub_Class=%{customdata[0]}<br>Value=%{color}<extra></extra>\",\"ids\":[\"Portfolio/Interest Rate Sensitive Exposures/Very-High-Quality Municipal Bonds/ALTVX\",\"Portfolio/Economically Sensitive Exposures/Long/Short Equities\\u00a0/BLUEX\",\"Portfolio/Economically Sensitive Exposures/Long/Short Equities\\u00a0/BPLSX\",\"Portfolio/Cash/Cash/CASH\",\"Portfolio/Economically Sensitive Exposures/Private Real Estate/DFAR\",\"Portfolio/Economically Sensitive Exposures/Publicly Traded REITs\\u00a0/DFAR\",\"Portfolio/Economically Sensitive Exposures/Private Real Estate/FREL\",\"Portfolio/Economically Sensitive Exposures/Publicly Traded REITs\\u00a0/FREL\",\"Portfolio/Economically Sensitive Exposures/U.S. Equities\\u00a0/FSMD\",\"Portfolio/Economically Sensitive Exposures/Long/Short Equities\\u00a0/GARIX\",\"Portfolio/Economically Sensitive Exposures/Long/Short Equities\\u00a0/GCHDX\",\"Portfolio/Interest Rate Sensitive Exposures/Very-High-Quality Corporate Bonds\\u00a0/ICBFX\",\"Portfolio/Interest Rate Sensitive Exposures/U.S. Government Bonds\\u00a0/IGMWX\",\"Portfolio/Economically Sensitive Exposures/International Equities\\u00a0/IGRO\",\"Portfolio/Economically Sensitive Exposures/U.S. Equities\\u00a0/IMCB\",\"Portfolio/Economically Sensitive Exposures/International Equities\\u00a0/ISCF\",\"Portfolio/Economically Sensitive Exposures/U.S. Equities\\u00a0/IVV\",\"Portfolio/Economically Sensitive Exposures/Emerging Market Equities\\u00a0/JPEM\",\"Portfolio/Economically Sensitive Exposures/Private Real Estate/JPRE\",\"Portfolio/Economically Sensitive Exposures/Publicly Traded REITs\\u00a0/JPRE\",\"Portfolio/Interest Rate Sensitive Exposures/Very-High-Quality Municipal Bonds/MEAR\",\"Portfolio/Interest Rate Sensitive Exposures/Very-High-Quality Municipal Bonds/MMIN\",\"Portfolio/Interest Rate Sensitive Exposures/Very-High-Quality Municipal Bonds/MMIT\",\"Portfolio/Economically Sensitive Exposures/Private Equity\\u00a0/PEX\",\"Portfolio/Interest Rate Sensitive Exposures/Very-High-Quality Corporate Bonds\\u00a0/PFRAX\",\"Portfolio/Interest Rate Sensitive Exposures/Very-High-Quality Corporate Bonds\\u00a0/PSAIX\",\"Portfolio/Economically Sensitive Exposures/U.S. Equities\\u00a0/SCHD\",\"Portfolio/Interest Rate Sensitive Exposures/Very-High-Quality Municipal Bonds/SNDPX\",\"Portfolio/Interest Rate Sensitive Exposures/U.S. Government Bonds\\u00a0/SWRSX\",\"Portfolio/Economically Sensitive Exposures/U.S. Equities\\u00a0/VBR\",\"Portfolio/Interest Rate Sensitive Exposures/U.S. Government Bonds\\u00a0/VFIUX\",\"Portfolio/Interest Rate Sensitive Exposures/Very-High-Quality Corporate Bonds\\u00a0/VGCAX\",\"Portfolio/Interest Rate Sensitive Exposures/Very-High-Quality Corporate Bonds\\u00a0/VICSX\",\"Portfolio/Economically Sensitive Exposures/International Equities\\u00a0/VIGI\",\"Portfolio/Economically Sensitive Exposures/Private Real Estate/VNQ\",\"Portfolio/Economically Sensitive Exposures/Publicly Traded REITs\\u00a0/VNQ\",\"Portfolio/Economically Sensitive Exposures/U.S. Equities\\u00a0/VO\",\"Portfolio/Economically Sensitive Exposures/U.S. Equities\\u00a0/VONG\",\"Portfolio/Interest Rate Sensitive Exposures/Very-High-Quality Municipal Bonds/VTEB\",\"Portfolio/Cash/Cash\",\"Portfolio/Economically Sensitive Exposures/Emerging Market Equities\\u00a0\",\"Portfolio/Economically Sensitive Exposures/International Equities\\u00a0\",\"Portfolio/Economically Sensitive Exposures/Long/Short Equities\\u00a0\",\"Portfolio/Economically Sensitive Exposures/Private Equity\\u00a0\",\"Portfolio/Economically Sensitive Exposures/Private Real Estate\",\"Portfolio/Economically Sensitive Exposures/Publicly Traded REITs\\u00a0\",\"Portfolio/Economically Sensitive Exposures/U.S. Equities\\u00a0\",\"Portfolio/Interest Rate Sensitive Exposures/U.S. Government Bonds\\u00a0\",\"Portfolio/Interest Rate Sensitive Exposures/Very-High-Quality Corporate Bonds\\u00a0\",\"Portfolio/Interest Rate Sensitive Exposures/Very-High-Quality Municipal Bonds\",\"Portfolio/Cash\",\"Portfolio/Economically Sensitive Exposures\",\"Portfolio/Interest Rate Sensitive Exposures\",\"Portfolio\"],\"labels\":[\"ALTVX\",\"BLUEX\",\"BPLSX\",\"CASH\",\"DFAR\",\"DFAR\",\"FREL\",\"FREL\",\"FSMD\",\"GARIX\",\"GCHDX\",\"ICBFX\",\"IGMWX\",\"IGRO\",\"IMCB\",\"ISCF\",\"IVV\",\"JPEM\",\"JPRE\",\"JPRE\",\"MEAR\",\"MMIN\",\"MMIT\",\"PEX\",\"PFRAX\",\"PSAIX\",\"SCHD\",\"SNDPX\",\"SWRSX\",\"VBR\",\"VFIUX\",\"VGCAX\",\"VICSX\",\"VIGI\",\"VNQ\",\"VNQ\",\"VO\",\"VONG\",\"VTEB\",\"Cash\",\"Emerging Market Equities\\u00a0\",\"International Equities\\u00a0\",\"Long/Short Equities\\u00a0\",\"Private Equity\\u00a0\",\"Private Real Estate\",\"Publicly Traded REITs\\u00a0\",\"U.S. Equities\\u00a0\",\"U.S. Government Bonds\\u00a0\",\"Very-High-Quality Corporate Bonds\\u00a0\",\"Very-High-Quality Municipal Bonds\",\"Cash\",\"Economically Sensitive Exposures\",\"Interest Rate Sensitive Exposures\",\"Portfolio\"],\"marker\":{\"coloraxis\":\"coloraxis\",\"colors\":[1000.0,500.0,750.0,4469.0,1500.0,750.0,2300.0,500.0,4000.0,500.0,500.0,1000.0,5500.0,2000.0,4000.0,3000.0,4000.0,4000.0,2000.0,500.0,1000.0,1000.0,1000.0,4200.0,1000.0,1000.0,3000.0,1000.0,6000.0,1000.0,5500.0,1000.0,1000.0,3000.0,2500.0,750.0,2000.0,3000.0,1000.0,4469.0,4000.0,2750.0,583.3333333333334,4200.0,2143.373493975904,650.0,3380.9523809523807,5676.470588235294,1000.0,1000.0,4469.0,2932.686567164179,3741.3793103448274,3294.825081522713]},\"name\":\"\",\"parents\":[\"Portfolio/Interest Rate Sensitive Exposures/Very-High-Quality Municipal Bonds\",\"Portfolio/Economically Sensitive Exposures/Long/Short Equities\\u00a0\",\"Portfolio/Economically Sensitive Exposures/Long/Short Equities\\u00a0\",\"Portfolio/Cash/Cash\",\"Portfolio/Economically Sensitive Exposures/Private Real Estate\",\"Portfolio/Economically Sensitive Exposures/Publicly Traded REITs\\u00a0\",\"Portfolio/Economically Sensitive Exposures/Private Real Estate\",\"Portfolio/Economically Sensitive Exposures/Publicly Traded REITs\\u00a0\",\"Portfolio/Economically Sensitive Exposures/U.S. Equities\\u00a0\",\"Portfolio/Economically Sensitive Exposures/Long/Short Equities\\u00a0\",\"Portfolio/Economically Sensitive Exposures/Long/Short Equities\\u00a0\",\"Portfolio/Interest Rate Sensitive Exposures/Very-High-Quality Corporate Bonds\\u00a0\",\"Portfolio/Interest Rate Sensitive Exposures/U.S. Government Bonds\\u00a0\",\"Portfolio/Economically Sensitive Exposures/International Equities\\u00a0\",\"Portfolio/Economically Sensitive Exposures/U.S. Equities\\u00a0\",\"Portfolio/Economically Sensitive Exposures/International Equities\\u00a0\",\"Portfolio/Economically Sensitive Exposures/U.S. Equities\\u00a0\",\"Portfolio/Economically Sensitive Exposures/Emerging Market Equities\\u00a0\",\"Portfolio/Economically Sensitive Exposures/Private Real Estate\",\"Portfolio/Economically Sensitive Exposures/Publicly Traded REITs\\u00a0\",\"Portfolio/Interest Rate Sensitive Exposures/Very-High-Quality Municipal Bonds\",\"Portfolio/Interest Rate Sensitive Exposures/Very-High-Quality Municipal Bonds\",\"Portfolio/Interest Rate Sensitive Exposures/Very-High-Quality Municipal Bonds\",\"Portfolio/Economically Sensitive Exposures/Private Equity\\u00a0\",\"Portfolio/Interest Rate Sensitive Exposures/Very-High-Quality Corporate Bonds\\u00a0\",\"Portfolio/Interest Rate Sensitive Exposures/Very-High-Quality Corporate Bonds\\u00a0\",\"Portfolio/Economically Sensitive Exposures/U.S. Equities\\u00a0\",\"Portfolio/Interest Rate Sensitive Exposures/Very-High-Quality Municipal Bonds\",\"Portfolio/Interest Rate Sensitive Exposures/U.S. Government Bonds\\u00a0\",\"Portfolio/Economically Sensitive Exposures/U.S. Equities\\u00a0\",\"Portfolio/Interest Rate Sensitive Exposures/U.S. Government Bonds\\u00a0\",\"Portfolio/Interest Rate Sensitive Exposures/Very-High-Quality Corporate Bonds\\u00a0\",\"Portfolio/Interest Rate Sensitive Exposures/Very-High-Quality Corporate Bonds\\u00a0\",\"Portfolio/Economically Sensitive Exposures/International Equities\\u00a0\",\"Portfolio/Economically Sensitive Exposures/Private Real Estate\",\"Portfolio/Economically Sensitive Exposures/Publicly Traded REITs\\u00a0\",\"Portfolio/Economically Sensitive Exposures/U.S. Equities\\u00a0\",\"Portfolio/Economically Sensitive Exposures/U.S. Equities\\u00a0\",\"Portfolio/Interest Rate Sensitive Exposures/Very-High-Quality Municipal Bonds\",\"Portfolio/Cash\",\"Portfolio/Economically Sensitive Exposures\",\"Portfolio/Economically Sensitive Exposures\",\"Portfolio/Economically Sensitive Exposures\",\"Portfolio/Economically Sensitive Exposures\",\"Portfolio/Economically Sensitive Exposures\",\"Portfolio/Economically Sensitive Exposures\",\"Portfolio/Economically Sensitive Exposures\",\"Portfolio/Interest Rate Sensitive Exposures\",\"Portfolio/Interest Rate Sensitive Exposures\",\"Portfolio/Interest Rate Sensitive Exposures\",\"Portfolio\",\"Portfolio\",\"Portfolio\",\"\"],\"values\":[1000.0,500.0,750.0,4469.0,1500.0,750.0,2300.0,500.0,4000.0,500.0,500.0,1000.0,5500.0,2000.0,4000.0,3000.0,4000.0,4000.0,2000.0,500.0,1000.0,1000.0,1000.0,4200.0,1000.0,1000.0,3000.0,1000.0,6000.0,1000.0,5500.0,1000.0,2000.0,3000.0,2500.0,750.0,2000.0,3000.0,1000.0,4469.0,4000.0,8000.0,2250.0,4200.0,8300.0,2500.0,21000.0,17000.0,6000.0,6000.0,4469.0,50250.0,29000.0,83719.0],\"type\":\"treemap\"}],                        {\"template\":{\"data\":{\"histogram2dcontour\":[{\"type\":\"histogram2dcontour\",\"colorbar\":{\"outlinewidth\":0,\"ticks\":\"\"},\"colorscale\":[[0.0,\"#0d0887\"],[0.1111111111111111,\"#46039f\"],[0.2222222222222222,\"#7201a8\"],[0.3333333333333333,\"#9c179e\"],[0.4444444444444444,\"#bd3786\"],[0.5555555555555556,\"#d8576b\"],[0.6666666666666666,\"#ed7953\"],[0.7777777777777778,\"#fb9f3a\"],[0.8888888888888888,\"#fdca26\"],[1.0,\"#f0f921\"]]}],\"choropleth\":[{\"type\":\"choropleth\",\"colorbar\":{\"outlinewidth\":0,\"ticks\":\"\"}}],\"histogram2d\":[{\"type\":\"histogram2d\",\"colorbar\":{\"outlinewidth\":0,\"ticks\":\"\"},\"colorscale\":[[0.0,\"#0d0887\"],[0.1111111111111111,\"#46039f\"],[0.2222222222222222,\"#7201a8\"],[0.3333333333333333,\"#9c179e\"],[0.4444444444444444,\"#bd3786\"],[0.5555555555555556,\"#d8576b\"],[0.6666666666666666,\"#ed7953\"],[0.7777777777777778,\"#fb9f3a\"],[0.8888888888888888,\"#fdca26\"],[1.0,\"#f0f921\"]]}],\"heatmap\":[{\"type\":\"heatmap\",\"colorbar\":{\"outlinewidth\":0,\"ticks\":\"\"},\"colorscale\":[[0.0,\"#0d0887\"],[0.1111111111111111,\"#46039f\"],[0.2222222222222222,\"#7201a8\"],[0.3333333333333333,\"#9c179e\"],[0.4444444444444444,\"#bd3786\"],[0.5555555555555556,\"#d8576b\"],[0.6666666666666666,\"#ed7953\"],[0.7777777777777778,\"#fb9f3a\"],[0.8888888888888888,\"#fdca26\"],[1.0,\"#f0f921\"]]}],\"heatmapgl\":[{\"type\":\"heatmapgl\",\"colorbar\":{\"outlinewidth\":0,\"ticks\":\"\"},\"colorscale\":[[0.0,\"#0d0887\"],[0.1111111111111111,\"#46039f\"],[0.2222222222222222,\"#7201a8\"],[0.3333333333333333,\"#9c179e\"],[0.4444444444444444,\"#bd3786\"],[0.5555555555555556,\"#d8576b\"],[0.6666666666666666,\"#ed7953\"],[0.7777777777777778,\"#fb9f3a\"],[0.8888888888888888,\"#fdca26\"],[1.0,\"#f0f921\"]]}],\"contourcarpet\":[{\"type\":\"contourcarpet\",\"colorbar\":{\"outlinewidth\":0,\"ticks\":\"\"}}],\"contour\":[{\"type\":\"contour\",\"colorbar\":{\"outlinewidth\":0,\"ticks\":\"\"},\"colorscale\":[[0.0,\"#0d0887\"],[0.1111111111111111,\"#46039f\"],[0.2222222222222222,\"#7201a8\"],[0.3333333333333333,\"#9c179e\"],[0.4444444444444444,\"#bd3786\"],[0.5555555555555556,\"#d8576b\"],[0.6666666666666666,\"#ed7953\"],[0.7777777777777778,\"#fb9f3a\"],[0.8888888888888888,\"#fdca26\"],[1.0,\"#f0f921\"]]}],\"surface\":[{\"type\":\"surface\",\"colorbar\":{\"outlinewidth\":0,\"ticks\":\"\"},\"colorscale\":[[0.0,\"#0d0887\"],[0.1111111111111111,\"#46039f\"],[0.2222222222222222,\"#7201a8\"],[0.3333333333333333,\"#9c179e\"],[0.4444444444444444,\"#bd3786\"],[0.5555555555555556,\"#d8576b\"],[0.6666666666666666,\"#ed7953\"],[0.7777777777777778,\"#fb9f3a\"],[0.8888888888888888,\"#fdca26\"],[1.0,\"#f0f921\"]]}],\"mesh3d\":[{\"type\":\"mesh3d\",\"colorbar\":{\"outlinewidth\":0,\"ticks\":\"\"}}],\"scatter\":[{\"fillpattern\":{\"fillmode\":\"overlay\",\"size\":10,\"solidity\":0.2},\"type\":\"scatter\"}],\"parcoords\":[{\"type\":\"parcoords\",\"line\":{\"colorbar\":{\"outlinewidth\":0,\"ticks\":\"\"}}}],\"scatterpolargl\":[{\"type\":\"scatterpolargl\",\"marker\":{\"colorbar\":{\"outlinewidth\":0,\"ticks\":\"\"}}}],\"bar\":[{\"error_x\":{\"color\":\"#2a3f5f\"},\"error_y\":{\"color\":\"#2a3f5f\"},\"marker\":{\"line\":{\"color\":\"#E5ECF6\",\"width\":0.5},\"pattern\":{\"fillmode\":\"overlay\",\"size\":10,\"solidity\":0.2}},\"type\":\"bar\"}],\"scattergeo\":[{\"type\":\"scattergeo\",\"marker\":{\"colorbar\":{\"outlinewidth\":0,\"ticks\":\"\"}}}],\"scatterpolar\":[{\"type\":\"scatterpolar\",\"marker\":{\"colorbar\":{\"outlinewidth\":0,\"ticks\":\"\"}}}],\"histogram\":[{\"marker\":{\"pattern\":{\"fillmode\":\"overlay\",\"size\":10,\"solidity\":0.2}},\"type\":\"histogram\"}],\"scattergl\":[{\"type\":\"scattergl\",\"marker\":{\"colorbar\":{\"outlinewidth\":0,\"ticks\":\"\"}}}],\"scatter3d\":[{\"type\":\"scatter3d\",\"line\":{\"colorbar\":{\"outlinewidth\":0,\"ticks\":\"\"}},\"marker\":{\"colorbar\":{\"outlinewidth\":0,\"ticks\":\"\"}}}],\"scattermapbox\":[{\"type\":\"scattermapbox\",\"marker\":{\"colorbar\":{\"outlinewidth\":0,\"ticks\":\"\"}}}],\"scatterternary\":[{\"type\":\"scatterternary\",\"marker\":{\"colorbar\":{\"outlinewidth\":0,\"ticks\":\"\"}}}],\"scattercarpet\":[{\"type\":\"scattercarpet\",\"marker\":{\"colorbar\":{\"outlinewidth\":0,\"ticks\":\"\"}}}],\"carpet\":[{\"aaxis\":{\"endlinecolor\":\"#2a3f5f\",\"gridcolor\":\"white\",\"linecolor\":\"white\",\"minorgridcolor\":\"white\",\"startlinecolor\":\"#2a3f5f\"},\"baxis\":{\"endlinecolor\":\"#2a3f5f\",\"gridcolor\":\"white\",\"linecolor\":\"white\",\"minorgridcolor\":\"white\",\"startlinecolor\":\"#2a3f5f\"},\"type\":\"carpet\"}],\"table\":[{\"cells\":{\"fill\":{\"color\":\"#EBF0F8\"},\"line\":{\"color\":\"white\"}},\"header\":{\"fill\":{\"color\":\"#C8D4E3\"},\"line\":{\"color\":\"white\"}},\"type\":\"table\"}],\"barpolar\":[{\"marker\":{\"line\":{\"color\":\"#E5ECF6\",\"width\":0.5},\"pattern\":{\"fillmode\":\"overlay\",\"size\":10,\"solidity\":0.2}},\"type\":\"barpolar\"}],\"pie\":[{\"automargin\":true,\"type\":\"pie\"}]},\"layout\":{\"autotypenumbers\":\"strict\",\"colorway\":[\"#636efa\",\"#EF553B\",\"#00cc96\",\"#ab63fa\",\"#FFA15A\",\"#19d3f3\",\"#FF6692\",\"#B6E880\",\"#FF97FF\",\"#FECB52\"],\"font\":{\"color\":\"#2a3f5f\"},\"hovermode\":\"closest\",\"hoverlabel\":{\"align\":\"left\"},\"paper_bgcolor\":\"white\",\"plot_bgcolor\":\"#E5ECF6\",\"polar\":{\"bgcolor\":\"#E5ECF6\",\"angularaxis\":{\"gridcolor\":\"white\",\"linecolor\":\"white\",\"ticks\":\"\"},\"radialaxis\":{\"gridcolor\":\"white\",\"linecolor\":\"white\",\"ticks\":\"\"}},\"ternary\":{\"bgcolor\":\"#E5ECF6\",\"aaxis\":{\"gridcolor\":\"white\",\"linecolor\":\"white\",\"ticks\":\"\"},\"baxis\":{\"gridcolor\":\"white\",\"linecolor\":\"white\",\"ticks\":\"\"},\"caxis\":{\"gridcolor\":\"white\",\"linecolor\":\"white\",\"ticks\":\"\"}},\"coloraxis\":{\"colorbar\":{\"outlinewidth\":0,\"ticks\":\"\"}},\"colorscale\":{\"sequential\":[[0.0,\"#0d0887\"],[0.1111111111111111,\"#46039f\"],[0.2222222222222222,\"#7201a8\"],[0.3333333333333333,\"#9c179e\"],[0.4444444444444444,\"#bd3786\"],[0.5555555555555556,\"#d8576b\"],[0.6666666666666666,\"#ed7953\"],[0.7777777777777778,\"#fb9f3a\"],[0.8888888888888888,\"#fdca26\"],[1.0,\"#f0f921\"]],\"sequentialminus\":[[0.0,\"#0d0887\"],[0.1111111111111111,\"#46039f\"],[0.2222222222222222,\"#7201a8\"],[0.3333333333333333,\"#9c179e\"],[0.4444444444444444,\"#bd3786\"],[0.5555555555555556,\"#d8576b\"],[0.6666666666666666,\"#ed7953\"],[0.7777777777777778,\"#fb9f3a\"],[0.8888888888888888,\"#fdca26\"],[1.0,\"#f0f921\"]],\"diverging\":[[0,\"#8e0152\"],[0.1,\"#c51b7d\"],[0.2,\"#de77ae\"],[0.3,\"#f1b6da\"],[0.4,\"#fde0ef\"],[0.5,\"#f7f7f7\"],[0.6,\"#e6f5d0\"],[0.7,\"#b8e186\"],[0.8,\"#7fbc41\"],[0.9,\"#4d9221\"],[1,\"#276419\"]]},\"xaxis\":{\"gridcolor\":\"white\",\"linecolor\":\"white\",\"ticks\":\"\",\"title\":{\"standoff\":15},\"zerolinecolor\":\"white\",\"automargin\":true,\"zerolinewidth\":2},\"yaxis\":{\"gridcolor\":\"white\",\"linecolor\":\"white\",\"ticks\":\"\",\"title\":{\"standoff\":15},\"zerolinecolor\":\"white\",\"automargin\":true,\"zerolinewidth\":2},\"scene\":{\"xaxis\":{\"backgroundcolor\":\"#E5ECF6\",\"gridcolor\":\"white\",\"linecolor\":\"white\",\"showbackground\":true,\"ticks\":\"\",\"zerolinecolor\":\"white\",\"gridwidth\":2},\"yaxis\":{\"backgroundcolor\":\"#E5ECF6\",\"gridcolor\":\"white\",\"linecolor\":\"white\",\"showbackground\":true,\"ticks\":\"\",\"zerolinecolor\":\"white\",\"gridwidth\":2},\"zaxis\":{\"backgroundcolor\":\"#E5ECF6\",\"gridcolor\":\"white\",\"linecolor\":\"white\",\"showbackground\":true,\"ticks\":\"\",\"zerolinecolor\":\"white\",\"gridwidth\":2}},\"shapedefaults\":{\"line\":{\"color\":\"#2a3f5f\"}},\"annotationdefaults\":{\"arrowcolor\":\"#2a3f5f\",\"arrowhead\":0,\"arrowwidth\":1},\"geo\":{\"bgcolor\":\"white\",\"landcolor\":\"#E5ECF6\",\"subunitcolor\":\"white\",\"showland\":true,\"showlakes\":true,\"lakecolor\":\"white\"},\"title\":{\"x\":0.05},\"mapbox\":{\"style\":\"light\"}}},\"coloraxis\":{\"colorbar\":{\"title\":{\"text\":\"Value\"}},\"colorscale\":[[0.0,\"rgb(0, 128, 128)\"],[0.16666666666666666,\"rgb(112, 164, 148)\"],[0.3333333333333333,\"rgb(180, 200, 168)\"],[0.5,\"rgb(246, 237, 189)\"],[0.6666666666666666,\"rgb(237, 187, 138)\"],[0.8333333333333334,\"rgb(222, 138, 90)\"],[1.0,\"rgb(202, 86, 44)\"]],\"cmid\":3294.825081522713},\"legend\":{\"tracegroupgap\":0},\"margin\":{\"t\":100,\"l\":50,\"r\":50,\"b\":50},\"width\":1000,\"height\":1000,\"title\":{\"text\":\"Scenario 3: Portfolio\"}},                        {\"responsive\": true}                    ).then(function(){\n",
       "                            \n",
       "var gd = document.getElementById('99031377-b6bd-4b79-b716-20d797008820');\n",
       "var x = new MutationObserver(function (mutations, observer) {{\n",
       "        var display = window.getComputedStyle(gd).display;\n",
       "        if (!display || display === 'none') {{\n",
       "            console.log([gd, 'removed!']);\n",
       "            Plotly.purge(gd);\n",
       "            observer.disconnect();\n",
       "        }}\n",
       "}});\n",
       "\n",
       "// Listen for the removal of the full notebook cells\n",
       "var notebookContainer = gd.closest('#notebook-container');\n",
       "if (notebookContainer) {{\n",
       "    x.observe(notebookContainer, {childList: true});\n",
       "}}\n",
       "\n",
       "// Listen for the clearing of the current output cell\n",
       "var outputEl = gd.closest('.output');\n",
       "if (outputEl) {{\n",
       "    x.observe(outputEl, {childList: true});\n",
       "}}\n",
       "\n",
       "                        })                };                });            </script>        </div>"
      ]
     },
     "metadata": {},
     "output_type": "display_data"
    }
   ],
   "source": [
    "fig = px.treemap(df, path=[px.Constant('Portfolio'),'Class','Sub_Class','Ticker'], values='Value',\n",
    "                  color='Value', hover_data=['Sub_Class'],\n",
    "                  color_continuous_scale='geyser',\n",
    "                  color_continuous_midpoint=np.average(df['Value'], weights=df['Value']))\n",
    "\n",
    "fig.update_layout( width = 1000, height = 1000,margin = dict(t=100, l=50, r=50, b=50))\n",
    "fig.update_layout(\n",
    "    title_text='Scenario 3: Portfolio'\n",
    ")\n",
    "fig.show()\n",
    "#fig.show(renderer='svg')"
   ]
  }
 ],
 "metadata": {
  "kernelspec": {
   "display_name": "Python 3 (ipykernel)",
   "language": "python",
   "name": "python3"
  },
  "language_info": {
   "codemirror_mode": {
    "name": "ipython",
    "version": 3
   },
   "file_extension": ".py",
   "mimetype": "text/x-python",
   "name": "python",
   "nbconvert_exporter": "python",
   "pygments_lexer": "ipython3",
   "version": "3.10.12"
  }
 },
 "nbformat": 4,
 "nbformat_minor": 5
}
