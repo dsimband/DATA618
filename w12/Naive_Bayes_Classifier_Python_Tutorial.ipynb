{
 "cells": [
  {
   "cell_type": "code",
   "execution_count": 10,
   "id": "41f15fce-4f53-43fd-9174-4466bb7c4dbb",
   "metadata": {
    "tags": []
   },
   "outputs": [],
   "source": [
    "# importing the libraries\n",
    "import numpy as np\n",
    "import matplotlib.pyplot as plt\n",
    "import pandas as pd\n",
    "import seaborn as sns"
   ]
  },
  {
   "cell_type": "code",
   "execution_count": null,
   "id": "b8c19b85-4d37-467c-a3ff-66e3bab381f2",
   "metadata": {},
   "outputs": [],
   "source": []
  },
  {
   "cell_type": "code",
   "execution_count": 22,
   "id": "290a4a65-b619-4101-8a79-1f48d54e726e",
   "metadata": {
    "tags": []
   },
   "outputs": [],
   "source": [
    "# import scikit-learn dataset library\n",
    "from sklearn import datasets\n",
    "# load dataset\n",
    "dataset = datasets.load_wine()"
   ]
  },
  {
   "cell_type": "code",
   "execution_count": 23,
   "id": "88295a0a-7e4b-4104-b040-cde9da2718a5",
   "metadata": {
    "tags": []
   },
   "outputs": [
    {
     "name": "stdout",
     "output_type": "stream",
     "text": [
      "Inputs:  ['alcohol', 'malic_acid', 'ash', 'alcalinity_of_ash', 'magnesium', 'total_phenols', 'flavanoids', 'nonflavanoid_phenols', 'proanthocyanins', 'color_intensity', 'hue', 'od280/od315_of_diluted_wines', 'proline']\n",
      "Outputs:  ['class_0' 'class_1' 'class_2']\n"
     ]
    }
   ],
   "source": [
    "# print the names of the 13 features\n",
    "print (\"Inputs: \", dataset.feature_names)\n",
    "# print the label type of wine\n",
    "print (\"Outputs: \", dataset.target_names)"
   ]
  },
  {
   "cell_type": "code",
   "execution_count": null,
   "id": "017e2e2a-e146-4fa0-9ea2-770273a3aef5",
   "metadata": {},
   "outputs": [],
   "source": [
    "# print the wine data features\n",
    "print(dataset.data[0:3])"
   ]
  },
  {
   "cell_type": "code",
   "execution_count": null,
   "id": "f0fe1116-595c-407e-9f90-117282889d05",
   "metadata": {},
   "outputs": [],
   "source": []
  },
  {
   "cell_type": "code",
   "execution_count": null,
   "id": "3113a0b5-1316-4b98-9ff9-d1d5ee822e3f",
   "metadata": {},
   "outputs": [],
   "source": []
  },
  {
   "cell_type": "code",
   "execution_count": null,
   "id": "5d6db74b-9df8-43d1-a249-8cfc6bbc04c2",
   "metadata": {},
   "outputs": [],
   "source": []
  },
  {
   "cell_type": "code",
   "execution_count": null,
   "id": "366bf173-514c-4d45-8980-2165edf351fc",
   "metadata": {},
   "outputs": [],
   "source": []
  },
  {
   "cell_type": "code",
   "execution_count": null,
   "id": "f61912c2-7e3c-4349-b9e2-2777a649deb9",
   "metadata": {},
   "outputs": [],
   "source": []
  },
  {
   "cell_type": "code",
   "execution_count": null,
   "id": "664ae9cc-ef50-4b1a-a8d2-aed534a6a964",
   "metadata": {},
   "outputs": [],
   "source": []
  },
  {
   "cell_type": "code",
   "execution_count": null,
   "id": "35cab791-7b3e-4d86-9a22-d510d8aec9b9",
   "metadata": {},
   "outputs": [],
   "source": []
  },
  {
   "cell_type": "code",
   "execution_count": null,
   "id": "a48ecaf2-1d7b-4e12-b18d-7b63405349b2",
   "metadata": {},
   "outputs": [],
   "source": []
  },
  {
   "cell_type": "code",
   "execution_count": null,
   "id": "cf49558c-caf0-4970-8cc3-37fe4c5de515",
   "metadata": {},
   "outputs": [],
   "source": []
  },
  {
   "cell_type": "code",
   "execution_count": null,
   "id": "ffed2df7-ec85-4915-8b4c-447b26d3717e",
   "metadata": {},
   "outputs": [],
   "source": []
  },
  {
   "cell_type": "code",
   "execution_count": 11,
   "id": "b6e75bb6-59ea-4798-9300-29d869453a00",
   "metadata": {
    "tags": []
   },
   "outputs": [],
   "source": [
    "# importing the dataset\n",
    "dataset = pd.read_csv('./data/User_Data.csv')\n",
    "# split the data into inputs and outputs\n",
    "X = dataset.iloc[:, [2,3]].values\n",
    "Y = dataset.iloc[:, 4].values"
   ]
  },
  {
   "cell_type": "code",
   "execution_count": 12,
   "id": "09fef6d8-d2b0-4da6-8937-5546f00ef8fa",
   "metadata": {
    "tags": []
   },
   "outputs": [],
   "source": [
    "# training and testing data\n",
    "from sklearn.model_selection import train_test_split\n",
    "# assign test data size 25%\n",
    "X_train, X_test, y_train, y_test =train_test_split(X,y,test_size= 0.25, random_state=0)"
   ]
  },
  {
   "cell_type": "code",
   "execution_count": 13,
   "id": "71c4685f-03ec-461a-8950-675b536e2d34",
   "metadata": {},
   "outputs": [],
   "source": [
    "# importing standard scaler\n",
    "from sklearn.preprocessing import StandardScaler\n",
    "# scalling the input data\n",
    "sc_X = StandardScaler() \n",
    "X_train = sc_X.fit_transform(X_train)\n",
    "X_test = sc_X.fit_transform(X_test)"
   ]
  },
  {
   "cell_type": "code",
   "execution_count": 14,
   "id": "8107643d-a385-45f9-831a-4ad888b09177",
   "metadata": {},
   "outputs": [],
   "source": [
    "# importing classifier\n",
    "from sklearn.naive_bayes import BernoulliNB\n",
    "# initializaing the NB\n",
    "classifer = BernoulliNB()\n",
    "# training the model\n",
    "classifer.fit(X_train, y_train)\n",
    "# testing the model\n",
    "y_pred = classifer.predict(X_test)"
   ]
  },
  {
   "cell_type": "code",
   "execution_count": 15,
   "id": "22a606e5-32cf-4943-9c91-f8eee07ada67",
   "metadata": {},
   "outputs": [
    {
     "name": "stdout",
     "output_type": "stream",
     "text": [
      "0.09\n"
     ]
    }
   ],
   "source": [
    "# importing accuracy score\n",
    "from sklearn.metrics import accuracy_score\n",
    "# printing the accuracy of the model\n",
    "print(accuracy_score(y_pred, y_test))"
   ]
  },
  {
   "cell_type": "code",
   "execution_count": 16,
   "id": "16e17991-f758-4810-9fe4-7d6e1fe7dfa8",
   "metadata": {},
   "outputs": [],
   "source": [
    "# import Gaussian Naive Bayes classifier\n",
    "from sklearn.naive_bayes import GaussianNB\n",
    "# create a Gaussian Classifier\n",
    "classifer1 = GaussianNB()\n",
    "# training the model\n",
    "classifer1.fit(X_train, y_train)\n",
    "# testing the model\n",
    "y_pred1 = classifer1.predict(X_test)"
   ]
  },
  {
   "cell_type": "code",
   "execution_count": 17,
   "id": "61f03997-c41b-4d55-a42f-daf5701c47bf",
   "metadata": {},
   "outputs": [
    {
     "name": "stdout",
     "output_type": "stream",
     "text": [
      "0.09\n"
     ]
    }
   ],
   "source": [
    "# importing accuracy score\n",
    "from sklearn.metrics import accuracy_score\n",
    "# printing the accuracy of the model\n",
    "print(accuracy_score(y_test,y_pred1))"
   ]
  },
  {
   "cell_type": "code",
   "execution_count": 18,
   "id": "238378b8-78d3-470a-b475-12feaded1b7e",
   "metadata": {},
   "outputs": [
    {
     "data": {
      "image/png": "[encoded data removed]",
      "text/plain": [
       "<Figure size 640x480 with 2 Axes>"
      ]
     },
     "metadata": {},
     "output_type": "display_data"
    }
   ],
   "source": [
    "# importing the required modules\n",
    "import seaborn as sns\n",
    "from sklearn.metrics import confusion_matrix\n",
    "# passing actual and predicted values\n",
    "cm = confusion_matrix(y_test, y_pred)\n",
    "# true write data values in each cell of the matrix\n",
    "sns.heatmap(cm, annot=True)\n",
    "plt.savefig('confusion.png')"
   ]
  },
  {
   "cell_type": "code",
   "execution_count": 19,
   "id": "078f8b7b-e2b9-473c-bc31-4f0282c9bbbb",
   "metadata": {},
   "outputs": [
    {
     "name": "stdout",
     "output_type": "stream",
     "text": [
      "              precision    recall  f1-score   support\n",
      "\n",
      "          18       0.00      0.00      0.00         3\n",
      "          19       0.00      0.00      0.00         3\n",
      "          20       0.00      0.00      0.00         1\n",
      "          21       0.00      0.00      0.00         1\n",
      "          22       0.00      0.00      0.00         2\n",
      "          23       0.00      0.00      0.00         4\n",
      "          24       0.00      0.00      0.00         4\n",
      "          25       0.00      0.00      0.00         1\n",
      "          26       0.00      0.00      0.00         3\n",
      "          27       0.00      0.00      0.00         7\n",
      "          28       0.00      0.00      0.00         2\n",
      "          29       0.00      0.00      0.00         2\n",
      "          30       0.00      0.00      0.00         3\n",
      "          31       0.00      0.00      0.00         2\n",
      "          32       0.00      0.00      0.00         4\n",
      "          34       0.00      0.00      0.00         3\n",
      "          35       0.13      1.00      0.23         7\n",
      "          36       0.00      0.00      0.00         2\n",
      "          37       0.00      0.00      0.00         7\n",
      "          38       0.00      0.00      0.00         1\n",
      "          39       0.04      1.00      0.08         1\n",
      "          40       0.00      0.00      0.00         3\n",
      "          41       0.00      0.00      0.00         3\n",
      "          42       0.00      0.00      0.00         5\n",
      "          43       0.00      0.00      0.00         1\n",
      "          45       0.00      0.00      0.00         2\n",
      "          46       0.00      0.00      0.00         1\n",
      "          47       0.05      0.25      0.08         4\n",
      "          48       0.00      0.00      0.00         2\n",
      "          49       0.00      0.00      0.00         4\n",
      "          52       0.00      0.00      0.00         1\n",
      "          53       0.00      0.00      0.00         1\n",
      "          55       0.00      0.00      0.00         1\n",
      "          57       0.00      0.00      0.00         2\n",
      "          58       0.00      0.00      0.00         2\n",
      "          59       0.00      0.00      0.00         3\n",
      "          60       0.00      0.00      0.00         2\n",
      "\n",
      "    accuracy                           0.09       100\n",
      "   macro avg       0.01      0.06      0.01       100\n",
      "weighted avg       0.01      0.09      0.02       100\n",
      "\n"
     ]
    },
    {
     "name": "stderr",
     "output_type": "stream",
     "text": [
      "/Users/dsimbandumwe/anaconda3/envs/DATA_618/lib/python3.10/site-packages/sklearn/metrics/_classification.py:1469: UndefinedMetricWarning: Precision and F-score are ill-defined and being set to 0.0 in labels with no predicted samples. Use `zero_division` parameter to control this behavior.\n",
      "  _warn_prf(average, modifier, msg_start, len(result))\n",
      "/Users/dsimbandumwe/anaconda3/envs/DATA_618/lib/python3.10/site-packages/sklearn/metrics/_classification.py:1469: UndefinedMetricWarning: Precision and F-score are ill-defined and being set to 0.0 in labels with no predicted samples. Use `zero_division` parameter to control this behavior.\n",
      "  _warn_prf(average, modifier, msg_start, len(result))\n",
      "/Users/dsimbandumwe/anaconda3/envs/DATA_618/lib/python3.10/site-packages/sklearn/metrics/_classification.py:1469: UndefinedMetricWarning: Precision and F-score are ill-defined and being set to 0.0 in labels with no predicted samples. Use `zero_division` parameter to control this behavior.\n",
      "  _warn_prf(average, modifier, msg_start, len(result))\n"
     ]
    }
   ],
   "source": [
    "# importing classification report\n",
    "from sklearn.metrics import classification_report\n",
    "# printing the report\n",
    "print(classification_report(y_test, y_pred))"
   ]
  },
  {
   "cell_type": "code",
   "execution_count": 20,
   "id": "06d909b8-6c6a-4b50-8cc4-b88c3a2269a9",
   "metadata": {},
   "outputs": [
    {
     "data": {
      "image/png": "[encoded data removed]",
      "text/plain": [
       "<Figure size 640x480 with 2 Axes>"
      ]
     },
     "metadata": {},
     "output_type": "display_data"
    }
   ],
   "source": [
    "# importing the required modules\n",
    "import seaborn as sns\n",
    "from sklearn.metrics import confusion_matrix\n",
    "# passing actual and predicted values\n",
    "cm = confusion_matrix(y_test, y_pred1)\n",
    "# true write data values in each cell of the matrix\n",
    "sns.heatmap(cm,annot=True)\n",
    "plt.savefig('confusion.png')"
   ]
  },
  {
   "cell_type": "code",
   "execution_count": 21,
   "id": "6c9d994e-803e-4b47-8ff1-e5926aa94cfe",
   "metadata": {},
   "outputs": [
    {
     "name": "stdout",
     "output_type": "stream",
     "text": [
      "              precision    recall  f1-score   support\n",
      "\n",
      "          18       0.00      0.00      0.00         3\n",
      "          19       0.00      0.00      0.00         3\n",
      "          20       0.00      0.00      0.00         1\n",
      "          21       0.00      0.00      0.00         1\n",
      "          22       0.00      0.00      0.00         2\n",
      "          23       0.00      0.00      0.00         4\n",
      "          24       0.00      0.00      0.00         4\n",
      "          25       0.00      0.00      0.00         1\n",
      "          26       0.00      0.00      0.00         3\n",
      "          27       0.00      0.00      0.00         7\n",
      "          28       0.00      0.00      0.00         2\n",
      "          29       0.00      0.00      0.00         2\n",
      "          30       0.00      0.00      0.00         3\n",
      "          31       0.00      0.00      0.00         2\n",
      "          32       0.00      0.00      0.00         4\n",
      "          33       0.00      0.00      0.00         0\n",
      "          34       0.00      0.00      0.00         3\n",
      "          35       0.00      0.00      0.00         7\n",
      "          36       0.00      0.00      0.00         2\n",
      "          37       0.00      0.00      0.00         7\n",
      "          38       0.00      0.00      0.00         1\n",
      "          39       0.00      0.00      0.00         1\n",
      "          40       0.00      0.00      0.00         3\n",
      "          41       0.00      0.00      0.00         3\n",
      "          42       0.00      0.00      0.00         5\n",
      "          43       0.00      0.00      0.00         1\n",
      "          44       0.00      0.00      0.00         0\n",
      "          45       0.00      0.00      0.00         2\n",
      "          46       0.00      0.00      0.00         1\n",
      "          47       0.00      0.00      0.00         4\n",
      "          48       0.00      0.00      0.00         2\n",
      "          49       0.67      1.00      0.80         4\n",
      "          52       1.00      1.00      1.00         1\n",
      "          53       1.00      1.00      1.00         1\n",
      "          55       1.00      1.00      1.00         1\n",
      "          57       0.50      1.00      0.67         2\n",
      "          58       0.00      0.00      0.00         2\n",
      "          59       0.00      0.00      0.00         3\n",
      "          60       0.00      0.00      0.00         2\n",
      "\n",
      "    accuracy                           0.09       100\n",
      "   macro avg       0.11      0.13      0.11       100\n",
      "weighted avg       0.07      0.09      0.08       100\n",
      "\n"
     ]
    },
    {
     "name": "stderr",
     "output_type": "stream",
     "text": [
      "/Users/dsimbandumwe/anaconda3/envs/DATA_618/lib/python3.10/site-packages/sklearn/metrics/_classification.py:1469: UndefinedMetricWarning: Precision and F-score are ill-defined and being set to 0.0 in labels with no predicted samples. Use `zero_division` parameter to control this behavior.\n",
      "  _warn_prf(average, modifier, msg_start, len(result))\n",
      "/Users/dsimbandumwe/anaconda3/envs/DATA_618/lib/python3.10/site-packages/sklearn/metrics/_classification.py:1469: UndefinedMetricWarning: Recall and F-score are ill-defined and being set to 0.0 in labels with no true samples. Use `zero_division` parameter to control this behavior.\n",
      "  _warn_prf(average, modifier, msg_start, len(result))\n",
      "/Users/dsimbandumwe/anaconda3/envs/DATA_618/lib/python3.10/site-packages/sklearn/metrics/_classification.py:1469: UndefinedMetricWarning: Precision and F-score are ill-defined and being set to 0.0 in labels with no predicted samples. Use `zero_division` parameter to control this behavior.\n",
      "  _warn_prf(average, modifier, msg_start, len(result))\n",
      "/Users/dsimbandumwe/anaconda3/envs/DATA_618/lib/python3.10/site-packages/sklearn/metrics/_classification.py:1469: UndefinedMetricWarning: Recall and F-score are ill-defined and being set to 0.0 in labels with no true samples. Use `zero_division` parameter to control this behavior.\n",
      "  _warn_prf(average, modifier, msg_start, len(result))\n",
      "/Users/dsimbandumwe/anaconda3/envs/DATA_618/lib/python3.10/site-packages/sklearn/metrics/_classification.py:1469: UndefinedMetricWarning: Precision and F-score are ill-defined and being set to 0.0 in labels with no predicted samples. Use `zero_division` parameter to control this behavior.\n",
      "  _warn_prf(average, modifier, msg_start, len(result))\n",
      "/Users/dsimbandumwe/anaconda3/envs/DATA_618/lib/python3.10/site-packages/sklearn/metrics/_classification.py:1469: UndefinedMetricWarning: Recall and F-score are ill-defined and being set to 0.0 in labels with no true samples. Use `zero_division` parameter to control this behavior.\n",
      "  _warn_prf(average, modifier, msg_start, len(result))\n"
     ]
    }
   ],
   "source": [
    "# importing classification report\n",
    "from sklearn.metrics import classification_report\n",
    "# printing the report\n",
    "print(classification_report(y_test, y_pred1))"
   ]
  },
  {
   "cell_type": "code",
   "execution_count": null,
   "id": "bc7d2fb7-4685-4fa5-8961-7d2bee015fff",
   "metadata": {},
   "outputs": [],
   "source": []
  },
  {
   "cell_type": "code",
   "execution_count": null,
   "id": "633e5eab-928f-497b-92c6-89afa02b8486",
   "metadata": {},
   "outputs": [],
   "source": []
  },
  {
   "cell_type": "code",
   "execution_count": null,
   "id": "a167d3cb-b7cf-4aab-bd15-ac2b60c4e23f",
   "metadata": {},
   "outputs": [],
   "source": []
  },
  {
   "cell_type": "code",
   "execution_count": null,
   "id": "8e0bea08-189b-4e56-9672-9a9d8f4cfdb8",
   "metadata": {},
   "outputs": [],
   "source": []
  }
 ],
 "metadata": {
  "kernelspec": {
   "display_name": "Python 3 (ipykernel)",
   "language": "python",
   "name": "python3"
  },
  "language_info": {
   "codemirror_mode": {
    "name": "ipython",
    "version": 3
   },
   "file_extension": ".py",
   "mimetype": "text/x-python",
   "name": "python",
   "nbconvert_exporter": "python",
   "pygments_lexer": "ipython3",
   "version": "3.10.13"
  }
 },
 "nbformat": 4,
 "nbformat_minor": 5
}
