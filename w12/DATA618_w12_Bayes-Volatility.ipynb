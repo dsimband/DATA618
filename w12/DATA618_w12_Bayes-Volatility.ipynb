{
 "cells": [
  {
   "cell_type": "code",
   "execution_count": 1,
   "id": "1ce1094d-3810-4a74-a9b2-a11871f8d68c",
   "metadata": {},
   "outputs": [],
   "source": [
    "import numpy as np\n",
    "import pandas as pd\n",
    "from pandas_datareader import data as pdr\n",
    "from datetime import datetime, date, timedelta\n",
    "import yfinance as yfin\n",
    "yfin.pdr_override()\n",
    "\n",
    "\n",
    "# Graph\n",
    "import plotly.graph_objects as go\n",
    "from plotly.offline import iplot, init_notebook_mode\n",
    "import matplotlib.pyplot as plt\n",
    "#import seaborn as sns\n",
    "\n",
    "\n",
    "# Models\n",
    "#import arviz as az\n",
    "#import pymc as pm\n",
    "import pymc3 as pm\n",
    "#import xarray as xr\n",
    "#import bambi as bmb\n",
    "#from pymc import HalfCauchy, Model, Normal, sample\n",
    "\n",
    "import warnings"
   ]
  },
  {
   "cell_type": "code",
   "execution_count": 2,
   "id": "0916d479-6246-45be-85b4-2fb28fae9637",
   "metadata": {},
   "outputs": [],
   "source": [
    "pd.set_option('display.float_format', lambda x: f'{x:,.6f}')\n",
    "plt.rcParams[\"figure.figsize\"] = (10,6)\n",
    "\n",
    "#%config InlineBackend.figure_format = 'retina'\n",
    "#az.style.use(\"arviz-darkgrid\")\n",
    "\n",
    "#sk.set_config(display='diagram')\n",
    "warnings.filterwarnings(\"ignore\")"
   ]
  },
  {
   "cell_type": "code",
   "execution_count": null,
   "id": "d5cbba82-73fb-4f77-bb2a-32f619217544",
   "metadata": {},
   "outputs": [],
   "source": [
    "\n",
    "\n"
   ]
  },
  {
   "cell_type": "markdown",
   "id": "bb7dd6ca-eba3-4c84-8b3b-bf89a5a384bf",
   "metadata": {},
   "source": [
    "# Assignment"
   ]
  },
  {
   "cell_type": "markdown",
   "id": "1a4df745-4492-49c9-a796-2e412755141b",
   "metadata": {},
   "source": [
    "## Variables"
   ]
  },
  {
   "cell_type": "code",
   "execution_count": 3,
   "id": "0f8e424b-b40d-46a7-977e-16e2d5ee2a52",
   "metadata": {
    "tags": []
   },
   "outputs": [],
   "source": [
    "start_date = datetime(2022, 1, 1)\n",
    "purchase_date = datetime(2023, 9, 11)\n",
    "split_date = datetime(2023,8,24)\n",
    "today = datetime(2023,10,20)\n",
    "\n",
    "RANDOM_SEED = 8927\n",
    "rng = np.random.default_rng(RANDOM_SEED)\n",
    "\n",
    "#start = datetime.datetime(2022, 10, 1)\n",
    "#purchase_date_str = '2023-9-11'\n",
    "#end_date = datetime.now()\n",
    "#end_date_str = end_date.strftime(\"%Y-%m-%d\")"
   ]
  },
  {
   "cell_type": "markdown",
   "id": "8d2dff18-0eb2-4cf1-85fa-0925c25f5e75",
   "metadata": {},
   "source": [
    "## Functions"
   ]
  },
  {
   "cell_type": "code",
   "execution_count": null,
   "id": "4b695e53-6f59-4d56-bbe8-49b78b42abf6",
   "metadata": {},
   "outputs": [],
   "source": []
  },
  {
   "cell_type": "markdown",
   "id": "3a64abdc-48a4-4653-9c4f-0606e6449d0d",
   "metadata": {},
   "source": [
    "# Load Data"
   ]
  },
  {
   "cell_type": "code",
   "execution_count": 4,
   "id": "25509aa6-35b7-468e-9af2-e347f5290743",
   "metadata": {},
   "outputs": [
    {
     "name": "stdout",
     "output_type": "stream",
     "text": [
      "folio_df:  (40, 7)\n"
     ]
    }
   ],
   "source": [
    "folio_df = pd.read_csv('https://raw.githubusercontent.com/dsimband/DATA618/main/w12/data/DATA618_Portfolio_Rebalance_v2.csv', \n",
    "                 dtype={\n",
    "                    'ID': 'int',\n",
    "                    'Price': 'float',\n",
    "                    'Shares': 'float',\n",
    "                    'Value': 'float', \n",
    "                 })\n",
    "\n",
    "folio_df = folio_df[folio_df['Shares'] > 0]\n",
    "folio_df = folio_df.groupby(['Ticker','BondName','Class','Sub_Class'])[['Shares','Value']].sum()\n",
    "folio_df.reset_index(inplace=True)\n",
    "\n",
    "# calculate portfilio percentage\n",
    "portfolio_total = folio_df['Value'].sum()\n",
    "folio_df['port_percent'] = folio_df['Value'] / portfolio_total\n",
    "\n",
    "# Class Portfolios\n",
    "folio_econ_df = folio_df[folio_df['Class'] == 'Economically Sensitive']\n",
    "folio_int_df = folio_df[folio_df['Class'] == 'Interest Rate Sensitive']\n",
    "\n",
    "print('folio_df: ',folio_df.shape)"
   ]
  },
  {
   "cell_type": "code",
   "execution_count": 5,
   "id": "d7441a35-6718-4d27-9900-100f54d6ae7a",
   "metadata": {
    "tags": []
   },
   "outputs": [
    {
     "name": "stdout",
     "output_type": "stream",
     "text": [
      "ticker #: 40\n",
      "price #: 40\n",
      "[*********************100%%**********************]  40 of 40 completed"
     ]
    },
    {
     "name": "stderr",
     "output_type": "stream",
     "text": [
      "\n",
      "1 Failed download:\n",
      "['C_A_S_H']: Exception('%ticker%: No timezone found, symbol may be delisted')\n"
     ]
    },
    {
     "name": "stdout",
     "output_type": "stream",
     "text": [
      "\n",
      "price_df #: (29, 40)\n",
      "return_df #: 40\n"
     ]
    }
   ],
   "source": [
    "# ticker symbols\n",
    "ticker_lst = list(folio_df['Ticker'])\n",
    "print('ticker #:', len(ticker_lst))\n",
    "\n",
    "# portfolio weights\n",
    "weight_lst = (folio_df['port_percent'].values)\n",
    "print('price #:', len(weight_lst))\n",
    "\n",
    "#Download closing prices\n",
    "price_df = pdr.get_data_yahoo(ticker_lst, start=purchase_date, end=today)['Close']\n",
    "price_df['C_A_S_H'] = 1\n",
    "print('price_df #:', price_df.shape)\n",
    "\n",
    "#From the closing prices, calculate periodic returns\n",
    "return_df = price_df.pct_change()\n",
    "return_df.fillna(0, inplace=True)\n",
    "return_df.index = pd.to_datetime(return_df.index)\n",
    "print('return_df #:', len(return_df.columns))"
   ]
  },
  {
   "cell_type": "markdown",
   "id": "36d298fa-8ef6-44a4-b853-b7c33817eefd",
   "metadata": {
    "tags": []
   },
   "source": [
    "twlo_df = return_df[['TWLO']]\n",
    "twlo_df.reset_index(inplace=True)\n",
    "twlo_df.columns =['x','y']\n",
    "twlo_df"
   ]
  },
  {
   "cell_type": "code",
   "execution_count": 95,
   "id": "87049ea6-93a0-46f6-b23c-62748e31358a",
   "metadata": {
    "tags": []
   },
   "outputs": [
    {
     "data": {
      "text/plain": [
       "array([[ 0.        , -0.00106375,  0.        , ..., -0.00655732,\n",
       "        -0.0033003 , -0.00441501],\n",
       "       [ 0.        , -0.0132287 , -0.01317878, ...,  0.01687001,\n",
       "        -0.04466565, -0.02190755],\n",
       "       [ 0.        , -0.00369206,  0.00171031, ...,  0.00145273,\n",
       "        -0.01218457, -0.00293681],\n",
       "       ...,\n",
       "       [ 0.        , -0.00193209, -0.00539276, ...,  0.00482727,\n",
       "        -0.01821728, -0.01356525],\n",
       "       [ 0.        , -0.01173707,  0.00363284, ..., -0.00282242,\n",
       "        -0.01485993, -0.00818847],\n",
       "       [ 0.        , -0.00081336,  0.00061048, ..., -0.00458814,\n",
       "        -0.00272368, -0.00462179]])"
      ]
     },
     "execution_count": 95,
     "metadata": {},
     "output_type": "execute_result"
    }
   ],
   "source": [
    "#returns = return_df[['IVV']].T.values\n",
    "returns = return_df.T.values\n",
    "returns"
   ]
  },
  {
   "cell_type": "code",
   "execution_count": 96,
   "id": "c13a5f8b-54b6-4614-894f-a1f895d46295",
   "metadata": {
    "tags": []
   },
   "outputs": [
    {
     "data": {
      "text/plain": [
       "array([0.01156966, 0.01156966, 0.00578483, 0.00867724, 0.04839587,\n",
       "       0.02603172, 0.00578483, 0.03239503, 0.04627862, 0.00578483,\n",
       "       0.00578483, 0.01156966, 0.0636331 , 0.02313931, 0.04627862,\n",
       "       0.03470897, 0.04627862, 0.04627862, 0.02892414, 0.01156966,\n",
       "       0.01156966, 0.01156966, 0.00578483, 0.00578483, 0.04859255,\n",
       "       0.01156966, 0.01156966, 0.03470897, 0.01156966, 0.06941793,\n",
       "       0.00578483, 0.01156966, 0.0636331 , 0.01156966, 0.02313931,\n",
       "       0.03470897, 0.03760138, 0.02313931, 0.03470897, 0.01156966])"
      ]
     },
     "execution_count": 96,
     "metadata": {},
     "output_type": "execute_result"
    }
   ],
   "source": [
    "weight_lst"
   ]
  },
  {
   "cell_type": "code",
   "execution_count": 97,
   "id": "f5f2bc5d-0f8a-4c5e-a660-280ef9713e10",
   "metadata": {
    "tags": []
   },
   "outputs": [
    {
     "data": {
      "text/plain": [
       "-0.002384513919992051"
      ]
     },
     "execution_count": 97,
     "metadata": {},
     "output_type": "execute_result"
    }
   ],
   "source": [
    "#return_mean = np.mean(return_df[['IVV']])\n",
    "return_mean = np.mean(return_df)\n",
    "return_mean"
   ]
  },
  {
   "cell_type": "code",
   "execution_count": 98,
   "id": "a8d47d7c-6d91-475a-972e-84809f435a00",
   "metadata": {
    "tags": []
   },
   "outputs": [
    {
     "data": {
      "text/plain": [
       "0.0031223798253673797"
      ]
     },
     "execution_count": 98,
     "metadata": {},
     "output_type": "execute_result"
    }
   ],
   "source": [
    "#return_sigma = return_df[['IVV']].std().values[0]\n",
    "return_sigma = return_df.std().values[0]\n",
    "return_sigma"
   ]
  },
  {
   "cell_type": "markdown",
   "id": "00b8c200-5e3f-4626-a040-3331a85cb7b7",
   "metadata": {
    "tags": []
   },
   "source": [
    "return_mean = return_df[['IVV','TWLO']]\n",
    "#t0_df.reset_index(inplace=True)\n",
    "return_mean = pd.DataFrame(return_mean.mean(axis=0))\n",
    "return_mean"
   ]
  },
  {
   "cell_type": "markdown",
   "id": "72273622-581d-4f35-bddb-7f3b4c902cd7",
   "metadata": {
    "tags": []
   },
   "source": [
    "#t0_df[t0_df['index'] == 'IVV']"
   ]
  },
  {
   "cell_type": "markdown",
   "id": "446bb1bb-fa78-4c16-b848-8d7cacad3eda",
   "metadata": {
    "tags": []
   },
   "source": [
    "return_mean = np.mean(return_df['IVV'])\n",
    "return_mean"
   ]
  },
  {
   "cell_type": "markdown",
   "id": "20b441dd-5c2c-4234-87fe-e8e829b3406e",
   "metadata": {
    "tags": []
   },
   "source": [
    "return_sigma = return_df[['IVV','TWLO']].std()\n",
    "return_sigma = pd.DataFrame(return_sigma)\n",
    "return_sigma"
   ]
  },
  {
   "cell_type": "markdown",
   "id": "e86f3d77-e81e-452f-80d4-faabc29a9921",
   "metadata": {
    "tags": []
   },
   "source": [
    "t0_df = pd.DataFrame()\n",
    "t0_df['mean'] = return_mean\n",
    "t0_df['sigma'] = return_sigma\n",
    "#t0_df['mu'] = None\n",
    "\n",
    "with pm.Model() as portfolio_model:\n",
    "    for i, row in t0_df.iterrows():\n",
    "        print(i)\n",
    "        #row['mu'] = pm.Normal('mu', mu=row['mean'], sigma=row['sigma'])\n",
    "\n",
    "\n",
    "t0_df"
   ]
  },
  {
   "cell_type": "markdown",
   "id": "2db514e0-0874-4227-8ef0-2aa93c2d1113",
   "metadata": {
    "tags": []
   },
   "source": [
    "with pm.Model() as portfolio_model:\n",
    "    #mu = pm.Normal('mu', mu=-0.0017, sigma=0.0082)\n",
    "    mu = pm.Normal('mu', mu=return_mean, sigma=return_sigma)"
   ]
  },
  {
   "cell_type": "markdown",
   "id": "8aaf6540-3c1b-4671-a4d4-755aff75a01a",
   "metadata": {
    "tags": []
   },
   "source": [
    "#mu = pm.Normal('mu', mu=-0.0017, sigma=0.0082)\n",
    "mu = pm.Normal('mu', mu=return_mean.values, sigma=return_sigma.values)"
   ]
  },
  {
   "cell_type": "markdown",
   "id": "01dea783-6c07-49fb-8abe-90179efb57bc",
   "metadata": {
    "tags": []
   },
   "source": [
    "t = pdr.get_data_yahoo('AAPL', start=purchase_date, end=today)\n",
    "t.columns"
   ]
  },
  {
   "cell_type": "markdown",
   "id": "0a8b7537-b4c6-42ad-9c77-746bab6993c9",
   "metadata": {
    "tags": []
   },
   "source": [
    "num_assets = len(weight_lst)\n",
    "num_assets"
   ]
  },
  {
   "cell_type": "markdown",
   "id": "fbfc5d61-fb47-46bc-8141-3c3472ca49b9",
   "metadata": {
    "tags": []
   },
   "source": [
    "z = np.array(weight_lst)\n",
    "print(z)"
   ]
  },
  {
   "cell_type": "code",
   "execution_count": null,
   "id": "672fee07-dcf1-4f95-9ed8-1ed99a8d00ee",
   "metadata": {
    "tags": []
   },
   "outputs": [],
   "source": []
  },
  {
   "cell_type": "markdown",
   "id": "4e1a7bea-0094-42bd-bb2d-674a77777b19",
   "metadata": {
    "tags": []
   },
   "source": [
    "#list(return_df.columns)"
   ]
  },
  {
   "cell_type": "markdown",
   "id": "d515d5ee-bc06-4551-b0c2-96bd088e039e",
   "metadata": {},
   "source": [
    "# Model "
   ]
  },
  {
   "cell_type": "code",
   "execution_count": 102,
   "id": "6b24c476-b264-4134-8e06-0800959297d5",
   "metadata": {
    "tags": []
   },
   "outputs": [
    {
     "name": "stderr",
     "output_type": "stream",
     "text": [
      "Auto-assigning NUTS sampler...\n",
      "Initializing NUTS using jitter+adapt_diag...\n",
      "Multiprocess sampling (4 chains in 4 jobs)\n",
      "NUTS: [cov_matrix, mu, weights]\n"
     ]
    },
    {
     "data": {
      "text/html": [
       "\n",
       "<style>\n",
       "    /* Turns off some styling */\n",
       "    progress {\n",
       "        /* gets rid of default border in Firefox and Opera. */\n",
       "        border: none;\n",
       "        /* Needs to be in here for Safari polyfill so background images work as expected. */\n",
       "        background-size: auto;\n",
       "    }\n",
       "    progress:not([value]), progress:not([value])::-webkit-progress-bar {\n",
       "        background: repeating-linear-gradient(45deg, #7e7e7e, #7e7e7e 10px, #5c5c5c 10px, #5c5c5c 20px);\n",
       "    }\n",
       "    .progress-bar-interrupted, .progress-bar-interrupted::-webkit-progress-bar {\n",
       "        background: #F44336;\n",
       "    }\n",
       "</style>\n"
      ],
      "text/plain": [
       "<IPython.core.display.HTML object>"
      ]
     },
     "metadata": {},
     "output_type": "display_data"
    },
    {
     "data": {
      "text/html": [
       "\n",
       "    <div>\n",
       "      <progress value='12000' class='' max='12000' style='width:300px; height:20px; vertical-align: middle;'></progress>\n",
       "      100.00% [12000/12000 00:14&lt;00:00 Sampling 4 chains, 3,928 divergences]\n",
       "    </div>\n",
       "    "
      ],
      "text/plain": [
       "<IPython.core.display.HTML object>"
      ]
     },
     "metadata": {},
     "output_type": "display_data"
    },
    {
     "name": "stderr",
     "output_type": "stream",
     "text": [
      "/Users/dsimbandumwe/anaconda3/envs/pymc3/lib/python3.10/site-packages/scipy/stats/_continuous_distns.py:624: RuntimeWarning: overflow encountered in _beta_ppf\n",
      "  return _boost._beta_ppf(q, a, b)\n",
      "/Users/dsimbandumwe/anaconda3/envs/pymc3/lib/python3.10/site-packages/scipy/stats/_continuous_distns.py:624: RuntimeWarning: overflow encountered in _beta_ppf\n",
      "  return _boost._beta_ppf(q, a, b)\n",
      "/Users/dsimbandumwe/anaconda3/envs/pymc3/lib/python3.10/site-packages/scipy/stats/_continuous_distns.py:624: RuntimeWarning: overflow encountered in _beta_ppf\n",
      "  return _boost._beta_ppf(q, a, b)\n",
      "/Users/dsimbandumwe/anaconda3/envs/pymc3/lib/python3.10/site-packages/scipy/stats/_continuous_distns.py:624: RuntimeWarning: overflow encountered in _beta_ppf\n",
      "  return _boost._beta_ppf(q, a, b)\n",
      "Sampling 4 chains for 1_000 tune and 2_000 draw iterations (4_000 + 8_000 draws total) took 21 seconds.\n",
      "There were 856 divergences after tuning. Increase `target_accept` or reparameterize.\n",
      "There were 1075 divergences after tuning. Increase `target_accept` or reparameterize.\n",
      "There were 911 divergences after tuning. Increase `target_accept` or reparameterize.\n",
      "There were 1086 divergences after tuning. Increase `target_accept` or reparameterize.\n",
      "The rhat statistic is larger than 1.4 for some parameters. The sampler did not converge.\n",
      "The estimated number of effective samples is smaller than 200 for some parameters.\n"
     ]
    },
    {
     "data": {
      "text/html": [
       "\n",
       "<style>\n",
       "    /* Turns off some styling */\n",
       "    progress {\n",
       "        /* gets rid of default border in Firefox and Opera. */\n",
       "        border: none;\n",
       "        /* Needs to be in here for Safari polyfill so background images work as expected. */\n",
       "        background-size: auto;\n",
       "    }\n",
       "    progress:not([value]), progress:not([value])::-webkit-progress-bar {\n",
       "        background: repeating-linear-gradient(45deg, #7e7e7e, #7e7e7e 10px, #5c5c5c 10px, #5c5c5c 20px);\n",
       "    }\n",
       "    .progress-bar-interrupted, .progress-bar-interrupted::-webkit-progress-bar {\n",
       "        background: #F44336;\n",
       "    }\n",
       "</style>\n"
      ],
      "text/plain": [
       "<IPython.core.display.HTML object>"
      ]
     },
     "metadata": {},
     "output_type": "display_data"
    },
    {
     "data": {
      "text/html": [
       "\n",
       "    <div>\n",
       "      <progress value='10' class='' max='10' style='width:300px; height:20px; vertical-align: middle;'></progress>\n",
       "      100.00% [10/10 00:00&lt;00:00]\n",
       "    </div>\n",
       "    "
      ],
      "text/plain": [
       "<IPython.core.display.HTML object>"
      ]
     },
     "metadata": {},
     "output_type": "display_data"
    },
    {
     "name": "stdout",
     "output_type": "stream",
     "text": [
      "Forecasted volatility for the next 10 days:\n",
      "0.013026808319238779\n"
     ]
    }
   ],
   "source": [
    "num_assets = len(weight_lst)\n",
    "\n",
    "# Define the model for portfolio volatility\n",
    "with pm.Model() as portfolio_model:\n",
    "    # Prior distributions for asset weights\n",
    "    #w = pm.Dirichlet('weights', a=np.ones(num_assets))\n",
    "    w = pm.Dirichlet('weights', a=np.ones(num_assets))\n",
    "    \n",
    "    # Expected portfolio return (can be adjusted based on your assumptions)\n",
    "    #mu = pm.Normal('mu', mu=0, sigma=0.01)\n",
    "    #portfolio_return = pm.Deterministic('portfolio_return', pm.math.dot(w, [mu] * num_assets))\n",
    "    \n",
    "    mu = pm.Normal('mu', mu=return_mean, sigma=return_sigma)\n",
    "    #mu = pm.Normal('mu', mu=-0.0017, sigma=0.0082)\n",
    "    portfolio_return = pm.Deterministic('portfolio_return', pm.math.dot(w, [mu] * num_assets))\n",
    "    \n",
    "    # Covariance matrix (prior distribution)\n",
    "    cov_matrix = pm.Lognormal('cov_matrix', mu=np.log(0.01), sigma=0.5, shape=(num_assets, num_assets))\n",
    "    \n",
    "    # Portfolio volatility (standard deviation)\n",
    "    portfolio_volatility = pm.Deterministic('portfolio_volatility', pm.math.sqrt(pm.math.dot(w, pm.math.dot(cov_matrix, w.T))))\n",
    "    \n",
    "    # Likelihood (observed data)\n",
    "    returns_observed = pm.Normal('returns_observed', mu=portfolio_return, sigma=portfolio_volatility, observed=returns)\n",
    "    \n",
    "    # Sampling\n",
    "    trace = pm.sample(2000, tune=1000)\n",
    "    \n",
    "    # Forecasting 10 days of volatility using posterior predictive sampling\n",
    "    future_returns = np.random.normal(0.001, 0.02, size=(10, 1))  # Simulated future returns\n",
    "    future_data = {returns_observed: future_returns}\n",
    "    \n",
    "    # Performing posterior predictive sampling for future volatility\n",
    "    posterior_pred = pm.sample_posterior_predictive(trace, var_names=['portfolio_volatility'], samples=10, model=portfolio_model)\n",
    "    \n",
    "    # Extracting and printing forecasted volatility for the next 10 days\n",
    "    future_volatility = posterior_pred['portfolio_volatility'][-1]\n",
    "    print(\"Forecasted volatility for the next 10 days:\")\n",
    "    print(future_volatility)"
   ]
  },
  {
   "cell_type": "code",
   "execution_count": null,
   "id": "e4a45e39-0918-4b2f-a52b-4409a8e2515c",
   "metadata": {},
   "outputs": [],
   "source": []
  },
  {
   "cell_type": "code",
   "execution_count": 100,
   "id": "ac9ae217-4acc-48ee-be16-cf73739fb803",
   "metadata": {},
   "outputs": [
    {
     "name": "stderr",
     "output_type": "stream",
     "text": [
      "Got error No model on context stack. trying to find log_likelihood in translation.\n"
     ]
    },
    {
     "name": "stdout",
     "output_type": "stream",
     "text": [
      "                          mean       sd    hdi_3%   hdi_97%  mcse_mean  \\\n",
      "mu                   -0.002000 0.000000 -0.003000 -0.002000   0.000000   \n",
      "weights[0]            0.000000 0.000000  0.000000  0.000000   0.000000   \n",
      "weights[1]            0.000000 0.000000  0.000000  0.000000   0.000000   \n",
      "weights[2]            0.000000 0.000000  0.000000  0.000000   0.000000   \n",
      "weights[3]            0.000000 0.000000  0.000000  0.000000   0.000000   \n",
      "...                        ...      ...       ...       ...        ...   \n",
      "cov_matrix[39, 36]    0.011000 0.006000  0.003000  0.021000   0.000000   \n",
      "cov_matrix[39, 37]    0.011000 0.006000  0.003000  0.022000   0.000000   \n",
      "cov_matrix[39, 38]    0.011000 0.006000  0.003000  0.021000   0.000000   \n",
      "cov_matrix[39, 39]    0.009000 0.007000  0.000000  0.020000   0.002000   \n",
      "portfolio_volatility  0.013000 0.000000  0.012000  0.013000   0.000000   \n",
      "\n",
      "                      mcse_sd     ess_bulk     ess_tail    r_hat  \n",
      "mu                   0.000000 2,559.000000 2,882.000000 1.000000  \n",
      "weights[0]           0.000000 1,716.000000 1,424.000000 1.000000  \n",
      "weights[1]           0.000000 1,983.000000 1,767.000000 1.000000  \n",
      "weights[2]           0.000000 1,636.000000 1,636.000000 1.000000  \n",
      "weights[3]           0.000000 1,974.000000 1,998.000000 1.000000  \n",
      "...                       ...          ...          ...      ...  \n",
      "cov_matrix[39, 36]   0.000000 1,849.000000 2,581.000000 1.010000  \n",
      "cov_matrix[39, 37]   0.000000 2,061.000000 2,377.000000 1.010000  \n",
      "cov_matrix[39, 38]   0.000000 1,955.000000 2,128.000000 1.010000  \n",
      "cov_matrix[39, 39]   0.002000     7.000000    31.000000 1.540000  \n",
      "portfolio_volatility 0.000000 5,858.000000 5,061.000000 1.000000  \n",
      "\n",
      "[1643 rows x 9 columns]\n"
     ]
    }
   ],
   "source": [
    "# Summary statistics of posterior distributions\n",
    "summary = pm.summary(trace)\n",
    "print(summary)"
   ]
  },
  {
   "cell_type": "code",
   "execution_count": 13,
   "id": "c14a6827-27f2-4715-8d32-17420763a7fd",
   "metadata": {},
   "outputs": [
    {
     "data": {
      "text/html": [
       "<div>\n",
       "<style scoped>\n",
       "    .dataframe tbody tr th:only-of-type {\n",
       "        vertical-align: middle;\n",
       "    }\n",
       "\n",
       "    .dataframe tbody tr th {\n",
       "        vertical-align: top;\n",
       "    }\n",
       "\n",
       "    .dataframe thead th {\n",
       "        text-align: right;\n",
       "    }\n",
       "</style>\n",
       "<table border=\"1\" class=\"dataframe\">\n",
       "  <thead>\n",
       "    <tr style=\"text-align: right;\">\n",
       "      <th></th>\n",
       "      <th>mean</th>\n",
       "      <th>sd</th>\n",
       "      <th>hdi_3%</th>\n",
       "      <th>hdi_97%</th>\n",
       "      <th>mcse_mean</th>\n",
       "      <th>mcse_sd</th>\n",
       "      <th>ess_bulk</th>\n",
       "      <th>ess_tail</th>\n",
       "      <th>r_hat</th>\n",
       "    </tr>\n",
       "  </thead>\n",
       "  <tbody>\n",
       "    <tr>\n",
       "      <th>mu</th>\n",
       "      <td>-0.002000</td>\n",
       "      <td>0.004000</td>\n",
       "      <td>-0.009000</td>\n",
       "      <td>0.005000</td>\n",
       "      <td>0.000000</td>\n",
       "      <td>0.000000</td>\n",
       "      <td>5,498.000000</td>\n",
       "      <td>4,205.000000</td>\n",
       "      <td>1.000000</td>\n",
       "    </tr>\n",
       "    <tr>\n",
       "      <th>weights[0]</th>\n",
       "      <td>1.000000</td>\n",
       "      <td>0.000000</td>\n",
       "      <td>1.000000</td>\n",
       "      <td>1.000000</td>\n",
       "      <td>0.000000</td>\n",
       "      <td>0.000000</td>\n",
       "      <td>8,000.000000</td>\n",
       "      <td>8,000.000000</td>\n",
       "      <td>NaN</td>\n",
       "    </tr>\n",
       "    <tr>\n",
       "      <th>portfolio_return</th>\n",
       "      <td>-0.002000</td>\n",
       "      <td>0.004000</td>\n",
       "      <td>-0.009000</td>\n",
       "      <td>0.005000</td>\n",
       "      <td>0.000000</td>\n",
       "      <td>0.000000</td>\n",
       "      <td>5,498.000000</td>\n",
       "      <td>4,205.000000</td>\n",
       "      <td>1.000000</td>\n",
       "    </tr>\n",
       "    <tr>\n",
       "      <th>cov_matrix[0, 0]</th>\n",
       "      <td>0.001000</td>\n",
       "      <td>0.000000</td>\n",
       "      <td>0.000000</td>\n",
       "      <td>0.001000</td>\n",
       "      <td>0.000000</td>\n",
       "      <td>0.000000</td>\n",
       "      <td>5,364.000000</td>\n",
       "      <td>5,048.000000</td>\n",
       "      <td>1.000000</td>\n",
       "    </tr>\n",
       "    <tr>\n",
       "      <th>portfolio_volatility</th>\n",
       "      <td>0.023000</td>\n",
       "      <td>0.005000</td>\n",
       "      <td>0.014000</td>\n",
       "      <td>0.032000</td>\n",
       "      <td>0.000000</td>\n",
       "      <td>0.000000</td>\n",
       "      <td>5,364.000000</td>\n",
       "      <td>5,048.000000</td>\n",
       "      <td>1.000000</td>\n",
       "    </tr>\n",
       "  </tbody>\n",
       "</table>\n",
       "</div>"
      ],
      "text/plain": [
       "                          mean       sd    hdi_3%  hdi_97%  mcse_mean  \\\n",
       "mu                   -0.002000 0.004000 -0.009000 0.005000   0.000000   \n",
       "weights[0]            1.000000 0.000000  1.000000 1.000000   0.000000   \n",
       "portfolio_return     -0.002000 0.004000 -0.009000 0.005000   0.000000   \n",
       "cov_matrix[0, 0]      0.001000 0.000000  0.000000 0.001000   0.000000   \n",
       "portfolio_volatility  0.023000 0.005000  0.014000 0.032000   0.000000   \n",
       "\n",
       "                      mcse_sd     ess_bulk     ess_tail    r_hat  \n",
       "mu                   0.000000 5,498.000000 4,205.000000 1.000000  \n",
       "weights[0]           0.000000 8,000.000000 8,000.000000      NaN  \n",
       "portfolio_return     0.000000 5,498.000000 4,205.000000 1.000000  \n",
       "cov_matrix[0, 0]     0.000000 5,364.000000 5,048.000000 1.000000  \n",
       "portfolio_volatility 0.000000 5,364.000000 5,048.000000 1.000000  "
      ]
     },
     "execution_count": 13,
     "metadata": {},
     "output_type": "execute_result"
    }
   ],
   "source": [
    "summary"
   ]
  },
  {
   "cell_type": "code",
   "execution_count": 101,
   "id": "8fa1bd69-4011-4587-8bd8-2b1f4bca6d2a",
   "metadata": {},
   "outputs": [
    {
     "data": {
      "text/plain": [
       "0.013065585735920007"
      ]
     },
     "execution_count": 101,
     "metadata": {},
     "output_type": "execute_result"
    }
   ],
   "source": []
  },
  {
   "cell_type": "code",
   "execution_count": null,
   "id": "82e6f0fb-d5ba-43b6-89df-f0dde5e35c94",
   "metadata": {},
   "outputs": [],
   "source": []
  },
  {
   "cell_type": "code",
   "execution_count": null,
   "id": "6adbbd37-ef45-427b-aaeb-961f5e030da5",
   "metadata": {},
   "outputs": [],
   "source": []
  }
 ],
 "metadata": {
  "kernelspec": {
   "display_name": "Python 3 (ipykernel)",
   "language": "python",
   "name": "python3"
  },
  "language_info": {
   "codemirror_mode": {
    "name": "ipython",
    "version": 3
   },
   "file_extension": ".py",
   "mimetype": "text/x-python",
   "name": "python",
   "nbconvert_exporter": "python",
   "pygments_lexer": "ipython3",
   "version": "3.10.13"
  }
 },
 "nbformat": 4,
 "nbformat_minor": 5
}
