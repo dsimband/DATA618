{
 "cells": [
  {
   "cell_type": "code",
   "execution_count": 62,
   "id": "96f8343d-8416-4adc-bed0-12c8f273f546",
   "metadata": {},
   "outputs": [],
   "source": [
    "import warnings\n",
    "warnings.filterwarnings('ignore')\n",
    "\n",
    "import pandas as pd\n",
    "import numpy as np\n",
    "from pandas_datareader import data as pdr\n",
    "from datetime import datetime, date, timedelta\n",
    "\n",
    "import yfinance as yfin\n",
    "yfin.pdr_override()\n",
    "\n",
    "import matplotlib.pyplot as plt\n",
    "import seaborn as sns\n",
    "\n",
    "#from var import VaR\n",
    "\n",
    "pd.set_option('display.float_format', lambda x: f'{x:,.4f}')"
   ]
  },
  {
   "cell_type": "code",
   "execution_count": 52,
   "id": "44bc6807-9e00-4645-8b0f-0626a32247b3",
   "metadata": {},
   "outputs": [],
   "source": [
    "start_date = datetime(2022, 1, 1)\n",
    "end_date = datetime.now()\n",
    "alpha = 0.05\n",
    "period = '10y'"
   ]
  },
  {
   "cell_type": "code",
   "execution_count": 53,
   "id": "bc8371ef-be5b-4c49-8cf5-0a91835ce1bc",
   "metadata": {},
   "outputs": [],
   "source": [
    "var_lst = ['^TNX','TLT']"
   ]
  },
  {
   "cell_type": "code",
   "execution_count": 54,
   "id": "f1ce5114-6a1b-433a-9aa8-3e8154434127",
   "metadata": {},
   "outputs": [
    {
     "name": "stdout",
     "output_type": "stream",
     "text": [
      "[*********************100%%**********************]  2 of 2 completed\n"
     ]
    }
   ],
   "source": [
    "price_df = pdr.get_data_yahoo(var_lst, period=period)['Close']"
   ]
  },
  {
   "cell_type": "code",
   "execution_count": 55,
   "id": "f185326e-5539-4770-9820-8424bd4ee40e",
   "metadata": {
    "tags": []
   },
   "outputs": [
    {
     "data": {
      "text/plain": [
       "2.2079586639218567"
      ]
     },
     "execution_count": 55,
     "metadata": {},
     "output_type": "execute_result"
    }
   ],
   "source": [
    "price_df['^TNX'].mean()"
   ]
  },
  {
   "cell_type": "code",
   "execution_count": null,
   "id": "ef2bd087-03c1-4cc1-92ce-6e17f8e5a4ab",
   "metadata": {},
   "outputs": [],
   "source": []
  },
  {
   "cell_type": "code",
   "execution_count": null,
   "id": "6809ffd4-3d78-4db5-a68f-96e723fa2e13",
   "metadata": {},
   "outputs": [],
   "source": []
  },
  {
   "cell_type": "markdown",
   "id": "93e456a2-cb7d-480c-8caf-da0faa1596b3",
   "metadata": {},
   "source": [
    "# Alpha"
   ]
  },
  {
   "cell_type": "code",
   "execution_count": 56,
   "id": "a5490ac5-cbd1-4576-8e32-f8d801b999dc",
   "metadata": {
    "tags": []
   },
   "outputs": [],
   "source": [
    "def alpha(portfolio_returns, benchmark_returns):\n",
    "    # mean of the return\n",
    "    portfolio_avg_return = np.mean(portfolio_returns)\n",
    "    benchmark_avg_return = np.mean(benchmark_returns)\n",
    "    \n",
    "    # volatility\n",
    "    portfolio_volatility = np.std(portfolio_returns)\n",
    "    benchmark_volatility = np.std(benchmark_returns)\n",
    "    \n",
    "    # our alpha\n",
    "    alpha = (portfolio_avg_return - benchmark_avg_return) / (portfolio_volatility / benchmark_volatility)\n",
    "    \n",
    "    return alpha"
   ]
  },
  {
   "cell_type": "code",
   "execution_count": 57,
   "id": "689beb28-925f-44d0-8d30-3e4048572a29",
   "metadata": {
    "tags": []
   },
   "outputs": [
    {
     "name": "stdout",
     "output_type": "stream",
     "text": [
      "[*********************100%%**********************]  2 of 2 completed\n",
      "alpha of the AAPL to benchmark is 0.0004714564516655137\n"
     ]
    }
   ],
   "source": [
    "asset_name = 'AAPL'\n",
    "#data = yf.download([asset_name, 'SPY'], start='2010-01-01')['Adj Close']\n",
    "data = pdr.get_data_yahoo([asset_name,'SPY'], period=period)['Close']\n",
    "\n",
    "aapl_returns =  data[asset_name].pct_change()\n",
    "bench_returns = data['SPY'].pct_change()\n",
    "\n",
    "print(f'alpha of the {asset_name} to benchmark is {alpha(aapl_returns, bench_returns)}')"
   ]
  },
  {
   "cell_type": "code",
   "execution_count": null,
   "id": "fe46fd15-d677-4fe1-beba-cd61c19ee64c",
   "metadata": {},
   "outputs": [],
   "source": []
  },
  {
   "cell_type": "markdown",
   "id": "843c70bd-7292-4004-930a-a150fc705c7e",
   "metadata": {},
   "source": [
    "# Alpha 2"
   ]
  },
  {
   "cell_type": "code",
   "execution_count": null,
   "id": "745066da-bdb0-48f0-a185-a5ea45d6a4b4",
   "metadata": {},
   "outputs": [],
   "source": []
  },
  {
   "cell_type": "code",
   "execution_count": 58,
   "id": "c3257eb0-8624-4f61-b1e3-4c8c74d188ae",
   "metadata": {},
   "outputs": [],
   "source": [
    "ticker_lst = ['AAPL','META']"
   ]
  },
  {
   "cell_type": "code",
   "execution_count": 59,
   "id": "5a69c7a6-fdc9-4edd-832b-60a890775de8",
   "metadata": {},
   "outputs": [
    {
     "name": "stdout",
     "output_type": "stream",
     "text": [
      "[*********************100%%**********************]  2 of 2 completed\n"
     ]
    },
    {
     "data": {
      "text/html": [
       "<div>\n",
       "<style scoped>\n",
       "    .dataframe tbody tr th:only-of-type {\n",
       "        vertical-align: middle;\n",
       "    }\n",
       "\n",
       "    .dataframe tbody tr th {\n",
       "        vertical-align: top;\n",
       "    }\n",
       "\n",
       "    .dataframe thead th {\n",
       "        text-align: right;\n",
       "    }\n",
       "</style>\n",
       "<table border=\"1\" class=\"dataframe\">\n",
       "  <thead>\n",
       "    <tr style=\"text-align: right;\">\n",
       "      <th></th>\n",
       "      <th>AAPL</th>\n",
       "      <th>META</th>\n",
       "    </tr>\n",
       "    <tr>\n",
       "      <th>Date</th>\n",
       "      <th></th>\n",
       "      <th></th>\n",
       "    </tr>\n",
       "  </thead>\n",
       "  <tbody>\n",
       "    <tr>\n",
       "      <th>2018-10-08</th>\n",
       "      <td>55.9425</td>\n",
       "      <td>157.2500</td>\n",
       "    </tr>\n",
       "    <tr>\n",
       "      <th>2018-10-09</th>\n",
       "      <td>56.7175</td>\n",
       "      <td>157.9000</td>\n",
       "    </tr>\n",
       "    <tr>\n",
       "      <th>2018-10-10</th>\n",
       "      <td>54.0900</td>\n",
       "      <td>151.3800</td>\n",
       "    </tr>\n",
       "    <tr>\n",
       "      <th>2018-10-11</th>\n",
       "      <td>53.6125</td>\n",
       "      <td>153.3500</td>\n",
       "    </tr>\n",
       "    <tr>\n",
       "      <th>2018-10-12</th>\n",
       "      <td>55.5275</td>\n",
       "      <td>153.7400</td>\n",
       "    </tr>\n",
       "  </tbody>\n",
       "</table>\n",
       "</div>"
      ],
      "text/plain": [
       "              AAPL     META\n",
       "Date                       \n",
       "2018-10-08 55.9425 157.2500\n",
       "2018-10-09 56.7175 157.9000\n",
       "2018-10-10 54.0900 151.3800\n",
       "2018-10-11 53.6125 153.3500\n",
       "2018-10-12 55.5275 153.7400"
      ]
     },
     "execution_count": 59,
     "metadata": {},
     "output_type": "execute_result"
    }
   ],
   "source": [
    "folio_df = pdr.get_data_yahoo(ticker_lst, period=period)['Close']\n",
    "folio_df.head()"
   ]
  },
  {
   "cell_type": "code",
   "execution_count": 60,
   "id": "51f96b5f-c2c6-43cd-bf0a-3b996757ab1d",
   "metadata": {},
   "outputs": [
    {
     "data": {
      "text/html": [
       "<div>\n",
       "<style scoped>\n",
       "    .dataframe tbody tr th:only-of-type {\n",
       "        vertical-align: middle;\n",
       "    }\n",
       "\n",
       "    .dataframe tbody tr th {\n",
       "        vertical-align: top;\n",
       "    }\n",
       "\n",
       "    .dataframe thead th {\n",
       "        text-align: right;\n",
       "    }\n",
       "</style>\n",
       "<table border=\"1\" class=\"dataframe\">\n",
       "  <thead>\n",
       "    <tr style=\"text-align: right;\">\n",
       "      <th></th>\n",
       "      <th>AAPL</th>\n",
       "      <th>META</th>\n",
       "    </tr>\n",
       "    <tr>\n",
       "      <th>Date</th>\n",
       "      <th></th>\n",
       "      <th></th>\n",
       "    </tr>\n",
       "  </thead>\n",
       "  <tbody>\n",
       "    <tr>\n",
       "      <th>2018-10-09</th>\n",
       "      <td>0.0139</td>\n",
       "      <td>0.0041</td>\n",
       "    </tr>\n",
       "    <tr>\n",
       "      <th>2018-10-10</th>\n",
       "      <td>-0.0463</td>\n",
       "      <td>-0.0413</td>\n",
       "    </tr>\n",
       "    <tr>\n",
       "      <th>2018-10-11</th>\n",
       "      <td>-0.0088</td>\n",
       "      <td>0.0130</td>\n",
       "    </tr>\n",
       "    <tr>\n",
       "      <th>2018-10-12</th>\n",
       "      <td>0.0357</td>\n",
       "      <td>0.0025</td>\n",
       "    </tr>\n",
       "    <tr>\n",
       "      <th>2018-10-15</th>\n",
       "      <td>-0.0214</td>\n",
       "      <td>-0.0014</td>\n",
       "    </tr>\n",
       "  </tbody>\n",
       "</table>\n",
       "</div>"
      ],
      "text/plain": [
       "              AAPL    META\n",
       "Date                      \n",
       "2018-10-09  0.0139  0.0041\n",
       "2018-10-10 -0.0463 -0.0413\n",
       "2018-10-11 -0.0088  0.0130\n",
       "2018-10-12  0.0357  0.0025\n",
       "2018-10-15 -0.0214 -0.0014"
      ]
     },
     "execution_count": 60,
     "metadata": {},
     "output_type": "execute_result"
    }
   ],
   "source": [
    "return_df = folio_df.pct_change()\n",
    "return_df = return_df[1:]\n",
    "return_df.head()"
   ]
  },
  {
   "cell_type": "markdown",
   "id": "e0bfb051-751b-45e4-91bd-a242d0b4ede7",
   "metadata": {},
   "source": [
    "## plot"
   ]
  },
  {
   "cell_type": "code",
   "execution_count": 63,
   "id": "9664dd89-d6e6-4df7-9378-110cc598dbba",
   "metadata": {
    "tags": []
   },
   "outputs": [
    {
     "data": {
      "image/png": "[encoded data removed]",
      "text/plain": [
       "<Figure size 640x480 with 1 Axes>"
      ]
     },
     "metadata": {},
     "output_type": "display_data"
    }
   ],
   "source": [
    "return_df.plot()\n",
    "plt.ylabel(\"Daily Return\")\n",
    "plt.legend();"
   ]
  },
  {
   "cell_type": "code",
   "execution_count": null,
   "id": "1a5d0fe7-fb1e-4982-92b9-1ec917a6ebc4",
   "metadata": {},
   "outputs": [],
   "source": []
  },
  {
   "cell_type": "code",
   "execution_count": null,
   "id": "66bc70b9-cb51-46fb-a573-6ef48ed81bcb",
   "metadata": {},
   "outputs": [],
   "source": []
  }
 ],
 "metadata": {
  "kernelspec": {
   "display_name": "Python 3 (ipykernel)",
   "language": "python",
   "name": "python3"
  },
  "language_info": {
   "codemirror_mode": {
    "name": "ipython",
    "version": 3
   },
   "file_extension": ".py",
   "mimetype": "text/x-python",
   "name": "python",
   "nbconvert_exporter": "python",
   "pygments_lexer": "ipython3",
   "version": "3.10.12"
  }
 },
 "nbformat": 4,
 "nbformat_minor": 5
}
