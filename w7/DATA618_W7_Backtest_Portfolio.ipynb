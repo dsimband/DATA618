{
 "cells": [
  {
   "cell_type": "code",
   "execution_count": null,
   "id": "06013ffa-c4bf-4899-965b-6ee44b9fafa8",
   "metadata": {
    "tags": []
   },
   "outputs": [],
   "source": [
    "import warnings\n",
    "warnings.filterwarnings('ignore')\n",
    "\n",
    "import pandas as pd\n",
    "import numpy as np\n",
    "from pandas_datareader import data as pdr\n",
    "from datetime import datetime, date, timedelta\n",
    "\n",
    "# statistical analysis\n",
    "import statsmodels.api as sm\n",
    "from statsmodels import regression\n",
    "import scipy.stats\n",
    "\n",
    "import yfinance as yfin\n",
    "yfin.pdr_override()\n",
    "from var import VaR\n",
    "\n",
    "import matplotlib.pyplot as plt\n",
    "from matplotlib import style\n",
    "import seaborn as sns\n",
    "\n",
    "pd.set_option('display.float_format', lambda x: f'{x:,.4f}')\n",
    "sns.set_theme(rc={'axes.formatter.limits': (-8, 9)})\n",
    "style.use('seaborn-whitegrid')\n",
    "plt.rcParams[\"figure.figsize\"] = (10,6)"
   ]
  },
  {
   "cell_type": "code",
   "execution_count": null,
   "id": "50ea1eb4-5c46-44d2-97f9-38810a667c97",
   "metadata": {},
   "outputs": [],
   "source": []
  },
  {
   "cell_type": "markdown",
   "id": "6ee9a7a0-ae47-4bc4-b78c-e9e11c8427ca",
   "metadata": {},
   "source": [
    "# 0. Weekly Tasks\n",
    "Prepare a presentation using Panopto (PowerPoint slides with Video Narration is an acceptable alternative) addressing the following points:\n",
    "What scenario were you assigned as the result of the random number exercise?\n",
    "\n",
    "- What were your considerations in determining an appropriate investment strategy for that scenario?\n",
    "\n",
    "- What asset allocation did you implement that you felt best supported that investment strategy?\n",
    "\n",
    "- What assets did you invest in consistent with that asset allocation and strategy? (Assets, Price at time of investment, % of total investment)\n",
    "\n",
    "- Present Value, Profit/Loss to date, VaR, SHARPE, VWAP, Alpha (Other metrics that you feel important in support of your strategy) for your portfolio \n",
    "\n",
    "What reallocation of assets would you recommend at this time (if any) and why?\n",
    "Post your presentation accessible to your colleagues for comment and comment on the presentations by your colleagues."
   ]
  },
  {
   "cell_type": "markdown",
   "id": "2e938d11-2879-4c25-b08c-c695edd51c41",
   "metadata": {},
   "source": [
    "# 1. Variables"
   ]
  },
  {
   "cell_type": "code",
   "execution_count": null,
   "id": "7fa609fe-d30e-4e47-9527-f7df4502badd",
   "metadata": {
    "tags": []
   },
   "outputs": [],
   "source": [
    "start_date = datetime(2022, 1, 1)\n",
    "purchase_date = datetime(2023, 9, 11)\n",
    "purchase_date_str = '2023-9-11'\n",
    "end_date = datetime.now()\n",
    "end_date_str = end_date.strftime(\"%Y-%m-%d\")\n",
    "\n",
    "alpha = 0.05\n",
    "period = '5y'"
   ]
  },
  {
   "cell_type": "markdown",
   "id": "cb06cdf0-d0b9-433c-9088-7e6ba741a200",
   "metadata": {},
   "source": [
    "# 2. Functions"
   ]
  },
  {
   "cell_type": "code",
   "execution_count": null,
   "id": "f6c7aa57-ab9b-47ea-ba81-39785edc416c",
   "metadata": {},
   "outputs": [],
   "source": []
  },
  {
   "cell_type": "markdown",
   "id": "e72e3d4e-01f9-4db1-b6d9-d27d32867539",
   "metadata": {},
   "source": [
    "# 3. Load Data"
   ]
  },
  {
   "cell_type": "markdown",
   "id": "9ecfcc31-ceee-4f61-ad60-2a9d8e8cd232",
   "metadata": {},
   "source": [
    "## 3.1 Load Variables"
   ]
  },
  {
   "cell_type": "code",
   "execution_count": null,
   "id": "0c0f3434-ef55-41e2-a6ce-c9d9815814f5",
   "metadata": {
    "tags": []
   },
   "outputs": [],
   "source": [
    "var_lst = ['^TNX']\n",
    "data = pdr.get_data_yahoo(var_lst, start=start_date, end=end_date )['Close']\n",
    "rf_rate = round((data.mean()),4)\n",
    "rf_rate"
   ]
  },
  {
   "cell_type": "code",
   "execution_count": null,
   "id": "d0afc352-71e9-4189-8f22-348c5f77c246",
   "metadata": {},
   "outputs": [],
   "source": [
    "var_lst = ['SPY']\n",
    "bench_df = pdr.get_data_yahoo(var_lst, start=start_date, end=end_date)['Close']\n",
    "bench_econ_df = pd.DataFrame(bench_df)\n",
    "bench_econ_df.columns = ['SPY']\n",
    "\n",
    "benchPercent_econ_df = bench_econ_df.pct_change()[1:]\n",
    "benchPercent_econ_df.reset_index(inplace=True)\n",
    "benchPercent_econ_df.head()"
   ]
  },
  {
   "cell_type": "code",
   "execution_count": null,
   "id": "7b5d2cf2-39d8-471d-a9db-f1475decdc2a",
   "metadata": {
    "tags": []
   },
   "outputs": [],
   "source": [
    "var_lst = ['FIBUX']\n",
    "bench_df = pdr.get_data_yahoo(var_lst, start=start_date, end=end_date)['Close']\n",
    "bench_int_df = pd.DataFrame(bench_df)\n",
    "bench_int_df.columns = ['FIBUX']\n",
    "\n",
    "benchPercent_int_df = bench_int_df.pct_change()[1:]\n",
    "benchPercent_int_df.reset_index(inplace=True)\n",
    "benchPercent_int_df.head()"
   ]
  },
  {
   "cell_type": "code",
   "execution_count": null,
   "id": "626b57fa-6959-4593-ab00-9622ed0280aa",
   "metadata": {},
   "outputs": [],
   "source": []
  },
  {
   "cell_type": "code",
   "execution_count": null,
   "id": "8c402db7-6706-471e-b418-390f8c203e95",
   "metadata": {},
   "outputs": [],
   "source": []
  },
  {
   "cell_type": "markdown",
   "id": "895c6e67-1164-4e10-aef2-a6a54039a7db",
   "metadata": {},
   "source": [
    "## 3.2 Load Portfolio"
   ]
  },
  {
   "cell_type": "code",
   "execution_count": null,
   "id": "554da305-42d0-41be-af10-4ee6decf1591",
   "metadata": {},
   "outputs": [],
   "source": [
    "folio_df = pd.read_csv('https://raw.githubusercontent.com/dsimband/DATA618/main/w7/data/DATA618_Portfolio.csv', \n",
    "                 dtype={\n",
    "                    'ID': 'int',\n",
    "                    'Price': 'float',\n",
    "                    'Shares': 'float',\n",
    "                    'Value': 'float', \n",
    "                 })\n",
    "\n",
    "folio_df = folio_df[folio_df['Shares'] > 0]\n",
    "folio_df = folio_df.groupby(['Ticker','BondName','Class','Sub_Class'])[['Shares','Value']].sum()\n",
    "folio_df.reset_index(inplace=True)\n",
    "\n",
    "# calculate portfilio percentage\n",
    "portfolio_total = folio_df['Value'].sum()\n",
    "folio_df['port_percent'] = folio_df['Value'] / portfolio_total\n",
    "\n",
    "# Class Portfolios\n",
    "folio_econ_df = folio_df[folio_df['Class'] == 'Economically Sensitive']\n",
    "folio_int_df = folio_df[folio_df['Class'] == 'Interest Rate Sensitive']\n",
    "\n",
    "folio_df"
   ]
  },
  {
   "cell_type": "code",
   "execution_count": null,
   "id": "b04e584f-5c2e-48bd-b477-9eee5be934cd",
   "metadata": {
    "tags": []
   },
   "outputs": [],
   "source": [
    "folio_df.groupby(['Class'])[['Value']].sum()"
   ]
  },
  {
   "cell_type": "code",
   "execution_count": null,
   "id": "04b6a8cc-bd95-4bac-87ed-f1305d89020e",
   "metadata": {
    "tags": []
   },
   "outputs": [],
   "source": [
    "initial_investment = folio_df['Value'].sum() * 1000\n",
    "initial_investment"
   ]
  },
  {
   "cell_type": "markdown",
   "id": "9069ff34-bfe3-44d7-8459-7a7f869045b3",
   "metadata": {},
   "source": [
    "# 4. Portfolio"
   ]
  },
  {
   "cell_type": "markdown",
   "id": "3430ffd9-e880-47cb-a613-393df3ff347a",
   "metadata": {},
   "source": [
    "## 4.1 Load Pricing Time Series"
   ]
  },
  {
   "cell_type": "code",
   "execution_count": null,
   "id": "cc5e9882-6653-47fc-8932-26d32fa2331b",
   "metadata": {
    "tags": []
   },
   "outputs": [],
   "source": [
    "# ticker symbols\n",
    "ticker_lst = list(folio_df['Ticker'])\n",
    "print('ticker #:', len(ticker_lst))\n",
    "\n",
    "# portfolio weights\n",
    "weight_lst = (folio_df['port_percent'].values)\n",
    "print('price #:', len(weight_lst))\n",
    "\n",
    "#Download closing prices\n",
    "price_df = pdr.get_data_yahoo(ticker_lst, start=start_date, end=end_date)['Close']\n",
    "price_df['C_A_S_H'] = 1\n",
    "print('price_df #:', price_df.shape)\n",
    "\n",
    "#From the closing prices, calculate periodic returns\n",
    "return_df = price_df.pct_change()\n",
    "return_df.fillna(0, inplace=True)\n",
    "return_df.index = pd.to_datetime(return_df.index)\n",
    "print('return_df #:', len(return_df.columns))"
   ]
  },
  {
   "cell_type": "code",
   "execution_count": null,
   "id": "2d4180d4-3429-4075-a654-a19470439561",
   "metadata": {
    "tags": []
   },
   "outputs": [],
   "source": []
  },
  {
   "cell_type": "markdown",
   "id": "d71be080-3104-4ac5-b3e5-2f394d2a933f",
   "metadata": {
    "tags": []
   },
   "source": [
    "## 4.2 Portfolio Returns"
   ]
  },
  {
   "cell_type": "code",
   "execution_count": null,
   "id": "66b30b4a-e4c3-4dc9-9bc4-e23c14c311cc",
   "metadata": {
    "tags": []
   },
   "outputs": [],
   "source": [
    "port_ret_weighted= return_df.mul(weight_lst, axis=1)\n",
    "print('port_ret_weighted #:', port_ret_weighted.shape)\n",
    "\n",
    "return_df['Portfolio'] = port_ret_weighted.sum(axis=1)\n",
    "print('return_df #:', return_df.shape)"
   ]
  },
  {
   "cell_type": "code",
   "execution_count": null,
   "id": "6ba2b040-f5c6-4b6c-a149-9fa3a530676f",
   "metadata": {
    "tags": []
   },
   "outputs": [],
   "source": [
    "weight_lst"
   ]
  },
  {
   "cell_type": "markdown",
   "id": "7da416e6-a9e3-46f8-b57a-1a99f8c8dfa6",
   "metadata": {
    "tags": []
   },
   "source": [
    "# 5. Calculate Portfolio Value"
   ]
  },
  {
   "cell_type": "code",
   "execution_count": null,
   "id": "8a2ec947-9ec8-4348-8d29-e5ecd890b379",
   "metadata": {
    "tags": []
   },
   "outputs": [],
   "source": [
    "shares_df = folio_df[['Ticker','Shares']]\n",
    "shares_df.set_index('Ticker', drop=True, inplace=True)\n",
    "shares_df.head()"
   ]
  },
  {
   "cell_type": "code",
   "execution_count": null,
   "id": "96b24755-d3bb-4242-b838-b77f4878457f",
   "metadata": {
    "tags": []
   },
   "outputs": [],
   "source": [
    "m_df = price_df.copy()\n",
    "m_df.reset_index(inplace=True)\n",
    "m_df = m_df.melt(id_vars=['Date'])\n",
    "m_df.columns = ['Date','Ticker','Price']\n",
    "m_df.head()"
   ]
  },
  {
   "cell_type": "code",
   "execution_count": null,
   "id": "44e4dd9d-bbba-4a3c-b18c-fdee0411fef5",
   "metadata": {
    "tags": []
   },
   "outputs": [],
   "source": [
    "l_df = folio_df[['Ticker','Class','Sub_Class']] #.drop_duplicates() \n",
    "print('l_df: ',l_df.shape)"
   ]
  },
  {
   "cell_type": "code",
   "execution_count": null,
   "id": "6aac9d66-3865-4be8-81f7-9556635d87a6",
   "metadata": {
    "tags": []
   },
   "outputs": [],
   "source": [
    "merge_df = m_df.merge(l_df, how='outer', left_on='Ticker', right_on='Ticker').merge(shares_df,how='outer' ,left_on='Ticker', right_on='Ticker')\n",
    "merge_df['share_value'] = merge_df['Price'] * merge_df['Shares']\n",
    "merge_df['perc_share_value'] = merge_df.groupby(['Ticker'])[['share_value']].pct_change()\n",
    "\n",
    "print('merge_df: ',merge_df.shape)"
   ]
  },
  {
   "cell_type": "code",
   "execution_count": null,
   "id": "3a653eeb-3705-453e-89cf-ed9bca0f3f9b",
   "metadata": {
    "tags": []
   },
   "outputs": [],
   "source": [
    "merge_df"
   ]
  },
  {
   "cell_type": "code",
   "execution_count": null,
   "id": "d68c7e32-6bf7-458a-a71f-6d80dffab083",
   "metadata": {
    "tags": []
   },
   "outputs": [],
   "source": [
    "folioValue_df = merge_df.groupby(['Date'])[['share_value']].sum().reset_index()\n",
    "folioValue_df['pct_change'] = folioValue_df['share_value'].pct_change()\n",
    "\n",
    "print('folioValue_df: ',folioValue_df.shape)"
   ]
  },
  {
   "cell_type": "code",
   "execution_count": null,
   "id": "7680fba1-5f9f-4819-bd64-10afe35884f0",
   "metadata": {
    "tags": []
   },
   "outputs": [],
   "source": [
    "fv_df = merge_df.groupby(['Date','Class'])[['share_value']].sum().reset_index()\n",
    "fv_df['pct_change'] = fv_df.groupby(['Class'])[['share_value']].pct_change()\n",
    "\n",
    "print('folioValue_df: ',fv_df.shape)"
   ]
  },
  {
   "cell_type": "markdown",
   "id": "adc5a2b8-e8f8-43dd-82b5-1b9de240399e",
   "metadata": {},
   "source": [
    "## 5.1 Portfolio Value"
   ]
  },
  {
   "cell_type": "code",
   "execution_count": null,
   "id": "edbac2cb-42f0-4557-adf0-f28c416f9f2e",
   "metadata": {
    "tags": []
   },
   "outputs": [],
   "source": [
    "folio_df"
   ]
  },
  {
   "cell_type": "code",
   "execution_count": null,
   "id": "930220eb-914c-4006-946f-350b2d7ce604",
   "metadata": {
    "tags": []
   },
   "outputs": [],
   "source": [
    "folio_df.groupby(['Class','Sub_Class'])[['Value']].sum()"
   ]
  },
  {
   "cell_type": "code",
   "execution_count": null,
   "id": "73a2cb5b-69cb-4779-b463-66aa1bf32895",
   "metadata": {
    "tags": []
   },
   "outputs": [],
   "source": [
    "folio_df[['Value']].sum()"
   ]
  },
  {
   "cell_type": "code",
   "execution_count": null,
   "id": "dd9b1cf3-5fcc-4986-b6af-cca390a5a73c",
   "metadata": {
    "tags": []
   },
   "outputs": [],
   "source": [
    "round(merge_df[merge_df['Date'] == purchase_date_str].groupby(['Class','Sub_Class'])[['share_value']].sum(),0)"
   ]
  },
  {
   "cell_type": "code",
   "execution_count": null,
   "id": "cfbd5653-0002-4417-bd79-a41d53cfe60b",
   "metadata": {
    "tags": []
   },
   "outputs": [],
   "source": [
    "round(merge_df[merge_df['Date'] == purchase_date_str][['share_value']].sum(),0)"
   ]
  },
  {
   "cell_type": "code",
   "execution_count": null,
   "id": "62c622c6-514c-4296-93c0-fe9d382f59ac",
   "metadata": {
    "tags": []
   },
   "outputs": [],
   "source": [
    "folioValue_df[folioValue_df['Date'] == purchase_date_str]"
   ]
  },
  {
   "cell_type": "code",
   "execution_count": null,
   "id": "07c38c19-ad52-4b87-83e5-41042ecc0d6b",
   "metadata": {
    "tags": []
   },
   "outputs": [],
   "source": [
    "round(merge_df[merge_df['Date'] == end_date_str].groupby(['Class','Sub_Class'])[['share_value']].sum(),0)"
   ]
  },
  {
   "cell_type": "code",
   "execution_count": null,
   "id": "1c600975-43c6-4d10-9e46-34c0fa92a1f1",
   "metadata": {
    "tags": []
   },
   "outputs": [],
   "source": [
    "round(merge_df[merge_df['Date'] == end_date_str][['share_value']].sum(),0)"
   ]
  },
  {
   "cell_type": "code",
   "execution_count": null,
   "id": "f103ac9b-e92d-4a88-a907-bb7ec6566135",
   "metadata": {
    "tags": []
   },
   "outputs": [],
   "source": [
    "folioValue_df[folioValue_df['Date'] == end_date_str]"
   ]
  },
  {
   "cell_type": "markdown",
   "id": "0109ee84-2892-4fbf-9021-d1ec63eca87a",
   "metadata": {
    "tags": []
   },
   "source": [
    "# 6. Correlation"
   ]
  },
  {
   "cell_type": "code",
   "execution_count": null,
   "id": "4086d089-043b-4204-a4e5-c7d5406b876f",
   "metadata": {
    "tags": []
   },
   "outputs": [],
   "source": [
    "m_df = merge_df.groupby(['Date','Class'])[['share_value']].sum()\n",
    "m_df['pct_change'] = m_df.groupby(['Class'])[['share_value']].pct_change()\n",
    "m_df.reset_index(inplace=True)\n",
    "m_df = m_df.pivot(index=['Date'], columns=['Class'])['pct_change']\n",
    "m_df"
   ]
  },
  {
   "cell_type": "code",
   "execution_count": null,
   "id": "d5051572-be61-48ee-a782-1859b5e70cfd",
   "metadata": {
    "tags": []
   },
   "outputs": [],
   "source": [
    "p_df = m_df.merge(benchPercent_econ_df, how='outer', left_on='Date', right_on='Date') \\\n",
    "            .merge(benchPercent_int_df,how='outer' ,left_on='Date', right_on='Date')\n",
    "p_df.drop(labels=['Date','Cash'], inplace=True, axis=1)\n",
    "p_df.columns = ['Economic','Interest','SPY','FHNFX']\n",
    "p_df"
   ]
  },
  {
   "cell_type": "code",
   "execution_count": null,
   "id": "dbed4252-5446-4447-ac63-11e4caf48478",
   "metadata": {
    "tags": []
   },
   "outputs": [],
   "source": [
    "plt.figure(figsize=(10,5))\n",
    "mask = np.zeros_like(p_df.corr())\n",
    "mask[np.triu_indices_from(mask)] = True\n",
    "sns.set_style(\"white\")\n",
    "_p = sns.heatmap(p_df.corr().round(2), \n",
    "                 annot=True, mask=mask, \n",
    "                 cmap=\"plasma\", annot_kws={\"size\": 10})"
   ]
  },
  {
   "cell_type": "markdown",
   "id": "1ebde7d5-5022-44b0-8799-e0d52b59865b",
   "metadata": {},
   "source": [
    "# 7. Value at Risk"
   ]
  },
  {
   "cell_type": "markdown",
   "id": "db337d6e-57ab-4308-89fa-7f7771c6ed5c",
   "metadata": {},
   "source": [
    "# 8. Calculate VaR"
   ]
  },
  {
   "cell_type": "code",
   "execution_count": null,
   "id": "68bcd6f7-996e-49ed-baf1-29a80750ede4",
   "metadata": {
    "tags": []
   },
   "outputs": [],
   "source": [
    "r_df = return_df.drop(labels='Portfolio', axis=1)[1:]\n",
    "print('r_df', r_df.shape)"
   ]
  },
  {
   "cell_type": "code",
   "execution_count": null,
   "id": "43b2c27d-358c-49a0-8843-046f4ebbf4f9",
   "metadata": {
    "tags": []
   },
   "outputs": [],
   "source": [
    "l2 = list(folio_df['Ticker'])\n",
    "l1 = r_df.columns\n",
    "list_dif = set(l2).symmetric_difference(set(l1))\n",
    "\n",
    "print('l1: ', len(l1), 'l2: ', len(l2), 'dif: ', list_dif)"
   ]
  },
  {
   "cell_type": "code",
   "execution_count": null,
   "id": "ad45a946-9a15-41af-861a-0dfdefbc9c8e",
   "metadata": {
    "tags": []
   },
   "outputs": [],
   "source": [
    "var = VaR(r_df, weight_lst, alpha=[0.05,0.025,0.01])\n",
    "var"
   ]
  },
  {
   "cell_type": "code",
   "execution_count": null,
   "id": "263ef504-9a5a-412e-9284-26dc29baf7a4",
   "metadata": {
    "tags": []
   },
   "outputs": [],
   "source": [
    "var.info"
   ]
  },
  {
   "cell_type": "code",
   "execution_count": null,
   "id": "acc42cc6-87ff-4262-92a3-27067ed4df7b",
   "metadata": {
    "tags": []
   },
   "outputs": [],
   "source": [
    "var.historic()"
   ]
  },
  {
   "cell_type": "code",
   "execution_count": null,
   "id": "091b18c1-ca7e-4278-92d3-f84f5716a198",
   "metadata": {
    "tags": []
   },
   "outputs": [],
   "source": [
    "print('VaR(95.0):', var.historic()['VaR(95.0)'][0]*100)\n",
    "print('Portfolio VaR(95.0)', var.historic()['VaR(95.0)'][0]*portfolio_total*1000)"
   ]
  },
  {
   "cell_type": "code",
   "execution_count": null,
   "id": "aa7cef9d-0211-4287-8146-78cd75d934ca",
   "metadata": {
    "tags": []
   },
   "outputs": [],
   "source": [
    "var.parametric()"
   ]
  },
  {
   "cell_type": "code",
   "execution_count": null,
   "id": "1e16b716-ca6c-4c72-881d-1b41e83cd034",
   "metadata": {
    "tags": []
   },
   "outputs": [],
   "source": [
    "print('VaR(95.0):', var.parametric()['VaR(95.0)'][0]*100)\n",
    "print('Portfolio VaR(95.0)', var.parametric()['VaR(95.0)'][0]*portfolio_total*1000)"
   ]
  },
  {
   "cell_type": "code",
   "execution_count": null,
   "id": "1afd77b8-9bc7-4b4c-bde9-cc70ebeb5d99",
   "metadata": {
    "tags": []
   },
   "outputs": [],
   "source": [
    "var.monte_carlo()"
   ]
  },
  {
   "cell_type": "code",
   "execution_count": null,
   "id": "7ff7e759-1ed5-4178-b5de-560dbd935ed4",
   "metadata": {
    "tags": []
   },
   "outputs": [],
   "source": [
    "print('VaR(95.0):', var.monte_carlo()['VaR(95.0)'][0]*100)\n",
    "print('Portfolio VaR(95.0)', var.monte_carlo()['VaR(95.0)'][0]*portfolio_total*1000)"
   ]
  },
  {
   "cell_type": "code",
   "execution_count": null,
   "id": "b1294c3a-1678-4284-874d-002ed527da08",
   "metadata": {
    "tags": []
   },
   "outputs": [],
   "source": [
    "l2 = list(folio_df['Ticker'])\n",
    "l1 = r_df.columns\n",
    "list_dif = set(l2).symmetric_difference(set(l1))\n",
    "\n",
    "\n",
    "print('l1: ', len(l1), 'l2: ', len(l2), 'dif: ', list_dif)"
   ]
  },
  {
   "cell_type": "code",
   "execution_count": null,
   "id": "dd090ac9-d7e7-4cdf-a479-86a98811168e",
   "metadata": {
    "tags": []
   },
   "outputs": [],
   "source": [
    "var = VaR(r_df, weight_lst, alpha=[0.05,0.025,0.01])\n",
    "#var = VaR(r_df, weight_lst, alpha=0.05)\n",
    "var"
   ]
  },
  {
   "cell_type": "code",
   "execution_count": null,
   "id": "4d58a8f6-f342-4dd7-a2cf-abc1ffab1309",
   "metadata": {
    "tags": []
   },
   "outputs": [],
   "source": [
    "var.info"
   ]
  },
  {
   "cell_type": "code",
   "execution_count": null,
   "id": "49075bd3-0e2d-4dd3-803d-9883adc25f89",
   "metadata": {
    "tags": []
   },
   "outputs": [],
   "source": [
    "var.historic()"
   ]
  },
  {
   "cell_type": "code",
   "execution_count": null,
   "id": "a1868512-e7b5-4eec-8b3f-ee0e2b174603",
   "metadata": {
    "tags": []
   },
   "outputs": [],
   "source": [
    "print('VaR(95.0):', var.historic()['VaR(95.0)'][0]*100)\n",
    "print('Portfolio VaR(95.0)', var.historic()['VaR(95.0)'][0]*portfolio_total*1000)"
   ]
  },
  {
   "cell_type": "code",
   "execution_count": null,
   "id": "7cbe2f30-8ba7-480d-9de4-bb076469ede1",
   "metadata": {
    "tags": []
   },
   "outputs": [],
   "source": [
    "var.parametric()"
   ]
  },
  {
   "cell_type": "code",
   "execution_count": null,
   "id": "07b65747-ead5-439a-8efd-77d2fdedbe5f",
   "metadata": {
    "tags": []
   },
   "outputs": [],
   "source": [
    "print('VaR(95.0):', var.parametric()['VaR(95.0)'][0]*100)\n",
    "print('Portfolio VaR(95.0)', var.parametric()['VaR(95.0)'][0]*portfolio_total*1000)"
   ]
  },
  {
   "cell_type": "code",
   "execution_count": null,
   "id": "c0aab5fd-6487-4a4a-9c5d-833d8128e81d",
   "metadata": {
    "tags": []
   },
   "outputs": [],
   "source": [
    "var.monte_carlo()"
   ]
  },
  {
   "cell_type": "code",
   "execution_count": null,
   "id": "f6246f70-fde0-4a2b-a49d-75334cd4e62c",
   "metadata": {
    "tags": []
   },
   "outputs": [],
   "source": [
    "print('VaR(95.0):', var.monte_carlo()['VaR(95.0)'][0]*100)\n",
    "print('Portfolio VaR(95.0)', var.monte_carlo()['VaR(95.0)'][0]*portfolio_total*1000)"
   ]
  },
  {
   "cell_type": "code",
   "execution_count": null,
   "id": "95227b2c-9c6f-4ff8-bac2-a9b3103225e1",
   "metadata": {
    "tags": []
   },
   "outputs": [],
   "source": [
    "var.monte_carlo(stressed=True)"
   ]
  },
  {
   "cell_type": "markdown",
   "id": "dc000a27-e5da-474c-89f7-b8aa09e2a228",
   "metadata": {},
   "source": [
    "# Backtest"
   ]
  },
  {
   "cell_type": "code",
   "execution_count": null,
   "id": "7b68e43b-fbeb-434d-bf67-a846dd226e6d",
   "metadata": {
    "tags": []
   },
   "outputs": [],
   "source": [
    "bth = var.backtest(method='h')"
   ]
  },
  {
   "cell_type": "code",
   "execution_count": null,
   "id": "59c08583-dd7e-4f00-b2a0-043ea4675f8d",
   "metadata": {},
   "outputs": [],
   "source": [
    "var.evaluate(bth)"
   ]
  },
  {
   "cell_type": "code",
   "execution_count": null,
   "id": "ac676191-de22-4827-8d29-44282b6f04f0",
   "metadata": {
    "tags": []
   },
   "outputs": [],
   "source": [
    "var.var_plot(bth)"
   ]
  },
  {
   "cell_type": "code",
   "execution_count": null,
   "id": "dd4eb6f2-376e-4159-9be5-8237fe8c23ac",
   "metadata": {
    "tags": []
   },
   "outputs": [],
   "source": [
    "var.cvar_plot(bth)"
   ]
  },
  {
   "cell_type": "code",
   "execution_count": null,
   "id": "efd1ae2f-b79c-4341-8a23-c38e37b28a21",
   "metadata": {
    "tags": []
   },
   "outputs": [],
   "source": [
    "var.cdar_plot(bth)"
   ]
  }
 ],
 "metadata": {
  "kernelspec": {
   "display_name": "Python 3 (ipykernel)",
   "language": "python",
   "name": "python3"
  },
  "language_info": {
   "codemirror_mode": {
    "name": "ipython",
    "version": 3
   },
   "file_extension": ".py",
   "mimetype": "text/x-python",
   "name": "python",
   "nbconvert_exporter": "python",
   "pygments_lexer": "ipython3",
   "version": "3.10.12"
  }
 },
 "nbformat": 4,
 "nbformat_minor": 5
}
