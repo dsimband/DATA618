{
 "cells": [
  {
   "cell_type": "code",
   "execution_count": 1,
   "id": "06013ffa-c4bf-4899-965b-6ee44b9fafa8",
   "metadata": {
    "tags": []
   },
   "outputs": [],
   "source": [
    "import warnings\n",
    "warnings.filterwarnings('ignore')\n",
    "\n",
    "import pandas as pd\n",
    "import numpy as np\n",
    "from pandas_datareader import data as pdr\n",
    "from datetime import datetime, date, timedelta\n",
    "\n",
    "# statistical analysis\n",
    "import statsmodels.api as sm\n",
    "from statsmodels import regression\n",
    "import scipy.stats\n",
    "\n",
    "import yfinance as yfin\n",
    "yfin.pdr_override()\n",
    "from var import VaR\n",
    "\n",
    "import matplotlib.pyplot as plt\n",
    "from matplotlib import style\n",
    "import seaborn as sns\n",
    "\n",
    "#from var import VaR\n",
    "\n",
    "pd.set_option('display.float_format', lambda x: f'{x:,.4f}')\n",
    "sns.set_theme(rc={'axes.formatter.limits': (-8, 9)})\n",
    "style.use('seaborn-whitegrid')\n",
    "plt.rcParams[\"figure.figsize\"] = (10,6)"
   ]
  },
  {
   "cell_type": "code",
   "execution_count": null,
   "id": "50ea1eb4-5c46-44d2-97f9-38810a667c97",
   "metadata": {},
   "outputs": [],
   "source": []
  },
  {
   "cell_type": "markdown",
   "id": "6ee9a7a0-ae47-4bc4-b78c-e9e11c8427ca",
   "metadata": {},
   "source": [
    "# 0. Weekly Tasks\n",
    "Prepare a presentation using Panopto (PowerPoint slides with Video Narration is an acceptable alternative) addressing the following points:\n",
    "What scenario were you assigned as the result of the random number exercise?\n",
    "\n",
    "- What were your considerations in determining an appropriate investment strategy for that scenario?\n",
    "\n",
    "- What asset allocation did you implement that you felt best supported that investment strategy?\n",
    "\n",
    "- What assets did you invest in consistent with that asset allocation and strategy? (Assets, Price at time of investment, % of total investment)\n",
    "\n",
    "- Present Value, Profit/Loss to date, VaR, SHARPE, VWAP, Alpha (Other metrics that you feel important in support of your strategy) for your portfolio \n",
    "\n",
    "What reallocation of assets would you recommend at this time (if any) and why?\n",
    "Post your presentation accessible to your colleagues for comment and comment on the presentations by your colleagues."
   ]
  },
  {
   "cell_type": "markdown",
   "id": "2e938d11-2879-4c25-b08c-c695edd51c41",
   "metadata": {},
   "source": [
    "# 1. Variables"
   ]
  },
  {
   "cell_type": "code",
   "execution_count": 2,
   "id": "7fa609fe-d30e-4e47-9527-f7df4502badd",
   "metadata": {
    "tags": []
   },
   "outputs": [],
   "source": [
    "start_date = datetime(2022, 1, 1)\n",
    "purchase_date = datetime(2023, 9, 11)\n",
    "purchase_date_str = '2023-9-11'\n",
    "end_date = datetime.now()\n",
    "end_date_str = end_date.strftime(\"%Y-%m-%d\")\n",
    "\n",
    "alpha = 0.05\n",
    "period = '5y'"
   ]
  },
  {
   "cell_type": "markdown",
   "id": "cb06cdf0-d0b9-433c-9088-7e6ba741a200",
   "metadata": {},
   "source": [
    "# 2. Functions"
   ]
  },
  {
   "cell_type": "code",
   "execution_count": null,
   "id": "f6c7aa57-ab9b-47ea-ba81-39785edc416c",
   "metadata": {},
   "outputs": [],
   "source": []
  },
  {
   "cell_type": "markdown",
   "id": "e72e3d4e-01f9-4db1-b6d9-d27d32867539",
   "metadata": {},
   "source": [
    "# 3. Load Data"
   ]
  },
  {
   "cell_type": "markdown",
   "id": "9ecfcc31-ceee-4f61-ad60-2a9d8e8cd232",
   "metadata": {},
   "source": [
    "## 3.1 Load Variables"
   ]
  },
  {
   "cell_type": "code",
   "execution_count": 3,
   "id": "0c0f3434-ef55-41e2-a6ce-c9d9815814f5",
   "metadata": {
    "tags": []
   },
   "outputs": [
    {
     "name": "stdout",
     "output_type": "stream",
     "text": [
      "[*********************100%%**********************]  1 of 1 completed\n"
     ]
    },
    {
     "data": {
      "text/plain": [
       "3.348"
      ]
     },
     "execution_count": 3,
     "metadata": {},
     "output_type": "execute_result"
    }
   ],
   "source": [
    "var_lst = ['^TNX']\n",
    "data = pdr.get_data_yahoo(var_lst, start=start_date, end=end_date )['Close']\n",
    "#rf_rate = round((data.mean() / 100),4)\n",
    "rf_rate = round((data.mean()),4)\n",
    "rf_rate"
   ]
  },
  {
   "cell_type": "code",
   "execution_count": 4,
   "id": "d0afc352-71e9-4189-8f22-348c5f77c246",
   "metadata": {},
   "outputs": [
    {
     "name": "stdout",
     "output_type": "stream",
     "text": [
      "[*********************100%%**********************]  1 of 1 completed\n"
     ]
    },
    {
     "data": {
      "text/html": [
       "<div>\n",
       "<style scoped>\n",
       "    .dataframe tbody tr th:only-of-type {\n",
       "        vertical-align: middle;\n",
       "    }\n",
       "\n",
       "    .dataframe tbody tr th {\n",
       "        vertical-align: top;\n",
       "    }\n",
       "\n",
       "    .dataframe thead th {\n",
       "        text-align: right;\n",
       "    }\n",
       "</style>\n",
       "<table border=\"1\" class=\"dataframe\">\n",
       "  <thead>\n",
       "    <tr style=\"text-align: right;\">\n",
       "      <th></th>\n",
       "      <th>Date</th>\n",
       "      <th>SPY</th>\n",
       "    </tr>\n",
       "  </thead>\n",
       "  <tbody>\n",
       "    <tr>\n",
       "      <th>0</th>\n",
       "      <td>2022-01-04</td>\n",
       "      <td>-0.0003</td>\n",
       "    </tr>\n",
       "    <tr>\n",
       "      <th>1</th>\n",
       "      <td>2022-01-05</td>\n",
       "      <td>-0.0192</td>\n",
       "    </tr>\n",
       "    <tr>\n",
       "      <th>2</th>\n",
       "      <td>2022-01-06</td>\n",
       "      <td>-0.0009</td>\n",
       "    </tr>\n",
       "    <tr>\n",
       "      <th>3</th>\n",
       "      <td>2022-01-07</td>\n",
       "      <td>-0.0040</td>\n",
       "    </tr>\n",
       "    <tr>\n",
       "      <th>4</th>\n",
       "      <td>2022-01-10</td>\n",
       "      <td>-0.0012</td>\n",
       "    </tr>\n",
       "  </tbody>\n",
       "</table>\n",
       "</div>"
      ],
      "text/plain": [
       "        Date     SPY\n",
       "0 2022-01-04 -0.0003\n",
       "1 2022-01-05 -0.0192\n",
       "2 2022-01-06 -0.0009\n",
       "3 2022-01-07 -0.0040\n",
       "4 2022-01-10 -0.0012"
      ]
     },
     "execution_count": 4,
     "metadata": {},
     "output_type": "execute_result"
    }
   ],
   "source": [
    "var_lst = ['SPY']\n",
    "bench_df = pdr.get_data_yahoo(var_lst, start=start_date, end=end_date)['Close']\n",
    "#bench_df = round((bench_df.mean() / 100),4)\n",
    "bench_econ_df = pd.DataFrame(bench_df)\n",
    "bench_econ_df.columns = ['SPY']\n",
    "\n",
    "benchPercent_econ_df = bench_econ_df.pct_change()[1:]\n",
    "benchPercent_econ_df.reset_index(inplace=True)\n",
    "benchPercent_econ_df.head()"
   ]
  },
  {
   "cell_type": "code",
   "execution_count": 5,
   "id": "7b5d2cf2-39d8-471d-a9db-f1475decdc2a",
   "metadata": {
    "tags": []
   },
   "outputs": [
    {
     "name": "stdout",
     "output_type": "stream",
     "text": [
      "[*********************100%%**********************]  1 of 1 completed\n"
     ]
    },
    {
     "data": {
      "text/html": [
       "<div>\n",
       "<style scoped>\n",
       "    .dataframe tbody tr th:only-of-type {\n",
       "        vertical-align: middle;\n",
       "    }\n",
       "\n",
       "    .dataframe tbody tr th {\n",
       "        vertical-align: top;\n",
       "    }\n",
       "\n",
       "    .dataframe thead th {\n",
       "        text-align: right;\n",
       "    }\n",
       "</style>\n",
       "<table border=\"1\" class=\"dataframe\">\n",
       "  <thead>\n",
       "    <tr style=\"text-align: right;\">\n",
       "      <th></th>\n",
       "      <th>Date</th>\n",
       "      <th>FIBUX</th>\n",
       "    </tr>\n",
       "  </thead>\n",
       "  <tbody>\n",
       "    <tr>\n",
       "      <th>0</th>\n",
       "      <td>2022-01-04</td>\n",
       "      <td>-0.0010</td>\n",
       "    </tr>\n",
       "    <tr>\n",
       "      <th>1</th>\n",
       "      <td>2022-01-05</td>\n",
       "      <td>-0.0029</td>\n",
       "    </tr>\n",
       "    <tr>\n",
       "      <th>2</th>\n",
       "      <td>2022-01-06</td>\n",
       "      <td>-0.0010</td>\n",
       "    </tr>\n",
       "    <tr>\n",
       "      <th>3</th>\n",
       "      <td>2022-01-07</td>\n",
       "      <td>-0.0029</td>\n",
       "    </tr>\n",
       "    <tr>\n",
       "      <th>4</th>\n",
       "      <td>2022-01-10</td>\n",
       "      <td>-0.0010</td>\n",
       "    </tr>\n",
       "  </tbody>\n",
       "</table>\n",
       "</div>"
      ],
      "text/plain": [
       "        Date   FIBUX\n",
       "0 2022-01-04 -0.0010\n",
       "1 2022-01-05 -0.0029\n",
       "2 2022-01-06 -0.0010\n",
       "3 2022-01-07 -0.0029\n",
       "4 2022-01-10 -0.0010"
      ]
     },
     "execution_count": 5,
     "metadata": {},
     "output_type": "execute_result"
    }
   ],
   "source": [
    "var_lst = ['FIBUX']\n",
    "bench_df = pdr.get_data_yahoo(var_lst, start=start_date, end=end_date)['Close']\n",
    "#bench_df = round((bench_df.mean() / 100),4)\n",
    "bench_int_df = pd.DataFrame(bench_df)\n",
    "bench_int_df.columns = ['FIBUX']\n",
    "\n",
    "benchPercent_int_df = bench_int_df.pct_change()[1:]\n",
    "benchPercent_int_df.reset_index(inplace=True)\n",
    "benchPercent_int_df.head()"
   ]
  },
  {
   "cell_type": "code",
   "execution_count": null,
   "id": "626b57fa-6959-4593-ab00-9622ed0280aa",
   "metadata": {},
   "outputs": [],
   "source": []
  },
  {
   "cell_type": "code",
   "execution_count": null,
   "id": "8c402db7-6706-471e-b418-390f8c203e95",
   "metadata": {},
   "outputs": [],
   "source": []
  },
  {
   "cell_type": "markdown",
   "id": "895c6e67-1164-4e10-aef2-a6a54039a7db",
   "metadata": {},
   "source": [
    "## 3.2 Load Portfolio"
   ]
  },
  {
   "cell_type": "code",
   "execution_count": 6,
   "id": "554da305-42d0-41be-af10-4ee6decf1591",
   "metadata": {},
   "outputs": [
    {
     "data": {
      "text/html": [
       "<div>\n",
       "<style scoped>\n",
       "    .dataframe tbody tr th:only-of-type {\n",
       "        vertical-align: middle;\n",
       "    }\n",
       "\n",
       "    .dataframe tbody tr th {\n",
       "        vertical-align: top;\n",
       "    }\n",
       "\n",
       "    .dataframe thead th {\n",
       "        text-align: right;\n",
       "    }\n",
       "</style>\n",
       "<table border=\"1\" class=\"dataframe\">\n",
       "  <thead>\n",
       "    <tr style=\"text-align: right;\">\n",
       "      <th></th>\n",
       "      <th>Ticker</th>\n",
       "      <th>BondName</th>\n",
       "      <th>Class</th>\n",
       "      <th>Sub_Class</th>\n",
       "      <th>Shares</th>\n",
       "      <th>Value</th>\n",
       "      <th>port_percent</th>\n",
       "    </tr>\n",
       "  </thead>\n",
       "  <tbody>\n",
       "    <tr>\n",
       "      <th>0</th>\n",
       "      <td>ALTVX</td>\n",
       "      <td>AB Municipal Income National Advisor</td>\n",
       "      <td>Interest Rate Sensitive</td>\n",
       "      <td>Very-High-Quality Municipal Bonds</td>\n",
       "      <td>106,383.0000</td>\n",
       "      <td>1,000.0000</td>\n",
       "      <td>0.0120</td>\n",
       "    </tr>\n",
       "    <tr>\n",
       "      <th>1</th>\n",
       "      <td>BLUEX</td>\n",
       "      <td>AMG Veritas Global Real Return I</td>\n",
       "      <td>Economically Sensitive</td>\n",
       "      <td>Long/Short Equities</td>\n",
       "      <td>14,201.0000</td>\n",
       "      <td>500.0000</td>\n",
       "      <td>0.0060</td>\n",
       "    </tr>\n",
       "    <tr>\n",
       "      <th>2</th>\n",
       "      <td>BPLSX</td>\n",
       "      <td>Boston Partners Long/Short Equity Instl</td>\n",
       "      <td>Economically Sensitive</td>\n",
       "      <td>Long/Short Equities</td>\n",
       "      <td>49,967.0000</td>\n",
       "      <td>750.0000</td>\n",
       "      <td>0.0090</td>\n",
       "    </tr>\n",
       "    <tr>\n",
       "      <th>3</th>\n",
       "      <td>C_A_S_H</td>\n",
       "      <td>Cash</td>\n",
       "      <td>Cash</td>\n",
       "      <td>Cash</td>\n",
       "      <td>4,182,856.0000</td>\n",
       "      <td>4,183.0000</td>\n",
       "      <td>0.0501</td>\n",
       "    </tr>\n",
       "    <tr>\n",
       "      <th>4</th>\n",
       "      <td>DFAR</td>\n",
       "      <td>Dimensional US Real Estate ETF</td>\n",
       "      <td>Economically Sensitive</td>\n",
       "      <td>Publicly Traded REITs</td>\n",
       "      <td>108,467.0000</td>\n",
       "      <td>2,250.0000</td>\n",
       "      <td>0.0270</td>\n",
       "    </tr>\n",
       "    <tr>\n",
       "      <th>...</th>\n",
       "      <td>...</td>\n",
       "      <td>...</td>\n",
       "      <td>...</td>\n",
       "      <td>...</td>\n",
       "      <td>...</td>\n",
       "      <td>...</td>\n",
       "      <td>...</td>\n",
       "    </tr>\n",
       "    <tr>\n",
       "      <th>30</th>\n",
       "      <td>VIGI</td>\n",
       "      <td>Vanguard Intl Div Apprec ETF</td>\n",
       "      <td>Economically Sensitive</td>\n",
       "      <td>International Equities</td>\n",
       "      <td>40,481.0000</td>\n",
       "      <td>3,000.0000</td>\n",
       "      <td>0.0360</td>\n",
       "    </tr>\n",
       "    <tr>\n",
       "      <th>31</th>\n",
       "      <td>VNQ</td>\n",
       "      <td>Vanguard Real Estate ETF</td>\n",
       "      <td>Economically Sensitive</td>\n",
       "      <td>Publicly Traded REITs</td>\n",
       "      <td>40,221.0000</td>\n",
       "      <td>3,250.0000</td>\n",
       "      <td>0.0390</td>\n",
       "    </tr>\n",
       "    <tr>\n",
       "      <th>32</th>\n",
       "      <td>VO</td>\n",
       "      <td>Vanguard Mid-Cap ETF</td>\n",
       "      <td>Economically Sensitive</td>\n",
       "      <td>U.S. Equities</td>\n",
       "      <td>9,234.0000</td>\n",
       "      <td>2,000.0000</td>\n",
       "      <td>0.0240</td>\n",
       "    </tr>\n",
       "    <tr>\n",
       "      <th>33</th>\n",
       "      <td>VONG</td>\n",
       "      <td>Vanguard Russell 1000 Growth ETF</td>\n",
       "      <td>Economically Sensitive</td>\n",
       "      <td>U.S. Equities</td>\n",
       "      <td>41,501.0000</td>\n",
       "      <td>3,000.0000</td>\n",
       "      <td>0.0360</td>\n",
       "    </tr>\n",
       "    <tr>\n",
       "      <th>34</th>\n",
       "      <td>VTEB</td>\n",
       "      <td>Vanguard Tax-Exempt Bond ETF</td>\n",
       "      <td>Interest Rate Sensitive</td>\n",
       "      <td>Very-High-Quality Municipal Bonds</td>\n",
       "      <td>20,333.0000</td>\n",
       "      <td>1,000.0000</td>\n",
       "      <td>0.0120</td>\n",
       "    </tr>\n",
       "  </tbody>\n",
       "</table>\n",
       "<p>35 rows × 7 columns</p>\n",
       "</div>"
      ],
      "text/plain": [
       "     Ticker                                 BondName                    Class  \\\n",
       "0     ALTVX     AB Municipal Income National Advisor  Interest Rate Sensitive   \n",
       "1     BLUEX         AMG Veritas Global Real Return I   Economically Sensitive   \n",
       "2     BPLSX  Boston Partners Long/Short Equity Instl   Economically Sensitive   \n",
       "3   C_A_S_H                                     Cash                     Cash   \n",
       "4      DFAR           Dimensional US Real Estate ETF   Economically Sensitive   \n",
       "..      ...                                      ...                      ...   \n",
       "30     VIGI             Vanguard Intl Div Apprec ETF   Economically Sensitive   \n",
       "31      VNQ                 Vanguard Real Estate ETF   Economically Sensitive   \n",
       "32       VO                     Vanguard Mid-Cap ETF   Economically Sensitive   \n",
       "33     VONG         Vanguard Russell 1000 Growth ETF   Economically Sensitive   \n",
       "34     VTEB             Vanguard Tax-Exempt Bond ETF  Interest Rate Sensitive   \n",
       "\n",
       "                            Sub_Class         Shares      Value  port_percent  \n",
       "0   Very-High-Quality Municipal Bonds   106,383.0000 1,000.0000        0.0120  \n",
       "1                 Long/Short Equities    14,201.0000   500.0000        0.0060  \n",
       "2                 Long/Short Equities    49,967.0000   750.0000        0.0090  \n",
       "3                                Cash 4,182,856.0000 4,183.0000        0.0501  \n",
       "4               Publicly Traded REITs   108,467.0000 2,250.0000        0.0270  \n",
       "..                                ...            ...        ...           ...  \n",
       "30             International Equities    40,481.0000 3,000.0000        0.0360  \n",
       "31              Publicly Traded REITs    40,221.0000 3,250.0000        0.0390  \n",
       "32                      U.S. Equities     9,234.0000 2,000.0000        0.0240  \n",
       "33                      U.S. Equities    41,501.0000 3,000.0000        0.0360  \n",
       "34  Very-High-Quality Municipal Bonds    20,333.0000 1,000.0000        0.0120  \n",
       "\n",
       "[35 rows x 7 columns]"
      ]
     },
     "execution_count": 6,
     "metadata": {},
     "output_type": "execute_result"
    }
   ],
   "source": [
    "folio_df = pd.read_csv('https://raw.githubusercontent.com/dsimband/DATA618/main/w7/data/DATA618_Portfolio.csv', \n",
    "                 dtype={\n",
    "                    'ID': 'int',\n",
    "                    'Price': 'float',\n",
    "                    'Shares': 'float',\n",
    "                    'Value': 'float', \n",
    "                 })\n",
    "\n",
    "folio_df = folio_df[folio_df['Shares'] > 0]\n",
    "folio_df = folio_df.groupby(['Ticker','BondName','Class','Sub_Class'])[['Shares','Value']].sum()\n",
    "folio_df.reset_index(inplace=True)\n",
    "\n",
    "# calculate portfilio percentage\n",
    "portfolio_total = folio_df['Value'].sum()\n",
    "folio_df['port_percent'] = folio_df['Value'] / portfolio_total\n",
    "\n",
    "# Class Portfolios\n",
    "folio_econ_df = folio_df[folio_df['Class'] == 'Economically Sensitive']\n",
    "folio_int_df = folio_df[folio_df['Class'] == 'Interest Rate Sensitive']\n",
    "\n",
    "folio_df"
   ]
  },
  {
   "cell_type": "code",
   "execution_count": 7,
   "id": "b04e584f-5c2e-48bd-b477-9eee5be934cd",
   "metadata": {
    "tags": []
   },
   "outputs": [
    {
     "data": {
      "text/html": [
       "<div>\n",
       "<style scoped>\n",
       "    .dataframe tbody tr th:only-of-type {\n",
       "        vertical-align: middle;\n",
       "    }\n",
       "\n",
       "    .dataframe tbody tr th {\n",
       "        vertical-align: top;\n",
       "    }\n",
       "\n",
       "    .dataframe thead th {\n",
       "        text-align: right;\n",
       "    }\n",
       "</style>\n",
       "<table border=\"1\" class=\"dataframe\">\n",
       "  <thead>\n",
       "    <tr style=\"text-align: right;\">\n",
       "      <th></th>\n",
       "      <th>Value</th>\n",
       "    </tr>\n",
       "    <tr>\n",
       "      <th>Class</th>\n",
       "      <th></th>\n",
       "    </tr>\n",
       "  </thead>\n",
       "  <tbody>\n",
       "    <tr>\n",
       "      <th>Cash</th>\n",
       "      <td>4,183.0000</td>\n",
       "    </tr>\n",
       "    <tr>\n",
       "      <th>Economically Sensitive</th>\n",
       "      <td>50,250.0000</td>\n",
       "    </tr>\n",
       "    <tr>\n",
       "      <th>Interest Rate Sensitive</th>\n",
       "      <td>29,000.0000</td>\n",
       "    </tr>\n",
       "  </tbody>\n",
       "</table>\n",
       "</div>"
      ],
      "text/plain": [
       "                              Value\n",
       "Class                              \n",
       "Cash                     4,183.0000\n",
       "Economically Sensitive  50,250.0000\n",
       "Interest Rate Sensitive 29,000.0000"
      ]
     },
     "execution_count": 7,
     "metadata": {},
     "output_type": "execute_result"
    }
   ],
   "source": [
    "folio_df.groupby(['Class'])[['Value']].sum()"
   ]
  },
  {
   "cell_type": "code",
   "execution_count": 8,
   "id": "04b6a8cc-bd95-4bac-87ed-f1305d89020e",
   "metadata": {
    "tags": []
   },
   "outputs": [
    {
     "data": {
      "text/plain": [
       "83433000.0"
      ]
     },
     "execution_count": 8,
     "metadata": {},
     "output_type": "execute_result"
    }
   ],
   "source": [
    "initial_investment = folio_df['Value'].sum() * 1000\n",
    "initial_investment"
   ]
  },
  {
   "cell_type": "markdown",
   "id": "9069ff34-bfe3-44d7-8459-7a7f869045b3",
   "metadata": {},
   "source": [
    "# 4. Portfolio"
   ]
  },
  {
   "cell_type": "markdown",
   "id": "3430ffd9-e880-47cb-a613-393df3ff347a",
   "metadata": {},
   "source": [
    "## 4.1 Load Pricing Time Series"
   ]
  },
  {
   "cell_type": "code",
   "execution_count": 9,
   "id": "cc5e9882-6653-47fc-8932-26d32fa2331b",
   "metadata": {
    "tags": []
   },
   "outputs": [
    {
     "name": "stdout",
     "output_type": "stream",
     "text": [
      "ticker #: 35\n",
      "price #: 35\n",
      "[*********************100%%**********************]  35 of 35 completed"
     ]
    },
    {
     "name": "stderr",
     "output_type": "stream",
     "text": [
      "\n",
      "1 Failed download:\n",
      "['C_A_S_H']: Exception('%ticker%: No timezone found, symbol may be delisted')\n"
     ]
    },
    {
     "name": "stdout",
     "output_type": "stream",
     "text": [
      "\n",
      "price_df #: (448, 35)\n",
      "return_df #: 35\n"
     ]
    }
   ],
   "source": [
    "# ticker symbols\n",
    "ticker_lst = list(folio_df['Ticker'])\n",
    "print('ticker #:', len(ticker_lst))\n",
    "\n",
    "\n",
    "# portfolio weights\n",
    "weight_lst = (folio_df['port_percent'].values)\n",
    "print('price #:', len(weight_lst))\n",
    "\n",
    "\n",
    "#Download closing prices\n",
    "price_df = pdr.get_data_yahoo(ticker_lst, start=start_date, end=end_date)['Close']\n",
    "\n",
    "price_df['C_A_S_H'] = 1\n",
    "print('price_df #:', price_df.shape)\n",
    "\n",
    "#From the closing prices, calculate periodic returns\n",
    "return_df = price_df.pct_change()\n",
    "#return_df = return_df[1:]\n",
    "return_df.fillna(0, inplace=True)\n",
    "return_df.index = pd.to_datetime(return_df.index)\n",
    "print('return_df #:', len(return_df.columns))"
   ]
  },
  {
   "cell_type": "code",
   "execution_count": null,
   "id": "2d4180d4-3429-4075-a654-a19470439561",
   "metadata": {
    "tags": []
   },
   "outputs": [],
   "source": []
  },
  {
   "cell_type": "markdown",
   "id": "d71be080-3104-4ac5-b3e5-2f394d2a933f",
   "metadata": {
    "tags": []
   },
   "source": [
    "## 4.2 Portfolio Returns"
   ]
  },
  {
   "cell_type": "code",
   "execution_count": 10,
   "id": "66b30b4a-e4c3-4dc9-9bc4-e23c14c311cc",
   "metadata": {
    "tags": []
   },
   "outputs": [
    {
     "name": "stdout",
     "output_type": "stream",
     "text": [
      "port_ret_weighted #: (448, 35)\n",
      "return_df #: (448, 36)\n"
     ]
    }
   ],
   "source": [
    "port_ret_weighted= return_df.mul(weight_lst, axis=1)\n",
    "print('port_ret_weighted #:', port_ret_weighted.shape)\n",
    "\n",
    "return_df['Portfolio'] = port_ret_weighted.sum(axis=1)\n",
    "print('return_df #:', return_df.shape)"
   ]
  },
  {
   "cell_type": "code",
   "execution_count": 11,
   "id": "6ba2b040-f5c6-4b6c-a149-9fa3a530676f",
   "metadata": {
    "tags": []
   },
   "outputs": [
    {
     "data": {
      "text/plain": [
       "array([0.01198567, 0.00599283, 0.00898925, 0.05013604, 0.02696775,\n",
       "       0.03355986, 0.04794266, 0.00599283, 0.00599283, 0.01198567,\n",
       "       0.06592116, 0.02397133, 0.04794266, 0.035957  , 0.04794266,\n",
       "       0.04794266, 0.02996416, 0.01198567, 0.01198567, 0.01198567,\n",
       "       0.05033979, 0.01198567, 0.01198567, 0.035957  , 0.01198567,\n",
       "       0.07191399, 0.01198567, 0.06592116, 0.01198567, 0.02397133,\n",
       "       0.035957  , 0.03895341, 0.02397133, 0.035957  , 0.01198567])"
      ]
     },
     "execution_count": 11,
     "metadata": {},
     "output_type": "execute_result"
    }
   ],
   "source": [
    "weight_lst"
   ]
  },
  {
   "cell_type": "markdown",
   "id": "7da416e6-a9e3-46f8-b57a-1a99f8c8dfa6",
   "metadata": {
    "tags": []
   },
   "source": [
    "# 5. Calculate Portfolio Value"
   ]
  },
  {
   "cell_type": "code",
   "execution_count": 12,
   "id": "8a2ec947-9ec8-4348-8d29-e5ecd890b379",
   "metadata": {
    "tags": []
   },
   "outputs": [
    {
     "data": {
      "text/html": [
       "<div>\n",
       "<style scoped>\n",
       "    .dataframe tbody tr th:only-of-type {\n",
       "        vertical-align: middle;\n",
       "    }\n",
       "\n",
       "    .dataframe tbody tr th {\n",
       "        vertical-align: top;\n",
       "    }\n",
       "\n",
       "    .dataframe thead th {\n",
       "        text-align: right;\n",
       "    }\n",
       "</style>\n",
       "<table border=\"1\" class=\"dataframe\">\n",
       "  <thead>\n",
       "    <tr style=\"text-align: right;\">\n",
       "      <th></th>\n",
       "      <th>Shares</th>\n",
       "    </tr>\n",
       "    <tr>\n",
       "      <th>Ticker</th>\n",
       "      <th></th>\n",
       "    </tr>\n",
       "  </thead>\n",
       "  <tbody>\n",
       "    <tr>\n",
       "      <th>ALTVX</th>\n",
       "      <td>106,383.0000</td>\n",
       "    </tr>\n",
       "    <tr>\n",
       "      <th>BLUEX</th>\n",
       "      <td>14,201.0000</td>\n",
       "    </tr>\n",
       "    <tr>\n",
       "      <th>BPLSX</th>\n",
       "      <td>49,967.0000</td>\n",
       "    </tr>\n",
       "    <tr>\n",
       "      <th>C_A_S_H</th>\n",
       "      <td>4,182,856.0000</td>\n",
       "    </tr>\n",
       "    <tr>\n",
       "      <th>DFAR</th>\n",
       "      <td>108,467.0000</td>\n",
       "    </tr>\n",
       "  </tbody>\n",
       "</table>\n",
       "</div>"
      ],
      "text/plain": [
       "                Shares\n",
       "Ticker                \n",
       "ALTVX     106,383.0000\n",
       "BLUEX      14,201.0000\n",
       "BPLSX      49,967.0000\n",
       "C_A_S_H 4,182,856.0000\n",
       "DFAR      108,467.0000"
      ]
     },
     "execution_count": 12,
     "metadata": {},
     "output_type": "execute_result"
    }
   ],
   "source": [
    "shares_df = folio_df[['Ticker','Shares']]\n",
    "shares_df.set_index('Ticker', drop=True, inplace=True)\n",
    "#shares_df[['Shares']].round(0)\n",
    "shares_df.head()"
   ]
  },
  {
   "cell_type": "code",
   "execution_count": 13,
   "id": "96b24755-d3bb-4242-b838-b77f4878457f",
   "metadata": {
    "tags": []
   },
   "outputs": [
    {
     "data": {
      "text/html": [
       "<div>\n",
       "<style scoped>\n",
       "    .dataframe tbody tr th:only-of-type {\n",
       "        vertical-align: middle;\n",
       "    }\n",
       "\n",
       "    .dataframe tbody tr th {\n",
       "        vertical-align: top;\n",
       "    }\n",
       "\n",
       "    .dataframe thead th {\n",
       "        text-align: right;\n",
       "    }\n",
       "</style>\n",
       "<table border=\"1\" class=\"dataframe\">\n",
       "  <thead>\n",
       "    <tr style=\"text-align: right;\">\n",
       "      <th></th>\n",
       "      <th>Date</th>\n",
       "      <th>Ticker</th>\n",
       "      <th>Price</th>\n",
       "    </tr>\n",
       "  </thead>\n",
       "  <tbody>\n",
       "    <tr>\n",
       "      <th>0</th>\n",
       "      <td>2022-01-03</td>\n",
       "      <td>ALTVX</td>\n",
       "      <td>10.7700</td>\n",
       "    </tr>\n",
       "    <tr>\n",
       "      <th>1</th>\n",
       "      <td>2022-01-04</td>\n",
       "      <td>ALTVX</td>\n",
       "      <td>10.7600</td>\n",
       "    </tr>\n",
       "    <tr>\n",
       "      <th>2</th>\n",
       "      <td>2022-01-05</td>\n",
       "      <td>ALTVX</td>\n",
       "      <td>10.7500</td>\n",
       "    </tr>\n",
       "    <tr>\n",
       "      <th>3</th>\n",
       "      <td>2022-01-06</td>\n",
       "      <td>ALTVX</td>\n",
       "      <td>10.7300</td>\n",
       "    </tr>\n",
       "    <tr>\n",
       "      <th>4</th>\n",
       "      <td>2022-01-07</td>\n",
       "      <td>ALTVX</td>\n",
       "      <td>10.7200</td>\n",
       "    </tr>\n",
       "  </tbody>\n",
       "</table>\n",
       "</div>"
      ],
      "text/plain": [
       "        Date Ticker   Price\n",
       "0 2022-01-03  ALTVX 10.7700\n",
       "1 2022-01-04  ALTVX 10.7600\n",
       "2 2022-01-05  ALTVX 10.7500\n",
       "3 2022-01-06  ALTVX 10.7300\n",
       "4 2022-01-07  ALTVX 10.7200"
      ]
     },
     "execution_count": 13,
     "metadata": {},
     "output_type": "execute_result"
    }
   ],
   "source": [
    "m_df = price_df.copy()\n",
    "m_df.reset_index(inplace=True)\n",
    "m_df = m_df.melt(id_vars=['Date'])\n",
    "m_df.columns = ['Date','Ticker','Price']\n",
    "m_df.head()"
   ]
  },
  {
   "cell_type": "code",
   "execution_count": 14,
   "id": "44e4dd9d-bbba-4a3c-b18c-fdee0411fef5",
   "metadata": {
    "tags": []
   },
   "outputs": [
    {
     "name": "stdout",
     "output_type": "stream",
     "text": [
      "l_df:  (35, 3)\n"
     ]
    }
   ],
   "source": [
    "l_df = folio_df[['Ticker','Class','Sub_Class']] #.drop_duplicates() \n",
    "print('l_df: ',l_df.shape)"
   ]
  },
  {
   "cell_type": "code",
   "execution_count": 15,
   "id": "6aac9d66-3865-4be8-81f7-9556635d87a6",
   "metadata": {
    "tags": []
   },
   "outputs": [
    {
     "name": "stdout",
     "output_type": "stream",
     "text": [
      "merge_df:  (15680, 8)\n"
     ]
    }
   ],
   "source": [
    "merge_df = m_df.merge(l_df, how='outer', left_on='Ticker', right_on='Ticker').merge(shares_df,how='outer' ,left_on='Ticker', right_on='Ticker')\n",
    "\n",
    "merge_df['share_value'] = merge_df['Price'] * merge_df['Shares']\n",
    "merge_df['perc_share_value'] = merge_df.groupby(['Ticker'])[['share_value']].pct_change()\n",
    "\n",
    "print('merge_df: ',merge_df.shape)"
   ]
  },
  {
   "cell_type": "code",
   "execution_count": 16,
   "id": "3a653eeb-3705-453e-89cf-ed9bca0f3f9b",
   "metadata": {
    "tags": []
   },
   "outputs": [
    {
     "data": {
      "text/html": [
       "<div>\n",
       "<style scoped>\n",
       "    .dataframe tbody tr th:only-of-type {\n",
       "        vertical-align: middle;\n",
       "    }\n",
       "\n",
       "    .dataframe tbody tr th {\n",
       "        vertical-align: top;\n",
       "    }\n",
       "\n",
       "    .dataframe thead th {\n",
       "        text-align: right;\n",
       "    }\n",
       "</style>\n",
       "<table border=\"1\" class=\"dataframe\">\n",
       "  <thead>\n",
       "    <tr style=\"text-align: right;\">\n",
       "      <th></th>\n",
       "      <th>Date</th>\n",
       "      <th>Ticker</th>\n",
       "      <th>Price</th>\n",
       "      <th>Class</th>\n",
       "      <th>Sub_Class</th>\n",
       "      <th>Shares</th>\n",
       "      <th>share_value</th>\n",
       "      <th>perc_share_value</th>\n",
       "    </tr>\n",
       "  </thead>\n",
       "  <tbody>\n",
       "    <tr>\n",
       "      <th>0</th>\n",
       "      <td>2022-01-03</td>\n",
       "      <td>ALTVX</td>\n",
       "      <td>10.7700</td>\n",
       "      <td>Interest Rate Sensitive</td>\n",
       "      <td>Very-High-Quality Municipal Bonds</td>\n",
       "      <td>106,383.0000</td>\n",
       "      <td>1,145,744.9587</td>\n",
       "      <td>NaN</td>\n",
       "    </tr>\n",
       "    <tr>\n",
       "      <th>1</th>\n",
       "      <td>2022-01-04</td>\n",
       "      <td>ALTVX</td>\n",
       "      <td>10.7600</td>\n",
       "      <td>Interest Rate Sensitive</td>\n",
       "      <td>Very-High-Quality Municipal Bonds</td>\n",
       "      <td>106,383.0000</td>\n",
       "      <td>1,144,681.1043</td>\n",
       "      <td>-0.0009</td>\n",
       "    </tr>\n",
       "    <tr>\n",
       "      <th>2</th>\n",
       "      <td>2022-01-05</td>\n",
       "      <td>ALTVX</td>\n",
       "      <td>10.7500</td>\n",
       "      <td>Interest Rate Sensitive</td>\n",
       "      <td>Very-High-Quality Municipal Bonds</td>\n",
       "      <td>106,383.0000</td>\n",
       "      <td>1,143,617.2500</td>\n",
       "      <td>-0.0009</td>\n",
       "    </tr>\n",
       "    <tr>\n",
       "      <th>3</th>\n",
       "      <td>2022-01-06</td>\n",
       "      <td>ALTVX</td>\n",
       "      <td>10.7300</td>\n",
       "      <td>Interest Rate Sensitive</td>\n",
       "      <td>Very-High-Quality Municipal Bonds</td>\n",
       "      <td>106,383.0000</td>\n",
       "      <td>1,141,489.5413</td>\n",
       "      <td>-0.0019</td>\n",
       "    </tr>\n",
       "    <tr>\n",
       "      <th>4</th>\n",
       "      <td>2022-01-07</td>\n",
       "      <td>ALTVX</td>\n",
       "      <td>10.7200</td>\n",
       "      <td>Interest Rate Sensitive</td>\n",
       "      <td>Very-High-Quality Municipal Bonds</td>\n",
       "      <td>106,383.0000</td>\n",
       "      <td>1,140,425.7884</td>\n",
       "      <td>-0.0009</td>\n",
       "    </tr>\n",
       "    <tr>\n",
       "      <th>...</th>\n",
       "      <td>...</td>\n",
       "      <td>...</td>\n",
       "      <td>...</td>\n",
       "      <td>...</td>\n",
       "      <td>...</td>\n",
       "      <td>...</td>\n",
       "      <td>...</td>\n",
       "      <td>...</td>\n",
       "    </tr>\n",
       "    <tr>\n",
       "      <th>15675</th>\n",
       "      <td>2023-10-09</td>\n",
       "      <td>VTEB</td>\n",
       "      <td>47.8100</td>\n",
       "      <td>Interest Rate Sensitive</td>\n",
       "      <td>Very-High-Quality Municipal Bonds</td>\n",
       "      <td>20,333.0000</td>\n",
       "      <td>972,120.7579</td>\n",
       "      <td>0.0061</td>\n",
       "    </tr>\n",
       "    <tr>\n",
       "      <th>15676</th>\n",
       "      <td>2023-10-10</td>\n",
       "      <td>VTEB</td>\n",
       "      <td>47.8600</td>\n",
       "      <td>Interest Rate Sensitive</td>\n",
       "      <td>Very-High-Quality Municipal Bonds</td>\n",
       "      <td>20,333.0000</td>\n",
       "      <td>973,137.3924</td>\n",
       "      <td>0.0010</td>\n",
       "    </tr>\n",
       "    <tr>\n",
       "      <th>15677</th>\n",
       "      <td>2023-10-11</td>\n",
       "      <td>VTEB</td>\n",
       "      <td>48.2100</td>\n",
       "      <td>Interest Rate Sensitive</td>\n",
       "      <td>Very-High-Quality Municipal Bonds</td>\n",
       "      <td>20,333.0000</td>\n",
       "      <td>980,253.9114</td>\n",
       "      <td>0.0073</td>\n",
       "    </tr>\n",
       "    <tr>\n",
       "      <th>15678</th>\n",
       "      <td>2023-10-12</td>\n",
       "      <td>VTEB</td>\n",
       "      <td>48.1000</td>\n",
       "      <td>Interest Rate Sensitive</td>\n",
       "      <td>Very-High-Quality Municipal Bonds</td>\n",
       "      <td>20,333.0000</td>\n",
       "      <td>978,017.2690</td>\n",
       "      <td>-0.0023</td>\n",
       "    </tr>\n",
       "    <tr>\n",
       "      <th>15679</th>\n",
       "      <td>2023-10-13</td>\n",
       "      <td>VTEB</td>\n",
       "      <td>48.1600</td>\n",
       "      <td>Interest Rate Sensitive</td>\n",
       "      <td>Very-High-Quality Municipal Bonds</td>\n",
       "      <td>20,333.0000</td>\n",
       "      <td>979,237.2769</td>\n",
       "      <td>0.0012</td>\n",
       "    </tr>\n",
       "  </tbody>\n",
       "</table>\n",
       "<p>15680 rows × 8 columns</p>\n",
       "</div>"
      ],
      "text/plain": [
       "            Date Ticker   Price                    Class  \\\n",
       "0     2022-01-03  ALTVX 10.7700  Interest Rate Sensitive   \n",
       "1     2022-01-04  ALTVX 10.7600  Interest Rate Sensitive   \n",
       "2     2022-01-05  ALTVX 10.7500  Interest Rate Sensitive   \n",
       "3     2022-01-06  ALTVX 10.7300  Interest Rate Sensitive   \n",
       "4     2022-01-07  ALTVX 10.7200  Interest Rate Sensitive   \n",
       "...          ...    ...     ...                      ...   \n",
       "15675 2023-10-09   VTEB 47.8100  Interest Rate Sensitive   \n",
       "15676 2023-10-10   VTEB 47.8600  Interest Rate Sensitive   \n",
       "15677 2023-10-11   VTEB 48.2100  Interest Rate Sensitive   \n",
       "15678 2023-10-12   VTEB 48.1000  Interest Rate Sensitive   \n",
       "15679 2023-10-13   VTEB 48.1600  Interest Rate Sensitive   \n",
       "\n",
       "                               Sub_Class       Shares    share_value  \\\n",
       "0      Very-High-Quality Municipal Bonds 106,383.0000 1,145,744.9587   \n",
       "1      Very-High-Quality Municipal Bonds 106,383.0000 1,144,681.1043   \n",
       "2      Very-High-Quality Municipal Bonds 106,383.0000 1,143,617.2500   \n",
       "3      Very-High-Quality Municipal Bonds 106,383.0000 1,141,489.5413   \n",
       "4      Very-High-Quality Municipal Bonds 106,383.0000 1,140,425.7884   \n",
       "...                                  ...          ...            ...   \n",
       "15675  Very-High-Quality Municipal Bonds  20,333.0000   972,120.7579   \n",
       "15676  Very-High-Quality Municipal Bonds  20,333.0000   973,137.3924   \n",
       "15677  Very-High-Quality Municipal Bonds  20,333.0000   980,253.9114   \n",
       "15678  Very-High-Quality Municipal Bonds  20,333.0000   978,017.2690   \n",
       "15679  Very-High-Quality Municipal Bonds  20,333.0000   979,237.2769   \n",
       "\n",
       "       perc_share_value  \n",
       "0                   NaN  \n",
       "1               -0.0009  \n",
       "2               -0.0009  \n",
       "3               -0.0019  \n",
       "4               -0.0009  \n",
       "...                 ...  \n",
       "15675            0.0061  \n",
       "15676            0.0010  \n",
       "15677            0.0073  \n",
       "15678           -0.0023  \n",
       "15679            0.0012  \n",
       "\n",
       "[15680 rows x 8 columns]"
      ]
     },
     "execution_count": 16,
     "metadata": {},
     "output_type": "execute_result"
    }
   ],
   "source": [
    "merge_df"
   ]
  },
  {
   "cell_type": "code",
   "execution_count": 17,
   "id": "d68c7e32-6bf7-458a-a71f-6d80dffab083",
   "metadata": {
    "tags": []
   },
   "outputs": [
    {
     "name": "stdout",
     "output_type": "stream",
     "text": [
      "folioValue_df:  (448, 3)\n"
     ]
    }
   ],
   "source": [
    "folioValue_df = merge_df.groupby(['Date'])[['share_value']].sum().reset_index()\n",
    "folioValue_df['pct_change'] = folioValue_df['share_value'].pct_change()\n",
    "#folioValue_df['pct_change'] = folioValue_df.groupby(['Class'])[['share_value']].pct_change()\n",
    "#folioValue_df = folioValue_df[1:]\n",
    "\n",
    "print('folioValue_df: ',folioValue_df.shape)"
   ]
  },
  {
   "cell_type": "code",
   "execution_count": 18,
   "id": "7680fba1-5f9f-4819-bd64-10afe35884f0",
   "metadata": {
    "tags": []
   },
   "outputs": [
    {
     "name": "stdout",
     "output_type": "stream",
     "text": [
      "folioValue_df:  (1344, 4)\n"
     ]
    }
   ],
   "source": [
    "fv_df = merge_df.groupby(['Date','Class'])[['share_value']].sum().reset_index()\n",
    "#fv_df['pct_change'] = fv_df['share_value'].pct_change()\n",
    "fv_df['pct_change'] = fv_df.groupby(['Class'])[['share_value']].pct_change()\n",
    "#folioValue_df = folioValue_df[1:]\n",
    "\n",
    "print('folioValue_df: ',fv_df.shape)"
   ]
  },
  {
   "cell_type": "code",
   "execution_count": 19,
   "id": "961802dc-8f49-497d-9490-1157883ab5ca",
   "metadata": {
    "tags": []
   },
   "outputs": [
    {
     "data": {
      "text/html": [
       "<div>\n",
       "<style scoped>\n",
       "    .dataframe tbody tr th:only-of-type {\n",
       "        vertical-align: middle;\n",
       "    }\n",
       "\n",
       "    .dataframe tbody tr th {\n",
       "        vertical-align: top;\n",
       "    }\n",
       "\n",
       "    .dataframe thead th {\n",
       "        text-align: right;\n",
       "    }\n",
       "</style>\n",
       "<table border=\"1\" class=\"dataframe\">\n",
       "  <thead>\n",
       "    <tr style=\"text-align: right;\">\n",
       "      <th></th>\n",
       "      <th>Date</th>\n",
       "      <th>Class</th>\n",
       "      <th>share_value</th>\n",
       "      <th>pct_change</th>\n",
       "    </tr>\n",
       "  </thead>\n",
       "  <tbody>\n",
       "    <tr>\n",
       "      <th>0</th>\n",
       "      <td>2022-01-03</td>\n",
       "      <td>Cash</td>\n",
       "      <td>4,182,856.0000</td>\n",
       "      <td>NaN</td>\n",
       "    </tr>\n",
       "    <tr>\n",
       "      <th>1</th>\n",
       "      <td>2022-01-03</td>\n",
       "      <td>Economically Sensitive</td>\n",
       "      <td>53,337,534.7088</td>\n",
       "      <td>NaN</td>\n",
       "    </tr>\n",
       "    <tr>\n",
       "      <th>2</th>\n",
       "      <td>2022-01-03</td>\n",
       "      <td>Interest Rate Sensitive</td>\n",
       "      <td>33,890,623.0734</td>\n",
       "      <td>NaN</td>\n",
       "    </tr>\n",
       "    <tr>\n",
       "      <th>3</th>\n",
       "      <td>2022-01-04</td>\n",
       "      <td>Cash</td>\n",
       "      <td>4,182,856.0000</td>\n",
       "      <td>0.0000</td>\n",
       "    </tr>\n",
       "    <tr>\n",
       "      <th>4</th>\n",
       "      <td>2022-01-04</td>\n",
       "      <td>Economically Sensitive</td>\n",
       "      <td>53,463,417.3560</td>\n",
       "      <td>0.0024</td>\n",
       "    </tr>\n",
       "    <tr>\n",
       "      <th>...</th>\n",
       "      <td>...</td>\n",
       "      <td>...</td>\n",
       "      <td>...</td>\n",
       "      <td>...</td>\n",
       "    </tr>\n",
       "    <tr>\n",
       "      <th>1339</th>\n",
       "      <td>2023-10-12</td>\n",
       "      <td>Economically Sensitive</td>\n",
       "      <td>48,140,189.2998</td>\n",
       "      <td>-0.0107</td>\n",
       "    </tr>\n",
       "    <tr>\n",
       "      <th>1340</th>\n",
       "      <td>2023-10-12</td>\n",
       "      <td>Interest Rate Sensitive</td>\n",
       "      <td>28,329,437.0559</td>\n",
       "      <td>-0.0059</td>\n",
       "    </tr>\n",
       "    <tr>\n",
       "      <th>1341</th>\n",
       "      <td>2023-10-13</td>\n",
       "      <td>Cash</td>\n",
       "      <td>4,182,856.0000</td>\n",
       "      <td>0.0000</td>\n",
       "    </tr>\n",
       "    <tr>\n",
       "      <th>1342</th>\n",
       "      <td>2023-10-13</td>\n",
       "      <td>Economically Sensitive</td>\n",
       "      <td>47,898,857.8304</td>\n",
       "      <td>-0.0050</td>\n",
       "    </tr>\n",
       "    <tr>\n",
       "      <th>1343</th>\n",
       "      <td>2023-10-13</td>\n",
       "      <td>Interest Rate Sensitive</td>\n",
       "      <td>28,428,212.7984</td>\n",
       "      <td>0.0035</td>\n",
       "    </tr>\n",
       "  </tbody>\n",
       "</table>\n",
       "<p>1344 rows × 4 columns</p>\n",
       "</div>"
      ],
      "text/plain": [
       "           Date                    Class     share_value  pct_change\n",
       "0    2022-01-03                     Cash  4,182,856.0000         NaN\n",
       "1    2022-01-03   Economically Sensitive 53,337,534.7088         NaN\n",
       "2    2022-01-03  Interest Rate Sensitive 33,890,623.0734         NaN\n",
       "3    2022-01-04                     Cash  4,182,856.0000      0.0000\n",
       "4    2022-01-04   Economically Sensitive 53,463,417.3560      0.0024\n",
       "...         ...                      ...             ...         ...\n",
       "1339 2023-10-12   Economically Sensitive 48,140,189.2998     -0.0107\n",
       "1340 2023-10-12  Interest Rate Sensitive 28,329,437.0559     -0.0059\n",
       "1341 2023-10-13                     Cash  4,182,856.0000      0.0000\n",
       "1342 2023-10-13   Economically Sensitive 47,898,857.8304     -0.0050\n",
       "1343 2023-10-13  Interest Rate Sensitive 28,428,212.7984      0.0035\n",
       "\n",
       "[1344 rows x 4 columns]"
      ]
     },
     "execution_count": 19,
     "metadata": {},
     "output_type": "execute_result"
    }
   ],
   "source": [
    "fv_df"
   ]
  },
  {
   "cell_type": "markdown",
   "id": "adc5a2b8-e8f8-43dd-82b5-1b9de240399e",
   "metadata": {},
   "source": [
    "## 5.1 Portfolio Value"
   ]
  },
  {
   "cell_type": "code",
   "execution_count": 20,
   "id": "edbac2cb-42f0-4557-adf0-f28c416f9f2e",
   "metadata": {
    "tags": []
   },
   "outputs": [
    {
     "data": {
      "text/html": [
       "<div>\n",
       "<style scoped>\n",
       "    .dataframe tbody tr th:only-of-type {\n",
       "        vertical-align: middle;\n",
       "    }\n",
       "\n",
       "    .dataframe tbody tr th {\n",
       "        vertical-align: top;\n",
       "    }\n",
       "\n",
       "    .dataframe thead th {\n",
       "        text-align: right;\n",
       "    }\n",
       "</style>\n",
       "<table border=\"1\" class=\"dataframe\">\n",
       "  <thead>\n",
       "    <tr style=\"text-align: right;\">\n",
       "      <th></th>\n",
       "      <th>Ticker</th>\n",
       "      <th>BondName</th>\n",
       "      <th>Class</th>\n",
       "      <th>Sub_Class</th>\n",
       "      <th>Shares</th>\n",
       "      <th>Value</th>\n",
       "      <th>port_percent</th>\n",
       "    </tr>\n",
       "  </thead>\n",
       "  <tbody>\n",
       "    <tr>\n",
       "      <th>0</th>\n",
       "      <td>ALTVX</td>\n",
       "      <td>AB Municipal Income National Advisor</td>\n",
       "      <td>Interest Rate Sensitive</td>\n",
       "      <td>Very-High-Quality Municipal Bonds</td>\n",
       "      <td>106,383.0000</td>\n",
       "      <td>1,000.0000</td>\n",
       "      <td>0.0120</td>\n",
       "    </tr>\n",
       "    <tr>\n",
       "      <th>1</th>\n",
       "      <td>BLUEX</td>\n",
       "      <td>AMG Veritas Global Real Return I</td>\n",
       "      <td>Economically Sensitive</td>\n",
       "      <td>Long/Short Equities</td>\n",
       "      <td>14,201.0000</td>\n",
       "      <td>500.0000</td>\n",
       "      <td>0.0060</td>\n",
       "    </tr>\n",
       "    <tr>\n",
       "      <th>2</th>\n",
       "      <td>BPLSX</td>\n",
       "      <td>Boston Partners Long/Short Equity Instl</td>\n",
       "      <td>Economically Sensitive</td>\n",
       "      <td>Long/Short Equities</td>\n",
       "      <td>49,967.0000</td>\n",
       "      <td>750.0000</td>\n",
       "      <td>0.0090</td>\n",
       "    </tr>\n",
       "    <tr>\n",
       "      <th>3</th>\n",
       "      <td>C_A_S_H</td>\n",
       "      <td>Cash</td>\n",
       "      <td>Cash</td>\n",
       "      <td>Cash</td>\n",
       "      <td>4,182,856.0000</td>\n",
       "      <td>4,183.0000</td>\n",
       "      <td>0.0501</td>\n",
       "    </tr>\n",
       "    <tr>\n",
       "      <th>4</th>\n",
       "      <td>DFAR</td>\n",
       "      <td>Dimensional US Real Estate ETF</td>\n",
       "      <td>Economically Sensitive</td>\n",
       "      <td>Publicly Traded REITs</td>\n",
       "      <td>108,467.0000</td>\n",
       "      <td>2,250.0000</td>\n",
       "      <td>0.0270</td>\n",
       "    </tr>\n",
       "    <tr>\n",
       "      <th>...</th>\n",
       "      <td>...</td>\n",
       "      <td>...</td>\n",
       "      <td>...</td>\n",
       "      <td>...</td>\n",
       "      <td>...</td>\n",
       "      <td>...</td>\n",
       "      <td>...</td>\n",
       "    </tr>\n",
       "    <tr>\n",
       "      <th>30</th>\n",
       "      <td>VIGI</td>\n",
       "      <td>Vanguard Intl Div Apprec ETF</td>\n",
       "      <td>Economically Sensitive</td>\n",
       "      <td>International Equities</td>\n",
       "      <td>40,481.0000</td>\n",
       "      <td>3,000.0000</td>\n",
       "      <td>0.0360</td>\n",
       "    </tr>\n",
       "    <tr>\n",
       "      <th>31</th>\n",
       "      <td>VNQ</td>\n",
       "      <td>Vanguard Real Estate ETF</td>\n",
       "      <td>Economically Sensitive</td>\n",
       "      <td>Publicly Traded REITs</td>\n",
       "      <td>40,221.0000</td>\n",
       "      <td>3,250.0000</td>\n",
       "      <td>0.0390</td>\n",
       "    </tr>\n",
       "    <tr>\n",
       "      <th>32</th>\n",
       "      <td>VO</td>\n",
       "      <td>Vanguard Mid-Cap ETF</td>\n",
       "      <td>Economically Sensitive</td>\n",
       "      <td>U.S. Equities</td>\n",
       "      <td>9,234.0000</td>\n",
       "      <td>2,000.0000</td>\n",
       "      <td>0.0240</td>\n",
       "    </tr>\n",
       "    <tr>\n",
       "      <th>33</th>\n",
       "      <td>VONG</td>\n",
       "      <td>Vanguard Russell 1000 Growth ETF</td>\n",
       "      <td>Economically Sensitive</td>\n",
       "      <td>U.S. Equities</td>\n",
       "      <td>41,501.0000</td>\n",
       "      <td>3,000.0000</td>\n",
       "      <td>0.0360</td>\n",
       "    </tr>\n",
       "    <tr>\n",
       "      <th>34</th>\n",
       "      <td>VTEB</td>\n",
       "      <td>Vanguard Tax-Exempt Bond ETF</td>\n",
       "      <td>Interest Rate Sensitive</td>\n",
       "      <td>Very-High-Quality Municipal Bonds</td>\n",
       "      <td>20,333.0000</td>\n",
       "      <td>1,000.0000</td>\n",
       "      <td>0.0120</td>\n",
       "    </tr>\n",
       "  </tbody>\n",
       "</table>\n",
       "<p>35 rows × 7 columns</p>\n",
       "</div>"
      ],
      "text/plain": [
       "     Ticker                                 BondName                    Class  \\\n",
       "0     ALTVX     AB Municipal Income National Advisor  Interest Rate Sensitive   \n",
       "1     BLUEX         AMG Veritas Global Real Return I   Economically Sensitive   \n",
       "2     BPLSX  Boston Partners Long/Short Equity Instl   Economically Sensitive   \n",
       "3   C_A_S_H                                     Cash                     Cash   \n",
       "4      DFAR           Dimensional US Real Estate ETF   Economically Sensitive   \n",
       "..      ...                                      ...                      ...   \n",
       "30     VIGI             Vanguard Intl Div Apprec ETF   Economically Sensitive   \n",
       "31      VNQ                 Vanguard Real Estate ETF   Economically Sensitive   \n",
       "32       VO                     Vanguard Mid-Cap ETF   Economically Sensitive   \n",
       "33     VONG         Vanguard Russell 1000 Growth ETF   Economically Sensitive   \n",
       "34     VTEB             Vanguard Tax-Exempt Bond ETF  Interest Rate Sensitive   \n",
       "\n",
       "                            Sub_Class         Shares      Value  port_percent  \n",
       "0   Very-High-Quality Municipal Bonds   106,383.0000 1,000.0000        0.0120  \n",
       "1                 Long/Short Equities    14,201.0000   500.0000        0.0060  \n",
       "2                 Long/Short Equities    49,967.0000   750.0000        0.0090  \n",
       "3                                Cash 4,182,856.0000 4,183.0000        0.0501  \n",
       "4               Publicly Traded REITs   108,467.0000 2,250.0000        0.0270  \n",
       "..                                ...            ...        ...           ...  \n",
       "30             International Equities    40,481.0000 3,000.0000        0.0360  \n",
       "31              Publicly Traded REITs    40,221.0000 3,250.0000        0.0390  \n",
       "32                      U.S. Equities     9,234.0000 2,000.0000        0.0240  \n",
       "33                      U.S. Equities    41,501.0000 3,000.0000        0.0360  \n",
       "34  Very-High-Quality Municipal Bonds    20,333.0000 1,000.0000        0.0120  \n",
       "\n",
       "[35 rows x 7 columns]"
      ]
     },
     "execution_count": 20,
     "metadata": {},
     "output_type": "execute_result"
    }
   ],
   "source": [
    "folio_df"
   ]
  },
  {
   "cell_type": "code",
   "execution_count": 21,
   "id": "930220eb-914c-4006-946f-350b2d7ce604",
   "metadata": {
    "tags": []
   },
   "outputs": [
    {
     "data": {
      "text/html": [
       "<div>\n",
       "<style scoped>\n",
       "    .dataframe tbody tr th:only-of-type {\n",
       "        vertical-align: middle;\n",
       "    }\n",
       "\n",
       "    .dataframe tbody tr th {\n",
       "        vertical-align: top;\n",
       "    }\n",
       "\n",
       "    .dataframe thead th {\n",
       "        text-align: right;\n",
       "    }\n",
       "</style>\n",
       "<table border=\"1\" class=\"dataframe\">\n",
       "  <thead>\n",
       "    <tr style=\"text-align: right;\">\n",
       "      <th></th>\n",
       "      <th></th>\n",
       "      <th>Value</th>\n",
       "    </tr>\n",
       "    <tr>\n",
       "      <th>Class</th>\n",
       "      <th>Sub_Class</th>\n",
       "      <th></th>\n",
       "    </tr>\n",
       "  </thead>\n",
       "  <tbody>\n",
       "    <tr>\n",
       "      <th>Cash</th>\n",
       "      <th>Cash</th>\n",
       "      <td>4,183.0000</td>\n",
       "    </tr>\n",
       "    <tr>\n",
       "      <th rowspan=\"6\" valign=\"top\">Economically Sensitive</th>\n",
       "      <th>Emerging Market Equities</th>\n",
       "      <td>4,000.0000</td>\n",
       "    </tr>\n",
       "    <tr>\n",
       "      <th>International Equities</th>\n",
       "      <td>8,000.0000</td>\n",
       "    </tr>\n",
       "    <tr>\n",
       "      <th>Long/Short Equities</th>\n",
       "      <td>2,250.0000</td>\n",
       "    </tr>\n",
       "    <tr>\n",
       "      <th>Private Equity</th>\n",
       "      <td>4,200.0000</td>\n",
       "    </tr>\n",
       "    <tr>\n",
       "      <th>Publicly Traded REITs</th>\n",
       "      <td>10,800.0000</td>\n",
       "    </tr>\n",
       "    <tr>\n",
       "      <th>U.S. Equities</th>\n",
       "      <td>21,000.0000</td>\n",
       "    </tr>\n",
       "    <tr>\n",
       "      <th rowspan=\"3\" valign=\"top\">Interest Rate Sensitive</th>\n",
       "      <th>U.S. Government Bonds</th>\n",
       "      <td>17,000.0000</td>\n",
       "    </tr>\n",
       "    <tr>\n",
       "      <th>Very-High-Quality Corporate Bonds</th>\n",
       "      <td>6,000.0000</td>\n",
       "    </tr>\n",
       "    <tr>\n",
       "      <th>Very-High-Quality Municipal Bonds</th>\n",
       "      <td>6,000.0000</td>\n",
       "    </tr>\n",
       "  </tbody>\n",
       "</table>\n",
       "</div>"
      ],
      "text/plain": [
       "                                                                Value\n",
       "Class                   Sub_Class                                    \n",
       "Cash                    Cash                               4,183.0000\n",
       "Economically Sensitive  Emerging Market Equities           4,000.0000\n",
       "                        International Equities             8,000.0000\n",
       "                        Long/Short Equities                2,250.0000\n",
       "                        Private Equity                     4,200.0000\n",
       "                        Publicly Traded REITs             10,800.0000\n",
       "                        U.S. Equities                     21,000.0000\n",
       "Interest Rate Sensitive U.S. Government Bonds             17,000.0000\n",
       "                        Very-High-Quality Corporate Bonds  6,000.0000\n",
       "                        Very-High-Quality Municipal Bonds  6,000.0000"
      ]
     },
     "execution_count": 21,
     "metadata": {},
     "output_type": "execute_result"
    }
   ],
   "source": [
    "folio_df.groupby(['Class','Sub_Class'])[['Value']].sum()"
   ]
  },
  {
   "cell_type": "code",
   "execution_count": 22,
   "id": "73a2cb5b-69cb-4779-b463-66aa1bf32895",
   "metadata": {
    "tags": []
   },
   "outputs": [
    {
     "data": {
      "text/plain": [
       "Value   83,433.0000\n",
       "dtype: float64"
      ]
     },
     "execution_count": 22,
     "metadata": {},
     "output_type": "execute_result"
    }
   ],
   "source": [
    "folio_df[['Value']].sum()"
   ]
  },
  {
   "cell_type": "code",
   "execution_count": 23,
   "id": "dd9b1cf3-5fcc-4986-b6af-cca390a5a73c",
   "metadata": {
    "tags": []
   },
   "outputs": [
    {
     "data": {
      "text/html": [
       "<div>\n",
       "<style scoped>\n",
       "    .dataframe tbody tr th:only-of-type {\n",
       "        vertical-align: middle;\n",
       "    }\n",
       "\n",
       "    .dataframe tbody tr th {\n",
       "        vertical-align: top;\n",
       "    }\n",
       "\n",
       "    .dataframe thead th {\n",
       "        text-align: right;\n",
       "    }\n",
       "</style>\n",
       "<table border=\"1\" class=\"dataframe\">\n",
       "  <thead>\n",
       "    <tr style=\"text-align: right;\">\n",
       "      <th></th>\n",
       "      <th></th>\n",
       "      <th>share_value</th>\n",
       "    </tr>\n",
       "    <tr>\n",
       "      <th>Class</th>\n",
       "      <th>Sub_Class</th>\n",
       "      <th></th>\n",
       "    </tr>\n",
       "  </thead>\n",
       "  <tbody>\n",
       "    <tr>\n",
       "      <th>Cash</th>\n",
       "      <th>Cash</th>\n",
       "      <td>4,182,856.0000</td>\n",
       "    </tr>\n",
       "    <tr>\n",
       "      <th rowspan=\"6\" valign=\"top\">Economically Sensitive</th>\n",
       "      <th>Emerging Market Equities</th>\n",
       "      <td>4,064,746.0000</td>\n",
       "    </tr>\n",
       "    <tr>\n",
       "      <th>International Equities</th>\n",
       "      <td>8,021,974.0000</td>\n",
       "    </tr>\n",
       "    <tr>\n",
       "      <th>Long/Short Equities</th>\n",
       "      <td>2,250,024.0000</td>\n",
       "    </tr>\n",
       "    <tr>\n",
       "      <th>Private Equity</th>\n",
       "      <td>4,200,007.0000</td>\n",
       "    </tr>\n",
       "    <tr>\n",
       "      <th>Publicly Traded REITs</th>\n",
       "      <td>10,900,988.0000</td>\n",
       "    </tr>\n",
       "    <tr>\n",
       "      <th>U.S. Equities</th>\n",
       "      <td>21,098,135.0000</td>\n",
       "    </tr>\n",
       "    <tr>\n",
       "      <th rowspan=\"3\" valign=\"top\">Interest Rate Sensitive</th>\n",
       "      <th>U.S. Government Bonds</th>\n",
       "      <td>16,999,996.0000</td>\n",
       "    </tr>\n",
       "    <tr>\n",
       "      <th>Very-High-Quality Corporate Bonds</th>\n",
       "      <td>6,000,003.0000</td>\n",
       "    </tr>\n",
       "    <tr>\n",
       "      <th>Very-High-Quality Municipal Bonds</th>\n",
       "      <td>5,999,956.0000</td>\n",
       "    </tr>\n",
       "  </tbody>\n",
       "</table>\n",
       "</div>"
      ],
      "text/plain": [
       "                                                              share_value\n",
       "Class                   Sub_Class                                        \n",
       "Cash                    Cash                               4,182,856.0000\n",
       "Economically Sensitive  Emerging Market Equities           4,064,746.0000\n",
       "                        International Equities             8,021,974.0000\n",
       "                        Long/Short Equities                2,250,024.0000\n",
       "                        Private Equity                     4,200,007.0000\n",
       "                        Publicly Traded REITs             10,900,988.0000\n",
       "                        U.S. Equities                     21,098,135.0000\n",
       "Interest Rate Sensitive U.S. Government Bonds             16,999,996.0000\n",
       "                        Very-High-Quality Corporate Bonds  6,000,003.0000\n",
       "                        Very-High-Quality Municipal Bonds  5,999,956.0000"
      ]
     },
     "execution_count": 23,
     "metadata": {},
     "output_type": "execute_result"
    }
   ],
   "source": [
    "round(merge_df[merge_df['Date'] == purchase_date_str].groupby(['Class','Sub_Class'])[['share_value']].sum(),0)"
   ]
  },
  {
   "cell_type": "code",
   "execution_count": 24,
   "id": "cfbd5653-0002-4417-bd79-a41d53cfe60b",
   "metadata": {
    "tags": []
   },
   "outputs": [
    {
     "data": {
      "text/plain": [
       "share_value   83,718,684.0000\n",
       "dtype: float64"
      ]
     },
     "execution_count": 24,
     "metadata": {},
     "output_type": "execute_result"
    }
   ],
   "source": [
    "round(merge_df[merge_df['Date'] == purchase_date_str][['share_value']].sum(),0)"
   ]
  },
  {
   "cell_type": "code",
   "execution_count": 25,
   "id": "62c622c6-514c-4296-93c0-fe9d382f59ac",
   "metadata": {
    "tags": []
   },
   "outputs": [
    {
     "data": {
      "text/html": [
       "<div>\n",
       "<style scoped>\n",
       "    .dataframe tbody tr th:only-of-type {\n",
       "        vertical-align: middle;\n",
       "    }\n",
       "\n",
       "    .dataframe tbody tr th {\n",
       "        vertical-align: top;\n",
       "    }\n",
       "\n",
       "    .dataframe thead th {\n",
       "        text-align: right;\n",
       "    }\n",
       "</style>\n",
       "<table border=\"1\" class=\"dataframe\">\n",
       "  <thead>\n",
       "    <tr style=\"text-align: right;\">\n",
       "      <th></th>\n",
       "      <th>Date</th>\n",
       "      <th>share_value</th>\n",
       "      <th>pct_change</th>\n",
       "    </tr>\n",
       "  </thead>\n",
       "  <tbody>\n",
       "    <tr>\n",
       "      <th>423</th>\n",
       "      <td>2023-09-11</td>\n",
       "      <td>83,718,683.5760</td>\n",
       "      <td>0.0024</td>\n",
       "    </tr>\n",
       "  </tbody>\n",
       "</table>\n",
       "</div>"
      ],
      "text/plain": [
       "          Date     share_value  pct_change\n",
       "423 2023-09-11 83,718,683.5760      0.0024"
      ]
     },
     "execution_count": 25,
     "metadata": {},
     "output_type": "execute_result"
    }
   ],
   "source": [
    "folioValue_df[folioValue_df['Date'] == purchase_date_str]"
   ]
  },
  {
   "cell_type": "code",
   "execution_count": 26,
   "id": "07c38c19-ad52-4b87-83e5-41042ecc0d6b",
   "metadata": {
    "tags": []
   },
   "outputs": [
    {
     "data": {
      "text/html": [
       "<div>\n",
       "<style scoped>\n",
       "    .dataframe tbody tr th:only-of-type {\n",
       "        vertical-align: middle;\n",
       "    }\n",
       "\n",
       "    .dataframe tbody tr th {\n",
       "        vertical-align: top;\n",
       "    }\n",
       "\n",
       "    .dataframe thead th {\n",
       "        text-align: right;\n",
       "    }\n",
       "</style>\n",
       "<table border=\"1\" class=\"dataframe\">\n",
       "  <thead>\n",
       "    <tr style=\"text-align: right;\">\n",
       "      <th></th>\n",
       "      <th></th>\n",
       "      <th>share_value</th>\n",
       "    </tr>\n",
       "    <tr>\n",
       "      <th>Class</th>\n",
       "      <th>Sub_Class</th>\n",
       "      <th></th>\n",
       "    </tr>\n",
       "  </thead>\n",
       "  <tbody>\n",
       "  </tbody>\n",
       "</table>\n",
       "</div>"
      ],
      "text/plain": [
       "Empty DataFrame\n",
       "Columns: [share_value]\n",
       "Index: []"
      ]
     },
     "execution_count": 26,
     "metadata": {},
     "output_type": "execute_result"
    }
   ],
   "source": [
    "round(merge_df[merge_df['Date'] == end_date_str].groupby(['Class','Sub_Class'])[['share_value']].sum(),0)"
   ]
  },
  {
   "cell_type": "code",
   "execution_count": 27,
   "id": "1c600975-43c6-4d10-9e46-34c0fa92a1f1",
   "metadata": {
    "tags": []
   },
   "outputs": [
    {
     "data": {
      "text/plain": [
       "share_value   0.0000\n",
       "dtype: float64"
      ]
     },
     "execution_count": 27,
     "metadata": {},
     "output_type": "execute_result"
    }
   ],
   "source": [
    "round(merge_df[merge_df['Date'] == end_date_str][['share_value']].sum(),0)"
   ]
  },
  {
   "cell_type": "code",
   "execution_count": 28,
   "id": "f103ac9b-e92d-4a88-a907-bb7ec6566135",
   "metadata": {
    "tags": []
   },
   "outputs": [
    {
     "data": {
      "text/html": [
       "<div>\n",
       "<style scoped>\n",
       "    .dataframe tbody tr th:only-of-type {\n",
       "        vertical-align: middle;\n",
       "    }\n",
       "\n",
       "    .dataframe tbody tr th {\n",
       "        vertical-align: top;\n",
       "    }\n",
       "\n",
       "    .dataframe thead th {\n",
       "        text-align: right;\n",
       "    }\n",
       "</style>\n",
       "<table border=\"1\" class=\"dataframe\">\n",
       "  <thead>\n",
       "    <tr style=\"text-align: right;\">\n",
       "      <th></th>\n",
       "      <th>Date</th>\n",
       "      <th>share_value</th>\n",
       "      <th>pct_change</th>\n",
       "    </tr>\n",
       "  </thead>\n",
       "  <tbody>\n",
       "  </tbody>\n",
       "</table>\n",
       "</div>"
      ],
      "text/plain": [
       "Empty DataFrame\n",
       "Columns: [Date, share_value, pct_change]\n",
       "Index: []"
      ]
     },
     "execution_count": 28,
     "metadata": {},
     "output_type": "execute_result"
    }
   ],
   "source": [
    "folioValue_df[folioValue_df['Date'] == end_date_str]"
   ]
  },
  {
   "cell_type": "markdown",
   "id": "0109ee84-2892-4fbf-9021-d1ec63eca87a",
   "metadata": {
    "tags": []
   },
   "source": [
    "# 6. Correlation"
   ]
  },
  {
   "cell_type": "code",
   "execution_count": 29,
   "id": "23669263-ae75-442e-a65b-d2c3dc2b9400",
   "metadata": {
    "tags": []
   },
   "outputs": [
    {
     "data": {
      "text/html": [
       "<div>\n",
       "<style scoped>\n",
       "    .dataframe tbody tr th:only-of-type {\n",
       "        vertical-align: middle;\n",
       "    }\n",
       "\n",
       "    .dataframe tbody tr th {\n",
       "        vertical-align: top;\n",
       "    }\n",
       "\n",
       "    .dataframe thead th {\n",
       "        text-align: right;\n",
       "    }\n",
       "</style>\n",
       "<table border=\"1\" class=\"dataframe\">\n",
       "  <thead>\n",
       "    <tr style=\"text-align: right;\">\n",
       "      <th></th>\n",
       "      <th>Date</th>\n",
       "      <th>SPY</th>\n",
       "    </tr>\n",
       "  </thead>\n",
       "  <tbody>\n",
       "    <tr>\n",
       "      <th>0</th>\n",
       "      <td>2022-01-04</td>\n",
       "      <td>-0.0003</td>\n",
       "    </tr>\n",
       "    <tr>\n",
       "      <th>1</th>\n",
       "      <td>2022-01-05</td>\n",
       "      <td>-0.0192</td>\n",
       "    </tr>\n",
       "    <tr>\n",
       "      <th>2</th>\n",
       "      <td>2022-01-06</td>\n",
       "      <td>-0.0009</td>\n",
       "    </tr>\n",
       "    <tr>\n",
       "      <th>3</th>\n",
       "      <td>2022-01-07</td>\n",
       "      <td>-0.0040</td>\n",
       "    </tr>\n",
       "    <tr>\n",
       "      <th>4</th>\n",
       "      <td>2022-01-10</td>\n",
       "      <td>-0.0012</td>\n",
       "    </tr>\n",
       "    <tr>\n",
       "      <th>...</th>\n",
       "      <td>...</td>\n",
       "      <td>...</td>\n",
       "    </tr>\n",
       "    <tr>\n",
       "      <th>442</th>\n",
       "      <td>2023-10-09</td>\n",
       "      <td>0.0064</td>\n",
       "    </tr>\n",
       "    <tr>\n",
       "      <th>443</th>\n",
       "      <td>2023-10-10</td>\n",
       "      <td>0.0052</td>\n",
       "    </tr>\n",
       "    <tr>\n",
       "      <th>444</th>\n",
       "      <td>2023-10-11</td>\n",
       "      <td>0.0041</td>\n",
       "    </tr>\n",
       "    <tr>\n",
       "      <th>445</th>\n",
       "      <td>2023-10-12</td>\n",
       "      <td>-0.0061</td>\n",
       "    </tr>\n",
       "    <tr>\n",
       "      <th>446</th>\n",
       "      <td>2023-10-13</td>\n",
       "      <td>-0.0050</td>\n",
       "    </tr>\n",
       "  </tbody>\n",
       "</table>\n",
       "<p>447 rows × 2 columns</p>\n",
       "</div>"
      ],
      "text/plain": [
       "          Date     SPY\n",
       "0   2022-01-04 -0.0003\n",
       "1   2022-01-05 -0.0192\n",
       "2   2022-01-06 -0.0009\n",
       "3   2022-01-07 -0.0040\n",
       "4   2022-01-10 -0.0012\n",
       "..         ...     ...\n",
       "442 2023-10-09  0.0064\n",
       "443 2023-10-10  0.0052\n",
       "444 2023-10-11  0.0041\n",
       "445 2023-10-12 -0.0061\n",
       "446 2023-10-13 -0.0050\n",
       "\n",
       "[447 rows x 2 columns]"
      ]
     },
     "execution_count": 29,
     "metadata": {},
     "output_type": "execute_result"
    }
   ],
   "source": [
    "benchPercent_econ_df"
   ]
  },
  {
   "cell_type": "code",
   "execution_count": null,
   "id": "e1ab8469-5cb0-47d8-add8-26fa1eedd391",
   "metadata": {},
   "outputs": [],
   "source": []
  },
  {
   "cell_type": "code",
   "execution_count": 30,
   "id": "4086d089-043b-4204-a4e5-c7d5406b876f",
   "metadata": {
    "tags": []
   },
   "outputs": [
    {
     "data": {
      "text/html": [
       "<div>\n",
       "<style scoped>\n",
       "    .dataframe tbody tr th:only-of-type {\n",
       "        vertical-align: middle;\n",
       "    }\n",
       "\n",
       "    .dataframe tbody tr th {\n",
       "        vertical-align: top;\n",
       "    }\n",
       "\n",
       "    .dataframe thead th {\n",
       "        text-align: right;\n",
       "    }\n",
       "</style>\n",
       "<table border=\"1\" class=\"dataframe\">\n",
       "  <thead>\n",
       "    <tr style=\"text-align: right;\">\n",
       "      <th>Class</th>\n",
       "      <th>Cash</th>\n",
       "      <th>Economically Sensitive</th>\n",
       "      <th>Interest Rate Sensitive</th>\n",
       "    </tr>\n",
       "    <tr>\n",
       "      <th>Date</th>\n",
       "      <th></th>\n",
       "      <th></th>\n",
       "      <th></th>\n",
       "    </tr>\n",
       "  </thead>\n",
       "  <tbody>\n",
       "    <tr>\n",
       "      <th>2022-01-03</th>\n",
       "      <td>NaN</td>\n",
       "      <td>NaN</td>\n",
       "      <td>NaN</td>\n",
       "    </tr>\n",
       "    <tr>\n",
       "      <th>2022-01-04</th>\n",
       "      <td>0.0000</td>\n",
       "      <td>0.0024</td>\n",
       "      <td>-0.0011</td>\n",
       "    </tr>\n",
       "    <tr>\n",
       "      <th>2022-01-05</th>\n",
       "      <td>0.0000</td>\n",
       "      <td>-0.0185</td>\n",
       "      <td>-0.0029</td>\n",
       "    </tr>\n",
       "    <tr>\n",
       "      <th>2022-01-06</th>\n",
       "      <td>0.0000</td>\n",
       "      <td>-0.0001</td>\n",
       "      <td>-0.0025</td>\n",
       "    </tr>\n",
       "    <tr>\n",
       "      <th>2022-01-07</th>\n",
       "      <td>0.0000</td>\n",
       "      <td>-0.0015</td>\n",
       "      <td>-0.0016</td>\n",
       "    </tr>\n",
       "    <tr>\n",
       "      <th>...</th>\n",
       "      <td>...</td>\n",
       "      <td>...</td>\n",
       "      <td>...</td>\n",
       "    </tr>\n",
       "    <tr>\n",
       "      <th>2023-10-09</th>\n",
       "      <td>0.0000</td>\n",
       "      <td>0.0057</td>\n",
       "      <td>0.0072</td>\n",
       "    </tr>\n",
       "    <tr>\n",
       "      <th>2023-10-10</th>\n",
       "      <td>0.0000</td>\n",
       "      <td>0.0073</td>\n",
       "      <td>0.0004</td>\n",
       "    </tr>\n",
       "    <tr>\n",
       "      <th>2023-10-11</th>\n",
       "      <td>0.0000</td>\n",
       "      <td>0.0064</td>\n",
       "      <td>0.0048</td>\n",
       "    </tr>\n",
       "    <tr>\n",
       "      <th>2023-10-12</th>\n",
       "      <td>0.0000</td>\n",
       "      <td>-0.0107</td>\n",
       "      <td>-0.0059</td>\n",
       "    </tr>\n",
       "    <tr>\n",
       "      <th>2023-10-13</th>\n",
       "      <td>0.0000</td>\n",
       "      <td>-0.0050</td>\n",
       "      <td>0.0035</td>\n",
       "    </tr>\n",
       "  </tbody>\n",
       "</table>\n",
       "<p>448 rows × 3 columns</p>\n",
       "</div>"
      ],
      "text/plain": [
       "Class        Cash  Economically Sensitive  Interest Rate Sensitive\n",
       "Date                                                              \n",
       "2022-01-03    NaN                     NaN                      NaN\n",
       "2022-01-04 0.0000                  0.0024                  -0.0011\n",
       "2022-01-05 0.0000                 -0.0185                  -0.0029\n",
       "2022-01-06 0.0000                 -0.0001                  -0.0025\n",
       "2022-01-07 0.0000                 -0.0015                  -0.0016\n",
       "...           ...                     ...                      ...\n",
       "2023-10-09 0.0000                  0.0057                   0.0072\n",
       "2023-10-10 0.0000                  0.0073                   0.0004\n",
       "2023-10-11 0.0000                  0.0064                   0.0048\n",
       "2023-10-12 0.0000                 -0.0107                  -0.0059\n",
       "2023-10-13 0.0000                 -0.0050                   0.0035\n",
       "\n",
       "[448 rows x 3 columns]"
      ]
     },
     "execution_count": 30,
     "metadata": {},
     "output_type": "execute_result"
    }
   ],
   "source": [
    "m_df = merge_df.groupby(['Date','Class'])[['share_value']].sum()\n",
    "#m_df.reset_index(inplace=True)\n",
    "m_df['pct_change'] = m_df.groupby(['Class'])[['share_value']].pct_change()\n",
    "#m_df = m_df.pivot(index=['Date','Class'], columns=['share_value','pct_change'])\n",
    "m_df.reset_index(inplace=True)\n",
    "#m_df = m_df.pivot(index=['Date'], columns=['Class'])[['share_value','pct_change']]\n",
    "m_df = m_df.pivot(index=['Date'], columns=['Class'])['pct_change']\n",
    "m_df"
   ]
  },
  {
   "cell_type": "code",
   "execution_count": 31,
   "id": "d5051572-be61-48ee-a782-1859b5e70cfd",
   "metadata": {
    "tags": []
   },
   "outputs": [
    {
     "data": {
      "text/html": [
       "<div>\n",
       "<style scoped>\n",
       "    .dataframe tbody tr th:only-of-type {\n",
       "        vertical-align: middle;\n",
       "    }\n",
       "\n",
       "    .dataframe tbody tr th {\n",
       "        vertical-align: top;\n",
       "    }\n",
       "\n",
       "    .dataframe thead th {\n",
       "        text-align: right;\n",
       "    }\n",
       "</style>\n",
       "<table border=\"1\" class=\"dataframe\">\n",
       "  <thead>\n",
       "    <tr style=\"text-align: right;\">\n",
       "      <th></th>\n",
       "      <th>Economic</th>\n",
       "      <th>Interest</th>\n",
       "      <th>SPY</th>\n",
       "      <th>FHNFX</th>\n",
       "    </tr>\n",
       "  </thead>\n",
       "  <tbody>\n",
       "    <tr>\n",
       "      <th>0</th>\n",
       "      <td>NaN</td>\n",
       "      <td>NaN</td>\n",
       "      <td>NaN</td>\n",
       "      <td>NaN</td>\n",
       "    </tr>\n",
       "    <tr>\n",
       "      <th>1</th>\n",
       "      <td>0.0024</td>\n",
       "      <td>-0.0011</td>\n",
       "      <td>-0.0003</td>\n",
       "      <td>-0.0010</td>\n",
       "    </tr>\n",
       "    <tr>\n",
       "      <th>2</th>\n",
       "      <td>-0.0185</td>\n",
       "      <td>-0.0029</td>\n",
       "      <td>-0.0192</td>\n",
       "      <td>-0.0029</td>\n",
       "    </tr>\n",
       "    <tr>\n",
       "      <th>3</th>\n",
       "      <td>-0.0001</td>\n",
       "      <td>-0.0025</td>\n",
       "      <td>-0.0009</td>\n",
       "      <td>-0.0010</td>\n",
       "    </tr>\n",
       "    <tr>\n",
       "      <th>4</th>\n",
       "      <td>-0.0015</td>\n",
       "      <td>-0.0016</td>\n",
       "      <td>-0.0040</td>\n",
       "      <td>-0.0029</td>\n",
       "    </tr>\n",
       "    <tr>\n",
       "      <th>...</th>\n",
       "      <td>...</td>\n",
       "      <td>...</td>\n",
       "      <td>...</td>\n",
       "      <td>...</td>\n",
       "    </tr>\n",
       "    <tr>\n",
       "      <th>443</th>\n",
       "      <td>0.0057</td>\n",
       "      <td>0.0072</td>\n",
       "      <td>0.0064</td>\n",
       "      <td>0.0093</td>\n",
       "    </tr>\n",
       "    <tr>\n",
       "      <th>444</th>\n",
       "      <td>0.0073</td>\n",
       "      <td>0.0004</td>\n",
       "      <td>0.0052</td>\n",
       "      <td>0.0000</td>\n",
       "    </tr>\n",
       "    <tr>\n",
       "      <th>445</th>\n",
       "      <td>0.0064</td>\n",
       "      <td>0.0048</td>\n",
       "      <td>0.0041</td>\n",
       "      <td>0.0046</td>\n",
       "    </tr>\n",
       "    <tr>\n",
       "      <th>446</th>\n",
       "      <td>-0.0107</td>\n",
       "      <td>-0.0059</td>\n",
       "      <td>-0.0061</td>\n",
       "      <td>-0.0092</td>\n",
       "    </tr>\n",
       "    <tr>\n",
       "      <th>447</th>\n",
       "      <td>-0.0050</td>\n",
       "      <td>0.0035</td>\n",
       "      <td>-0.0050</td>\n",
       "      <td>0.0046</td>\n",
       "    </tr>\n",
       "  </tbody>\n",
       "</table>\n",
       "<p>448 rows × 4 columns</p>\n",
       "</div>"
      ],
      "text/plain": [
       "     Economic  Interest     SPY   FHNFX\n",
       "0         NaN       NaN     NaN     NaN\n",
       "1      0.0024   -0.0011 -0.0003 -0.0010\n",
       "2     -0.0185   -0.0029 -0.0192 -0.0029\n",
       "3     -0.0001   -0.0025 -0.0009 -0.0010\n",
       "4     -0.0015   -0.0016 -0.0040 -0.0029\n",
       "..        ...       ...     ...     ...\n",
       "443    0.0057    0.0072  0.0064  0.0093\n",
       "444    0.0073    0.0004  0.0052  0.0000\n",
       "445    0.0064    0.0048  0.0041  0.0046\n",
       "446   -0.0107   -0.0059 -0.0061 -0.0092\n",
       "447   -0.0050    0.0035 -0.0050  0.0046\n",
       "\n",
       "[448 rows x 4 columns]"
      ]
     },
     "execution_count": 31,
     "metadata": {},
     "output_type": "execute_result"
    }
   ],
   "source": [
    "p_df = m_df.merge(benchPercent_econ_df, how='outer', left_on='Date', right_on='Date') \\\n",
    "            .merge(benchPercent_int_df,how='outer' ,left_on='Date', right_on='Date')\n",
    "p_df.drop(labels=['Date','Cash'], inplace=True, axis=1)\n",
    "p_df.columns = ['Economic','Interest','SPY','FHNFX']\n",
    "p_df"
   ]
  },
  {
   "cell_type": "code",
   "execution_count": 32,
   "id": "dbed4252-5446-4447-ac63-11e4caf48478",
   "metadata": {
    "tags": []
   },
   "outputs": [
    {
     "data": {
      "image/png": "[encoded data removed]",
      "text/plain": [
       "<Figure size 1000x500 with 2 Axes>"
      ]
     },
     "metadata": {},
     "output_type": "display_data"
    }
   ],
   "source": [
    "plt.figure(figsize=(10,5))\n",
    "mask = np.zeros_like(p_df.corr())\n",
    "mask[np.triu_indices_from(mask)] = True\n",
    "sns.set_style(\"white\")\n",
    "_p = sns.heatmap(p_df.corr().round(2), \n",
    "                 annot=True, mask=mask, \n",
    "                 cmap=\"plasma\", annot_kws={\"size\": 10})"
   ]
  },
  {
   "cell_type": "code",
   "execution_count": null,
   "id": "b0c75548-88be-46fc-bc30-d4fbdc6e1de7",
   "metadata": {},
   "outputs": [],
   "source": []
  },
  {
   "cell_type": "code",
   "execution_count": null,
   "id": "3aed7cd0-8806-4881-9d07-ed6b154f8cdf",
   "metadata": {},
   "outputs": [],
   "source": []
  },
  {
   "cell_type": "markdown",
   "id": "1ebde7d5-5022-44b0-8799-e0d52b59865b",
   "metadata": {},
   "source": [
    "# 7. Value at Risk"
   ]
  },
  {
   "cell_type": "markdown",
   "id": "c200b5b0-cded-42c7-8b4b-ba39ad6fc18d",
   "metadata": {},
   "source": [
    "## 7.1 Load Historic Variables"
   ]
  },
  {
   "cell_type": "code",
   "execution_count": null,
   "id": "3e212e97-4fc3-4e19-a366-f4de675f6bf9",
   "metadata": {},
   "outputs": [],
   "source": []
  },
  {
   "cell_type": "markdown",
   "id": "aa6974aa-8dad-4cd5-92c1-c5abd65abe6d",
   "metadata": {},
   "source": [
    "## 7.2 Load Historic Values"
   ]
  },
  {
   "cell_type": "code",
   "execution_count": null,
   "id": "fd40840b-7ada-4362-ac3b-f316882136bb",
   "metadata": {},
   "outputs": [],
   "source": []
  },
  {
   "cell_type": "code",
   "execution_count": null,
   "id": "069d704d-e447-4885-aaea-65ab3e1988f0",
   "metadata": {},
   "outputs": [],
   "source": []
  },
  {
   "cell_type": "code",
   "execution_count": null,
   "id": "ca189bd2-d2c3-4718-84e1-317623f666db",
   "metadata": {},
   "outputs": [],
   "source": []
  },
  {
   "cell_type": "markdown",
   "id": "db337d6e-57ab-4308-89fa-7f7771c6ed5c",
   "metadata": {},
   "source": [
    "# 8. Calculate VaR"
   ]
  },
  {
   "cell_type": "code",
   "execution_count": 33,
   "id": "68bcd6f7-996e-49ed-baf1-29a80750ede4",
   "metadata": {
    "tags": []
   },
   "outputs": [
    {
     "name": "stdout",
     "output_type": "stream",
     "text": [
      "r_df (447, 35)\n"
     ]
    }
   ],
   "source": [
    "#weights = folio_df['port_percent'].values\n",
    "#print('weight', len(weights))\n",
    "\n",
    "r_df = return_df.drop(labels='Portfolio', axis=1)[1:]\n",
    "print('r_df', r_df.shape)"
   ]
  },
  {
   "cell_type": "code",
   "execution_count": 34,
   "id": "57b67bdc-d406-4a66-8a3d-49cd3202ee00",
   "metadata": {
    "tags": []
   },
   "outputs": [
    {
     "data": {
      "text/html": [
       "<div>\n",
       "<style scoped>\n",
       "    .dataframe tbody tr th:only-of-type {\n",
       "        vertical-align: middle;\n",
       "    }\n",
       "\n",
       "    .dataframe tbody tr th {\n",
       "        vertical-align: top;\n",
       "    }\n",
       "\n",
       "    .dataframe thead th {\n",
       "        text-align: right;\n",
       "    }\n",
       "</style>\n",
       "<table border=\"1\" class=\"dataframe\">\n",
       "  <thead>\n",
       "    <tr style=\"text-align: right;\">\n",
       "      <th></th>\n",
       "      <th>ALTVX</th>\n",
       "      <th>BLUEX</th>\n",
       "      <th>BPLSX</th>\n",
       "      <th>C_A_S_H</th>\n",
       "      <th>DFAR</th>\n",
       "      <th>FREL</th>\n",
       "      <th>FSMD</th>\n",
       "      <th>...</th>\n",
       "      <th>VGCAX</th>\n",
       "      <th>VICSX</th>\n",
       "      <th>VIGI</th>\n",
       "      <th>VNQ</th>\n",
       "      <th>VO</th>\n",
       "      <th>VONG</th>\n",
       "      <th>VTEB</th>\n",
       "    </tr>\n",
       "    <tr>\n",
       "      <th>Date</th>\n",
       "      <th></th>\n",
       "      <th></th>\n",
       "      <th></th>\n",
       "      <th></th>\n",
       "      <th></th>\n",
       "      <th></th>\n",
       "      <th></th>\n",
       "      <th></th>\n",
       "      <th></th>\n",
       "      <th></th>\n",
       "      <th></th>\n",
       "      <th></th>\n",
       "      <th></th>\n",
       "      <th></th>\n",
       "      <th></th>\n",
       "    </tr>\n",
       "  </thead>\n",
       "  <tbody>\n",
       "    <tr>\n",
       "      <th>2022-01-04</th>\n",
       "      <td>-0.0009</td>\n",
       "      <td>-0.0034</td>\n",
       "      <td>0.0189</td>\n",
       "      <td>0.0000</td>\n",
       "      <td>0.0000</td>\n",
       "      <td>0.0000</td>\n",
       "      <td>0.0089</td>\n",
       "      <td>...</td>\n",
       "      <td>-0.0009</td>\n",
       "      <td>0.0000</td>\n",
       "      <td>-0.0025</td>\n",
       "      <td>-0.0012</td>\n",
       "      <td>-0.0007</td>\n",
       "      <td>-0.0107</td>\n",
       "      <td>0.0000</td>\n",
       "    </tr>\n",
       "    <tr>\n",
       "      <th>2022-01-05</th>\n",
       "      <td>-0.0009</td>\n",
       "      <td>-0.0086</td>\n",
       "      <td>0.0033</td>\n",
       "      <td>0.0000</td>\n",
       "      <td>0.0000</td>\n",
       "      <td>-0.0287</td>\n",
       "      <td>-0.0218</td>\n",
       "      <td>...</td>\n",
       "      <td>-0.0019</td>\n",
       "      <td>-0.0032</td>\n",
       "      <td>-0.0138</td>\n",
       "      <td>-0.0286</td>\n",
       "      <td>-0.0250</td>\n",
       "      <td>-0.0319</td>\n",
       "      <td>-0.0013</td>\n",
       "    </tr>\n",
       "    <tr>\n",
       "      <th>2022-01-06</th>\n",
       "      <td>-0.0019</td>\n",
       "      <td>-0.0005</td>\n",
       "      <td>0.0060</td>\n",
       "      <td>0.0000</td>\n",
       "      <td>0.0000</td>\n",
       "      <td>0.0006</td>\n",
       "      <td>0.0062</td>\n",
       "      <td>...</td>\n",
       "      <td>-0.0019</td>\n",
       "      <td>-0.0028</td>\n",
       "      <td>-0.0070</td>\n",
       "      <td>0.0009</td>\n",
       "      <td>0.0026</td>\n",
       "      <td>-0.0021</td>\n",
       "      <td>-0.0011</td>\n",
       "    </tr>\n",
       "    <tr>\n",
       "      <th>2022-01-07</th>\n",
       "      <td>-0.0009</td>\n",
       "      <td>0.0015</td>\n",
       "      <td>0.0013</td>\n",
       "      <td>0.0000</td>\n",
       "      <td>0.0000</td>\n",
       "      <td>-0.0063</td>\n",
       "      <td>-0.0065</td>\n",
       "      <td>...</td>\n",
       "      <td>-0.0019</td>\n",
       "      <td>-0.0024</td>\n",
       "      <td>0.0012</td>\n",
       "      <td>-0.0066</td>\n",
       "      <td>-0.0060</td>\n",
       "      <td>-0.0110</td>\n",
       "      <td>-0.0024</td>\n",
       "    </tr>\n",
       "    <tr>\n",
       "      <th>2022-01-10</th>\n",
       "      <td>-0.0028</td>\n",
       "      <td>0.0047</td>\n",
       "      <td>0.0007</td>\n",
       "      <td>0.0000</td>\n",
       "      <td>0.0000</td>\n",
       "      <td>-0.0066</td>\n",
       "      <td>-0.0028</td>\n",
       "      <td>...</td>\n",
       "      <td>-0.0009</td>\n",
       "      <td>-0.0016</td>\n",
       "      <td>-0.0087</td>\n",
       "      <td>-0.0058</td>\n",
       "      <td>-0.0033</td>\n",
       "      <td>-0.0008</td>\n",
       "      <td>-0.0020</td>\n",
       "    </tr>\n",
       "    <tr>\n",
       "      <th>...</th>\n",
       "      <td>...</td>\n",
       "      <td>...</td>\n",
       "      <td>...</td>\n",
       "      <td>...</td>\n",
       "      <td>...</td>\n",
       "      <td>...</td>\n",
       "      <td>...</td>\n",
       "      <td>...</td>\n",
       "      <td>...</td>\n",
       "      <td>...</td>\n",
       "      <td>...</td>\n",
       "      <td>...</td>\n",
       "      <td>...</td>\n",
       "      <td>...</td>\n",
       "      <td>...</td>\n",
       "    </tr>\n",
       "    <tr>\n",
       "      <th>2023-10-09</th>\n",
       "      <td>0.0022</td>\n",
       "      <td>0.0038</td>\n",
       "      <td>0.0060</td>\n",
       "      <td>0.0000</td>\n",
       "      <td>0.0136</td>\n",
       "      <td>0.0121</td>\n",
       "      <td>0.0069</td>\n",
       "      <td>...</td>\n",
       "      <td>0.0073</td>\n",
       "      <td>0.0099</td>\n",
       "      <td>0.0025</td>\n",
       "      <td>0.0109</td>\n",
       "      <td>0.0079</td>\n",
       "      <td>0.0050</td>\n",
       "      <td>0.0061</td>\n",
       "    </tr>\n",
       "    <tr>\n",
       "      <th>2023-10-10</th>\n",
       "      <td>0.0033</td>\n",
       "      <td>0.0032</td>\n",
       "      <td>0.0007</td>\n",
       "      <td>0.0000</td>\n",
       "      <td>0.0021</td>\n",
       "      <td>0.0049</td>\n",
       "      <td>0.0077</td>\n",
       "      <td>...</td>\n",
       "      <td>0.0011</td>\n",
       "      <td>0.0010</td>\n",
       "      <td>0.0103</td>\n",
       "      <td>0.0048</td>\n",
       "      <td>0.0079</td>\n",
       "      <td>0.0043</td>\n",
       "      <td>0.0010</td>\n",
       "    </tr>\n",
       "    <tr>\n",
       "      <th>2023-10-11</th>\n",
       "      <td>0.0077</td>\n",
       "      <td>0.0044</td>\n",
       "      <td>0.0033</td>\n",
       "      <td>0.0000</td>\n",
       "      <td>0.0195</td>\n",
       "      <td>0.0172</td>\n",
       "      <td>0.0003</td>\n",
       "      <td>...</td>\n",
       "      <td>0.0039</td>\n",
       "      <td>0.0039</td>\n",
       "      <td>0.0087</td>\n",
       "      <td>0.0174</td>\n",
       "      <td>0.0028</td>\n",
       "      <td>0.0082</td>\n",
       "      <td>0.0073</td>\n",
       "    </tr>\n",
       "    <tr>\n",
       "      <th>2023-10-12</th>\n",
       "      <td>-0.0011</td>\n",
       "      <td>-0.0081</td>\n",
       "      <td>-0.0053</td>\n",
       "      <td>0.0000</td>\n",
       "      <td>-0.0136</td>\n",
       "      <td>-0.0154</td>\n",
       "      <td>-0.0164</td>\n",
       "      <td>...</td>\n",
       "      <td>-0.0067</td>\n",
       "      <td>-0.0073</td>\n",
       "      <td>-0.0101</td>\n",
       "      <td>-0.0146</td>\n",
       "      <td>-0.0130</td>\n",
       "      <td>-0.0046</td>\n",
       "      <td>-0.0023</td>\n",
       "    </tr>\n",
       "    <tr>\n",
       "      <th>2023-10-13</th>\n",
       "      <td>-0.0011</td>\n",
       "      <td>-0.0012</td>\n",
       "      <td>0.0000</td>\n",
       "      <td>0.0000</td>\n",
       "      <td>-0.0010</td>\n",
       "      <td>-0.0015</td>\n",
       "      <td>-0.0072</td>\n",
       "      <td>...</td>\n",
       "      <td>0.0045</td>\n",
       "      <td>0.0044</td>\n",
       "      <td>-0.0050</td>\n",
       "      <td>-0.0025</td>\n",
       "      <td>-0.0045</td>\n",
       "      <td>-0.0099</td>\n",
       "      <td>0.0012</td>\n",
       "    </tr>\n",
       "  </tbody>\n",
       "</table>\n",
       "<p>447 rows × 35 columns</p>\n",
       "</div>"
      ],
      "text/plain": [
       "             ALTVX   BLUEX   BPLSX  C_A_S_H    DFAR    FREL    FSMD  ...  \\\n",
       "Date                                                                 ...   \n",
       "2022-01-04 -0.0009 -0.0034  0.0189   0.0000  0.0000  0.0000  0.0089  ...   \n",
       "2022-01-05 -0.0009 -0.0086  0.0033   0.0000  0.0000 -0.0287 -0.0218  ...   \n",
       "2022-01-06 -0.0019 -0.0005  0.0060   0.0000  0.0000  0.0006  0.0062  ...   \n",
       "2022-01-07 -0.0009  0.0015  0.0013   0.0000  0.0000 -0.0063 -0.0065  ...   \n",
       "2022-01-10 -0.0028  0.0047  0.0007   0.0000  0.0000 -0.0066 -0.0028  ...   \n",
       "...            ...     ...     ...      ...     ...     ...     ...  ...   \n",
       "2023-10-09  0.0022  0.0038  0.0060   0.0000  0.0136  0.0121  0.0069  ...   \n",
       "2023-10-10  0.0033  0.0032  0.0007   0.0000  0.0021  0.0049  0.0077  ...   \n",
       "2023-10-11  0.0077  0.0044  0.0033   0.0000  0.0195  0.0172  0.0003  ...   \n",
       "2023-10-12 -0.0011 -0.0081 -0.0053   0.0000 -0.0136 -0.0154 -0.0164  ...   \n",
       "2023-10-13 -0.0011 -0.0012  0.0000   0.0000 -0.0010 -0.0015 -0.0072  ...   \n",
       "\n",
       "             VGCAX   VICSX    VIGI     VNQ      VO    VONG    VTEB  \n",
       "Date                                                                \n",
       "2022-01-04 -0.0009  0.0000 -0.0025 -0.0012 -0.0007 -0.0107  0.0000  \n",
       "2022-01-05 -0.0019 -0.0032 -0.0138 -0.0286 -0.0250 -0.0319 -0.0013  \n",
       "2022-01-06 -0.0019 -0.0028 -0.0070  0.0009  0.0026 -0.0021 -0.0011  \n",
       "2022-01-07 -0.0019 -0.0024  0.0012 -0.0066 -0.0060 -0.0110 -0.0024  \n",
       "2022-01-10 -0.0009 -0.0016 -0.0087 -0.0058 -0.0033 -0.0008 -0.0020  \n",
       "...            ...     ...     ...     ...     ...     ...     ...  \n",
       "2023-10-09  0.0073  0.0099  0.0025  0.0109  0.0079  0.0050  0.0061  \n",
       "2023-10-10  0.0011  0.0010  0.0103  0.0048  0.0079  0.0043  0.0010  \n",
       "2023-10-11  0.0039  0.0039  0.0087  0.0174  0.0028  0.0082  0.0073  \n",
       "2023-10-12 -0.0067 -0.0073 -0.0101 -0.0146 -0.0130 -0.0046 -0.0023  \n",
       "2023-10-13  0.0045  0.0044 -0.0050 -0.0025 -0.0045 -0.0099  0.0012  \n",
       "\n",
       "[447 rows x 35 columns]"
      ]
     },
     "execution_count": 34,
     "metadata": {},
     "output_type": "execute_result"
    }
   ],
   "source": [
    "r_df"
   ]
  },
  {
   "cell_type": "code",
   "execution_count": 35,
   "id": "43b2c27d-358c-49a0-8843-046f4ebbf4f9",
   "metadata": {
    "tags": []
   },
   "outputs": [
    {
     "name": "stdout",
     "output_type": "stream",
     "text": [
      "l1:  35 l2:  35 dif:  set()\n"
     ]
    }
   ],
   "source": [
    "l2 = list(folio_df['Ticker'])\n",
    "l1 = r_df.columns\n",
    "list_dif = set(l2).symmetric_difference(set(l1))\n",
    "\n",
    "\n",
    "print('l1: ', len(l1), 'l2: ', len(l2), 'dif: ', list_dif)"
   ]
  },
  {
   "cell_type": "code",
   "execution_count": 36,
   "id": "ad45a946-9a15-41af-861a-0dfdefbc9c8e",
   "metadata": {
    "tags": []
   },
   "outputs": [
    {
     "data": {
      "text/plain": [
       "<VaR - μ: -0.04%, σ: 0.7193%, Portfolio σ: 0.7201%>"
      ]
     },
     "execution_count": 36,
     "metadata": {},
     "output_type": "execute_result"
    }
   ],
   "source": [
    "var = VaR(r_df, weight_lst, alpha=[0.05,0.025,0.01])\n",
    "#var = VaR(percent_df, weights, alpha=0.05)\n",
    "var"
   ]
  },
  {
   "cell_type": "code",
   "execution_count": 37,
   "id": "263ef504-9a5a-412e-9284-26dc29baf7a4",
   "metadata": {
    "tags": []
   },
   "outputs": [
    {
     "data": {
      "text/plain": [
       "{'Daily Mean PnL': -0.0003617912683639436,\n",
       " 'Daily Volatility': 0.007193050177070204,\n",
       " 'Portfolio Volatility': 0.007201109619572561}"
      ]
     },
     "execution_count": 37,
     "metadata": {},
     "output_type": "execute_result"
    }
   ],
   "source": [
    "var.info"
   ]
  },
  {
   "cell_type": "code",
   "execution_count": 38,
   "id": "acc42cc6-87ff-4262-92a3-27067ed4df7b",
   "metadata": {
    "tags": []
   },
   "outputs": [
    {
     "data": {
      "text/html": [
       "<div>\n",
       "<style scoped>\n",
       "    .dataframe tbody tr th:only-of-type {\n",
       "        vertical-align: middle;\n",
       "    }\n",
       "\n",
       "    .dataframe tbody tr th {\n",
       "        vertical-align: top;\n",
       "    }\n",
       "\n",
       "    .dataframe thead th {\n",
       "        text-align: right;\n",
       "    }\n",
       "</style>\n",
       "<table border=\"1\" class=\"dataframe\">\n",
       "  <thead>\n",
       "    <tr style=\"text-align: right;\">\n",
       "      <th></th>\n",
       "      <th>VaR(95.0)</th>\n",
       "      <th>VaR(97.5)</th>\n",
       "      <th>VaR(99.0)</th>\n",
       "      <th>CVaR(95.0)</th>\n",
       "      <th>CVaR(97.5)</th>\n",
       "      <th>CVaR(99.0)</th>\n",
       "      <th>CDaR(95.0)</th>\n",
       "      <th>CDaR(97.5)</th>\n",
       "      <th>CDaR(99.0)</th>\n",
       "    </tr>\n",
       "  </thead>\n",
       "  <tbody>\n",
       "    <tr>\n",
       "      <th>2023-10-13</th>\n",
       "      <td>-0.0124</td>\n",
       "      <td>-0.0149</td>\n",
       "      <td>-0.0180</td>\n",
       "      <td>-0.0159</td>\n",
       "      <td>-0.0183</td>\n",
       "      <td>-0.0217</td>\n",
       "      <td>-0.1902</td>\n",
       "      <td>-0.1966</td>\n",
       "      <td>-0.1996</td>\n",
       "    </tr>\n",
       "  </tbody>\n",
       "</table>\n",
       "</div>"
      ],
      "text/plain": [
       "            VaR(95.0)  VaR(97.5)  VaR(99.0)  CVaR(95.0)  CVaR(97.5)  \\\n",
       "2023-10-13    -0.0124    -0.0149    -0.0180     -0.0159     -0.0183   \n",
       "\n",
       "            CVaR(99.0)  CDaR(95.0)  CDaR(97.5)  CDaR(99.0)  \n",
       "2023-10-13     -0.0217     -0.1902     -0.1966     -0.1996  "
      ]
     },
     "execution_count": 38,
     "metadata": {},
     "output_type": "execute_result"
    }
   ],
   "source": [
    "var.historic()"
   ]
  },
  {
   "cell_type": "code",
   "execution_count": 39,
   "id": "091b18c1-ca7e-4278-92d3-f84f5716a198",
   "metadata": {
    "tags": []
   },
   "outputs": [
    {
     "name": "stdout",
     "output_type": "stream",
     "text": [
      "VaR(95.0): -1.235730079206769\n",
      "Portfolio VaR(95.0) -1031006.6769845835\n"
     ]
    }
   ],
   "source": [
    "print('VaR(95.0):', var.historic()['VaR(95.0)'][0]*100)\n",
    "print('Portfolio VaR(95.0)', var.historic()['VaR(95.0)'][0]*portfolio_total*1000)"
   ]
  },
  {
   "cell_type": "code",
   "execution_count": 40,
   "id": "aa7cef9d-0211-4287-8146-78cd75d934ca",
   "metadata": {
    "tags": []
   },
   "outputs": [
    {
     "data": {
      "text/html": [
       "<div>\n",
       "<style scoped>\n",
       "    .dataframe tbody tr th:only-of-type {\n",
       "        vertical-align: middle;\n",
       "    }\n",
       "\n",
       "    .dataframe tbody tr th {\n",
       "        vertical-align: top;\n",
       "    }\n",
       "\n",
       "    .dataframe thead th {\n",
       "        text-align: right;\n",
       "    }\n",
       "</style>\n",
       "<table border=\"1\" class=\"dataframe\">\n",
       "  <thead>\n",
       "    <tr style=\"text-align: right;\">\n",
       "      <th></th>\n",
       "      <th>VaR(95.0)</th>\n",
       "      <th>VaR(97.5)</th>\n",
       "      <th>VaR(99.0)</th>\n",
       "      <th>CVaR(95.0)</th>\n",
       "      <th>CVaR(97.5)</th>\n",
       "      <th>CVaR(99.0)</th>\n",
       "      <th>CDaR(95.0)</th>\n",
       "      <th>CDaR(97.5)</th>\n",
       "      <th>CDaR(99.0)</th>\n",
       "    </tr>\n",
       "  </thead>\n",
       "  <tbody>\n",
       "    <tr>\n",
       "      <th>2023-10-13</th>\n",
       "      <td>-0.0241</td>\n",
       "      <td>-0.0254</td>\n",
       "      <td>-0.0271</td>\n",
       "      <td>-0.0290</td>\n",
       "      <td>-0.0290</td>\n",
       "      <td>-0.0290</td>\n",
       "      <td>-0.1902</td>\n",
       "      <td>-0.1966</td>\n",
       "      <td>-0.1996</td>\n",
       "    </tr>\n",
       "  </tbody>\n",
       "</table>\n",
       "</div>"
      ],
      "text/plain": [
       "            VaR(95.0)  VaR(97.5)  VaR(99.0)  CVaR(95.0)  CVaR(97.5)  \\\n",
       "2023-10-13    -0.0241    -0.0254    -0.0271     -0.0290     -0.0290   \n",
       "\n",
       "            CVaR(99.0)  CDaR(95.0)  CDaR(97.5)  CDaR(99.0)  \n",
       "2023-10-13     -0.0290     -0.1902     -0.1966     -0.1996  "
      ]
     },
     "execution_count": 40,
     "metadata": {},
     "output_type": "execute_result"
    }
   ],
   "source": [
    "var.parametric()"
   ]
  },
  {
   "cell_type": "code",
   "execution_count": 41,
   "id": "1e16b716-ca6c-4c72-881d-1b41e83cd034",
   "metadata": {
    "tags": []
   },
   "outputs": [
    {
     "name": "stdout",
     "output_type": "stream",
     "text": [
      "VaR(95.0): -2.405723496797088\n",
      "Portfolio VaR(95.0) -2007167.2850827144\n"
     ]
    }
   ],
   "source": [
    "print('VaR(95.0):', var.parametric()['VaR(95.0)'][0]*100)\n",
    "print('Portfolio VaR(95.0)', var.parametric()['VaR(95.0)'][0]*portfolio_total*1000)"
   ]
  },
  {
   "cell_type": "code",
   "execution_count": 42,
   "id": "1afd77b8-9bc7-4b4c-bde9-cc70ebeb5d99",
   "metadata": {
    "tags": []
   },
   "outputs": [
    {
     "data": {
      "text/html": [
       "<div>\n",
       "<style scoped>\n",
       "    .dataframe tbody tr th:only-of-type {\n",
       "        vertical-align: middle;\n",
       "    }\n",
       "\n",
       "    .dataframe tbody tr th {\n",
       "        vertical-align: top;\n",
       "    }\n",
       "\n",
       "    .dataframe thead th {\n",
       "        text-align: right;\n",
       "    }\n",
       "</style>\n",
       "<table border=\"1\" class=\"dataframe\">\n",
       "  <thead>\n",
       "    <tr style=\"text-align: right;\">\n",
       "      <th></th>\n",
       "      <th>VaR(95.0)</th>\n",
       "      <th>VaR(97.5)</th>\n",
       "      <th>VaR(99.0)</th>\n",
       "      <th>CVaR(95.0)</th>\n",
       "      <th>CVaR(97.5)</th>\n",
       "      <th>CVaR(99.0)</th>\n",
       "      <th>CDaR(95.0)</th>\n",
       "      <th>CDaR(97.5)</th>\n",
       "      <th>CDaR(99.0)</th>\n",
       "    </tr>\n",
       "  </thead>\n",
       "  <tbody>\n",
       "    <tr>\n",
       "      <th>2023-10-13</th>\n",
       "      <td>-0.0122</td>\n",
       "      <td>-0.0145</td>\n",
       "      <td>-0.0171</td>\n",
       "      <td>-0.0153</td>\n",
       "      <td>-0.0172</td>\n",
       "      <td>-0.0196</td>\n",
       "      <td>-0.1902</td>\n",
       "      <td>-0.1966</td>\n",
       "      <td>-0.1996</td>\n",
       "    </tr>\n",
       "  </tbody>\n",
       "</table>\n",
       "</div>"
      ],
      "text/plain": [
       "            VaR(95.0)  VaR(97.5)  VaR(99.0)  CVaR(95.0)  CVaR(97.5)  \\\n",
       "2023-10-13    -0.0122    -0.0145    -0.0171     -0.0153     -0.0172   \n",
       "\n",
       "            CVaR(99.0)  CDaR(95.0)  CDaR(97.5)  CDaR(99.0)  \n",
       "2023-10-13     -0.0196     -0.1902     -0.1966     -0.1996  "
      ]
     },
     "execution_count": 42,
     "metadata": {},
     "output_type": "execute_result"
    }
   ],
   "source": [
    "var.monte_carlo()"
   ]
  },
  {
   "cell_type": "code",
   "execution_count": 43,
   "id": "7ff7e759-1ed5-4178-b5de-560dbd935ed4",
   "metadata": {
    "tags": []
   },
   "outputs": [
    {
     "name": "stdout",
     "output_type": "stream",
     "text": [
      "VaR(95.0): -1.2215561613415775\n",
      "Portfolio VaR(95.0) -1023950.1244619063\n"
     ]
    }
   ],
   "source": [
    "print('VaR(95.0):', var.monte_carlo()['VaR(95.0)'][0]*100)\n",
    "print('Portfolio VaR(95.0)', var.monte_carlo()['VaR(95.0)'][0]*portfolio_total*1000)"
   ]
  },
  {
   "cell_type": "code",
   "execution_count": 44,
   "id": "c23f2ffe-bd81-41f6-98c6-c309cc89900c",
   "metadata": {
    "tags": []
   },
   "outputs": [],
   "source": [
    "#var.monte_carlo(stressed=True)"
   ]
  },
  {
   "cell_type": "code",
   "execution_count": null,
   "id": "e4f73973-8090-408e-a548-1a6547338ba6",
   "metadata": {
    "tags": []
   },
   "outputs": [],
   "source": []
  },
  {
   "cell_type": "code",
   "execution_count": 45,
   "id": "b1294c3a-1678-4284-874d-002ed527da08",
   "metadata": {
    "tags": []
   },
   "outputs": [
    {
     "name": "stdout",
     "output_type": "stream",
     "text": [
      "l1:  35 l2:  35 dif:  set()\n"
     ]
    }
   ],
   "source": [
    "l2 = list(folio_df['Ticker'])\n",
    "l1 = r_df.columns\n",
    "list_dif = set(l2).symmetric_difference(set(l1))\n",
    "\n",
    "\n",
    "print('l1: ', len(l1), 'l2: ', len(l2), 'dif: ', list_dif)"
   ]
  },
  {
   "cell_type": "code",
   "execution_count": 56,
   "id": "dd090ac9-d7e7-4cdf-a479-86a98811168e",
   "metadata": {
    "tags": []
   },
   "outputs": [
    {
     "data": {
      "text/plain": [
       "<VaR - μ: -0.04%, σ: 0.7193%, Portfolio σ: 0.7201%>"
      ]
     },
     "execution_count": 56,
     "metadata": {},
     "output_type": "execute_result"
    }
   ],
   "source": [
    "var = VaR(r_df, weight_lst, alpha=[0.05,0.025,0.01])\n",
    "#var = VaR(r_df, weight_lst, alpha=0.05)\n",
    "var"
   ]
  },
  {
   "cell_type": "code",
   "execution_count": 47,
   "id": "4d58a8f6-f342-4dd7-a2cf-abc1ffab1309",
   "metadata": {
    "tags": []
   },
   "outputs": [
    {
     "data": {
      "text/plain": [
       "{'Daily Mean PnL': -0.0003617912683639436,\n",
       " 'Daily Volatility': 0.007193050177070204,\n",
       " 'Portfolio Volatility': 0.007201109619572561}"
      ]
     },
     "execution_count": 47,
     "metadata": {},
     "output_type": "execute_result"
    }
   ],
   "source": [
    "var.info"
   ]
  },
  {
   "cell_type": "code",
   "execution_count": 48,
   "id": "49075bd3-0e2d-4dd3-803d-9883adc25f89",
   "metadata": {
    "tags": []
   },
   "outputs": [
    {
     "data": {
      "text/html": [
       "<div>\n",
       "<style scoped>\n",
       "    .dataframe tbody tr th:only-of-type {\n",
       "        vertical-align: middle;\n",
       "    }\n",
       "\n",
       "    .dataframe tbody tr th {\n",
       "        vertical-align: top;\n",
       "    }\n",
       "\n",
       "    .dataframe thead th {\n",
       "        text-align: right;\n",
       "    }\n",
       "</style>\n",
       "<table border=\"1\" class=\"dataframe\">\n",
       "  <thead>\n",
       "    <tr style=\"text-align: right;\">\n",
       "      <th></th>\n",
       "      <th>VaR(95.0)</th>\n",
       "      <th>CVaR(95.0)</th>\n",
       "      <th>CDaR(95.0)</th>\n",
       "    </tr>\n",
       "  </thead>\n",
       "  <tbody>\n",
       "    <tr>\n",
       "      <th>2023-10-13</th>\n",
       "      <td>-0.0124</td>\n",
       "      <td>-0.0159</td>\n",
       "      <td>-0.1902</td>\n",
       "    </tr>\n",
       "  </tbody>\n",
       "</table>\n",
       "</div>"
      ],
      "text/plain": [
       "            VaR(95.0)  CVaR(95.0)  CDaR(95.0)\n",
       "2023-10-13    -0.0124     -0.0159     -0.1902"
      ]
     },
     "execution_count": 48,
     "metadata": {},
     "output_type": "execute_result"
    }
   ],
   "source": [
    "var.historic()"
   ]
  },
  {
   "cell_type": "code",
   "execution_count": 49,
   "id": "a1868512-e7b5-4eec-8b3f-ee0e2b174603",
   "metadata": {
    "tags": []
   },
   "outputs": [
    {
     "name": "stdout",
     "output_type": "stream",
     "text": [
      "VaR(95.0): -1.235730079206769\n",
      "Portfolio VaR(95.0) -1031006.6769845835\n"
     ]
    }
   ],
   "source": [
    "print('VaR(95.0):', var.historic()['VaR(95.0)'][0]*100)\n",
    "print('Portfolio VaR(95.0)', var.historic()['VaR(95.0)'][0]*portfolio_total*1000)"
   ]
  },
  {
   "cell_type": "code",
   "execution_count": 50,
   "id": "7cbe2f30-8ba7-480d-9de4-bb076469ede1",
   "metadata": {
    "tags": []
   },
   "outputs": [
    {
     "data": {
      "text/html": [
       "<div>\n",
       "<style scoped>\n",
       "    .dataframe tbody tr th:only-of-type {\n",
       "        vertical-align: middle;\n",
       "    }\n",
       "\n",
       "    .dataframe tbody tr th {\n",
       "        vertical-align: top;\n",
       "    }\n",
       "\n",
       "    .dataframe thead th {\n",
       "        text-align: right;\n",
       "    }\n",
       "</style>\n",
       "<table border=\"1\" class=\"dataframe\">\n",
       "  <thead>\n",
       "    <tr style=\"text-align: right;\">\n",
       "      <th></th>\n",
       "      <th>VaR(95.0)</th>\n",
       "      <th>CVaR(95.0)</th>\n",
       "      <th>CDaR(95.0)</th>\n",
       "    </tr>\n",
       "  </thead>\n",
       "  <tbody>\n",
       "    <tr>\n",
       "      <th>2023-10-13</th>\n",
       "      <td>-0.0241</td>\n",
       "      <td>-0.0290</td>\n",
       "      <td>-0.1902</td>\n",
       "    </tr>\n",
       "  </tbody>\n",
       "</table>\n",
       "</div>"
      ],
      "text/plain": [
       "            VaR(95.0)  CVaR(95.0)  CDaR(95.0)\n",
       "2023-10-13    -0.0241     -0.0290     -0.1902"
      ]
     },
     "execution_count": 50,
     "metadata": {},
     "output_type": "execute_result"
    }
   ],
   "source": [
    "var.parametric()"
   ]
  },
  {
   "cell_type": "code",
   "execution_count": 51,
   "id": "07b65747-ead5-439a-8efd-77d2fdedbe5f",
   "metadata": {
    "tags": []
   },
   "outputs": [
    {
     "name": "stdout",
     "output_type": "stream",
     "text": [
      "VaR(95.0): -2.405723496797088\n",
      "Portfolio VaR(95.0) -2007167.2850827144\n"
     ]
    }
   ],
   "source": [
    "print('VaR(95.0):', var.parametric()['VaR(95.0)'][0]*100)\n",
    "print('Portfolio VaR(95.0)', var.parametric()['VaR(95.0)'][0]*portfolio_total*1000)"
   ]
  },
  {
   "cell_type": "code",
   "execution_count": 52,
   "id": "c0aab5fd-6487-4a4a-9c5d-833d8128e81d",
   "metadata": {
    "tags": []
   },
   "outputs": [
    {
     "data": {
      "text/html": [
       "<div>\n",
       "<style scoped>\n",
       "    .dataframe tbody tr th:only-of-type {\n",
       "        vertical-align: middle;\n",
       "    }\n",
       "\n",
       "    .dataframe tbody tr th {\n",
       "        vertical-align: top;\n",
       "    }\n",
       "\n",
       "    .dataframe thead th {\n",
       "        text-align: right;\n",
       "    }\n",
       "</style>\n",
       "<table border=\"1\" class=\"dataframe\">\n",
       "  <thead>\n",
       "    <tr style=\"text-align: right;\">\n",
       "      <th></th>\n",
       "      <th>VaR(95.0)</th>\n",
       "      <th>CVaR(95.0)</th>\n",
       "      <th>CDaR(95.0)</th>\n",
       "    </tr>\n",
       "  </thead>\n",
       "  <tbody>\n",
       "    <tr>\n",
       "      <th>2023-10-13</th>\n",
       "      <td>-0.0122</td>\n",
       "      <td>-0.0152</td>\n",
       "      <td>-0.1902</td>\n",
       "    </tr>\n",
       "  </tbody>\n",
       "</table>\n",
       "</div>"
      ],
      "text/plain": [
       "            VaR(95.0)  CVaR(95.0)  CDaR(95.0)\n",
       "2023-10-13    -0.0122     -0.0152     -0.1902"
      ]
     },
     "execution_count": 52,
     "metadata": {},
     "output_type": "execute_result"
    }
   ],
   "source": [
    "var.monte_carlo()"
   ]
  },
  {
   "cell_type": "code",
   "execution_count": 53,
   "id": "f6246f70-fde0-4a2b-a49d-75334cd4e62c",
   "metadata": {
    "tags": []
   },
   "outputs": [
    {
     "name": "stdout",
     "output_type": "stream",
     "text": [
      "VaR(95.0): -1.2101731378046734\n",
      "Portfolio VaR(95.0) -1017843.421002818\n"
     ]
    }
   ],
   "source": [
    "print('VaR(95.0):', var.monte_carlo()['VaR(95.0)'][0]*100)\n",
    "print('Portfolio VaR(95.0)', var.monte_carlo()['VaR(95.0)'][0]*portfolio_total*1000)"
   ]
  },
  {
   "cell_type": "code",
   "execution_count": 54,
   "id": "95227b2c-9c6f-4ff8-bac2-a9b3103225e1",
   "metadata": {
    "tags": []
   },
   "outputs": [
    {
     "data": {
      "text/html": [
       "<div>\n",
       "<style scoped>\n",
       "    .dataframe tbody tr th:only-of-type {\n",
       "        vertical-align: middle;\n",
       "    }\n",
       "\n",
       "    .dataframe tbody tr th {\n",
       "        vertical-align: top;\n",
       "    }\n",
       "\n",
       "    .dataframe thead th {\n",
       "        text-align: right;\n",
       "    }\n",
       "</style>\n",
       "<table border=\"1\" class=\"dataframe\">\n",
       "  <thead>\n",
       "    <tr style=\"text-align: right;\">\n",
       "      <th></th>\n",
       "      <th>VaR(95.0)</th>\n",
       "      <th>CVaR(95.0)</th>\n",
       "      <th>CDaR(95.0)</th>\n",
       "    </tr>\n",
       "  </thead>\n",
       "  <tbody>\n",
       "    <tr>\n",
       "      <th>2023-10-13</th>\n",
       "      <td>-0.0182</td>\n",
       "      <td>-0.0200</td>\n",
       "      <td>-0.5142</td>\n",
       "    </tr>\n",
       "  </tbody>\n",
       "</table>\n",
       "</div>"
      ],
      "text/plain": [
       "            VaR(95.0)  CVaR(95.0)  CDaR(95.0)\n",
       "2023-10-13    -0.0182     -0.0200     -0.5142"
      ]
     },
     "execution_count": 54,
     "metadata": {},
     "output_type": "execute_result"
    }
   ],
   "source": [
    "var.monte_carlo(stressed=True)"
   ]
  },
  {
   "cell_type": "markdown",
   "id": "dc000a27-e5da-474c-89f7-b8aa09e2a228",
   "metadata": {},
   "source": [
    "# Backtest"
   ]
  },
  {
   "cell_type": "code",
   "execution_count": 58,
   "id": "7b68e43b-fbeb-434d-bf67-a846dd226e6d",
   "metadata": {
    "tags": []
   },
   "outputs": [
    {
     "name": "stderr",
     "output_type": "stream",
     "text": [
      "Backtest: Historic Method: 100%|██████████| 197/197 [00:00<00:00, 2756.51it/s]\n"
     ]
    }
   ],
   "source": [
    "bth = var.backtest(method='h')"
   ]
  },
  {
   "cell_type": "code",
   "execution_count": 59,
   "id": "59c08583-dd7e-4f00-b2a0-043ea4675f8d",
   "metadata": {},
   "outputs": [
    {
     "data": {
      "text/html": [
       "<div>\n",
       "<style scoped>\n",
       "    .dataframe tbody tr th:only-of-type {\n",
       "        vertical-align: middle;\n",
       "    }\n",
       "\n",
       "    .dataframe tbody tr th {\n",
       "        vertical-align: top;\n",
       "    }\n",
       "\n",
       "    .dataframe thead th {\n",
       "        text-align: right;\n",
       "    }\n",
       "</style>\n",
       "<table border=\"1\" class=\"dataframe\">\n",
       "  <thead>\n",
       "    <tr style=\"text-align: right;\">\n",
       "      <th></th>\n",
       "      <th>Amount</th>\n",
       "      <th>Percent</th>\n",
       "      <th>Mean Deviation</th>\n",
       "      <th>STD Deviation</th>\n",
       "      <th>Min Deviation</th>\n",
       "      <th>Max Deviation</th>\n",
       "    </tr>\n",
       "  </thead>\n",
       "  <tbody>\n",
       "    <tr>\n",
       "      <th>Observations</th>\n",
       "      <td>197</td>\n",
       "      <td>1</td>\n",
       "      <td>0</td>\n",
       "      <td>0</td>\n",
       "      <td>0</td>\n",
       "      <td>0</td>\n",
       "    </tr>\n",
       "    <tr>\n",
       "      <th>VaR(95.0)</th>\n",
       "      <td>2</td>\n",
       "      <td>0.0102</td>\n",
       "      <td>-0.0019</td>\n",
       "      <td>0.0008</td>\n",
       "      <td>-0.0011</td>\n",
       "      <td>-0.0027</td>\n",
       "    </tr>\n",
       "    <tr>\n",
       "      <th>VaR(99.0)</th>\n",
       "      <td>0</td>\n",
       "      <td>0.0000</td>\n",
       "      <td>NaN</td>\n",
       "      <td>NaN</td>\n",
       "      <td>NaN</td>\n",
       "      <td>NaN</td>\n",
       "    </tr>\n",
       "    <tr>\n",
       "      <th>CVaR(95.0)</th>\n",
       "      <td>1</td>\n",
       "      <td>0.0051</td>\n",
       "      <td>-0.0004</td>\n",
       "      <td>0.0000</td>\n",
       "      <td>-0.0004</td>\n",
       "      <td>-0.0004</td>\n",
       "    </tr>\n",
       "    <tr>\n",
       "      <th>CVaR(99.0)</th>\n",
       "      <td>0</td>\n",
       "      <td>0.0000</td>\n",
       "      <td>NaN</td>\n",
       "      <td>NaN</td>\n",
       "      <td>NaN</td>\n",
       "      <td>NaN</td>\n",
       "    </tr>\n",
       "    <tr>\n",
       "      <th>CDaR(95.0)</th>\n",
       "      <td>0</td>\n",
       "      <td>0.0000</td>\n",
       "      <td>0</td>\n",
       "      <td>0</td>\n",
       "      <td>0</td>\n",
       "      <td>0</td>\n",
       "    </tr>\n",
       "    <tr>\n",
       "      <th>CDaR(99.0)</th>\n",
       "      <td>0</td>\n",
       "      <td>0.0000</td>\n",
       "      <td>0</td>\n",
       "      <td>0</td>\n",
       "      <td>0</td>\n",
       "      <td>0</td>\n",
       "    </tr>\n",
       "  </tbody>\n",
       "</table>\n",
       "</div>"
      ],
      "text/plain": [
       "             Amount Percent Mean Deviation STD Deviation Min Deviation  \\\n",
       "Observations    197       1              0             0             0   \n",
       "VaR(95.0)         2  0.0102        -0.0019        0.0008       -0.0011   \n",
       "VaR(99.0)         0  0.0000            NaN           NaN           NaN   \n",
       "CVaR(95.0)        1  0.0051        -0.0004        0.0000       -0.0004   \n",
       "CVaR(99.0)        0  0.0000            NaN           NaN           NaN   \n",
       "CDaR(95.0)        0  0.0000              0             0             0   \n",
       "CDaR(99.0)        0  0.0000              0             0             0   \n",
       "\n",
       "             Max Deviation  \n",
       "Observations             0  \n",
       "VaR(95.0)          -0.0027  \n",
       "VaR(99.0)              NaN  \n",
       "CVaR(95.0)         -0.0004  \n",
       "CVaR(99.0)             NaN  \n",
       "CDaR(95.0)               0  \n",
       "CDaR(99.0)               0  "
      ]
     },
     "execution_count": 59,
     "metadata": {},
     "output_type": "execute_result"
    }
   ],
   "source": [
    "var.evaluate(bth)"
   ]
  },
  {
   "cell_type": "code",
   "execution_count": 60,
   "id": "ac676191-de22-4827-8d29-44282b6f04f0",
   "metadata": {
    "tags": []
   },
   "outputs": [
    {
     "data": {
      "image/png": "[encoded data removed]",
      "text/plain": [
       "<Figure size 1400x400 with 1 Axes>"
      ]
     },
     "metadata": {},
     "output_type": "display_data"
    }
   ],
   "source": [
    "var.var_plot(bth)"
   ]
  },
  {
   "cell_type": "code",
   "execution_count": 61,
   "id": "dd4eb6f2-376e-4159-9be5-8237fe8c23ac",
   "metadata": {
    "tags": []
   },
   "outputs": [
    {
     "data": {
      "image/png": "[encoded data removed]",
      "text/plain": [
       "<Figure size 1400x400 with 1 Axes>"
      ]
     },
     "metadata": {},
     "output_type": "display_data"
    }
   ],
   "source": [
    "var.cvar_plot(bth)"
   ]
  },
  {
   "cell_type": "code",
   "execution_count": 62,
   "id": "efd1ae2f-b79c-4341-8a23-c38e37b28a21",
   "metadata": {
    "tags": []
   },
   "outputs": [
    {
     "data": {
      "image/png": "[encoded data removed]",
      "text/plain": [
       "<Figure size 1400x400 with 1 Axes>"
      ]
     },
     "metadata": {},
     "output_type": "display_data"
    }
   ],
   "source": [
    "var.cdar_plot(bth)"
   ]
  }
 ],
 "metadata": {
  "kernelspec": {
   "display_name": "Python 3 (ipykernel)",
   "language": "python",
   "name": "python3"
  },
  "language_info": {
   "codemirror_mode": {
    "name": "ipython",
    "version": 3
   },
   "file_extension": ".py",
   "mimetype": "text/x-python",
   "name": "python",
   "nbconvert_exporter": "python",
   "pygments_lexer": "ipython3",
   "version": "3.10.12"
  }
 },
 "nbformat": 4,
 "nbformat_minor": 5
}
